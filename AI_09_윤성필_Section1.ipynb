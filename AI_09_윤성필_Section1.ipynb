{
 "cells": [
  {
   "cell_type": "code",
   "execution_count": 1,
   "metadata": {},
   "outputs": [],
   "source": [
    "# 모듈 불러오기\n",
    "import pandas as pd\n",
    "import numpy as np\n",
    "import matplotlib.pyplot as plt\n",
    "import scipy.stats as stats\n",
    "import seaborn as sns\n",
    "import math\n",
    "from sklearn.preprocessing import StandardScaler, Normalizer\n",
    "from sklearn.decomposition import PCA\n",
    "import plotly.graph_objects as go\n",
    "import plotly.express as px\n",
    "import statsmodels.api as sm\n",
    "import scikit_posthocs as sp\n",
    "from sklearn.linear_model import LinearRegression"
   ]
  },
  {
   "cell_type": "code",
   "execution_count": 2,
   "metadata": {},
   "outputs": [
    {
     "data": {
      "text/plain": [
       "Name           0\n",
       "Platform       0\n",
       "Year           0\n",
       "Genre          0\n",
       "Publisher      0\n",
       "NA_Sales       0\n",
       "EU_Sales       0\n",
       "JP_Sales       0\n",
       "Other_Sales    0\n",
       "Total_Sales    0\n",
       "NA_ratio       0\n",
       "EU_ratio       0\n",
       "JP_ratio       0\n",
       "Other_ratio    0\n",
       "count          0\n",
       "like           0\n",
       "dtype: int64"
      ]
     },
     "execution_count": 2,
     "metadata": {},
     "output_type": "execute_result"
    }
   ],
   "source": [
    "# 기초 전처리\n",
    "data = \"vgames2.csv\"\n",
    "df = pd.read_csv(data)\n",
    "\n",
    "# 출고량의K를 천단위로, M을 백만단위로 치환하는 함수 \n",
    "def to_int(input):\n",
    "    if (input.find(\"K\") == -1) & (input.find(\"M\") == -1):  \n",
    "        return float(input)\n",
    "    elif input.find(\"M\") != -1 :\n",
    "        return float(input.replace(\"M\",\"\"))\n",
    "    else: \n",
    "        return float(input.replace(\"K\",\"\"))*0.001\n",
    "\n",
    "# 출고량을 숫자형 변수로 변환\n",
    "for i in list(df.columns)[-4:]:\n",
    "    df[i] = df[i].apply(to_int)\n",
    "\n",
    "# 불필요한 열 제거\n",
    "df = df.drop(\"Unnamed: 0\", axis=1) \n",
    "\n",
    "# 총 출고량 변수 생성\n",
    "df[\"Total_Sales\"]=df.iloc[:,-4:].sum(axis=1)\n",
    "\n",
    "# 출고 비율 변수 생성\n",
    "for i in [\"NA\",\"EU\",\"JP\",\"Other\"]:\n",
    "    df[f\"{i}_ratio\"] = df[f\"{i}_Sales\"]/df[\"Total_Sales\"]\n",
    "\n",
    "# 연도 결측값은 해당 출시 플랫폼의 평균 출시연도로 대체\n",
    "df_plat = df.groupby(\"Platform\").Year.mean()    \n",
    "df.iloc[:,1:3] = df.iloc[:,1:3].fillna(method=\"ffill\",axis=1)  \n",
    "pltfrms = set(df['Platform'])\n",
    "def platform_mean(input):\n",
    "    if input in pltfrms:\n",
    "        return df_plat[input]\n",
    "    else:\n",
    "        return float(input)\n",
    "\n",
    "# 나올수 없는 값 정리\n",
    "def year(input):\n",
    "    if input < 22:\n",
    "        return 2000 + input\n",
    "    elif 22 <= input < 100:\n",
    "        return 1900 + input\n",
    "    else:\n",
    "        return input \n",
    "\n",
    "# 연도변수 변수형태 저장\n",
    "df[\"Year\"] = df[\"Year\"].apply(platform_mean)  \n",
    "df[\"Year\"] = df[\"Year\"].apply(year)  \n",
    "df[\"Year\"] = df[\"Year\"].apply(lambda x : int(x))\n",
    "\n",
    "# 계산의 편의를 위한 행 추가\n",
    "df[\"count\"] = 1\n",
    "\n",
    "# 나올수 없는 값 정리(도메인 지식 활용)\n",
    "df.loc[6906,\"Year\"] = 2009\n",
    "df.loc[5310,\"Year\"] = 2016\n",
    "df.loc[10107,\"Year\"] = 2016\n",
    "df.loc[15233,\"Year\"] = 2016\n",
    "df.iloc[3031,2] = 1997\n",
    "\n",
    "# 계산의 편의를 위한 작업 2\n",
    "df3 = df.copy()\n",
    "def kill(x):\n",
    "    gss = ['Nintendo',\n",
    "           'Electronic Arts',\n",
    "           'Activision',\n",
    "           'Sony Computer Entertainment',\n",
    "           'Ubisoft',\n",
    "           'Take-Two Interactive',\n",
    "           'THQ',\n",
    "           'Konami Digital Entertainment',\n",
    "           'Sega',\n",
    "           'Namco Bandai Games']\n",
    "    if x in gss:\n",
    "        return  1        \n",
    "    else:\n",
    "        return  0\n",
    "df3[\"Publisher\"] = df3[\"Publisher\"].apply(kill)\n",
    "df3 = df3.loc[df3[\"Publisher\"]==1]\n",
    "\n",
    "# 결측값 제거\n",
    "df = df.dropna()\n",
    "\n",
    "# 플랫폼의 발매연도보다 먼저 나온 case를 플랫폼의 발매연도로 만들기\n",
    "dict_for_real_platform = {\n",
    "                    \"GB\" : 1989,\n",
    "                    \"SNES\" : 1990,\n",
    "                    \"N64\" : 1996,\n",
    "                    \"DS\" : 2004,\n",
    "                    \"GG\" : 1990,\n",
    "                    \"PCFX\" : 1994,\n",
    "                    \"3DS\" : 2011,\n",
    "                    \"Wii\" : 2006,\n",
    "                    \"XOne\" : 2013,\n",
    "                    \"NG\" : 1990,\n",
    "                    \"PSV\" : 2011,\n",
    "                    'PS3' : 2006,\n",
    "                    \"WiiU\" : 2012,\n",
    "                    'PC' : 1984,\n",
    "                    'GC': 2001,\n",
    "                    '2600': 1980,\n",
    "                    \"PSP\" : 2004,\n",
    "                    \"3DO\" : 1993,\n",
    "                    \"PS2\" : 2000,\n",
    "                    \"GBA\" : 2001,\n",
    "                    \"PS4\" : 2013,\n",
    "                    \"GEN\" : 1990,\n",
    "                    \"DC\" : 1998,\n",
    "                    \"WS\" : 1999,\n",
    "                    \"SCD\" : 1991,\n",
    "                    \"SAT\" : 1992,\n",
    "                    \"X360\" : 2005,\n",
    "                    \"XB\" : 2001,\n",
    "                    \"NES\" : 1983,\n",
    "                    'TG16' : 1987,\n",
    "                    \"PS\" : 1994\n",
    "                    }\n",
    "for platform in set(df[\"Platform\"]):\n",
    "    df.loc[(df[\"Platform\"]==platform) & (df[\"Year\"] < dict_for_real_platform[platform]), \"Year\"] = dict_for_real_platform[platform]\n",
    "\n",
    "# 지역별 선호하는 장르 범주형 변수 like 생성\n",
    "df = df.reset_index(drop=True)\n",
    "for i in range(df.shape[0]):\n",
    "    if max([df.loc[i,f\"{ii}_ratio\"] for ii in [\"NA\",\"EU\",\"JP\",\"Other\"]]) == df.loc[i,f\"NA_ratio\"] :\n",
    "        df.loc[i,\"like\"] = \"NA\"\n",
    "    elif max([df.loc[i,f\"{ii}_ratio\"] for ii in [\"NA\",\"EU\",\"JP\",\"Other\"]]) == df.loc[i,f\"EU_ratio\"] :\n",
    "        df.loc[i,\"like\"] = \"EU\"\n",
    "    elif max([df.loc[i,f\"{ii}_ratio\"] for ii in [\"NA\",\"EU\",\"JP\",\"Other\"]]) == df.loc[i,f\"JP_ratio\"] :\n",
    "        df.loc[i,\"like\"] = \"JP\"           \n",
    "    else:\n",
    "        df.loc[i,\"like\"] = \"Other\"\n",
    "\n",
    "\n",
    "    \n",
    "\n",
    "# 결측값 확인\n",
    "df.isna().sum()"
   ]
  },
  {
   "cell_type": "code",
   "execution_count": 3,
   "metadata": {},
   "outputs": [
    {
     "name": "stdout",
     "output_type": "stream",
     "text": [
      "기대도수가 5 보다 작은 셀의 수는 전체 셀의 10.416666666666668%이다.\n",
      "따라서 카이제곱 독립성검정을 실시할 수 있다\n"
     ]
    }
   ],
   "source": [
    "# 지역에 따라 선호하는 게임 장르가 다른가?\n",
    "# 카이제곱 독립성 검정\n",
    "# 카이제곱 독립성검정에서 기대도수가 5보다 작은 값이 얼마나 있는가 알아보기\n",
    "a =df.groupby(\"like\").sum()[\"count\"]\n",
    "b =df.groupby(\"Genre\").sum()[\"count\"]\n",
    "c = []\n",
    "for i in range(len(a)):\n",
    "    for ii in range(len(b)):\n",
    "        exp = (a[i]*b[ii])/df.shape[0]\n",
    "        c.append(exp)\n",
    "exp_ratio = ((np.array(c)<5).sum()/(len(a)*len(b)))*100\n",
    "print(f\"기대도수가 5 보다 작은 셀의 수는 전체 셀의 {exp_ratio}%이다.\\n따라서 카이제곱 독립성검정을 실시할 수 있다\") "
   ]
  },
  {
   "cell_type": "code",
   "execution_count": 4,
   "metadata": {},
   "outputs": [
    {
     "data": {
      "text/html": [
       "<div>\n",
       "<style scoped>\n",
       "    .dataframe tbody tr th:only-of-type {\n",
       "        vertical-align: middle;\n",
       "    }\n",
       "\n",
       "    .dataframe tbody tr th {\n",
       "        vertical-align: top;\n",
       "    }\n",
       "\n",
       "    .dataframe thead th {\n",
       "        text-align: right;\n",
       "    }\n",
       "</style>\n",
       "<table border=\"1\" class=\"dataframe\">\n",
       "  <thead>\n",
       "    <tr style=\"text-align: right;\">\n",
       "      <th>Genre</th>\n",
       "      <th>Action</th>\n",
       "      <th>Adventure</th>\n",
       "      <th>Fighting</th>\n",
       "      <th>Misc</th>\n",
       "      <th>Platform</th>\n",
       "      <th>Puzzle</th>\n",
       "      <th>Racing</th>\n",
       "      <th>Role-Playing</th>\n",
       "      <th>Shooter</th>\n",
       "      <th>Simulation</th>\n",
       "      <th>Sports</th>\n",
       "      <th>Strategy</th>\n",
       "    </tr>\n",
       "    <tr>\n",
       "      <th>like</th>\n",
       "      <th></th>\n",
       "      <th></th>\n",
       "      <th></th>\n",
       "      <th></th>\n",
       "      <th></th>\n",
       "      <th></th>\n",
       "      <th></th>\n",
       "      <th></th>\n",
       "      <th></th>\n",
       "      <th></th>\n",
       "      <th></th>\n",
       "      <th></th>\n",
       "    </tr>\n",
       "  </thead>\n",
       "  <tbody>\n",
       "    <tr>\n",
       "      <th>EU</th>\n",
       "      <td>519.0</td>\n",
       "      <td>158.0</td>\n",
       "      <td>44.0</td>\n",
       "      <td>185.0</td>\n",
       "      <td>76.0</td>\n",
       "      <td>95.0</td>\n",
       "      <td>253.0</td>\n",
       "      <td>117.0</td>\n",
       "      <td>244.0</td>\n",
       "      <td>142.0</td>\n",
       "      <td>343.0</td>\n",
       "      <td>187.0</td>\n",
       "    </tr>\n",
       "    <tr>\n",
       "      <th>JP</th>\n",
       "      <td>660.0</td>\n",
       "      <td>665.0</td>\n",
       "      <td>296.0</td>\n",
       "      <td>442.0</td>\n",
       "      <td>94.0</td>\n",
       "      <td>98.0</td>\n",
       "      <td>68.0</td>\n",
       "      <td>761.0</td>\n",
       "      <td>106.0</td>\n",
       "      <td>195.0</td>\n",
       "      <td>392.0</td>\n",
       "      <td>229.0</td>\n",
       "    </tr>\n",
       "    <tr>\n",
       "      <th>NA</th>\n",
       "      <td>2096.0</td>\n",
       "      <td>452.0</td>\n",
       "      <td>501.0</td>\n",
       "      <td>1063.0</td>\n",
       "      <td>708.0</td>\n",
       "      <td>384.0</td>\n",
       "      <td>914.0</td>\n",
       "      <td>600.0</td>\n",
       "      <td>955.0</td>\n",
       "      <td>521.0</td>\n",
       "      <td>1590.0</td>\n",
       "      <td>261.0</td>\n",
       "    </tr>\n",
       "    <tr>\n",
       "      <th>Other</th>\n",
       "      <td>23.0</td>\n",
       "      <td>1.0</td>\n",
       "      <td>4.0</td>\n",
       "      <td>17.0</td>\n",
       "      <td>4.0</td>\n",
       "      <td>0.0</td>\n",
       "      <td>6.0</td>\n",
       "      <td>3.0</td>\n",
       "      <td>1.0</td>\n",
       "      <td>3.0</td>\n",
       "      <td>13.0</td>\n",
       "      <td>0.0</td>\n",
       "    </tr>\n",
       "  </tbody>\n",
       "</table>\n",
       "</div>"
      ],
      "text/plain": [
       "Genre  Action  Adventure  Fighting    Misc  Platform  Puzzle  Racing  \\\n",
       "like                                                                   \n",
       "EU      519.0      158.0      44.0   185.0      76.0    95.0   253.0   \n",
       "JP      660.0      665.0     296.0   442.0      94.0    98.0    68.0   \n",
       "NA     2096.0      452.0     501.0  1063.0     708.0   384.0   914.0   \n",
       "Other    23.0        1.0       4.0    17.0       4.0     0.0     6.0   \n",
       "\n",
       "Genre  Role-Playing  Shooter  Simulation  Sports  Strategy  \n",
       "like                                                        \n",
       "EU            117.0    244.0       142.0   343.0     187.0  \n",
       "JP            761.0    106.0       195.0   392.0     229.0  \n",
       "NA            600.0    955.0       521.0  1590.0     261.0  \n",
       "Other           3.0      1.0         3.0    13.0       0.0  "
      ]
     },
     "execution_count": 4,
     "metadata": {},
     "output_type": "execute_result"
    }
   ],
   "source": [
    "# 교차분석표 만들기\n",
    "pd.pivot_table(df,values = \"count\",index=\"like\",columns=\"Genre\",aggfunc=\"count\").fillna(0)"
   ]
  },
  {
   "cell_type": "code",
   "execution_count": 5,
   "metadata": {},
   "outputs": [
    {
     "name": "stdout",
     "output_type": "stream",
     "text": [
      "카이제곱 독립성 검정결과 p-value가 0.0으로 0.05보다 작다 따라서 귀무가설을 기각한다.\n",
      "지역과 장르는 독립이 아니다\n",
      "지역에 따라 선호하는 게임 장르가 다르다\n"
     ]
    }
   ],
   "source": [
    "# 카이제곱 독립성 검정 실시\n",
    "df2 = np.array(pd.pivot_table(df,values = \"count\",index=\"like\",columns=\"Genre\",aggfunc=\"count\").fillna(0))\n",
    "ans = stats.chi2_contingency(np.array(df2), correction = False)\n",
    "print(f\"카이제곱 독립성 검정결과 p-value가 {ans[1]}으로 0.05보다 작다 따라서 귀무가설을 기각한다.\\n지역과 장르는 독립이 아니다\\n지역에 따라 선호하는 게임 장르가 다르다\")"
   ]
  },
  {
   "cell_type": "code",
   "execution_count": 6,
   "metadata": {},
   "outputs": [
    {
     "name": "stdout",
     "output_type": "stream",
     "text": [
      "일본의 롤플레잉 장르 선호가 눈에 띈다\n"
     ]
    },
    {
     "data": {
      "application/vnd.plotly.v1+json": {
       "config": {
        "plotlyServerURL": "https://plotly.com"
       },
       "data": [
        {
         "mode": "lines+markers",
         "name": "NA_Sales",
         "type": "scatter",
         "x": [
          "Action",
          "Adventure",
          "Fighting",
          "Misc",
          "Platform",
          "Puzzle",
          "Racing",
          "Role-Playing",
          "Shooter",
          "Simulation",
          "Sports",
          "Strategy"
         ],
         "y": [
          0.20040331820890048,
          0.02418305146890325,
          0.05076538796461799,
          0.0922315413172006,
          0.10230533021678354,
          0.028266648334020806,
          0.0818529721802099,
          0.07322517072276456,
          0.13334937439846004,
          0.04192676107979284,
          0.15576103396122645,
          0.015729410147119482
         ]
        },
        {
         "mode": "lines+markers",
         "name": "EU_Sales",
         "type": "scatter",
         "x": [
          "Action",
          "Adventure",
          "Fighting",
          "Misc",
          "Platform",
          "Puzzle",
          "Racing",
          "Role-Playing",
          "Shooter",
          "Simulation",
          "Sports",
          "Strategy"
         ],
         "y": [
          0.21606320328763043,
          0.026486448456957454,
          0.041434737804852816,
          0.08703695273410503,
          0.0832295257684174,
          0.02099051040213878,
          0.09811987601031316,
          0.07597058348818249,
          0.12954356399995035,
          0.046835490185529294,
          0.15557891513162525,
          0.0187101927302976
         ]
        },
        {
         "mode": "lines+markers",
         "name": "JP_Sales",
         "type": "scatter",
         "x": [
          "Action",
          "Adventure",
          "Fighting",
          "Misc",
          "Platform",
          "Puzzle",
          "Racing",
          "Role-Playing",
          "Shooter",
          "Simulation",
          "Sports",
          "Strategy"
         ],
         "y": [
          0.12326868721666757,
          0.04061195887911933,
          0.06838342950650246,
          0.08239052309330494,
          0.10229327988349605,
          0.04452674188269744,
          0.0441587522803611,
          0.2700417315868181,
          0.029971578675394024,
          0.04982735806954221,
          0.10589488024678792,
          0.03863107867930881
         ]
        },
        {
         "mode": "lines+markers",
         "name": "Other_Sales",
         "type": "scatter",
         "x": [
          "Action",
          "Adventure",
          "Fighting",
          "Misc",
          "Platform",
          "Puzzle",
          "Racing",
          "Role-Playing",
          "Shooter",
          "Simulation",
          "Sports",
          "Strategy"
         ],
         "y": [
          0.23551557722919875,
          0.0212370821436693,
          0.04573363317078101,
          0.09341284079136872,
          0.06510094246658413,
          0.01581726760492205,
          0.0974050584935695,
          0.07196098744220127,
          0.12968390731990803,
          0.03977057381812669,
          0.17001035955226518,
          0.014351769967405309
         ]
        },
        {
         "mode": "lines+markers",
         "name": "Total",
         "type": "scatter",
         "x": [
          "Action",
          "Adventure",
          "Fighting",
          "Misc",
          "Platform",
          "Puzzle",
          "Racing",
          "Role-Playing",
          "Shooter",
          "Simulation",
          "Sports",
          "Strategy"
         ],
         "y": [
          0.19668703835965684,
          0.02691979097919737,
          0.050310321758233814,
          0.08949833199229734,
          0.09376666877616151,
          0.027513086401894933,
          0.08224543671063457,
          0.10226943974830714,
          0.11706114220104691,
          0.04421463507246115,
          0.14978844780356385,
          0.01972566019654465
         ]
        }
       ],
       "layout": {
        "autosize": false,
        "height": 450,
        "template": {
         "data": {
          "bar": [
           {
            "error_x": {
             "color": "#2a3f5f"
            },
            "error_y": {
             "color": "#2a3f5f"
            },
            "marker": {
             "line": {
              "color": "#E5ECF6",
              "width": 0.5
             },
             "pattern": {
              "fillmode": "overlay",
              "size": 10,
              "solidity": 0.2
             }
            },
            "type": "bar"
           }
          ],
          "barpolar": [
           {
            "marker": {
             "line": {
              "color": "#E5ECF6",
              "width": 0.5
             },
             "pattern": {
              "fillmode": "overlay",
              "size": 10,
              "solidity": 0.2
             }
            },
            "type": "barpolar"
           }
          ],
          "carpet": [
           {
            "aaxis": {
             "endlinecolor": "#2a3f5f",
             "gridcolor": "white",
             "linecolor": "white",
             "minorgridcolor": "white",
             "startlinecolor": "#2a3f5f"
            },
            "baxis": {
             "endlinecolor": "#2a3f5f",
             "gridcolor": "white",
             "linecolor": "white",
             "minorgridcolor": "white",
             "startlinecolor": "#2a3f5f"
            },
            "type": "carpet"
           }
          ],
          "choropleth": [
           {
            "colorbar": {
             "outlinewidth": 0,
             "ticks": ""
            },
            "type": "choropleth"
           }
          ],
          "contour": [
           {
            "colorbar": {
             "outlinewidth": 0,
             "ticks": ""
            },
            "colorscale": [
             [
              0,
              "#0d0887"
             ],
             [
              0.1111111111111111,
              "#46039f"
             ],
             [
              0.2222222222222222,
              "#7201a8"
             ],
             [
              0.3333333333333333,
              "#9c179e"
             ],
             [
              0.4444444444444444,
              "#bd3786"
             ],
             [
              0.5555555555555556,
              "#d8576b"
             ],
             [
              0.6666666666666666,
              "#ed7953"
             ],
             [
              0.7777777777777778,
              "#fb9f3a"
             ],
             [
              0.8888888888888888,
              "#fdca26"
             ],
             [
              1,
              "#f0f921"
             ]
            ],
            "type": "contour"
           }
          ],
          "contourcarpet": [
           {
            "colorbar": {
             "outlinewidth": 0,
             "ticks": ""
            },
            "type": "contourcarpet"
           }
          ],
          "heatmap": [
           {
            "colorbar": {
             "outlinewidth": 0,
             "ticks": ""
            },
            "colorscale": [
             [
              0,
              "#0d0887"
             ],
             [
              0.1111111111111111,
              "#46039f"
             ],
             [
              0.2222222222222222,
              "#7201a8"
             ],
             [
              0.3333333333333333,
              "#9c179e"
             ],
             [
              0.4444444444444444,
              "#bd3786"
             ],
             [
              0.5555555555555556,
              "#d8576b"
             ],
             [
              0.6666666666666666,
              "#ed7953"
             ],
             [
              0.7777777777777778,
              "#fb9f3a"
             ],
             [
              0.8888888888888888,
              "#fdca26"
             ],
             [
              1,
              "#f0f921"
             ]
            ],
            "type": "heatmap"
           }
          ],
          "heatmapgl": [
           {
            "colorbar": {
             "outlinewidth": 0,
             "ticks": ""
            },
            "colorscale": [
             [
              0,
              "#0d0887"
             ],
             [
              0.1111111111111111,
              "#46039f"
             ],
             [
              0.2222222222222222,
              "#7201a8"
             ],
             [
              0.3333333333333333,
              "#9c179e"
             ],
             [
              0.4444444444444444,
              "#bd3786"
             ],
             [
              0.5555555555555556,
              "#d8576b"
             ],
             [
              0.6666666666666666,
              "#ed7953"
             ],
             [
              0.7777777777777778,
              "#fb9f3a"
             ],
             [
              0.8888888888888888,
              "#fdca26"
             ],
             [
              1,
              "#f0f921"
             ]
            ],
            "type": "heatmapgl"
           }
          ],
          "histogram": [
           {
            "marker": {
             "pattern": {
              "fillmode": "overlay",
              "size": 10,
              "solidity": 0.2
             }
            },
            "type": "histogram"
           }
          ],
          "histogram2d": [
           {
            "colorbar": {
             "outlinewidth": 0,
             "ticks": ""
            },
            "colorscale": [
             [
              0,
              "#0d0887"
             ],
             [
              0.1111111111111111,
              "#46039f"
             ],
             [
              0.2222222222222222,
              "#7201a8"
             ],
             [
              0.3333333333333333,
              "#9c179e"
             ],
             [
              0.4444444444444444,
              "#bd3786"
             ],
             [
              0.5555555555555556,
              "#d8576b"
             ],
             [
              0.6666666666666666,
              "#ed7953"
             ],
             [
              0.7777777777777778,
              "#fb9f3a"
             ],
             [
              0.8888888888888888,
              "#fdca26"
             ],
             [
              1,
              "#f0f921"
             ]
            ],
            "type": "histogram2d"
           }
          ],
          "histogram2dcontour": [
           {
            "colorbar": {
             "outlinewidth": 0,
             "ticks": ""
            },
            "colorscale": [
             [
              0,
              "#0d0887"
             ],
             [
              0.1111111111111111,
              "#46039f"
             ],
             [
              0.2222222222222222,
              "#7201a8"
             ],
             [
              0.3333333333333333,
              "#9c179e"
             ],
             [
              0.4444444444444444,
              "#bd3786"
             ],
             [
              0.5555555555555556,
              "#d8576b"
             ],
             [
              0.6666666666666666,
              "#ed7953"
             ],
             [
              0.7777777777777778,
              "#fb9f3a"
             ],
             [
              0.8888888888888888,
              "#fdca26"
             ],
             [
              1,
              "#f0f921"
             ]
            ],
            "type": "histogram2dcontour"
           }
          ],
          "mesh3d": [
           {
            "colorbar": {
             "outlinewidth": 0,
             "ticks": ""
            },
            "type": "mesh3d"
           }
          ],
          "parcoords": [
           {
            "line": {
             "colorbar": {
              "outlinewidth": 0,
              "ticks": ""
             }
            },
            "type": "parcoords"
           }
          ],
          "pie": [
           {
            "automargin": true,
            "type": "pie"
           }
          ],
          "scatter": [
           {
            "marker": {
             "colorbar": {
              "outlinewidth": 0,
              "ticks": ""
             }
            },
            "type": "scatter"
           }
          ],
          "scatter3d": [
           {
            "line": {
             "colorbar": {
              "outlinewidth": 0,
              "ticks": ""
             }
            },
            "marker": {
             "colorbar": {
              "outlinewidth": 0,
              "ticks": ""
             }
            },
            "type": "scatter3d"
           }
          ],
          "scattercarpet": [
           {
            "marker": {
             "colorbar": {
              "outlinewidth": 0,
              "ticks": ""
             }
            },
            "type": "scattercarpet"
           }
          ],
          "scattergeo": [
           {
            "marker": {
             "colorbar": {
              "outlinewidth": 0,
              "ticks": ""
             }
            },
            "type": "scattergeo"
           }
          ],
          "scattergl": [
           {
            "marker": {
             "colorbar": {
              "outlinewidth": 0,
              "ticks": ""
             }
            },
            "type": "scattergl"
           }
          ],
          "scattermapbox": [
           {
            "marker": {
             "colorbar": {
              "outlinewidth": 0,
              "ticks": ""
             }
            },
            "type": "scattermapbox"
           }
          ],
          "scatterpolar": [
           {
            "marker": {
             "colorbar": {
              "outlinewidth": 0,
              "ticks": ""
             }
            },
            "type": "scatterpolar"
           }
          ],
          "scatterpolargl": [
           {
            "marker": {
             "colorbar": {
              "outlinewidth": 0,
              "ticks": ""
             }
            },
            "type": "scatterpolargl"
           }
          ],
          "scatterternary": [
           {
            "marker": {
             "colorbar": {
              "outlinewidth": 0,
              "ticks": ""
             }
            },
            "type": "scatterternary"
           }
          ],
          "surface": [
           {
            "colorbar": {
             "outlinewidth": 0,
             "ticks": ""
            },
            "colorscale": [
             [
              0,
              "#0d0887"
             ],
             [
              0.1111111111111111,
              "#46039f"
             ],
             [
              0.2222222222222222,
              "#7201a8"
             ],
             [
              0.3333333333333333,
              "#9c179e"
             ],
             [
              0.4444444444444444,
              "#bd3786"
             ],
             [
              0.5555555555555556,
              "#d8576b"
             ],
             [
              0.6666666666666666,
              "#ed7953"
             ],
             [
              0.7777777777777778,
              "#fb9f3a"
             ],
             [
              0.8888888888888888,
              "#fdca26"
             ],
             [
              1,
              "#f0f921"
             ]
            ],
            "type": "surface"
           }
          ],
          "table": [
           {
            "cells": {
             "fill": {
              "color": "#EBF0F8"
             },
             "line": {
              "color": "white"
             }
            },
            "header": {
             "fill": {
              "color": "#C8D4E3"
             },
             "line": {
              "color": "white"
             }
            },
            "type": "table"
           }
          ]
         },
         "layout": {
          "annotationdefaults": {
           "arrowcolor": "#2a3f5f",
           "arrowhead": 0,
           "arrowwidth": 1
          },
          "autotypenumbers": "strict",
          "coloraxis": {
           "colorbar": {
            "outlinewidth": 0,
            "ticks": ""
           }
          },
          "colorscale": {
           "diverging": [
            [
             0,
             "#8e0152"
            ],
            [
             0.1,
             "#c51b7d"
            ],
            [
             0.2,
             "#de77ae"
            ],
            [
             0.3,
             "#f1b6da"
            ],
            [
             0.4,
             "#fde0ef"
            ],
            [
             0.5,
             "#f7f7f7"
            ],
            [
             0.6,
             "#e6f5d0"
            ],
            [
             0.7,
             "#b8e186"
            ],
            [
             0.8,
             "#7fbc41"
            ],
            [
             0.9,
             "#4d9221"
            ],
            [
             1,
             "#276419"
            ]
           ],
           "sequential": [
            [
             0,
             "#0d0887"
            ],
            [
             0.1111111111111111,
             "#46039f"
            ],
            [
             0.2222222222222222,
             "#7201a8"
            ],
            [
             0.3333333333333333,
             "#9c179e"
            ],
            [
             0.4444444444444444,
             "#bd3786"
            ],
            [
             0.5555555555555556,
             "#d8576b"
            ],
            [
             0.6666666666666666,
             "#ed7953"
            ],
            [
             0.7777777777777778,
             "#fb9f3a"
            ],
            [
             0.8888888888888888,
             "#fdca26"
            ],
            [
             1,
             "#f0f921"
            ]
           ],
           "sequentialminus": [
            [
             0,
             "#0d0887"
            ],
            [
             0.1111111111111111,
             "#46039f"
            ],
            [
             0.2222222222222222,
             "#7201a8"
            ],
            [
             0.3333333333333333,
             "#9c179e"
            ],
            [
             0.4444444444444444,
             "#bd3786"
            ],
            [
             0.5555555555555556,
             "#d8576b"
            ],
            [
             0.6666666666666666,
             "#ed7953"
            ],
            [
             0.7777777777777778,
             "#fb9f3a"
            ],
            [
             0.8888888888888888,
             "#fdca26"
            ],
            [
             1,
             "#f0f921"
            ]
           ]
          },
          "colorway": [
           "#636efa",
           "#EF553B",
           "#00cc96",
           "#ab63fa",
           "#FFA15A",
           "#19d3f3",
           "#FF6692",
           "#B6E880",
           "#FF97FF",
           "#FECB52"
          ],
          "font": {
           "color": "#2a3f5f"
          },
          "geo": {
           "bgcolor": "white",
           "lakecolor": "white",
           "landcolor": "#E5ECF6",
           "showlakes": true,
           "showland": true,
           "subunitcolor": "white"
          },
          "hoverlabel": {
           "align": "left"
          },
          "hovermode": "closest",
          "mapbox": {
           "style": "light"
          },
          "paper_bgcolor": "white",
          "plot_bgcolor": "#E5ECF6",
          "polar": {
           "angularaxis": {
            "gridcolor": "white",
            "linecolor": "white",
            "ticks": ""
           },
           "bgcolor": "#E5ECF6",
           "radialaxis": {
            "gridcolor": "white",
            "linecolor": "white",
            "ticks": ""
           }
          },
          "scene": {
           "xaxis": {
            "backgroundcolor": "#E5ECF6",
            "gridcolor": "white",
            "gridwidth": 2,
            "linecolor": "white",
            "showbackground": true,
            "ticks": "",
            "zerolinecolor": "white"
           },
           "yaxis": {
            "backgroundcolor": "#E5ECF6",
            "gridcolor": "white",
            "gridwidth": 2,
            "linecolor": "white",
            "showbackground": true,
            "ticks": "",
            "zerolinecolor": "white"
           },
           "zaxis": {
            "backgroundcolor": "#E5ECF6",
            "gridcolor": "white",
            "gridwidth": 2,
            "linecolor": "white",
            "showbackground": true,
            "ticks": "",
            "zerolinecolor": "white"
           }
          },
          "shapedefaults": {
           "line": {
            "color": "#2a3f5f"
           }
          },
          "ternary": {
           "aaxis": {
            "gridcolor": "white",
            "linecolor": "white",
            "ticks": ""
           },
           "baxis": {
            "gridcolor": "white",
            "linecolor": "white",
            "ticks": ""
           },
           "bgcolor": "#E5ECF6",
           "caxis": {
            "gridcolor": "white",
            "linecolor": "white",
            "ticks": ""
           }
          },
          "title": {
           "x": 0.05
          },
          "xaxis": {
           "automargin": true,
           "gridcolor": "white",
           "linecolor": "white",
           "ticks": "",
           "title": {
            "standoff": 15
           },
           "zerolinecolor": "white",
           "zerolinewidth": 2
          },
          "yaxis": {
           "automargin": true,
           "gridcolor": "white",
           "linecolor": "white",
           "ticks": "",
           "title": {
            "standoff": 15
           },
           "zerolinecolor": "white",
           "zerolinewidth": 2
          }
         }
        },
        "title": {
         "text": "지역별 장르에 따른 출고비율"
        },
        "width": 900
       }
      }
     },
     "metadata": {},
     "output_type": "display_data"
    }
   ],
   "source": [
    "# 지역별 선호장르 시각화\n",
    "df1 = df.groupby(\"Genre\").sum()\n",
    "for i in [f\"{i}_Sales\" for i in [\"NA\",\"EU\",\"JP\",\"Other\"]]:  \n",
    "    df1[i] = df1[i]/df1[i].sum()\n",
    "print(\"일본의 롤플레잉 장르 선호가 눈에 띈다\")    \n",
    "fig = go.Figure()\n",
    "for i in [f\"{i}_Sales\" for i in [\"NA\",\"EU\",\"JP\",\"Other\"]]:\n",
    "    fig.add_trace(go.Scatter(x=df1.index, \n",
    "                             y=df1[i],\n",
    "                             mode='lines+markers', \n",
    "                             name=i))      \n",
    "df1 = df1[[\"Total_Sales\"]]/df1[\"Total_Sales\"].sum()\n",
    "\n",
    "# 전체 선호장르 시각화\n",
    "fig.add_trace(go.Scatter(x=df1.index, \n",
    "                         y=df1[\"Total_Sales\"],\n",
    "                         mode='lines+markers', \n",
    "                         name=\"Total\"))                                                                                 \n",
    "fig.update_layout(\n",
    "    autosize=False,\n",
    "    title = \"지역별 장르에 따른 출고비율\",\n",
    "    width=900,\n",
    "    height=450,)\n",
    "fig.show()"
   ]
  },
  {
   "cell_type": "code",
   "execution_count": 7,
   "metadata": {},
   "outputs": [
    {
     "data": {
      "application/vnd.plotly.v1+json": {
       "config": {
        "plotlyServerURL": "https://plotly.com"
       },
       "data": [
        {
         "mode": "lines+markers",
         "name": "Total_Sales",
         "type": "scatter",
         "x": [
          1980,
          1981,
          1982,
          1983,
          1984,
          1985,
          1986,
          1987,
          1988,
          1989,
          1990,
          1991,
          1992,
          1993,
          1994,
          1995,
          1996,
          1997,
          1998,
          1999,
          2000,
          2001,
          2002,
          2003,
          2004,
          2005,
          2006,
          2007,
          2008,
          2009,
          2010,
          2011,
          2012,
          2013,
          2014,
          2015,
          2016
         ],
         "y": [
          10.879999999999999,
          35.68,
          39.38,
          16.8,
          50.35,
          53.93,
          37.08,
          21.7,
          45.78,
          74.88000000000001,
          49.37,
          32.230000000000004,
          76.14,
          45.99,
          80.91,
          88.11,
          203.14000000000001,
          202.1,
          255.17000000000002,
          249.16,
          219.48,
          342.73,
          394.07,
          356.90000000000003,
          416.51,
          467.36,
          538.95,
          608.6,
          676.41,
          666.13,
          591.15,
          516.32,
          362.06,
          353.63,
          337.08,
          261.83,
          70.89
         ]
        },
        {
         "mode": "lines+markers",
         "name": "NA_Sales",
         "type": "scatter",
         "x": [
          1980,
          1981,
          1982,
          1983,
          1984,
          1985,
          1986,
          1987,
          1988,
          1989,
          1990,
          1991,
          1992,
          1993,
          1994,
          1995,
          1996,
          1997,
          1998,
          1999,
          2000,
          2001,
          2002,
          2003,
          2004,
          2005,
          2006,
          2007,
          2008,
          2009,
          2010,
          2011,
          2012,
          2013,
          2014,
          2015,
          2016
         ],
         "y": [
          10.129999999999999,
          33.4,
          36.74,
          7.76,
          33.28,
          33.73,
          12.5,
          8.46,
          23.049999999999997,
          45.97,
          25.46,
          12.76,
          33.87,
          15.120000000000001,
          29.09,
          24.82,
          87.82000000000001,
          95.42999999999999,
          127.86,
          125.38,
          102.88,
          183.22,
          215.56,
          193.39000000000001,
          219.44,
          247.63,
          274.72,
          310.64,
          350.89,
          338.79,
          302.04,
          241.34,
          154.58,
          149.6,
          131.97,
          101.82,
          22.66
         ]
        },
        {
         "mode": "lines+markers",
         "name": "EU_Sales",
         "type": "scatter",
         "x": [
          1980,
          1981,
          1982,
          1983,
          1984,
          1985,
          1986,
          1987,
          1988,
          1989,
          1990,
          1991,
          1992,
          1993,
          1994,
          1995,
          1996,
          1997,
          1998,
          1999,
          2000,
          2001,
          2002,
          2003,
          2004,
          2005,
          2006,
          2007,
          2008,
          2009,
          2010,
          2011,
          2012,
          2013,
          2014,
          2015,
          2016
         ],
         "y": [
          0.64,
          1.96,
          2.2600000000000002,
          0.8,
          2.1,
          4.74,
          2.84,
          1.41,
          6.36,
          8.67,
          7.63,
          3.95,
          11.71,
          4.65,
          15.52,
          14.9,
          49.16,
          48.63,
          66.56,
          62.21,
          58.06,
          96.94,
          109.5,
          103.76,
          106.47,
          124.09,
          135.98,
          160.14000000000001,
          183.57,
          191.37,
          172.99,
          167.45,
          118.24,
          121.75,
          125.63,
          96.93,
          26.759999999999998
         ]
        },
        {
         "mode": "lines+markers",
         "name": "JP_Sales",
         "type": "scatter",
         "x": [
          1980,
          1981,
          1982,
          1983,
          1984,
          1985,
          1986,
          1987,
          1988,
          1989,
          1990,
          1991,
          1992,
          1993,
          1994,
          1995,
          1996,
          1997,
          1998,
          1999,
          2000,
          2001,
          2002,
          2003,
          2004,
          2005,
          2006,
          2007,
          2008,
          2009,
          2010,
          2011,
          2012,
          2013,
          2014,
          2015,
          2016
         ],
         "y": [
          0,
          0,
          0,
          8.1,
          14.27,
          14.54,
          19.81,
          11.63,
          15.41,
          18.71,
          14.879999999999999,
          14.78,
          28.91,
          25.33,
          33.99,
          45.75,
          57.9,
          48.87,
          49.75,
          51.65,
          44.43,
          39.51,
          41.76,
          33.76,
          42.77,
          54.28,
          73.04,
          60.29,
          60.26,
          61.269999999999996,
          56.980000000000004,
          53.08,
          51.64,
          43.25,
          39.46,
          33.43,
          13.72
         ]
        },
        {
         "mode": "lines+markers",
         "name": "Other_Sales",
         "type": "scatter",
         "x": [
          1980,
          1981,
          1982,
          1983,
          1984,
          1985,
          1986,
          1987,
          1988,
          1989,
          1990,
          1991,
          1992,
          1993,
          1994,
          1995,
          1996,
          1997,
          1998,
          1999,
          2000,
          2001,
          2002,
          2003,
          2004,
          2005,
          2006,
          2007,
          2008,
          2009,
          2010,
          2011,
          2012,
          2013,
          2014,
          2015,
          2016
         ],
         "y": [
          0.11,
          0.32,
          0.38,
          0.14,
          0.7,
          0.92,
          1.93,
          0.2,
          0.9600000000000001,
          1.53,
          1.4,
          0.74,
          1.65,
          0.89,
          2.31,
          2.64,
          8.26,
          9.17,
          11,
          9.92,
          14.11,
          23.06,
          27.25,
          25.990000000000002,
          47.83,
          41.36,
          55.21,
          77.53,
          81.69,
          74.7,
          59.14,
          54.45,
          37.6,
          39.03,
          40.02,
          29.650000000000002,
          7.75
         ]
        }
       ],
       "layout": {
        "autosize": false,
        "height": 450,
        "template": {
         "data": {
          "bar": [
           {
            "error_x": {
             "color": "#2a3f5f"
            },
            "error_y": {
             "color": "#2a3f5f"
            },
            "marker": {
             "line": {
              "color": "#E5ECF6",
              "width": 0.5
             },
             "pattern": {
              "fillmode": "overlay",
              "size": 10,
              "solidity": 0.2
             }
            },
            "type": "bar"
           }
          ],
          "barpolar": [
           {
            "marker": {
             "line": {
              "color": "#E5ECF6",
              "width": 0.5
             },
             "pattern": {
              "fillmode": "overlay",
              "size": 10,
              "solidity": 0.2
             }
            },
            "type": "barpolar"
           }
          ],
          "carpet": [
           {
            "aaxis": {
             "endlinecolor": "#2a3f5f",
             "gridcolor": "white",
             "linecolor": "white",
             "minorgridcolor": "white",
             "startlinecolor": "#2a3f5f"
            },
            "baxis": {
             "endlinecolor": "#2a3f5f",
             "gridcolor": "white",
             "linecolor": "white",
             "minorgridcolor": "white",
             "startlinecolor": "#2a3f5f"
            },
            "type": "carpet"
           }
          ],
          "choropleth": [
           {
            "colorbar": {
             "outlinewidth": 0,
             "ticks": ""
            },
            "type": "choropleth"
           }
          ],
          "contour": [
           {
            "colorbar": {
             "outlinewidth": 0,
             "ticks": ""
            },
            "colorscale": [
             [
              0,
              "#0d0887"
             ],
             [
              0.1111111111111111,
              "#46039f"
             ],
             [
              0.2222222222222222,
              "#7201a8"
             ],
             [
              0.3333333333333333,
              "#9c179e"
             ],
             [
              0.4444444444444444,
              "#bd3786"
             ],
             [
              0.5555555555555556,
              "#d8576b"
             ],
             [
              0.6666666666666666,
              "#ed7953"
             ],
             [
              0.7777777777777778,
              "#fb9f3a"
             ],
             [
              0.8888888888888888,
              "#fdca26"
             ],
             [
              1,
              "#f0f921"
             ]
            ],
            "type": "contour"
           }
          ],
          "contourcarpet": [
           {
            "colorbar": {
             "outlinewidth": 0,
             "ticks": ""
            },
            "type": "contourcarpet"
           }
          ],
          "heatmap": [
           {
            "colorbar": {
             "outlinewidth": 0,
             "ticks": ""
            },
            "colorscale": [
             [
              0,
              "#0d0887"
             ],
             [
              0.1111111111111111,
              "#46039f"
             ],
             [
              0.2222222222222222,
              "#7201a8"
             ],
             [
              0.3333333333333333,
              "#9c179e"
             ],
             [
              0.4444444444444444,
              "#bd3786"
             ],
             [
              0.5555555555555556,
              "#d8576b"
             ],
             [
              0.6666666666666666,
              "#ed7953"
             ],
             [
              0.7777777777777778,
              "#fb9f3a"
             ],
             [
              0.8888888888888888,
              "#fdca26"
             ],
             [
              1,
              "#f0f921"
             ]
            ],
            "type": "heatmap"
           }
          ],
          "heatmapgl": [
           {
            "colorbar": {
             "outlinewidth": 0,
             "ticks": ""
            },
            "colorscale": [
             [
              0,
              "#0d0887"
             ],
             [
              0.1111111111111111,
              "#46039f"
             ],
             [
              0.2222222222222222,
              "#7201a8"
             ],
             [
              0.3333333333333333,
              "#9c179e"
             ],
             [
              0.4444444444444444,
              "#bd3786"
             ],
             [
              0.5555555555555556,
              "#d8576b"
             ],
             [
              0.6666666666666666,
              "#ed7953"
             ],
             [
              0.7777777777777778,
              "#fb9f3a"
             ],
             [
              0.8888888888888888,
              "#fdca26"
             ],
             [
              1,
              "#f0f921"
             ]
            ],
            "type": "heatmapgl"
           }
          ],
          "histogram": [
           {
            "marker": {
             "pattern": {
              "fillmode": "overlay",
              "size": 10,
              "solidity": 0.2
             }
            },
            "type": "histogram"
           }
          ],
          "histogram2d": [
           {
            "colorbar": {
             "outlinewidth": 0,
             "ticks": ""
            },
            "colorscale": [
             [
              0,
              "#0d0887"
             ],
             [
              0.1111111111111111,
              "#46039f"
             ],
             [
              0.2222222222222222,
              "#7201a8"
             ],
             [
              0.3333333333333333,
              "#9c179e"
             ],
             [
              0.4444444444444444,
              "#bd3786"
             ],
             [
              0.5555555555555556,
              "#d8576b"
             ],
             [
              0.6666666666666666,
              "#ed7953"
             ],
             [
              0.7777777777777778,
              "#fb9f3a"
             ],
             [
              0.8888888888888888,
              "#fdca26"
             ],
             [
              1,
              "#f0f921"
             ]
            ],
            "type": "histogram2d"
           }
          ],
          "histogram2dcontour": [
           {
            "colorbar": {
             "outlinewidth": 0,
             "ticks": ""
            },
            "colorscale": [
             [
              0,
              "#0d0887"
             ],
             [
              0.1111111111111111,
              "#46039f"
             ],
             [
              0.2222222222222222,
              "#7201a8"
             ],
             [
              0.3333333333333333,
              "#9c179e"
             ],
             [
              0.4444444444444444,
              "#bd3786"
             ],
             [
              0.5555555555555556,
              "#d8576b"
             ],
             [
              0.6666666666666666,
              "#ed7953"
             ],
             [
              0.7777777777777778,
              "#fb9f3a"
             ],
             [
              0.8888888888888888,
              "#fdca26"
             ],
             [
              1,
              "#f0f921"
             ]
            ],
            "type": "histogram2dcontour"
           }
          ],
          "mesh3d": [
           {
            "colorbar": {
             "outlinewidth": 0,
             "ticks": ""
            },
            "type": "mesh3d"
           }
          ],
          "parcoords": [
           {
            "line": {
             "colorbar": {
              "outlinewidth": 0,
              "ticks": ""
             }
            },
            "type": "parcoords"
           }
          ],
          "pie": [
           {
            "automargin": true,
            "type": "pie"
           }
          ],
          "scatter": [
           {
            "marker": {
             "colorbar": {
              "outlinewidth": 0,
              "ticks": ""
             }
            },
            "type": "scatter"
           }
          ],
          "scatter3d": [
           {
            "line": {
             "colorbar": {
              "outlinewidth": 0,
              "ticks": ""
             }
            },
            "marker": {
             "colorbar": {
              "outlinewidth": 0,
              "ticks": ""
             }
            },
            "type": "scatter3d"
           }
          ],
          "scattercarpet": [
           {
            "marker": {
             "colorbar": {
              "outlinewidth": 0,
              "ticks": ""
             }
            },
            "type": "scattercarpet"
           }
          ],
          "scattergeo": [
           {
            "marker": {
             "colorbar": {
              "outlinewidth": 0,
              "ticks": ""
             }
            },
            "type": "scattergeo"
           }
          ],
          "scattergl": [
           {
            "marker": {
             "colorbar": {
              "outlinewidth": 0,
              "ticks": ""
             }
            },
            "type": "scattergl"
           }
          ],
          "scattermapbox": [
           {
            "marker": {
             "colorbar": {
              "outlinewidth": 0,
              "ticks": ""
             }
            },
            "type": "scattermapbox"
           }
          ],
          "scatterpolar": [
           {
            "marker": {
             "colorbar": {
              "outlinewidth": 0,
              "ticks": ""
             }
            },
            "type": "scatterpolar"
           }
          ],
          "scatterpolargl": [
           {
            "marker": {
             "colorbar": {
              "outlinewidth": 0,
              "ticks": ""
             }
            },
            "type": "scatterpolargl"
           }
          ],
          "scatterternary": [
           {
            "marker": {
             "colorbar": {
              "outlinewidth": 0,
              "ticks": ""
             }
            },
            "type": "scatterternary"
           }
          ],
          "surface": [
           {
            "colorbar": {
             "outlinewidth": 0,
             "ticks": ""
            },
            "colorscale": [
             [
              0,
              "#0d0887"
             ],
             [
              0.1111111111111111,
              "#46039f"
             ],
             [
              0.2222222222222222,
              "#7201a8"
             ],
             [
              0.3333333333333333,
              "#9c179e"
             ],
             [
              0.4444444444444444,
              "#bd3786"
             ],
             [
              0.5555555555555556,
              "#d8576b"
             ],
             [
              0.6666666666666666,
              "#ed7953"
             ],
             [
              0.7777777777777778,
              "#fb9f3a"
             ],
             [
              0.8888888888888888,
              "#fdca26"
             ],
             [
              1,
              "#f0f921"
             ]
            ],
            "type": "surface"
           }
          ],
          "table": [
           {
            "cells": {
             "fill": {
              "color": "#EBF0F8"
             },
             "line": {
              "color": "white"
             }
            },
            "header": {
             "fill": {
              "color": "#C8D4E3"
             },
             "line": {
              "color": "white"
             }
            },
            "type": "table"
           }
          ]
         },
         "layout": {
          "annotationdefaults": {
           "arrowcolor": "#2a3f5f",
           "arrowhead": 0,
           "arrowwidth": 1
          },
          "autotypenumbers": "strict",
          "coloraxis": {
           "colorbar": {
            "outlinewidth": 0,
            "ticks": ""
           }
          },
          "colorscale": {
           "diverging": [
            [
             0,
             "#8e0152"
            ],
            [
             0.1,
             "#c51b7d"
            ],
            [
             0.2,
             "#de77ae"
            ],
            [
             0.3,
             "#f1b6da"
            ],
            [
             0.4,
             "#fde0ef"
            ],
            [
             0.5,
             "#f7f7f7"
            ],
            [
             0.6,
             "#e6f5d0"
            ],
            [
             0.7,
             "#b8e186"
            ],
            [
             0.8,
             "#7fbc41"
            ],
            [
             0.9,
             "#4d9221"
            ],
            [
             1,
             "#276419"
            ]
           ],
           "sequential": [
            [
             0,
             "#0d0887"
            ],
            [
             0.1111111111111111,
             "#46039f"
            ],
            [
             0.2222222222222222,
             "#7201a8"
            ],
            [
             0.3333333333333333,
             "#9c179e"
            ],
            [
             0.4444444444444444,
             "#bd3786"
            ],
            [
             0.5555555555555556,
             "#d8576b"
            ],
            [
             0.6666666666666666,
             "#ed7953"
            ],
            [
             0.7777777777777778,
             "#fb9f3a"
            ],
            [
             0.8888888888888888,
             "#fdca26"
            ],
            [
             1,
             "#f0f921"
            ]
           ],
           "sequentialminus": [
            [
             0,
             "#0d0887"
            ],
            [
             0.1111111111111111,
             "#46039f"
            ],
            [
             0.2222222222222222,
             "#7201a8"
            ],
            [
             0.3333333333333333,
             "#9c179e"
            ],
            [
             0.4444444444444444,
             "#bd3786"
            ],
            [
             0.5555555555555556,
             "#d8576b"
            ],
            [
             0.6666666666666666,
             "#ed7953"
            ],
            [
             0.7777777777777778,
             "#fb9f3a"
            ],
            [
             0.8888888888888888,
             "#fdca26"
            ],
            [
             1,
             "#f0f921"
            ]
           ]
          },
          "colorway": [
           "#636efa",
           "#EF553B",
           "#00cc96",
           "#ab63fa",
           "#FFA15A",
           "#19d3f3",
           "#FF6692",
           "#B6E880",
           "#FF97FF",
           "#FECB52"
          ],
          "font": {
           "color": "#2a3f5f"
          },
          "geo": {
           "bgcolor": "white",
           "lakecolor": "white",
           "landcolor": "#E5ECF6",
           "showlakes": true,
           "showland": true,
           "subunitcolor": "white"
          },
          "hoverlabel": {
           "align": "left"
          },
          "hovermode": "closest",
          "mapbox": {
           "style": "light"
          },
          "paper_bgcolor": "white",
          "plot_bgcolor": "#E5ECF6",
          "polar": {
           "angularaxis": {
            "gridcolor": "white",
            "linecolor": "white",
            "ticks": ""
           },
           "bgcolor": "#E5ECF6",
           "radialaxis": {
            "gridcolor": "white",
            "linecolor": "white",
            "ticks": ""
           }
          },
          "scene": {
           "xaxis": {
            "backgroundcolor": "#E5ECF6",
            "gridcolor": "white",
            "gridwidth": 2,
            "linecolor": "white",
            "showbackground": true,
            "ticks": "",
            "zerolinecolor": "white"
           },
           "yaxis": {
            "backgroundcolor": "#E5ECF6",
            "gridcolor": "white",
            "gridwidth": 2,
            "linecolor": "white",
            "showbackground": true,
            "ticks": "",
            "zerolinecolor": "white"
           },
           "zaxis": {
            "backgroundcolor": "#E5ECF6",
            "gridcolor": "white",
            "gridwidth": 2,
            "linecolor": "white",
            "showbackground": true,
            "ticks": "",
            "zerolinecolor": "white"
           }
          },
          "shapedefaults": {
           "line": {
            "color": "#2a3f5f"
           }
          },
          "ternary": {
           "aaxis": {
            "gridcolor": "white",
            "linecolor": "white",
            "ticks": ""
           },
           "baxis": {
            "gridcolor": "white",
            "linecolor": "white",
            "ticks": ""
           },
           "bgcolor": "#E5ECF6",
           "caxis": {
            "gridcolor": "white",
            "linecolor": "white",
            "ticks": ""
           }
          },
          "title": {
           "x": 0.05
          },
          "xaxis": {
           "automargin": true,
           "gridcolor": "white",
           "linecolor": "white",
           "ticks": "",
           "title": {
            "standoff": 15
           },
           "zerolinecolor": "white",
           "zerolinewidth": 2
          },
          "yaxis": {
           "automargin": true,
           "gridcolor": "white",
           "linecolor": "white",
           "ticks": "",
           "title": {
            "standoff": 15
           },
           "zerolinecolor": "white",
           "zerolinewidth": 2
          }
         }
        },
        "title": {
         "text": "지역별 총 출고량"
        },
        "width": 900
       }
      }
     },
     "metadata": {},
     "output_type": "display_data"
    }
   ],
   "source": [
    "# 국가별 총 출고량의 변화\n",
    "fig = go.Figure()\n",
    "list_for = [\"Total\",\"NA\",\"EU\",\"JP\",\"Other\"]\n",
    "for i in [f\"{Con}_Sales\" for Con in list_for]:\n",
    "    df1 = df.groupby(\"Year\").sum()[i]\n",
    "    fig.add_trace(go.Scatter(x = df1.index, \n",
    "                         y = df1,\n",
    "                         mode='lines+markers', \n",
    "                         name=f\"{i}\"))\n",
    "fig.update_layout(\n",
    "    title = \"지역별 총 출고량\",\n",
    "    autosize=False,\n",
    "    width=900,\n",
    "    height=450,)                         \n",
    "fig.show()                         "
   ]
  },
  {
   "cell_type": "code",
   "execution_count": 8,
   "metadata": {},
   "outputs": [
    {
     "data": {
      "application/vnd.plotly.v1+json": {
       "config": {
        "plotlyServerURL": "https://plotly.com"
       },
       "data": [
        {
         "mode": "lines+markers",
         "type": "scatter",
         "x": [
          1980,
          1981,
          1982,
          1983,
          1984,
          1985,
          1986,
          1987,
          1988,
          1989,
          1990,
          1991,
          1992,
          1993,
          1994,
          1995,
          1996,
          1997,
          1998,
          1999,
          2000,
          2001,
          2002,
          2003,
          2004,
          2005,
          2006,
          2007,
          2008,
          2009,
          2010,
          2011,
          2012,
          2013,
          2014,
          2015,
          2016
         ],
         "y": [
          8,
          46,
          53,
          17,
          14,
          13,
          21,
          16,
          14,
          18,
          16,
          41,
          43,
          60,
          125,
          219,
          281,
          290,
          377,
          336,
          378,
          527,
          826,
          774,
          780,
          961,
          1061,
          1195,
          1422,
          1429,
          1253,
          1142,
          652,
          545,
          580,
          611,
          345
         ]
        }
       ],
       "layout": {
        "autosize": false,
        "height": 450,
        "template": {
         "data": {
          "bar": [
           {
            "error_x": {
             "color": "#2a3f5f"
            },
            "error_y": {
             "color": "#2a3f5f"
            },
            "marker": {
             "line": {
              "color": "#E5ECF6",
              "width": 0.5
             },
             "pattern": {
              "fillmode": "overlay",
              "size": 10,
              "solidity": 0.2
             }
            },
            "type": "bar"
           }
          ],
          "barpolar": [
           {
            "marker": {
             "line": {
              "color": "#E5ECF6",
              "width": 0.5
             },
             "pattern": {
              "fillmode": "overlay",
              "size": 10,
              "solidity": 0.2
             }
            },
            "type": "barpolar"
           }
          ],
          "carpet": [
           {
            "aaxis": {
             "endlinecolor": "#2a3f5f",
             "gridcolor": "white",
             "linecolor": "white",
             "minorgridcolor": "white",
             "startlinecolor": "#2a3f5f"
            },
            "baxis": {
             "endlinecolor": "#2a3f5f",
             "gridcolor": "white",
             "linecolor": "white",
             "minorgridcolor": "white",
             "startlinecolor": "#2a3f5f"
            },
            "type": "carpet"
           }
          ],
          "choropleth": [
           {
            "colorbar": {
             "outlinewidth": 0,
             "ticks": ""
            },
            "type": "choropleth"
           }
          ],
          "contour": [
           {
            "colorbar": {
             "outlinewidth": 0,
             "ticks": ""
            },
            "colorscale": [
             [
              0,
              "#0d0887"
             ],
             [
              0.1111111111111111,
              "#46039f"
             ],
             [
              0.2222222222222222,
              "#7201a8"
             ],
             [
              0.3333333333333333,
              "#9c179e"
             ],
             [
              0.4444444444444444,
              "#bd3786"
             ],
             [
              0.5555555555555556,
              "#d8576b"
             ],
             [
              0.6666666666666666,
              "#ed7953"
             ],
             [
              0.7777777777777778,
              "#fb9f3a"
             ],
             [
              0.8888888888888888,
              "#fdca26"
             ],
             [
              1,
              "#f0f921"
             ]
            ],
            "type": "contour"
           }
          ],
          "contourcarpet": [
           {
            "colorbar": {
             "outlinewidth": 0,
             "ticks": ""
            },
            "type": "contourcarpet"
           }
          ],
          "heatmap": [
           {
            "colorbar": {
             "outlinewidth": 0,
             "ticks": ""
            },
            "colorscale": [
             [
              0,
              "#0d0887"
             ],
             [
              0.1111111111111111,
              "#46039f"
             ],
             [
              0.2222222222222222,
              "#7201a8"
             ],
             [
              0.3333333333333333,
              "#9c179e"
             ],
             [
              0.4444444444444444,
              "#bd3786"
             ],
             [
              0.5555555555555556,
              "#d8576b"
             ],
             [
              0.6666666666666666,
              "#ed7953"
             ],
             [
              0.7777777777777778,
              "#fb9f3a"
             ],
             [
              0.8888888888888888,
              "#fdca26"
             ],
             [
              1,
              "#f0f921"
             ]
            ],
            "type": "heatmap"
           }
          ],
          "heatmapgl": [
           {
            "colorbar": {
             "outlinewidth": 0,
             "ticks": ""
            },
            "colorscale": [
             [
              0,
              "#0d0887"
             ],
             [
              0.1111111111111111,
              "#46039f"
             ],
             [
              0.2222222222222222,
              "#7201a8"
             ],
             [
              0.3333333333333333,
              "#9c179e"
             ],
             [
              0.4444444444444444,
              "#bd3786"
             ],
             [
              0.5555555555555556,
              "#d8576b"
             ],
             [
              0.6666666666666666,
              "#ed7953"
             ],
             [
              0.7777777777777778,
              "#fb9f3a"
             ],
             [
              0.8888888888888888,
              "#fdca26"
             ],
             [
              1,
              "#f0f921"
             ]
            ],
            "type": "heatmapgl"
           }
          ],
          "histogram": [
           {
            "marker": {
             "pattern": {
              "fillmode": "overlay",
              "size": 10,
              "solidity": 0.2
             }
            },
            "type": "histogram"
           }
          ],
          "histogram2d": [
           {
            "colorbar": {
             "outlinewidth": 0,
             "ticks": ""
            },
            "colorscale": [
             [
              0,
              "#0d0887"
             ],
             [
              0.1111111111111111,
              "#46039f"
             ],
             [
              0.2222222222222222,
              "#7201a8"
             ],
             [
              0.3333333333333333,
              "#9c179e"
             ],
             [
              0.4444444444444444,
              "#bd3786"
             ],
             [
              0.5555555555555556,
              "#d8576b"
             ],
             [
              0.6666666666666666,
              "#ed7953"
             ],
             [
              0.7777777777777778,
              "#fb9f3a"
             ],
             [
              0.8888888888888888,
              "#fdca26"
             ],
             [
              1,
              "#f0f921"
             ]
            ],
            "type": "histogram2d"
           }
          ],
          "histogram2dcontour": [
           {
            "colorbar": {
             "outlinewidth": 0,
             "ticks": ""
            },
            "colorscale": [
             [
              0,
              "#0d0887"
             ],
             [
              0.1111111111111111,
              "#46039f"
             ],
             [
              0.2222222222222222,
              "#7201a8"
             ],
             [
              0.3333333333333333,
              "#9c179e"
             ],
             [
              0.4444444444444444,
              "#bd3786"
             ],
             [
              0.5555555555555556,
              "#d8576b"
             ],
             [
              0.6666666666666666,
              "#ed7953"
             ],
             [
              0.7777777777777778,
              "#fb9f3a"
             ],
             [
              0.8888888888888888,
              "#fdca26"
             ],
             [
              1,
              "#f0f921"
             ]
            ],
            "type": "histogram2dcontour"
           }
          ],
          "mesh3d": [
           {
            "colorbar": {
             "outlinewidth": 0,
             "ticks": ""
            },
            "type": "mesh3d"
           }
          ],
          "parcoords": [
           {
            "line": {
             "colorbar": {
              "outlinewidth": 0,
              "ticks": ""
             }
            },
            "type": "parcoords"
           }
          ],
          "pie": [
           {
            "automargin": true,
            "type": "pie"
           }
          ],
          "scatter": [
           {
            "marker": {
             "colorbar": {
              "outlinewidth": 0,
              "ticks": ""
             }
            },
            "type": "scatter"
           }
          ],
          "scatter3d": [
           {
            "line": {
             "colorbar": {
              "outlinewidth": 0,
              "ticks": ""
             }
            },
            "marker": {
             "colorbar": {
              "outlinewidth": 0,
              "ticks": ""
             }
            },
            "type": "scatter3d"
           }
          ],
          "scattercarpet": [
           {
            "marker": {
             "colorbar": {
              "outlinewidth": 0,
              "ticks": ""
             }
            },
            "type": "scattercarpet"
           }
          ],
          "scattergeo": [
           {
            "marker": {
             "colorbar": {
              "outlinewidth": 0,
              "ticks": ""
             }
            },
            "type": "scattergeo"
           }
          ],
          "scattergl": [
           {
            "marker": {
             "colorbar": {
              "outlinewidth": 0,
              "ticks": ""
             }
            },
            "type": "scattergl"
           }
          ],
          "scattermapbox": [
           {
            "marker": {
             "colorbar": {
              "outlinewidth": 0,
              "ticks": ""
             }
            },
            "type": "scattermapbox"
           }
          ],
          "scatterpolar": [
           {
            "marker": {
             "colorbar": {
              "outlinewidth": 0,
              "ticks": ""
             }
            },
            "type": "scatterpolar"
           }
          ],
          "scatterpolargl": [
           {
            "marker": {
             "colorbar": {
              "outlinewidth": 0,
              "ticks": ""
             }
            },
            "type": "scatterpolargl"
           }
          ],
          "scatterternary": [
           {
            "marker": {
             "colorbar": {
              "outlinewidth": 0,
              "ticks": ""
             }
            },
            "type": "scatterternary"
           }
          ],
          "surface": [
           {
            "colorbar": {
             "outlinewidth": 0,
             "ticks": ""
            },
            "colorscale": [
             [
              0,
              "#0d0887"
             ],
             [
              0.1111111111111111,
              "#46039f"
             ],
             [
              0.2222222222222222,
              "#7201a8"
             ],
             [
              0.3333333333333333,
              "#9c179e"
             ],
             [
              0.4444444444444444,
              "#bd3786"
             ],
             [
              0.5555555555555556,
              "#d8576b"
             ],
             [
              0.6666666666666666,
              "#ed7953"
             ],
             [
              0.7777777777777778,
              "#fb9f3a"
             ],
             [
              0.8888888888888888,
              "#fdca26"
             ],
             [
              1,
              "#f0f921"
             ]
            ],
            "type": "surface"
           }
          ],
          "table": [
           {
            "cells": {
             "fill": {
              "color": "#EBF0F8"
             },
             "line": {
              "color": "white"
             }
            },
            "header": {
             "fill": {
              "color": "#C8D4E3"
             },
             "line": {
              "color": "white"
             }
            },
            "type": "table"
           }
          ]
         },
         "layout": {
          "annotationdefaults": {
           "arrowcolor": "#2a3f5f",
           "arrowhead": 0,
           "arrowwidth": 1
          },
          "autotypenumbers": "strict",
          "coloraxis": {
           "colorbar": {
            "outlinewidth": 0,
            "ticks": ""
           }
          },
          "colorscale": {
           "diverging": [
            [
             0,
             "#8e0152"
            ],
            [
             0.1,
             "#c51b7d"
            ],
            [
             0.2,
             "#de77ae"
            ],
            [
             0.3,
             "#f1b6da"
            ],
            [
             0.4,
             "#fde0ef"
            ],
            [
             0.5,
             "#f7f7f7"
            ],
            [
             0.6,
             "#e6f5d0"
            ],
            [
             0.7,
             "#b8e186"
            ],
            [
             0.8,
             "#7fbc41"
            ],
            [
             0.9,
             "#4d9221"
            ],
            [
             1,
             "#276419"
            ]
           ],
           "sequential": [
            [
             0,
             "#0d0887"
            ],
            [
             0.1111111111111111,
             "#46039f"
            ],
            [
             0.2222222222222222,
             "#7201a8"
            ],
            [
             0.3333333333333333,
             "#9c179e"
            ],
            [
             0.4444444444444444,
             "#bd3786"
            ],
            [
             0.5555555555555556,
             "#d8576b"
            ],
            [
             0.6666666666666666,
             "#ed7953"
            ],
            [
             0.7777777777777778,
             "#fb9f3a"
            ],
            [
             0.8888888888888888,
             "#fdca26"
            ],
            [
             1,
             "#f0f921"
            ]
           ],
           "sequentialminus": [
            [
             0,
             "#0d0887"
            ],
            [
             0.1111111111111111,
             "#46039f"
            ],
            [
             0.2222222222222222,
             "#7201a8"
            ],
            [
             0.3333333333333333,
             "#9c179e"
            ],
            [
             0.4444444444444444,
             "#bd3786"
            ],
            [
             0.5555555555555556,
             "#d8576b"
            ],
            [
             0.6666666666666666,
             "#ed7953"
            ],
            [
             0.7777777777777778,
             "#fb9f3a"
            ],
            [
             0.8888888888888888,
             "#fdca26"
            ],
            [
             1,
             "#f0f921"
            ]
           ]
          },
          "colorway": [
           "#636efa",
           "#EF553B",
           "#00cc96",
           "#ab63fa",
           "#FFA15A",
           "#19d3f3",
           "#FF6692",
           "#B6E880",
           "#FF97FF",
           "#FECB52"
          ],
          "font": {
           "color": "#2a3f5f"
          },
          "geo": {
           "bgcolor": "white",
           "lakecolor": "white",
           "landcolor": "#E5ECF6",
           "showlakes": true,
           "showland": true,
           "subunitcolor": "white"
          },
          "hoverlabel": {
           "align": "left"
          },
          "hovermode": "closest",
          "mapbox": {
           "style": "light"
          },
          "paper_bgcolor": "white",
          "plot_bgcolor": "#E5ECF6",
          "polar": {
           "angularaxis": {
            "gridcolor": "white",
            "linecolor": "white",
            "ticks": ""
           },
           "bgcolor": "#E5ECF6",
           "radialaxis": {
            "gridcolor": "white",
            "linecolor": "white",
            "ticks": ""
           }
          },
          "scene": {
           "xaxis": {
            "backgroundcolor": "#E5ECF6",
            "gridcolor": "white",
            "gridwidth": 2,
            "linecolor": "white",
            "showbackground": true,
            "ticks": "",
            "zerolinecolor": "white"
           },
           "yaxis": {
            "backgroundcolor": "#E5ECF6",
            "gridcolor": "white",
            "gridwidth": 2,
            "linecolor": "white",
            "showbackground": true,
            "ticks": "",
            "zerolinecolor": "white"
           },
           "zaxis": {
            "backgroundcolor": "#E5ECF6",
            "gridcolor": "white",
            "gridwidth": 2,
            "linecolor": "white",
            "showbackground": true,
            "ticks": "",
            "zerolinecolor": "white"
           }
          },
          "shapedefaults": {
           "line": {
            "color": "#2a3f5f"
           }
          },
          "ternary": {
           "aaxis": {
            "gridcolor": "white",
            "linecolor": "white",
            "ticks": ""
           },
           "baxis": {
            "gridcolor": "white",
            "linecolor": "white",
            "ticks": ""
           },
           "bgcolor": "#E5ECF6",
           "caxis": {
            "gridcolor": "white",
            "linecolor": "white",
            "ticks": ""
           }
          },
          "title": {
           "x": 0.05
          },
          "xaxis": {
           "automargin": true,
           "gridcolor": "white",
           "linecolor": "white",
           "ticks": "",
           "title": {
            "standoff": 15
           },
           "zerolinecolor": "white",
           "zerolinewidth": 2
          },
          "yaxis": {
           "automargin": true,
           "gridcolor": "white",
           "linecolor": "white",
           "ticks": "",
           "title": {
            "standoff": 15
           },
           "zerolinecolor": "white",
           "zerolinewidth": 2
          }
         }
        },
        "title": {
         "text": "연도별 출시된 게임의 수"
        },
        "width": 700
       }
      }
     },
     "metadata": {},
     "output_type": "display_data"
    }
   ],
   "source": [
    "# 연도별 출시된 게임의 수 시각화\n",
    "df1 = df.groupby(\"Year\").sum()[\"count\"]\n",
    "fig = go.Figure()\n",
    "fig.add_trace(go.Scatter(x = df1.index, \n",
    "                         y = df1,\n",
    "                         mode='lines+markers'\n",
    "                         ))\n",
    "fig.update_layout(\n",
    "    title = \"연도별 출시된 게임의 수\",\n",
    "    autosize=False,\n",
    "    width=700,\n",
    "    height=450,)                         \n",
    "fig.show()"
   ]
  },
  {
   "cell_type": "code",
   "execution_count": 9,
   "metadata": {},
   "outputs": [
    {
     "name": "stdout",
     "output_type": "stream",
     "text": [
      "                            OLS Regression Results                            \n",
      "==============================================================================\n",
      "Dep. Variable:            Total_Sales   R-squared:                       0.416\n",
      "Model:                            OLS   Adj. R-squared:                  0.372\n",
      "Method:                 Least Squares   F-statistic:                     9.278\n",
      "Date:                Mon, 13 Dec 2021   Prob (F-statistic):            0.00937\n",
      "Time:                        11:55:48   Log-Likelihood:                -62.337\n",
      "No. Observations:                  15   AIC:                             128.7\n",
      "Df Residuals:                      13   BIC:                             130.1\n",
      "Df Model:                           1                                         \n",
      "Covariance Type:            nonrobust                                         \n",
      "==============================================================================\n",
      "                 coef    std err          t      P>|t|      [0.025      0.975]\n",
      "------------------------------------------------------------------------------\n",
      "Intercept  -5953.5163   1969.193     -3.023      0.010   -1.02e+04   -1699.334\n",
      "Year           3.0188      0.991      3.046      0.009       0.878       5.160\n",
      "==============================================================================\n",
      "Omnibus:                        3.359   Durbin-Watson:                   2.498\n",
      "Prob(Omnibus):                  0.186   Jarque-Bera (JB):                1.217\n",
      "Skew:                          -0.146   Prob(JB):                        0.544\n",
      "Kurtosis:                       1.635   Cond. No.                     9.14e+05\n",
      "==============================================================================\n",
      "\n",
      "Notes:\n",
      "[1] Standard Errors assume that the covariance matrix of the errors is correctly specified.\n",
      "[2] The condition number is large, 9.14e+05. This might indicate that there are\n",
      "strong multicollinearity or other numerical problems.\n"
     ]
    },
    {
     "name": "stderr",
     "output_type": "stream",
     "text": [
      "C:\\Python39\\lib\\site-packages\\scipy\\stats\\stats.py:1541: UserWarning:\n",
      "\n",
      "kurtosistest only valid for n>=20 ... continuing anyway, n=15\n",
      "\n"
     ]
    }
   ],
   "source": [
    "# 1980년부터 1994년까지의 선형회귀\n",
    "df_80_94 = df.loc[df[\"Year\"]<1995][[\"Year\",\"Total_Sales\"]]\n",
    "df_80_94 = df_80_94.groupby(\"Year\").sum().reset_index()\n",
    "model_80_94 = sm.OLS.from_formula(\"Total_Sales ~ Year\", data=df_80_94)\n",
    "result = model_80_94.fit()\n",
    "result.predict(df_80_94[\"Year\"])\n",
    "print(result.summary())"
   ]
  },
  {
   "cell_type": "code",
   "execution_count": 10,
   "metadata": {},
   "outputs": [
    {
     "name": "stdout",
     "output_type": "stream",
     "text": [
      "                            OLS Regression Results                            \n",
      "==============================================================================\n",
      "Dep. Variable:            Total_Sales   R-squared:                       0.938\n",
      "Model:                            OLS   Adj. R-squared:                  0.932\n",
      "Method:                 Least Squares   F-statistic:                     180.4\n",
      "Date:                Mon, 13 Dec 2021   Prob (F-statistic):           1.36e-08\n",
      "Time:                        11:55:49   Log-Likelihood:                -71.840\n",
      "No. Observations:                  14   AIC:                             147.7\n",
      "Df Residuals:                      12   BIC:                             149.0\n",
      "Df Model:                           1                                         \n",
      "Covariance Type:            nonrobust                                         \n",
      "==============================================================================\n",
      "                 coef    std err          t      P>|t|      [0.025      0.975]\n",
      "------------------------------------------------------------------------------\n",
      "Intercept  -7.849e+04   5870.301    -13.371      0.000   -9.13e+04   -6.57e+04\n",
      "Year          39.3962      2.933     13.432      0.000      33.006      45.787\n",
      "==============================================================================\n",
      "Omnibus:                        0.384   Durbin-Watson:                   1.308\n",
      "Prob(Omnibus):                  0.825   Jarque-Bera (JB):                0.492\n",
      "Skew:                          -0.279   Prob(JB):                        0.782\n",
      "Kurtosis:                       2.272   Cond. No.                     9.94e+05\n",
      "==============================================================================\n",
      "\n",
      "Notes:\n",
      "[1] Standard Errors assume that the covariance matrix of the errors is correctly specified.\n",
      "[2] The condition number is large, 9.94e+05. This might indicate that there are\n",
      "strong multicollinearity or other numerical problems.\n"
     ]
    },
    {
     "name": "stderr",
     "output_type": "stream",
     "text": [
      "C:\\Python39\\lib\\site-packages\\scipy\\stats\\stats.py:1541: UserWarning:\n",
      "\n",
      "kurtosistest only valid for n>=20 ... continuing anyway, n=14\n",
      "\n"
     ]
    }
   ],
   "source": [
    "# 1995년부터 2008년 까지의 선형회귀\n",
    "df_95_08 = df.loc[(1994<df[\"Year\"])&(df[\"Year\"]<2009)][[\"Year\",\"Total_Sales\"]]\n",
    "df_95_08 = df_95_08.groupby(\"Year\").sum().reset_index()\n",
    "model_95_08 = sm.OLS.from_formula(\"Total_Sales ~ Year\", data=df_95_08)\n",
    "result = model_95_08.fit()\n",
    "result.predict(df_95_08[\"Year\"])\n",
    "print(result.summary())"
   ]
  },
  {
   "cell_type": "code",
   "execution_count": 11,
   "metadata": {},
   "outputs": [
    {
     "name": "stdout",
     "output_type": "stream",
     "text": [
      "                            OLS Regression Results                            \n",
      "==============================================================================\n",
      "Dep. Variable:            Total_Sales   R-squared:                       0.942\n",
      "Model:                            OLS   Adj. R-squared:                  0.932\n",
      "Method:                 Least Squares   F-statistic:                     96.88\n",
      "Date:                Mon, 13 Dec 2021   Prob (F-statistic):           6.34e-05\n",
      "Time:                        11:55:49   Log-Likelihood:                -41.473\n",
      "No. Observations:                   8   AIC:                             86.95\n",
      "Df Residuals:                       6   BIC:                             87.10\n",
      "Df Model:                           1                                         \n",
      "Covariance Type:            nonrobust                                         \n",
      "==============================================================================\n",
      "                 coef    std err          t      P>|t|      [0.025      0.975]\n",
      "------------------------------------------------------------------------------\n",
      "Intercept   1.528e+05   1.55e+04      9.868      0.000    1.15e+05    1.91e+05\n",
      "Year         -75.7075      7.692     -9.843      0.000     -94.529     -56.886\n",
      "==============================================================================\n",
      "Omnibus:                        0.379   Durbin-Watson:                   1.843\n",
      "Prob(Omnibus):                  0.828   Jarque-Bera (JB):                0.443\n",
      "Skew:                          -0.321   Prob(JB):                        0.801\n",
      "Kurtosis:                       2.042   Cond. No.                     1.77e+06\n",
      "==============================================================================\n",
      "\n",
      "Notes:\n",
      "[1] Standard Errors assume that the covariance matrix of the errors is correctly specified.\n",
      "[2] The condition number is large, 1.77e+06. This might indicate that there are\n",
      "strong multicollinearity or other numerical problems.\n"
     ]
    },
    {
     "name": "stderr",
     "output_type": "stream",
     "text": [
      "C:\\Python39\\lib\\site-packages\\scipy\\stats\\stats.py:1541: UserWarning:\n",
      "\n",
      "kurtosistest only valid for n>=20 ... continuing anyway, n=8\n",
      "\n"
     ]
    }
   ],
   "source": [
    "# 2009년부터 2016까지 선형회귀\n",
    "df_09 = df.loc[2008<df[\"Year\"]][[\"Year\",\"Total_Sales\"]]\n",
    "df_09 = df_09.groupby(\"Year\").sum().reset_index()\n",
    "model_09 = sm.OLS.from_formula(\"Total_Sales ~ Year\", data=df_09)\n",
    "result = model_09.fit()\n",
    "result.predict(df_09[\"Year\"])\n",
    "print(result.summary())"
   ]
  },
  {
   "cell_type": "code",
   "execution_count": 12,
   "metadata": {},
   "outputs": [
    {
     "name": "stdout",
     "output_type": "stream",
     "text": [
      "기울기의 변화는 다음과 같다: [3.731, 38.8503, -76.0429]\n"
     ]
    },
    {
     "data": {
      "application/vnd.plotly.v1+json": {
       "config": {
        "plotlyServerURL": "https://plotly.com"
       },
       "data": [
        {
         "mode": "lines+markers",
         "name": "80_94",
         "type": "scatter",
         "x": [
          1980,
          1981,
          1982,
          1983,
          1984,
          1985,
          1986,
          1987,
          1988,
          1989,
          1990,
          1991,
          1992,
          1993,
          1994
         ],
         "y": [
          23.608750000000327,
          26.6274999999996,
          29.64624999999978,
          32.664999999999964,
          35.683750000000146,
          38.70250000000033,
          41.7212499999996,
          44.73999999999978,
          47.758749999999964,
          50.777500000000146,
          53.79625000000033,
          56.8149999999996,
          59.83374999999978,
          62.852499999999964,
          65.87125000000015
         ]
        },
        {
         "mode": "lines+markers",
         "name": "95_08",
         "type": "scatter",
         "x": [
          1995,
          1996,
          1997,
          1998,
          1999,
          2000,
          2001,
          2002,
          2003,
          2004,
          2005,
          2006,
          2007,
          2008
         ],
         "y": [
          102.40228571429907,
          141.79852747253608,
          181.1947692307731,
          220.59101098902465,
          259.98725274726166,
          299.3834945054987,
          338.77973626375024,
          378.17597802198725,
          417.57221978022426,
          456.9684615384758,
          496.36470329671283,
          535.7609450549498,
          575.1571868132014,
          614.5534285714384
         ]
        },
        {
         "mode": "lines+markers",
         "name": "09",
         "type": "scatter",
         "x": [
          2009,
          2010,
          2011,
          2012,
          2013,
          2014,
          2015,
          2016
         ],
         "y": [
          659.8625000000175,
          584.1550000000279,
          508.4475000000093,
          432.7400000000198,
          357.03250000003027,
          281.32500000001164,
          205.61750000002212,
          129.9100000000326
         ]
        },
        {
         "mode": "lines+markers",
         "name": "전체 판매량",
         "type": "scatter",
         "x": [
          1980,
          1981,
          1982,
          1983,
          1984,
          1985,
          1986,
          1987,
          1988,
          1989,
          1990,
          1991,
          1992,
          1993,
          1994,
          1995,
          1996,
          1997,
          1998,
          1999,
          2000,
          2001,
          2002,
          2003,
          2004,
          2005,
          2006,
          2007,
          2008,
          2009,
          2010,
          2011,
          2012,
          2013,
          2014,
          2015,
          2016
         ],
         "y": [
          10.879999999999999,
          35.68,
          39.38,
          16.8,
          50.35,
          53.93,
          37.08,
          21.7,
          45.78,
          74.88000000000001,
          49.37,
          32.230000000000004,
          76.14,
          45.99,
          80.91,
          88.11,
          203.14000000000001,
          202.1,
          255.17000000000002,
          249.16,
          219.48,
          342.73,
          394.07,
          356.90000000000003,
          416.51,
          467.36,
          538.95,
          608.6,
          676.41,
          666.13,
          591.15,
          516.32,
          362.06,
          353.63,
          337.08,
          261.83,
          70.89
         ]
        }
       ],
       "layout": {
        "autosize": false,
        "height": 450,
        "template": {
         "data": {
          "bar": [
           {
            "error_x": {
             "color": "#2a3f5f"
            },
            "error_y": {
             "color": "#2a3f5f"
            },
            "marker": {
             "line": {
              "color": "#E5ECF6",
              "width": 0.5
             },
             "pattern": {
              "fillmode": "overlay",
              "size": 10,
              "solidity": 0.2
             }
            },
            "type": "bar"
           }
          ],
          "barpolar": [
           {
            "marker": {
             "line": {
              "color": "#E5ECF6",
              "width": 0.5
             },
             "pattern": {
              "fillmode": "overlay",
              "size": 10,
              "solidity": 0.2
             }
            },
            "type": "barpolar"
           }
          ],
          "carpet": [
           {
            "aaxis": {
             "endlinecolor": "#2a3f5f",
             "gridcolor": "white",
             "linecolor": "white",
             "minorgridcolor": "white",
             "startlinecolor": "#2a3f5f"
            },
            "baxis": {
             "endlinecolor": "#2a3f5f",
             "gridcolor": "white",
             "linecolor": "white",
             "minorgridcolor": "white",
             "startlinecolor": "#2a3f5f"
            },
            "type": "carpet"
           }
          ],
          "choropleth": [
           {
            "colorbar": {
             "outlinewidth": 0,
             "ticks": ""
            },
            "type": "choropleth"
           }
          ],
          "contour": [
           {
            "colorbar": {
             "outlinewidth": 0,
             "ticks": ""
            },
            "colorscale": [
             [
              0,
              "#0d0887"
             ],
             [
              0.1111111111111111,
              "#46039f"
             ],
             [
              0.2222222222222222,
              "#7201a8"
             ],
             [
              0.3333333333333333,
              "#9c179e"
             ],
             [
              0.4444444444444444,
              "#bd3786"
             ],
             [
              0.5555555555555556,
              "#d8576b"
             ],
             [
              0.6666666666666666,
              "#ed7953"
             ],
             [
              0.7777777777777778,
              "#fb9f3a"
             ],
             [
              0.8888888888888888,
              "#fdca26"
             ],
             [
              1,
              "#f0f921"
             ]
            ],
            "type": "contour"
           }
          ],
          "contourcarpet": [
           {
            "colorbar": {
             "outlinewidth": 0,
             "ticks": ""
            },
            "type": "contourcarpet"
           }
          ],
          "heatmap": [
           {
            "colorbar": {
             "outlinewidth": 0,
             "ticks": ""
            },
            "colorscale": [
             [
              0,
              "#0d0887"
             ],
             [
              0.1111111111111111,
              "#46039f"
             ],
             [
              0.2222222222222222,
              "#7201a8"
             ],
             [
              0.3333333333333333,
              "#9c179e"
             ],
             [
              0.4444444444444444,
              "#bd3786"
             ],
             [
              0.5555555555555556,
              "#d8576b"
             ],
             [
              0.6666666666666666,
              "#ed7953"
             ],
             [
              0.7777777777777778,
              "#fb9f3a"
             ],
             [
              0.8888888888888888,
              "#fdca26"
             ],
             [
              1,
              "#f0f921"
             ]
            ],
            "type": "heatmap"
           }
          ],
          "heatmapgl": [
           {
            "colorbar": {
             "outlinewidth": 0,
             "ticks": ""
            },
            "colorscale": [
             [
              0,
              "#0d0887"
             ],
             [
              0.1111111111111111,
              "#46039f"
             ],
             [
              0.2222222222222222,
              "#7201a8"
             ],
             [
              0.3333333333333333,
              "#9c179e"
             ],
             [
              0.4444444444444444,
              "#bd3786"
             ],
             [
              0.5555555555555556,
              "#d8576b"
             ],
             [
              0.6666666666666666,
              "#ed7953"
             ],
             [
              0.7777777777777778,
              "#fb9f3a"
             ],
             [
              0.8888888888888888,
              "#fdca26"
             ],
             [
              1,
              "#f0f921"
             ]
            ],
            "type": "heatmapgl"
           }
          ],
          "histogram": [
           {
            "marker": {
             "pattern": {
              "fillmode": "overlay",
              "size": 10,
              "solidity": 0.2
             }
            },
            "type": "histogram"
           }
          ],
          "histogram2d": [
           {
            "colorbar": {
             "outlinewidth": 0,
             "ticks": ""
            },
            "colorscale": [
             [
              0,
              "#0d0887"
             ],
             [
              0.1111111111111111,
              "#46039f"
             ],
             [
              0.2222222222222222,
              "#7201a8"
             ],
             [
              0.3333333333333333,
              "#9c179e"
             ],
             [
              0.4444444444444444,
              "#bd3786"
             ],
             [
              0.5555555555555556,
              "#d8576b"
             ],
             [
              0.6666666666666666,
              "#ed7953"
             ],
             [
              0.7777777777777778,
              "#fb9f3a"
             ],
             [
              0.8888888888888888,
              "#fdca26"
             ],
             [
              1,
              "#f0f921"
             ]
            ],
            "type": "histogram2d"
           }
          ],
          "histogram2dcontour": [
           {
            "colorbar": {
             "outlinewidth": 0,
             "ticks": ""
            },
            "colorscale": [
             [
              0,
              "#0d0887"
             ],
             [
              0.1111111111111111,
              "#46039f"
             ],
             [
              0.2222222222222222,
              "#7201a8"
             ],
             [
              0.3333333333333333,
              "#9c179e"
             ],
             [
              0.4444444444444444,
              "#bd3786"
             ],
             [
              0.5555555555555556,
              "#d8576b"
             ],
             [
              0.6666666666666666,
              "#ed7953"
             ],
             [
              0.7777777777777778,
              "#fb9f3a"
             ],
             [
              0.8888888888888888,
              "#fdca26"
             ],
             [
              1,
              "#f0f921"
             ]
            ],
            "type": "histogram2dcontour"
           }
          ],
          "mesh3d": [
           {
            "colorbar": {
             "outlinewidth": 0,
             "ticks": ""
            },
            "type": "mesh3d"
           }
          ],
          "parcoords": [
           {
            "line": {
             "colorbar": {
              "outlinewidth": 0,
              "ticks": ""
             }
            },
            "type": "parcoords"
           }
          ],
          "pie": [
           {
            "automargin": true,
            "type": "pie"
           }
          ],
          "scatter": [
           {
            "marker": {
             "colorbar": {
              "outlinewidth": 0,
              "ticks": ""
             }
            },
            "type": "scatter"
           }
          ],
          "scatter3d": [
           {
            "line": {
             "colorbar": {
              "outlinewidth": 0,
              "ticks": ""
             }
            },
            "marker": {
             "colorbar": {
              "outlinewidth": 0,
              "ticks": ""
             }
            },
            "type": "scatter3d"
           }
          ],
          "scattercarpet": [
           {
            "marker": {
             "colorbar": {
              "outlinewidth": 0,
              "ticks": ""
             }
            },
            "type": "scattercarpet"
           }
          ],
          "scattergeo": [
           {
            "marker": {
             "colorbar": {
              "outlinewidth": 0,
              "ticks": ""
             }
            },
            "type": "scattergeo"
           }
          ],
          "scattergl": [
           {
            "marker": {
             "colorbar": {
              "outlinewidth": 0,
              "ticks": ""
             }
            },
            "type": "scattergl"
           }
          ],
          "scattermapbox": [
           {
            "marker": {
             "colorbar": {
              "outlinewidth": 0,
              "ticks": ""
             }
            },
            "type": "scattermapbox"
           }
          ],
          "scatterpolar": [
           {
            "marker": {
             "colorbar": {
              "outlinewidth": 0,
              "ticks": ""
             }
            },
            "type": "scatterpolar"
           }
          ],
          "scatterpolargl": [
           {
            "marker": {
             "colorbar": {
              "outlinewidth": 0,
              "ticks": ""
             }
            },
            "type": "scatterpolargl"
           }
          ],
          "scatterternary": [
           {
            "marker": {
             "colorbar": {
              "outlinewidth": 0,
              "ticks": ""
             }
            },
            "type": "scatterternary"
           }
          ],
          "surface": [
           {
            "colorbar": {
             "outlinewidth": 0,
             "ticks": ""
            },
            "colorscale": [
             [
              0,
              "#0d0887"
             ],
             [
              0.1111111111111111,
              "#46039f"
             ],
             [
              0.2222222222222222,
              "#7201a8"
             ],
             [
              0.3333333333333333,
              "#9c179e"
             ],
             [
              0.4444444444444444,
              "#bd3786"
             ],
             [
              0.5555555555555556,
              "#d8576b"
             ],
             [
              0.6666666666666666,
              "#ed7953"
             ],
             [
              0.7777777777777778,
              "#fb9f3a"
             ],
             [
              0.8888888888888888,
              "#fdca26"
             ],
             [
              1,
              "#f0f921"
             ]
            ],
            "type": "surface"
           }
          ],
          "table": [
           {
            "cells": {
             "fill": {
              "color": "#EBF0F8"
             },
             "line": {
              "color": "white"
             }
            },
            "header": {
             "fill": {
              "color": "#C8D4E3"
             },
             "line": {
              "color": "white"
             }
            },
            "type": "table"
           }
          ]
         },
         "layout": {
          "annotationdefaults": {
           "arrowcolor": "#2a3f5f",
           "arrowhead": 0,
           "arrowwidth": 1
          },
          "autotypenumbers": "strict",
          "coloraxis": {
           "colorbar": {
            "outlinewidth": 0,
            "ticks": ""
           }
          },
          "colorscale": {
           "diverging": [
            [
             0,
             "#8e0152"
            ],
            [
             0.1,
             "#c51b7d"
            ],
            [
             0.2,
             "#de77ae"
            ],
            [
             0.3,
             "#f1b6da"
            ],
            [
             0.4,
             "#fde0ef"
            ],
            [
             0.5,
             "#f7f7f7"
            ],
            [
             0.6,
             "#e6f5d0"
            ],
            [
             0.7,
             "#b8e186"
            ],
            [
             0.8,
             "#7fbc41"
            ],
            [
             0.9,
             "#4d9221"
            ],
            [
             1,
             "#276419"
            ]
           ],
           "sequential": [
            [
             0,
             "#0d0887"
            ],
            [
             0.1111111111111111,
             "#46039f"
            ],
            [
             0.2222222222222222,
             "#7201a8"
            ],
            [
             0.3333333333333333,
             "#9c179e"
            ],
            [
             0.4444444444444444,
             "#bd3786"
            ],
            [
             0.5555555555555556,
             "#d8576b"
            ],
            [
             0.6666666666666666,
             "#ed7953"
            ],
            [
             0.7777777777777778,
             "#fb9f3a"
            ],
            [
             0.8888888888888888,
             "#fdca26"
            ],
            [
             1,
             "#f0f921"
            ]
           ],
           "sequentialminus": [
            [
             0,
             "#0d0887"
            ],
            [
             0.1111111111111111,
             "#46039f"
            ],
            [
             0.2222222222222222,
             "#7201a8"
            ],
            [
             0.3333333333333333,
             "#9c179e"
            ],
            [
             0.4444444444444444,
             "#bd3786"
            ],
            [
             0.5555555555555556,
             "#d8576b"
            ],
            [
             0.6666666666666666,
             "#ed7953"
            ],
            [
             0.7777777777777778,
             "#fb9f3a"
            ],
            [
             0.8888888888888888,
             "#fdca26"
            ],
            [
             1,
             "#f0f921"
            ]
           ]
          },
          "colorway": [
           "#636efa",
           "#EF553B",
           "#00cc96",
           "#ab63fa",
           "#FFA15A",
           "#19d3f3",
           "#FF6692",
           "#B6E880",
           "#FF97FF",
           "#FECB52"
          ],
          "font": {
           "color": "#2a3f5f"
          },
          "geo": {
           "bgcolor": "white",
           "lakecolor": "white",
           "landcolor": "#E5ECF6",
           "showlakes": true,
           "showland": true,
           "subunitcolor": "white"
          },
          "hoverlabel": {
           "align": "left"
          },
          "hovermode": "closest",
          "mapbox": {
           "style": "light"
          },
          "paper_bgcolor": "white",
          "plot_bgcolor": "#E5ECF6",
          "polar": {
           "angularaxis": {
            "gridcolor": "white",
            "linecolor": "white",
            "ticks": ""
           },
           "bgcolor": "#E5ECF6",
           "radialaxis": {
            "gridcolor": "white",
            "linecolor": "white",
            "ticks": ""
           }
          },
          "scene": {
           "xaxis": {
            "backgroundcolor": "#E5ECF6",
            "gridcolor": "white",
            "gridwidth": 2,
            "linecolor": "white",
            "showbackground": true,
            "ticks": "",
            "zerolinecolor": "white"
           },
           "yaxis": {
            "backgroundcolor": "#E5ECF6",
            "gridcolor": "white",
            "gridwidth": 2,
            "linecolor": "white",
            "showbackground": true,
            "ticks": "",
            "zerolinecolor": "white"
           },
           "zaxis": {
            "backgroundcolor": "#E5ECF6",
            "gridcolor": "white",
            "gridwidth": 2,
            "linecolor": "white",
            "showbackground": true,
            "ticks": "",
            "zerolinecolor": "white"
           }
          },
          "shapedefaults": {
           "line": {
            "color": "#2a3f5f"
           }
          },
          "ternary": {
           "aaxis": {
            "gridcolor": "white",
            "linecolor": "white",
            "ticks": ""
           },
           "baxis": {
            "gridcolor": "white",
            "linecolor": "white",
            "ticks": ""
           },
           "bgcolor": "#E5ECF6",
           "caxis": {
            "gridcolor": "white",
            "linecolor": "white",
            "ticks": ""
           }
          },
          "title": {
           "x": 0.05
          },
          "xaxis": {
           "automargin": true,
           "gridcolor": "white",
           "linecolor": "white",
           "ticks": "",
           "title": {
            "standoff": 15
           },
           "zerolinecolor": "white",
           "zerolinewidth": 2
          },
          "yaxis": {
           "automargin": true,
           "gridcolor": "white",
           "linecolor": "white",
           "ticks": "",
           "title": {
            "standoff": 15
           },
           "zerolinecolor": "white",
           "zerolinewidth": 2
          }
         }
        },
        "title": {
         "text": "게임 출고량의 변화"
        },
        "width": 900
       }
      }
     },
     "metadata": {},
     "output_type": "display_data"
    }
   ],
   "source": [
    "# 회귀선 그리기\n",
    "df_80_94 = df.loc[df[\"Year\"]<1995][[\"Year\",\"Total_Sales\"]]\n",
    "df_95_08 = df.loc[(1994<df[\"Year\"])&(df[\"Year\"]<2009)][[\"Year\",\"Total_Sales\"]]\n",
    "df_09 = df.loc[2008<df[\"Year\"]][[\"Year\",\"Total_Sales\"]]\n",
    "fig = go.Figure()\n",
    "for i in [\"80_94\", \"95_08\", \"09\"]:\n",
    "  globals()[\"df_{}\".format(i)] = globals()[\"df_{}\".format(i)].groupby(\"Year\").sum().reset_index()\n",
    "  X = globals()[\"df_{}\".format(i)][\"Year\"]\n",
    "  y = globals()[\"df_{}\".format(i)][\"Total_Sales\"]\n",
    "  line_fitter = LinearRegression()\n",
    "  line_fitter.fit(X.values.reshape(-1,1), y)\n",
    "  line_fitter.predict(X.values.reshape(-1,1))\n",
    "  fig.add_trace(go.Scatter(x=X, \n",
    "                          y=line_fitter.predict(X.values.reshape(-1,1)),\n",
    "                        mode='lines+markers',\n",
    "                         name=i))\n",
    "df1 = df.groupby(\"Year\").sum()[['Total_Sales']]\n",
    "fig.add_trace(go.Scatter(x=df1.index, \n",
    "                         y=df1['Total_Sales'],\n",
    "                         mode='lines+markers',\n",
    "                         name=\"전체 판매량\"))\n",
    "fig.update_layout(\n",
    "    title = \"게임 출고량의 변화\",\n",
    "    autosize=False,\n",
    "    width=900,\n",
    "    height=450,)                         \n",
    "print(\"기울기의 변화는 다음과 같다: [3.731, 38.8503, -76.0429]\")\n",
    "fig.show()\n"
   ]
  },
  {
   "cell_type": "code",
   "execution_count": 13,
   "metadata": {},
   "outputs": [
    {
     "data": {
      "application/vnd.plotly.v1+json": {
       "config": {
        "plotlyServerURL": "https://plotly.com"
       },
       "data": [
        {
         "mode": "lines+markers",
         "name": "Action",
         "type": "scatter",
         "x": [
          1980,
          1981,
          1982,
          1983,
          1984,
          1985,
          1986,
          1987,
          1988,
          1989,
          1990,
          1991,
          1992,
          1993,
          1994,
          1995,
          1996,
          1997,
          1998,
          1999,
          2000,
          2001,
          2002,
          2003,
          2004,
          2005,
          2006,
          2007,
          2008,
          2009,
          2010,
          2011,
          2012,
          2013,
          2014,
          2015,
          2016
         ],
         "y": [
          0.03125000000000001,
          0.41451793721973096,
          0.2397155916708989,
          0.17023809523809524,
          0.03674280039721946,
          0.06489894307435565,
          0.3705501618122977,
          0.0511520737327189,
          0.03800786369593709,
          0.06209935897435897,
          0.12943082843832288,
          0.20974247595408002,
          0.05043341213553979,
          0.039356381822135245,
          0.03435916450376962,
          0.04063102939507434,
          0.10628138229792261,
          0.13651657595249878,
          0.15444605557079594,
          0.11085246427998074,
          0.15591397849462366,
          0.17608613194059464,
          0.21988479204202302,
          0.19047352199495657,
          0.19079974070250413,
          0.18940431359123586,
          0.1448928472028945,
          0.17415379559645086,
          0.20026315400422823,
          0.20764715596054822,
          0.1987651188361668,
          0.23129067245119303,
          0.33359111749433795,
          0.354070638803269,
          0.29372849175269966,
          0.2606653171905435,
          0.2800112850895754
         ]
        },
        {
         "mode": "lines+markers",
         "name": "Sports",
         "type": "scatter",
         "x": [
          1980,
          1981,
          1982,
          1983,
          1984,
          1985,
          1986,
          1987,
          1988,
          1989,
          1990,
          1991,
          1992,
          1993,
          1994,
          1995,
          1996,
          1997,
          1998,
          1999,
          2000,
          2001,
          2002,
          2003,
          2004,
          2005,
          2006,
          2007,
          2008,
          2009,
          2010,
          2011,
          2012,
          2013,
          2014,
          2015,
          2016
         ],
         "y": [
          null,
          0.021860986547085202,
          0.043930929405789736,
          0.19047619047619047,
          0.12254220456802382,
          0.036343408121639165,
          0.1504854368932039,
          0.17096774193548386,
          0.07863695937090433,
          0.07638888888888888,
          0.042738505165080015,
          0.07477505429723859,
          0.038744418177042286,
          0.06914546640574037,
          0.10394265232974911,
          0.09068210191805698,
          0.08673821010140789,
          0.14863928748144484,
          0.16361641258768664,
          0.12124739123454809,
          0.23232185164935304,
          0.1596883844425641,
          0.16573197655238917,
          0.15679462034183245,
          0.15106480036493722,
          0.13094830537487162,
          0.2576862417663976,
          0.1614196516595465,
          0.14080217619491137,
          0.20805248224820982,
          0.15566269136428995,
          0.11051286024171056,
          0.08534497044688726,
          0.11746740943924441,
          0.13836477987421383,
          0.15846159721956996,
          0.20637607561010016
         ]
        },
        {
         "mode": "lines+markers",
         "name": "Misc",
         "type": "scatter",
         "x": [
          1980,
          1981,
          1982,
          1983,
          1984,
          1985,
          1986,
          1987,
          1988,
          1989,
          1990,
          1991,
          1992,
          1993,
          1994,
          1995,
          1996,
          1997,
          1998,
          1999,
          2000,
          2001,
          2002,
          2003,
          2004,
          2005,
          2006,
          2007,
          2008,
          2009,
          2010,
          2011,
          2012,
          2013,
          2014,
          2015,
          2016
         ],
         "y": [
          0.2481617647058824,
          null,
          0.02209243270695785,
          0.12738095238095234,
          0.028798411122144985,
          null,
          null,
          null,
          null,
          0.017094017094017092,
          null,
          0.0024821594787465093,
          0.06488048332019962,
          0.006523157208088715,
          0.0353479174391299,
          0.0725229826353422,
          0.053165304715959434,
          0.028104898565066802,
          0.04640043892307089,
          0.08299887622411302,
          0.08205759066885367,
          0.051323199019636445,
          0.039663004034816145,
          0.06665732698234798,
          0.06338383232095268,
          0.13328055460458746,
          0.1350589108451619,
          0.14963851462372657,
          0.12740793305835219,
          0.11544293155990573,
          0.14953903408610336,
          0.10801440966842268,
          0.06333204441252832,
          0.07256171704889292,
          0.07039871840512639,
          0.0445327120650804,
          0.016222316264635352
         ]
        },
        {
         "mode": "lines+markers",
         "name": "Role-Playing",
         "type": "scatter",
         "x": [
          1980,
          1981,
          1982,
          1983,
          1984,
          1985,
          1986,
          1987,
          1988,
          1989,
          1990,
          1991,
          1992,
          1993,
          1994,
          1995,
          1996,
          1997,
          1998,
          1999,
          2000,
          2001,
          2002,
          2003,
          2004,
          2005,
          2006,
          2007,
          2008,
          2009,
          2010,
          2011,
          2012,
          2013,
          2014,
          2015,
          2016
         ],
         "y": [
          null,
          null,
          null,
          null,
          null,
          null,
          0.06796116504854369,
          0.2142857142857143,
          0.12844036697247707,
          0.02938034188034188,
          0.09155357504557424,
          0.10114799875892025,
          0.09009718938796953,
          0.12154816264405305,
          0.08812260536398468,
          0.16195664510271252,
          0.22019297036526533,
          0.10796635329045028,
          0.11008347376258965,
          0.18959704607481137,
          0.14115181337707308,
          0.06459895544597788,
          0.11442129570888421,
          0.08486971140375454,
          0.13029699166886752,
          0.0610022252653201,
          0.09611281194916041,
          0.07206703910614524,
          0.08824529501337947,
          0.07199795835647696,
          0.11936056838365898,
          0.10390842888131391,
          0.13193945754847264,
          0.08636145123434098,
          0.13611012222617777,
          0.13913608066302563,
          0.0957821977711948
         ]
        },
        {
         "mode": "lines+markers",
         "name": "Shooter",
         "type": "scatter",
         "x": [
          1980,
          1981,
          1982,
          1983,
          1984,
          1985,
          1986,
          1987,
          1988,
          1989,
          1990,
          1991,
          1992,
          1993,
          1994,
          1995,
          1996,
          1997,
          1998,
          1999,
          2000,
          2001,
          2002,
          2003,
          2004,
          2005,
          2006,
          2007,
          2008,
          2009,
          2010,
          2011,
          2012,
          2013,
          2014,
          2015,
          2016
         ],
         "y": [
          0.6498161764705882,
          0.28082959641255606,
          0.18588115794819704,
          0.029166666666666664,
          0.6176762661370406,
          0.018542555164101613,
          0.10490830636461705,
          0.03179723502304147,
          0.011140235910878113,
          0.015892094017094013,
          null,
          0.061743717033819416,
          0.003677436301549777,
          0.06697108066971079,
          0.10258311704362874,
          0.04710021563954149,
          0.04327065078271143,
          0.10964868876793667,
          0.03840576870321746,
          0.049084925349173227,
          0.03244031346819756,
          0.07650336999970823,
          0.12089222726926689,
          0.07593163351078733,
          0.1126503565340568,
          0.09164241698048613,
          0.07612951108637164,
          0.11646401577390735,
          0.0879791842225869,
          0.10484439974179215,
          0.13099890044827878,
          0.19255500464828013,
          0.20118212450974976,
          0.17738879619941747,
          0.19576955025513232,
          0.25253026773097054,
          0.2563125969812385
         ]
        },
        {
         "mode": "lines+markers",
         "name": "Adventure",
         "type": "scatter",
         "x": [
          1980,
          1981,
          1982,
          1983,
          1984,
          1985,
          1986,
          1987,
          1988,
          1989,
          1990,
          1991,
          1992,
          1993,
          1994,
          1995,
          1996,
          1997,
          1998,
          1999,
          2000,
          2001,
          2002,
          2003,
          2004,
          2005,
          2006,
          2007,
          2008,
          2009,
          2010,
          2011,
          2012,
          2013,
          2014,
          2015,
          2016
         ],
         "y": [
          null,
          null,
          0.033011681056373796,
          0.023809523809523808,
          null,
          null,
          null,
          0.20184331797235022,
          null,
          null,
          null,
          0.06950046540490226,
          0.16075650118203305,
          0.0015220700152207003,
          0.0482017055988135,
          0.008058109181704687,
          0.020576942010436153,
          0.024591786244433447,
          0.03542736215072305,
          0.03054262321399904,
          0.013486422453070895,
          0.03314562483587664,
          0.028091455832720075,
          0.005940039226674138,
          0.02062375453170392,
          0.01825145498117083,
          0.021504777808702105,
          0.04015773907328295,
          0.03682677665912686,
          0.03102997913320223,
          0.02803011080098114,
          0.030911062906724508,
          0.016295641606363587,
          0.0186918530667647,
          0.01806692773228907,
          0.030592369094450598,
          0.025250387924954154
         ]
        },
        {
         "mode": "lines+markers",
         "name": "Racing",
         "type": "scatter",
         "x": [
          1980,
          1981,
          1982,
          1983,
          1984,
          1985,
          1986,
          1987,
          1988,
          1989,
          1990,
          1991,
          1992,
          1993,
          1994,
          1995,
          1996,
          1997,
          1998,
          1999,
          2000,
          2001,
          2002,
          2003,
          2004,
          2005,
          2006,
          2007,
          2008,
          2009,
          2010,
          2011,
          2012,
          2013,
          2014,
          2015,
          2016
         ],
         "y": [
          null,
          0.013452914798206277,
          0.05485017775520569,
          null,
          0.11817279046673285,
          null,
          0.05285868392664509,
          null,
          0.04674530362603757,
          null,
          0.12659509823779624,
          0.035370772572137756,
          0.11885999474651955,
          0.007827788649706457,
          0.030651340996168588,
          0.06911814776983317,
          0.1382790193954908,
          0.15794161306284019,
          0.1049496414155269,
          0.14926151870284154,
          0.10051029706579188,
          0.1633647477606279,
          0.07650924962570102,
          0.14620341832446063,
          0.10962521908237496,
          0.12253937007874015,
          0.0648297615734298,
          0.06399934275386132,
          0.10456675684865689,
          0.05117619683845496,
          0.0590882178804026,
          0.06786488999070343,
          0.03985527260675026,
          0.03681814325707661,
          0.04957280170879317,
          0.03024863461024329,
          0.023557624488644378
         ]
        },
        {
         "mode": "lines+markers",
         "name": "Platform",
         "type": "scatter",
         "x": [
          1980,
          1981,
          1982,
          1983,
          1984,
          1985,
          1986,
          1987,
          1988,
          1989,
          1990,
          1991,
          1992,
          1993,
          1994,
          1995,
          1996,
          1997,
          1998,
          1999,
          2000,
          2001,
          2002,
          2003,
          2004,
          2005,
          2006,
          2007,
          2008,
          2009,
          2010,
          2011,
          2012,
          2013,
          2014,
          2015,
          2016
         ],
         "y": [
          null,
          0.19394618834080718,
          0.12772981208735398,
          0.4125,
          0.013704071499503475,
          0.8004821064342666,
          0.2532362459546926,
          0.08018433179723503,
          0.5744866754041066,
          0.2950053418803419,
          0.4654648572007292,
          0.23673596028544833,
          0.17612293144208038,
          0.40617525549032396,
          0.35545668026201954,
          0.18942231301781864,
          0.13896819927143841,
          0.1132607619990104,
          0.1169024571854058,
          0.08348049446139028,
          0.0749954437761983,
          0.11539695970589092,
          0.11660364909787602,
          0.11997758475763518,
          0.11373076276680032,
          0.04880605956864087,
          0.09230911958437703,
          0.058379888268156425,
          0.05270472050975,
          0.061474486962004415,
          0.054097944684090335,
          0.05446234893089556,
          0.05120698226813236,
          0.07094986285100247,
          0.02631422807642103,
          0.023106595882824738,
          0.02934123289603611
         ]
        },
        {
         "mode": "lines+markers",
         "name": "Simulation",
         "type": "scatter",
         "x": [
          1980,
          1981,
          1982,
          1983,
          1984,
          1985,
          1986,
          1987,
          1988,
          1989,
          1990,
          1991,
          1992,
          1993,
          1994,
          1995,
          1996,
          1997,
          1998,
          1999,
          2000,
          2001,
          2002,
          2003,
          2004,
          2005,
          2006,
          2007,
          2008,
          2009,
          2010,
          2011,
          2012,
          2013,
          2014,
          2015,
          2016
         ],
         "y": [
          null,
          0.012331838565022422,
          null,
          null,
          null,
          0.0007417022065640646,
          null,
          null,
          0.000655307994757536,
          null,
          0.02288839376139356,
          0.06670803599131245,
          0.028106120304701866,
          0.004131332898456186,
          0.03361759980224942,
          0.047327204630575416,
          0.055774342817761155,
          0.04769915883226126,
          0.027863777089783277,
          0.04599454165997753,
          0.01713140149444141,
          0.057012808916639915,
          0.027457050777780597,
          0.059428411319697394,
          0.02696213776379919,
          0.10617083190688122,
          0.04107987753966045,
          0.08026618468616496,
          0.06859744829319496,
          0.0508008947202498,
          0.0370464349149962,
          0.030601177564301207,
          0.036927581063912064,
          0.02454542883805107,
          0.016435267592262964,
          0.021426116182255664,
          0.005501481168006772
         ]
        },
        {
         "mode": "lines+markers",
         "name": "Fighting",
         "type": "scatter",
         "x": [
          1980,
          1981,
          1982,
          1983,
          1984,
          1985,
          1986,
          1987,
          1988,
          1989,
          1990,
          1991,
          1992,
          1993,
          1994,
          1995,
          1996,
          1997,
          1998,
          1999,
          2000,
          2001,
          2002,
          2003,
          2004,
          2005,
          2006,
          2007,
          2008,
          2009,
          2010,
          2011,
          2012,
          2013,
          2014,
          2015,
          2016
         ],
         "y": [
          0.07077205882352942,
          null,
          0.011934992381919755,
          null,
          null,
          0.019469682922306695,
          null,
          0.24976958525345622,
          null,
          null,
          null,
          0.012100527458889232,
          0.20002626740215393,
          0.1902587519025875,
          0.10468421703126933,
          0.16842583134717967,
          0.08944570247120213,
          0.05838693715982188,
          0.12415252576713565,
          0.05743297479531225,
          0.09322033898305085,
          0.05494120736439762,
          0.06323749587636715,
          0.06665732698234798,
          0.04045521115939594,
          0.0421088668264293,
          0.0418591706095185,
          0.02896812356227407,
          0.05234990612202658,
          0.048308888655367574,
          0.025171276325805635,
          0.04282228075612023,
          0.026321604154007625,
          0.020445097983768347,
          0.047911475020766585,
          0.029713936523698584,
          0.054309493581605306
         ]
        },
        {
         "mode": "lines+markers",
         "name": "Strategy",
         "type": "scatter",
         "x": [
          1980,
          1981,
          1982,
          1983,
          1984,
          1985,
          1986,
          1987,
          1988,
          1989,
          1990,
          1991,
          1992,
          1993,
          1994,
          1995,
          1996,
          1997,
          1998,
          1999,
          2000,
          2001,
          2002,
          2003,
          2004,
          2005,
          2006,
          2007,
          2008,
          2009,
          2010,
          2011,
          2012,
          2013,
          2014,
          2015,
          2016
         ],
         "y": [
          null,
          null,
          null,
          null,
          null,
          null,
          null,
          null,
          null,
          null,
          null,
          0.02916537387527148,
          0.004728132387706856,
          0.01761252446183953,
          0.04412309974045236,
          0.0742254000680967,
          0.02801023924387122,
          0.038198911429985154,
          0.05286671630677587,
          0.0741290736875903,
          0.039320211408784396,
          0.02199982493508009,
          0.013982287410866089,
          0.022275147100028016,
          0.019159203860651605,
          0.01219616569667922,
          0.008182577233509602,
          0.015412421952021032,
          0.017297201401516832,
          0.018780117994985964,
          0.02337816121119851,
          0.01717926867059188,
          0.009197370601557753,
          0.017871786895908154,
          0.0028776551560460426,
          0.00695107512508116,
          0.007335308224009028
         ]
        },
        {
         "mode": "lines+markers",
         "name": "Puzzle",
         "type": "scatter",
         "x": [
          1980,
          1981,
          1982,
          1983,
          1984,
          1985,
          1986,
          1987,
          1988,
          1989,
          1990,
          1991,
          1992,
          1993,
          1994,
          1995,
          1996,
          1997,
          1998,
          1999,
          2000,
          2001,
          2002,
          2003,
          2004,
          2005,
          2006,
          2007,
          2008,
          2009,
          2010,
          2011,
          2012,
          2013,
          2014,
          2015,
          2016
         ],
         "y": [
          null,
          0.06306053811659193,
          0.2808532249873032,
          0.04642857142857143,
          0.06236345580933466,
          0.05952160207676618,
          null,
          null,
          0.12188728702490172,
          0.5041399572649572,
          0.12132874215110392,
          0.10052745888923363,
          0.06356711321250329,
          0.06892802783213742,
          0.018909899888765295,
          0.030530019294064237,
          0.01929703652653342,
          0.029045027214250372,
          0.024885370537288867,
          0.005378070316262643,
          0.017450337160561328,
          0.025938785633005574,
          0.013525515771309666,
          0.0047912580554777245,
          0.021247989243955726,
          0.04364943512495721,
          0.0203543928008164,
          0.0390732829444627,
          0.02295944767226978,
          0.03044450782880219,
          0.018861541064027744,
          0.009877595289742793,
          0.004805833287300447,
          0.002827814382263948,
          0.004449982200071201,
          0.0026352977122560445,
          null
         ]
        }
       ],
       "layout": {
        "autosize": false,
        "height": 450,
        "template": {
         "data": {
          "bar": [
           {
            "error_x": {
             "color": "#2a3f5f"
            },
            "error_y": {
             "color": "#2a3f5f"
            },
            "marker": {
             "line": {
              "color": "#E5ECF6",
              "width": 0.5
             },
             "pattern": {
              "fillmode": "overlay",
              "size": 10,
              "solidity": 0.2
             }
            },
            "type": "bar"
           }
          ],
          "barpolar": [
           {
            "marker": {
             "line": {
              "color": "#E5ECF6",
              "width": 0.5
             },
             "pattern": {
              "fillmode": "overlay",
              "size": 10,
              "solidity": 0.2
             }
            },
            "type": "barpolar"
           }
          ],
          "carpet": [
           {
            "aaxis": {
             "endlinecolor": "#2a3f5f",
             "gridcolor": "white",
             "linecolor": "white",
             "minorgridcolor": "white",
             "startlinecolor": "#2a3f5f"
            },
            "baxis": {
             "endlinecolor": "#2a3f5f",
             "gridcolor": "white",
             "linecolor": "white",
             "minorgridcolor": "white",
             "startlinecolor": "#2a3f5f"
            },
            "type": "carpet"
           }
          ],
          "choropleth": [
           {
            "colorbar": {
             "outlinewidth": 0,
             "ticks": ""
            },
            "type": "choropleth"
           }
          ],
          "contour": [
           {
            "colorbar": {
             "outlinewidth": 0,
             "ticks": ""
            },
            "colorscale": [
             [
              0,
              "#0d0887"
             ],
             [
              0.1111111111111111,
              "#46039f"
             ],
             [
              0.2222222222222222,
              "#7201a8"
             ],
             [
              0.3333333333333333,
              "#9c179e"
             ],
             [
              0.4444444444444444,
              "#bd3786"
             ],
             [
              0.5555555555555556,
              "#d8576b"
             ],
             [
              0.6666666666666666,
              "#ed7953"
             ],
             [
              0.7777777777777778,
              "#fb9f3a"
             ],
             [
              0.8888888888888888,
              "#fdca26"
             ],
             [
              1,
              "#f0f921"
             ]
            ],
            "type": "contour"
           }
          ],
          "contourcarpet": [
           {
            "colorbar": {
             "outlinewidth": 0,
             "ticks": ""
            },
            "type": "contourcarpet"
           }
          ],
          "heatmap": [
           {
            "colorbar": {
             "outlinewidth": 0,
             "ticks": ""
            },
            "colorscale": [
             [
              0,
              "#0d0887"
             ],
             [
              0.1111111111111111,
              "#46039f"
             ],
             [
              0.2222222222222222,
              "#7201a8"
             ],
             [
              0.3333333333333333,
              "#9c179e"
             ],
             [
              0.4444444444444444,
              "#bd3786"
             ],
             [
              0.5555555555555556,
              "#d8576b"
             ],
             [
              0.6666666666666666,
              "#ed7953"
             ],
             [
              0.7777777777777778,
              "#fb9f3a"
             ],
             [
              0.8888888888888888,
              "#fdca26"
             ],
             [
              1,
              "#f0f921"
             ]
            ],
            "type": "heatmap"
           }
          ],
          "heatmapgl": [
           {
            "colorbar": {
             "outlinewidth": 0,
             "ticks": ""
            },
            "colorscale": [
             [
              0,
              "#0d0887"
             ],
             [
              0.1111111111111111,
              "#46039f"
             ],
             [
              0.2222222222222222,
              "#7201a8"
             ],
             [
              0.3333333333333333,
              "#9c179e"
             ],
             [
              0.4444444444444444,
              "#bd3786"
             ],
             [
              0.5555555555555556,
              "#d8576b"
             ],
             [
              0.6666666666666666,
              "#ed7953"
             ],
             [
              0.7777777777777778,
              "#fb9f3a"
             ],
             [
              0.8888888888888888,
              "#fdca26"
             ],
             [
              1,
              "#f0f921"
             ]
            ],
            "type": "heatmapgl"
           }
          ],
          "histogram": [
           {
            "marker": {
             "pattern": {
              "fillmode": "overlay",
              "size": 10,
              "solidity": 0.2
             }
            },
            "type": "histogram"
           }
          ],
          "histogram2d": [
           {
            "colorbar": {
             "outlinewidth": 0,
             "ticks": ""
            },
            "colorscale": [
             [
              0,
              "#0d0887"
             ],
             [
              0.1111111111111111,
              "#46039f"
             ],
             [
              0.2222222222222222,
              "#7201a8"
             ],
             [
              0.3333333333333333,
              "#9c179e"
             ],
             [
              0.4444444444444444,
              "#bd3786"
             ],
             [
              0.5555555555555556,
              "#d8576b"
             ],
             [
              0.6666666666666666,
              "#ed7953"
             ],
             [
              0.7777777777777778,
              "#fb9f3a"
             ],
             [
              0.8888888888888888,
              "#fdca26"
             ],
             [
              1,
              "#f0f921"
             ]
            ],
            "type": "histogram2d"
           }
          ],
          "histogram2dcontour": [
           {
            "colorbar": {
             "outlinewidth": 0,
             "ticks": ""
            },
            "colorscale": [
             [
              0,
              "#0d0887"
             ],
             [
              0.1111111111111111,
              "#46039f"
             ],
             [
              0.2222222222222222,
              "#7201a8"
             ],
             [
              0.3333333333333333,
              "#9c179e"
             ],
             [
              0.4444444444444444,
              "#bd3786"
             ],
             [
              0.5555555555555556,
              "#d8576b"
             ],
             [
              0.6666666666666666,
              "#ed7953"
             ],
             [
              0.7777777777777778,
              "#fb9f3a"
             ],
             [
              0.8888888888888888,
              "#fdca26"
             ],
             [
              1,
              "#f0f921"
             ]
            ],
            "type": "histogram2dcontour"
           }
          ],
          "mesh3d": [
           {
            "colorbar": {
             "outlinewidth": 0,
             "ticks": ""
            },
            "type": "mesh3d"
           }
          ],
          "parcoords": [
           {
            "line": {
             "colorbar": {
              "outlinewidth": 0,
              "ticks": ""
             }
            },
            "type": "parcoords"
           }
          ],
          "pie": [
           {
            "automargin": true,
            "type": "pie"
           }
          ],
          "scatter": [
           {
            "marker": {
             "colorbar": {
              "outlinewidth": 0,
              "ticks": ""
             }
            },
            "type": "scatter"
           }
          ],
          "scatter3d": [
           {
            "line": {
             "colorbar": {
              "outlinewidth": 0,
              "ticks": ""
             }
            },
            "marker": {
             "colorbar": {
              "outlinewidth": 0,
              "ticks": ""
             }
            },
            "type": "scatter3d"
           }
          ],
          "scattercarpet": [
           {
            "marker": {
             "colorbar": {
              "outlinewidth": 0,
              "ticks": ""
             }
            },
            "type": "scattercarpet"
           }
          ],
          "scattergeo": [
           {
            "marker": {
             "colorbar": {
              "outlinewidth": 0,
              "ticks": ""
             }
            },
            "type": "scattergeo"
           }
          ],
          "scattergl": [
           {
            "marker": {
             "colorbar": {
              "outlinewidth": 0,
              "ticks": ""
             }
            },
            "type": "scattergl"
           }
          ],
          "scattermapbox": [
           {
            "marker": {
             "colorbar": {
              "outlinewidth": 0,
              "ticks": ""
             }
            },
            "type": "scattermapbox"
           }
          ],
          "scatterpolar": [
           {
            "marker": {
             "colorbar": {
              "outlinewidth": 0,
              "ticks": ""
             }
            },
            "type": "scatterpolar"
           }
          ],
          "scatterpolargl": [
           {
            "marker": {
             "colorbar": {
              "outlinewidth": 0,
              "ticks": ""
             }
            },
            "type": "scatterpolargl"
           }
          ],
          "scatterternary": [
           {
            "marker": {
             "colorbar": {
              "outlinewidth": 0,
              "ticks": ""
             }
            },
            "type": "scatterternary"
           }
          ],
          "surface": [
           {
            "colorbar": {
             "outlinewidth": 0,
             "ticks": ""
            },
            "colorscale": [
             [
              0,
              "#0d0887"
             ],
             [
              0.1111111111111111,
              "#46039f"
             ],
             [
              0.2222222222222222,
              "#7201a8"
             ],
             [
              0.3333333333333333,
              "#9c179e"
             ],
             [
              0.4444444444444444,
              "#bd3786"
             ],
             [
              0.5555555555555556,
              "#d8576b"
             ],
             [
              0.6666666666666666,
              "#ed7953"
             ],
             [
              0.7777777777777778,
              "#fb9f3a"
             ],
             [
              0.8888888888888888,
              "#fdca26"
             ],
             [
              1,
              "#f0f921"
             ]
            ],
            "type": "surface"
           }
          ],
          "table": [
           {
            "cells": {
             "fill": {
              "color": "#EBF0F8"
             },
             "line": {
              "color": "white"
             }
            },
            "header": {
             "fill": {
              "color": "#C8D4E3"
             },
             "line": {
              "color": "white"
             }
            },
            "type": "table"
           }
          ]
         },
         "layout": {
          "annotationdefaults": {
           "arrowcolor": "#2a3f5f",
           "arrowhead": 0,
           "arrowwidth": 1
          },
          "autotypenumbers": "strict",
          "coloraxis": {
           "colorbar": {
            "outlinewidth": 0,
            "ticks": ""
           }
          },
          "colorscale": {
           "diverging": [
            [
             0,
             "#8e0152"
            ],
            [
             0.1,
             "#c51b7d"
            ],
            [
             0.2,
             "#de77ae"
            ],
            [
             0.3,
             "#f1b6da"
            ],
            [
             0.4,
             "#fde0ef"
            ],
            [
             0.5,
             "#f7f7f7"
            ],
            [
             0.6,
             "#e6f5d0"
            ],
            [
             0.7,
             "#b8e186"
            ],
            [
             0.8,
             "#7fbc41"
            ],
            [
             0.9,
             "#4d9221"
            ],
            [
             1,
             "#276419"
            ]
           ],
           "sequential": [
            [
             0,
             "#0d0887"
            ],
            [
             0.1111111111111111,
             "#46039f"
            ],
            [
             0.2222222222222222,
             "#7201a8"
            ],
            [
             0.3333333333333333,
             "#9c179e"
            ],
            [
             0.4444444444444444,
             "#bd3786"
            ],
            [
             0.5555555555555556,
             "#d8576b"
            ],
            [
             0.6666666666666666,
             "#ed7953"
            ],
            [
             0.7777777777777778,
             "#fb9f3a"
            ],
            [
             0.8888888888888888,
             "#fdca26"
            ],
            [
             1,
             "#f0f921"
            ]
           ],
           "sequentialminus": [
            [
             0,
             "#0d0887"
            ],
            [
             0.1111111111111111,
             "#46039f"
            ],
            [
             0.2222222222222222,
             "#7201a8"
            ],
            [
             0.3333333333333333,
             "#9c179e"
            ],
            [
             0.4444444444444444,
             "#bd3786"
            ],
            [
             0.5555555555555556,
             "#d8576b"
            ],
            [
             0.6666666666666666,
             "#ed7953"
            ],
            [
             0.7777777777777778,
             "#fb9f3a"
            ],
            [
             0.8888888888888888,
             "#fdca26"
            ],
            [
             1,
             "#f0f921"
            ]
           ]
          },
          "colorway": [
           "#636efa",
           "#EF553B",
           "#00cc96",
           "#ab63fa",
           "#FFA15A",
           "#19d3f3",
           "#FF6692",
           "#B6E880",
           "#FF97FF",
           "#FECB52"
          ],
          "font": {
           "color": "#2a3f5f"
          },
          "geo": {
           "bgcolor": "white",
           "lakecolor": "white",
           "landcolor": "#E5ECF6",
           "showlakes": true,
           "showland": true,
           "subunitcolor": "white"
          },
          "hoverlabel": {
           "align": "left"
          },
          "hovermode": "closest",
          "mapbox": {
           "style": "light"
          },
          "paper_bgcolor": "white",
          "plot_bgcolor": "#E5ECF6",
          "polar": {
           "angularaxis": {
            "gridcolor": "white",
            "linecolor": "white",
            "ticks": ""
           },
           "bgcolor": "#E5ECF6",
           "radialaxis": {
            "gridcolor": "white",
            "linecolor": "white",
            "ticks": ""
           }
          },
          "scene": {
           "xaxis": {
            "backgroundcolor": "#E5ECF6",
            "gridcolor": "white",
            "gridwidth": 2,
            "linecolor": "white",
            "showbackground": true,
            "ticks": "",
            "zerolinecolor": "white"
           },
           "yaxis": {
            "backgroundcolor": "#E5ECF6",
            "gridcolor": "white",
            "gridwidth": 2,
            "linecolor": "white",
            "showbackground": true,
            "ticks": "",
            "zerolinecolor": "white"
           },
           "zaxis": {
            "backgroundcolor": "#E5ECF6",
            "gridcolor": "white",
            "gridwidth": 2,
            "linecolor": "white",
            "showbackground": true,
            "ticks": "",
            "zerolinecolor": "white"
           }
          },
          "shapedefaults": {
           "line": {
            "color": "#2a3f5f"
           }
          },
          "ternary": {
           "aaxis": {
            "gridcolor": "white",
            "linecolor": "white",
            "ticks": ""
           },
           "baxis": {
            "gridcolor": "white",
            "linecolor": "white",
            "ticks": ""
           },
           "bgcolor": "#E5ECF6",
           "caxis": {
            "gridcolor": "white",
            "linecolor": "white",
            "ticks": ""
           }
          },
          "title": {
           "x": 0.05
          },
          "xaxis": {
           "automargin": true,
           "gridcolor": "white",
           "linecolor": "white",
           "ticks": "",
           "title": {
            "standoff": 15
           },
           "zerolinecolor": "white",
           "zerolinewidth": 2
          },
          "yaxis": {
           "automargin": true,
           "gridcolor": "white",
           "linecolor": "white",
           "ticks": "",
           "title": {
            "standoff": 15
           },
           "zerolinecolor": "white",
           "zerolinewidth": 2
          }
         }
        },
        "title": {
         "text": "장르별 연도당 게임 출고량 비율"
        },
        "width": 1000
       }
      }
     },
     "metadata": {},
     "output_type": "display_data"
    }
   ],
   "source": [
    "# 장르별 연도에 따른 출고량의 변화\n",
    "fig = go.Figure()\n",
    "for i in list(df[\"Genre\"].value_counts().index):\n",
    "    df1 = (df.loc[df[\"Genre\"]==i].\n",
    "            groupby(\"Year\").\n",
    "            sum()[\"Total_Sales\"]/\n",
    "            df.groupby(\"Year\").\n",
    "            sum()[\"Total_Sales\"])\n",
    "    fig.add_trace(go.Scatter(x=df1.index, \n",
    "                             y=df1,#[\"Total_Sales\"],\n",
    "                             mode='lines+markers', # Line plot만 그리기\n",
    "                             name=i))                                                          \n",
    "fig.update_layout(\n",
    "    autosize=False,\n",
    "    title = \"장르별 연도당 게임 출고량 비율\",\n",
    "    width=1000,\n",
    "    height=450,)\n",
    "fig.show()"
   ]
  },
  {
   "cell_type": "code",
   "execution_count": 14,
   "metadata": {},
   "outputs": [
    {
     "data": {
      "application/vnd.plotly.v1+json": {
       "config": {
        "plotlyServerURL": "https://plotly.com"
       },
       "data": [
        {
         "mode": "lines+markers",
         "name": "전체 출고량",
         "type": "scatter",
         "x": [
          1980,
          1981,
          1982,
          1983,
          1984,
          1985,
          1986,
          1987,
          1988,
          1989,
          1990,
          1991,
          1992,
          1993,
          1994,
          1995,
          1996,
          1997,
          1998,
          1999,
          2000,
          2001,
          2002,
          2003,
          2004,
          2005,
          2006,
          2007,
          2008,
          2009,
          2010,
          2011,
          2012,
          2013,
          2014,
          2015,
          2016
         ],
         "y": [
          10.879999999999999,
          35.68,
          39.38,
          16.8,
          50.35,
          53.93,
          37.08,
          21.7,
          45.78,
          74.88000000000001,
          49.37,
          32.230000000000004,
          76.14,
          45.99,
          80.91,
          88.11,
          203.14000000000001,
          202.1,
          255.17000000000002,
          249.16,
          219.48,
          342.73,
          394.07,
          356.90000000000003,
          416.51,
          467.36,
          538.95,
          608.6,
          676.41,
          666.13,
          591.15,
          516.32,
          362.06,
          353.63,
          337.08,
          261.83,
          70.89
         ]
        },
        {
         "mode": "lines+markers",
         "name": "DS",
         "type": "scatter",
         "x": [
          2004,
          2005,
          2006,
          2007,
          2008,
          2009,
          2010,
          2011,
          2012,
          2013,
          2014
         ],
         "y": [
          20.71,
          131.15,
          121,
          149.02,
          147.12,
          122.16,
          88.02,
          27.76,
          11.55,
          1.96,
          0.02
         ]
        },
        {
         "mode": "lines+markers",
         "name": "PS2",
         "type": "scatter",
         "x": [
          2000,
          2001,
          2002,
          2003,
          2004,
          2005,
          2006,
          2007,
          2008,
          2009,
          2010,
          2011
         ],
         "y": [
          58.17,
          163.73,
          205.38,
          184.31,
          210.47,
          160.66,
          97.47,
          75.99,
          53.29,
          26.4,
          5.12,
          0.45
         ]
        },
        {
         "mode": "lines+markers",
         "name": "PS3",
         "type": "scatter",
         "x": [
          2006,
          2007,
          2008,
          2009,
          2010,
          2011,
          2012,
          2013,
          2014,
          2015,
          2016
         ],
         "y": [
          29.009999999999998,
          73.57000000000001,
          119.8,
          131.12,
          144.38,
          159.37,
          108.32000000000001,
          117.42,
          50.97,
          18.18,
          2.55
         ]
        },
        {
         "mode": "lines+markers",
         "name": "Wii",
         "type": "scatter",
         "x": [
          2006,
          2007,
          2008,
          2009,
          2010,
          2011,
          2012,
          2013,
          2014,
          2015
         ],
         "y": [
          154.35000000000002,
          154.6,
          173.98000000000002,
          210.26,
          123.29,
          62.02,
          22.78,
          9.38,
          4.43,
          1.56
         ]
        },
        {
         "mode": "lines+markers",
         "name": "X360",
         "type": "scatter",
         "x": [
          2005,
          2006,
          2007,
          2008,
          2009,
          2010,
          2011,
          2012,
          2013,
          2014,
          2015,
          2016
         ],
         "y": [
          18.55,
          51.94,
          95.65,
          135.66,
          120.89,
          170.95,
          144.54,
          100.82000000000001,
          89.56,
          36.42,
          13.02,
          0.83
         ]
        },
        {
         "mode": "lines+markers",
         "name": "PSP",
         "type": "scatter",
         "x": [
          2004,
          2005,
          2006,
          2007,
          2008,
          2009,
          2010,
          2011,
          2012,
          2013,
          2014,
          2015
         ],
         "y": [
          11.47,
          43.480000000000004,
          55.69,
          47.410000000000004,
          34.69,
          38.17,
          35.17,
          17.93,
          7.66,
          3.19,
          0.24,
          0.12
         ]
        },
        {
         "mode": "lines+markers",
         "name": "PS",
         "type": "scatter",
         "x": [
          1994,
          1995,
          1996,
          1997,
          1998,
          1999,
          2000,
          2001,
          2002,
          2003
         ],
         "y": [
          7.720000000000001,
          35.96,
          94.28,
          136.17000000000002,
          169.49,
          142.57,
          96.35,
          35.59,
          6.65,
          2.07
         ]
        },
        {
         "mode": "lines+markers",
         "name": "PC",
         "type": "scatter",
         "x": [
          1985,
          1988,
          1992,
          1994,
          1995,
          1996,
          1997,
          1998,
          1999,
          2000,
          2001,
          2002,
          2003,
          2004,
          2005,
          2006,
          2007,
          2008,
          2009,
          2010,
          2011,
          2012,
          2013,
          2014,
          2015,
          2016
         ],
         "y": [
          0.04,
          0.03,
          3.0100000000000002,
          12.86,
          4.21,
          14.32,
          11.27,
          3.2800000000000002,
          4.75,
          4.6499999999999995,
          5.5,
          8.57,
          8.91,
          10.39,
          4.4,
          2.91,
          9.33,
          11.65,
          17.13,
          24.22,
          35,
          23.5,
          12.799999999999999,
          13.33,
          8.030000000000001,
          2.6
         ]
        },
        {
         "mode": "lines+markers",
         "name": "XB",
         "type": "scatter",
         "x": [
          2001,
          2002,
          2003,
          2004,
          2005,
          2006,
          2007,
          2008
         ],
         "y": [
          29.42,
          47.18,
          55.040000000000006,
          61.980000000000004,
          49.080000000000005,
          10.040000000000001,
          0.55,
          0.18000000000000002
         ]
        },
        {
         "mode": "lines+markers",
         "name": "GBA",
         "type": "scatter",
         "x": [
          2001,
          2002,
          2003,
          2004,
          2005,
          2006,
          2007
         ],
         "y": [
          66.11,
          74.11,
          56.67,
          72.67,
          32.42,
          5.28,
          2.19
         ]
        },
        {
         "mode": "lines+markers",
         "name": "GC",
         "type": "scatter",
         "x": [
          2001,
          2002,
          2003,
          2004,
          2005,
          2006,
          2007
         ],
         "y": [
          28.54,
          51.81,
          49.900000000000006,
          28.82,
          27.62,
          11.26,
          0.27
         ]
        },
        {
         "mode": "lines+markers",
         "name": "3DS",
         "type": "scatter",
         "x": [
          2011,
          2012,
          2013,
          2014,
          2015,
          2016
         ],
         "y": [
          63.75,
          51.10000000000001,
          41.51,
          43.11,
          26.970000000000002,
          6.550000000000001
         ]
        },
        {
         "mode": "lines+markers",
         "name": "PSV",
         "type": "scatter",
         "x": [
          2011,
          2012,
          2013,
          2014,
          2015,
          2016
         ],
         "y": [
          5.5,
          18.54,
          12.63,
          14.75,
          7.07,
          3.37
         ]
        },
        {
         "mode": "lines+markers",
         "name": "PS4",
         "type": "scatter",
         "x": [
          2013,
          2014,
          2015,
          2016
         ],
         "y": [
          24.759999999999998,
          98.83,
          112.86,
          39.33
         ]
        },
        {
         "mode": "lines+markers",
         "name": "N64",
         "type": "scatter",
         "x": [
          1996,
          1997,
          1998,
          1999,
          2000,
          2001,
          2002
         ],
         "y": [
          34.77,
          39.5,
          48.08,
          57.87,
          33.879999999999995,
          3.25,
          0.08
         ]
        },
        {
         "mode": "lines+markers",
         "name": "SNES",
         "type": "scatter",
         "x": [
          1990,
          1991,
          1992,
          1993,
          1994,
          1995,
          1996,
          1997,
          1998,
          1999
         ],
         "y": [
          26.15,
          16.220000000000002,
          32.98,
          40.02,
          35.08,
          32.199999999999996,
          15.92,
          0.99,
          0.22000000000000003,
          0.26
         ]
        },
        {
         "mode": "lines+markers",
         "name": "XOne",
         "type": "scatter",
         "x": [
          2013,
          2014,
          2015,
          2016
         ],
         "y": [
          18.61,
          52.44,
          57.65,
          12.38
         ]
        },
        {
         "mode": "lines+markers",
         "name": "SAT",
         "type": "scatter",
         "x": [
          1994,
          1995,
          1996,
          1997,
          1998,
          1999
         ],
         "y": [
          3.6500000000000004,
          11.57,
          7.6899999999999995,
          6.77,
          3.8200000000000003,
          0.09
         ]
        },
        {
         "mode": "lines+markers",
         "name": "WiiU",
         "type": "scatter",
         "x": [
          2012,
          2013,
          2014,
          2015,
          2016
         ],
         "y": [
          17.79,
          21.810000000000002,
          22.54,
          16.37,
          3.28
         ]
        },
        {
         "mode": "lines+markers",
         "name": "2600",
         "type": "scatter",
         "x": [
          1980,
          1981,
          1982,
          1983,
          1984,
          1985,
          1986,
          1987,
          1988,
          1989
         ],
         "y": [
          10.879999999999999,
          35.68,
          39.38,
          5.84,
          0.27,
          0.44999999999999996,
          0.67,
          1.94,
          0.74,
          0.6300000000000001
         ]
        },
        {
         "mode": "lines+markers",
         "name": "GB",
         "type": "scatter",
         "x": [
          1989,
          1990,
          1991,
          1992,
          1994,
          1995,
          1996,
          1997,
          1998,
          1999,
          2000,
          2001
         ],
         "y": [
          66.4,
          4.89,
          5.57,
          25.49,
          12.18,
          3.5999999999999996,
          36.03,
          7.4,
          26.9,
          38,
          19.76,
          9.24
         ]
        },
        {
         "mode": "lines+markers",
         "name": "NES",
         "type": "scatter",
         "x": [
          1983,
          1984,
          1985,
          1986,
          1987,
          1988,
          1989,
          1990,
          1991,
          1992,
          1993,
          1994
         ],
         "y": [
          10.96,
          50.08,
          53.44,
          36.41,
          19.759999999999998,
          45.010000000000005,
          7.85,
          15.73,
          6.109999999999999,
          1.9800000000000002,
          3.61,
          0.11
         ]
        }
       ],
       "layout": {
        "autosize": false,
        "height": 450,
        "template": {
         "data": {
          "bar": [
           {
            "error_x": {
             "color": "#2a3f5f"
            },
            "error_y": {
             "color": "#2a3f5f"
            },
            "marker": {
             "line": {
              "color": "#E5ECF6",
              "width": 0.5
             },
             "pattern": {
              "fillmode": "overlay",
              "size": 10,
              "solidity": 0.2
             }
            },
            "type": "bar"
           }
          ],
          "barpolar": [
           {
            "marker": {
             "line": {
              "color": "#E5ECF6",
              "width": 0.5
             },
             "pattern": {
              "fillmode": "overlay",
              "size": 10,
              "solidity": 0.2
             }
            },
            "type": "barpolar"
           }
          ],
          "carpet": [
           {
            "aaxis": {
             "endlinecolor": "#2a3f5f",
             "gridcolor": "white",
             "linecolor": "white",
             "minorgridcolor": "white",
             "startlinecolor": "#2a3f5f"
            },
            "baxis": {
             "endlinecolor": "#2a3f5f",
             "gridcolor": "white",
             "linecolor": "white",
             "minorgridcolor": "white",
             "startlinecolor": "#2a3f5f"
            },
            "type": "carpet"
           }
          ],
          "choropleth": [
           {
            "colorbar": {
             "outlinewidth": 0,
             "ticks": ""
            },
            "type": "choropleth"
           }
          ],
          "contour": [
           {
            "colorbar": {
             "outlinewidth": 0,
             "ticks": ""
            },
            "colorscale": [
             [
              0,
              "#0d0887"
             ],
             [
              0.1111111111111111,
              "#46039f"
             ],
             [
              0.2222222222222222,
              "#7201a8"
             ],
             [
              0.3333333333333333,
              "#9c179e"
             ],
             [
              0.4444444444444444,
              "#bd3786"
             ],
             [
              0.5555555555555556,
              "#d8576b"
             ],
             [
              0.6666666666666666,
              "#ed7953"
             ],
             [
              0.7777777777777778,
              "#fb9f3a"
             ],
             [
              0.8888888888888888,
              "#fdca26"
             ],
             [
              1,
              "#f0f921"
             ]
            ],
            "type": "contour"
           }
          ],
          "contourcarpet": [
           {
            "colorbar": {
             "outlinewidth": 0,
             "ticks": ""
            },
            "type": "contourcarpet"
           }
          ],
          "heatmap": [
           {
            "colorbar": {
             "outlinewidth": 0,
             "ticks": ""
            },
            "colorscale": [
             [
              0,
              "#0d0887"
             ],
             [
              0.1111111111111111,
              "#46039f"
             ],
             [
              0.2222222222222222,
              "#7201a8"
             ],
             [
              0.3333333333333333,
              "#9c179e"
             ],
             [
              0.4444444444444444,
              "#bd3786"
             ],
             [
              0.5555555555555556,
              "#d8576b"
             ],
             [
              0.6666666666666666,
              "#ed7953"
             ],
             [
              0.7777777777777778,
              "#fb9f3a"
             ],
             [
              0.8888888888888888,
              "#fdca26"
             ],
             [
              1,
              "#f0f921"
             ]
            ],
            "type": "heatmap"
           }
          ],
          "heatmapgl": [
           {
            "colorbar": {
             "outlinewidth": 0,
             "ticks": ""
            },
            "colorscale": [
             [
              0,
              "#0d0887"
             ],
             [
              0.1111111111111111,
              "#46039f"
             ],
             [
              0.2222222222222222,
              "#7201a8"
             ],
             [
              0.3333333333333333,
              "#9c179e"
             ],
             [
              0.4444444444444444,
              "#bd3786"
             ],
             [
              0.5555555555555556,
              "#d8576b"
             ],
             [
              0.6666666666666666,
              "#ed7953"
             ],
             [
              0.7777777777777778,
              "#fb9f3a"
             ],
             [
              0.8888888888888888,
              "#fdca26"
             ],
             [
              1,
              "#f0f921"
             ]
            ],
            "type": "heatmapgl"
           }
          ],
          "histogram": [
           {
            "marker": {
             "pattern": {
              "fillmode": "overlay",
              "size": 10,
              "solidity": 0.2
             }
            },
            "type": "histogram"
           }
          ],
          "histogram2d": [
           {
            "colorbar": {
             "outlinewidth": 0,
             "ticks": ""
            },
            "colorscale": [
             [
              0,
              "#0d0887"
             ],
             [
              0.1111111111111111,
              "#46039f"
             ],
             [
              0.2222222222222222,
              "#7201a8"
             ],
             [
              0.3333333333333333,
              "#9c179e"
             ],
             [
              0.4444444444444444,
              "#bd3786"
             ],
             [
              0.5555555555555556,
              "#d8576b"
             ],
             [
              0.6666666666666666,
              "#ed7953"
             ],
             [
              0.7777777777777778,
              "#fb9f3a"
             ],
             [
              0.8888888888888888,
              "#fdca26"
             ],
             [
              1,
              "#f0f921"
             ]
            ],
            "type": "histogram2d"
           }
          ],
          "histogram2dcontour": [
           {
            "colorbar": {
             "outlinewidth": 0,
             "ticks": ""
            },
            "colorscale": [
             [
              0,
              "#0d0887"
             ],
             [
              0.1111111111111111,
              "#46039f"
             ],
             [
              0.2222222222222222,
              "#7201a8"
             ],
             [
              0.3333333333333333,
              "#9c179e"
             ],
             [
              0.4444444444444444,
              "#bd3786"
             ],
             [
              0.5555555555555556,
              "#d8576b"
             ],
             [
              0.6666666666666666,
              "#ed7953"
             ],
             [
              0.7777777777777778,
              "#fb9f3a"
             ],
             [
              0.8888888888888888,
              "#fdca26"
             ],
             [
              1,
              "#f0f921"
             ]
            ],
            "type": "histogram2dcontour"
           }
          ],
          "mesh3d": [
           {
            "colorbar": {
             "outlinewidth": 0,
             "ticks": ""
            },
            "type": "mesh3d"
           }
          ],
          "parcoords": [
           {
            "line": {
             "colorbar": {
              "outlinewidth": 0,
              "ticks": ""
             }
            },
            "type": "parcoords"
           }
          ],
          "pie": [
           {
            "automargin": true,
            "type": "pie"
           }
          ],
          "scatter": [
           {
            "marker": {
             "colorbar": {
              "outlinewidth": 0,
              "ticks": ""
             }
            },
            "type": "scatter"
           }
          ],
          "scatter3d": [
           {
            "line": {
             "colorbar": {
              "outlinewidth": 0,
              "ticks": ""
             }
            },
            "marker": {
             "colorbar": {
              "outlinewidth": 0,
              "ticks": ""
             }
            },
            "type": "scatter3d"
           }
          ],
          "scattercarpet": [
           {
            "marker": {
             "colorbar": {
              "outlinewidth": 0,
              "ticks": ""
             }
            },
            "type": "scattercarpet"
           }
          ],
          "scattergeo": [
           {
            "marker": {
             "colorbar": {
              "outlinewidth": 0,
              "ticks": ""
             }
            },
            "type": "scattergeo"
           }
          ],
          "scattergl": [
           {
            "marker": {
             "colorbar": {
              "outlinewidth": 0,
              "ticks": ""
             }
            },
            "type": "scattergl"
           }
          ],
          "scattermapbox": [
           {
            "marker": {
             "colorbar": {
              "outlinewidth": 0,
              "ticks": ""
             }
            },
            "type": "scattermapbox"
           }
          ],
          "scatterpolar": [
           {
            "marker": {
             "colorbar": {
              "outlinewidth": 0,
              "ticks": ""
             }
            },
            "type": "scatterpolar"
           }
          ],
          "scatterpolargl": [
           {
            "marker": {
             "colorbar": {
              "outlinewidth": 0,
              "ticks": ""
             }
            },
            "type": "scatterpolargl"
           }
          ],
          "scatterternary": [
           {
            "marker": {
             "colorbar": {
              "outlinewidth": 0,
              "ticks": ""
             }
            },
            "type": "scatterternary"
           }
          ],
          "surface": [
           {
            "colorbar": {
             "outlinewidth": 0,
             "ticks": ""
            },
            "colorscale": [
             [
              0,
              "#0d0887"
             ],
             [
              0.1111111111111111,
              "#46039f"
             ],
             [
              0.2222222222222222,
              "#7201a8"
             ],
             [
              0.3333333333333333,
              "#9c179e"
             ],
             [
              0.4444444444444444,
              "#bd3786"
             ],
             [
              0.5555555555555556,
              "#d8576b"
             ],
             [
              0.6666666666666666,
              "#ed7953"
             ],
             [
              0.7777777777777778,
              "#fb9f3a"
             ],
             [
              0.8888888888888888,
              "#fdca26"
             ],
             [
              1,
              "#f0f921"
             ]
            ],
            "type": "surface"
           }
          ],
          "table": [
           {
            "cells": {
             "fill": {
              "color": "#EBF0F8"
             },
             "line": {
              "color": "white"
             }
            },
            "header": {
             "fill": {
              "color": "#C8D4E3"
             },
             "line": {
              "color": "white"
             }
            },
            "type": "table"
           }
          ]
         },
         "layout": {
          "annotationdefaults": {
           "arrowcolor": "#2a3f5f",
           "arrowhead": 0,
           "arrowwidth": 1
          },
          "autotypenumbers": "strict",
          "coloraxis": {
           "colorbar": {
            "outlinewidth": 0,
            "ticks": ""
           }
          },
          "colorscale": {
           "diverging": [
            [
             0,
             "#8e0152"
            ],
            [
             0.1,
             "#c51b7d"
            ],
            [
             0.2,
             "#de77ae"
            ],
            [
             0.3,
             "#f1b6da"
            ],
            [
             0.4,
             "#fde0ef"
            ],
            [
             0.5,
             "#f7f7f7"
            ],
            [
             0.6,
             "#e6f5d0"
            ],
            [
             0.7,
             "#b8e186"
            ],
            [
             0.8,
             "#7fbc41"
            ],
            [
             0.9,
             "#4d9221"
            ],
            [
             1,
             "#276419"
            ]
           ],
           "sequential": [
            [
             0,
             "#0d0887"
            ],
            [
             0.1111111111111111,
             "#46039f"
            ],
            [
             0.2222222222222222,
             "#7201a8"
            ],
            [
             0.3333333333333333,
             "#9c179e"
            ],
            [
             0.4444444444444444,
             "#bd3786"
            ],
            [
             0.5555555555555556,
             "#d8576b"
            ],
            [
             0.6666666666666666,
             "#ed7953"
            ],
            [
             0.7777777777777778,
             "#fb9f3a"
            ],
            [
             0.8888888888888888,
             "#fdca26"
            ],
            [
             1,
             "#f0f921"
            ]
           ],
           "sequentialminus": [
            [
             0,
             "#0d0887"
            ],
            [
             0.1111111111111111,
             "#46039f"
            ],
            [
             0.2222222222222222,
             "#7201a8"
            ],
            [
             0.3333333333333333,
             "#9c179e"
            ],
            [
             0.4444444444444444,
             "#bd3786"
            ],
            [
             0.5555555555555556,
             "#d8576b"
            ],
            [
             0.6666666666666666,
             "#ed7953"
            ],
            [
             0.7777777777777778,
             "#fb9f3a"
            ],
            [
             0.8888888888888888,
             "#fdca26"
            ],
            [
             1,
             "#f0f921"
            ]
           ]
          },
          "colorway": [
           "#636efa",
           "#EF553B",
           "#00cc96",
           "#ab63fa",
           "#FFA15A",
           "#19d3f3",
           "#FF6692",
           "#B6E880",
           "#FF97FF",
           "#FECB52"
          ],
          "font": {
           "color": "#2a3f5f"
          },
          "geo": {
           "bgcolor": "white",
           "lakecolor": "white",
           "landcolor": "#E5ECF6",
           "showlakes": true,
           "showland": true,
           "subunitcolor": "white"
          },
          "hoverlabel": {
           "align": "left"
          },
          "hovermode": "closest",
          "mapbox": {
           "style": "light"
          },
          "paper_bgcolor": "white",
          "plot_bgcolor": "#E5ECF6",
          "polar": {
           "angularaxis": {
            "gridcolor": "white",
            "linecolor": "white",
            "ticks": ""
           },
           "bgcolor": "#E5ECF6",
           "radialaxis": {
            "gridcolor": "white",
            "linecolor": "white",
            "ticks": ""
           }
          },
          "scene": {
           "xaxis": {
            "backgroundcolor": "#E5ECF6",
            "gridcolor": "white",
            "gridwidth": 2,
            "linecolor": "white",
            "showbackground": true,
            "ticks": "",
            "zerolinecolor": "white"
           },
           "yaxis": {
            "backgroundcolor": "#E5ECF6",
            "gridcolor": "white",
            "gridwidth": 2,
            "linecolor": "white",
            "showbackground": true,
            "ticks": "",
            "zerolinecolor": "white"
           },
           "zaxis": {
            "backgroundcolor": "#E5ECF6",
            "gridcolor": "white",
            "gridwidth": 2,
            "linecolor": "white",
            "showbackground": true,
            "ticks": "",
            "zerolinecolor": "white"
           }
          },
          "shapedefaults": {
           "line": {
            "color": "#2a3f5f"
           }
          },
          "ternary": {
           "aaxis": {
            "gridcolor": "white",
            "linecolor": "white",
            "ticks": ""
           },
           "baxis": {
            "gridcolor": "white",
            "linecolor": "white",
            "ticks": ""
           },
           "bgcolor": "#E5ECF6",
           "caxis": {
            "gridcolor": "white",
            "linecolor": "white",
            "ticks": ""
           }
          },
          "title": {
           "x": 0.05
          },
          "xaxis": {
           "automargin": true,
           "gridcolor": "white",
           "linecolor": "white",
           "ticks": "",
           "title": {
            "standoff": 15
           },
           "zerolinecolor": "white",
           "zerolinewidth": 2
          },
          "yaxis": {
           "automargin": true,
           "gridcolor": "white",
           "linecolor": "white",
           "ticks": "",
           "title": {
            "standoff": 15
           },
           "zerolinecolor": "white",
           "zerolinewidth": 2
          }
         }
        },
        "title": {
         "text": "플랫폼별 연도당 게임 출고량"
        },
        "width": 900
       }
      }
     },
     "metadata": {},
     "output_type": "display_data"
    }
   ],
   "source": [
    "# 플랫폼별 연도당 게임 출고량\n",
    "fig = go.Figure()\n",
    "df1 = df.groupby(\"Year\").sum()[['Total_Sales']]\n",
    "fig.add_trace(go.Scatter(x=df1.index, \n",
    "                         y=df1['Total_Sales'],\n",
    "                         mode='lines+markers',\n",
    "                         name=\"전체 출고량\"))\n",
    "for i in list(df[\"Platform\"].value_counts().index)[:-9]:                                                          \n",
    "    df1 = df.loc[df[\"Platform\"]==i].groupby(\"Year\").sum()\n",
    "    fig.add_trace(go.Scatter(x=df1.index, y=df1['Total_Sales'],\n",
    "                    mode='lines+markers', \n",
    "                    name=i))                                                                    \n",
    "fig.update_layout(\n",
    "    title = \"플랫폼별 연도당 게임 출고량\",\n",
    "    autosize=False,\n",
    "    width=900,\n",
    "    height=450,)\n",
    "fig.show()"
   ]
  },
  {
   "cell_type": "code",
   "execution_count": 15,
   "metadata": {},
   "outputs": [
    {
     "data": {
      "application/vnd.plotly.v1+json": {
       "config": {
        "plotlyServerURL": "https://plotly.com"
       },
       "data": [
        {
         "mode": "lines+markers",
         "name": "전체 출고량",
         "type": "scatter",
         "x": [
          1980,
          1981,
          1982,
          1983,
          1984,
          1985,
          1986,
          1987,
          1988,
          1989,
          1990,
          1991,
          1992,
          1993,
          1994,
          1995,
          1996,
          1997,
          1998,
          1999,
          2000,
          2001,
          2002,
          2003,
          2004,
          2005,
          2006,
          2007,
          2008,
          2009,
          2010,
          2011,
          2012,
          2013,
          2014,
          2015,
          2016
         ],
         "y": [
          10.879999999999999,
          35.68,
          39.38,
          16.8,
          50.35,
          53.93,
          37.08,
          21.7,
          45.78,
          74.88000000000001,
          49.37,
          32.230000000000004,
          76.14,
          45.99,
          80.91,
          88.11,
          203.14000000000001,
          202.1,
          255.17000000000002,
          249.16,
          219.48,
          342.73,
          394.07,
          356.90000000000003,
          416.51,
          467.36,
          538.95,
          608.6,
          676.41,
          666.13,
          591.15,
          516.32,
          362.06,
          353.63,
          337.08,
          261.83,
          70.89
         ]
        },
        {
         "mode": "lines+markers",
         "name": "Nintendo",
         "type": "scatter",
         "x": [
          1983,
          1984,
          1985,
          1986,
          1987,
          1988,
          1989,
          1990,
          1991,
          1992,
          1993,
          1994,
          1995,
          1996,
          1997,
          1998,
          1999,
          2000,
          2001,
          2002,
          2003,
          2004,
          2005,
          2006,
          2007,
          2008,
          2009,
          2010,
          2011,
          2012,
          2013,
          2014,
          2015,
          2016
         ],
         "y": [
          10.96,
          45.55,
          49.95,
          16.169999999999998,
          11.95,
          36.44,
          63.87,
          35.47,
          15.97,
          38.129999999999995,
          20.04,
          25,
          16.709999999999997,
          74.02000000000001,
          26.849999999999998,
          47.3,
          65.31,
          34.02,
          45.410000000000004,
          48.32,
          37.46,
          61.31,
          127.37,
          205.72,
          104.16,
          91.14000000000001,
          128.86,
          52.58,
          51.53,
          56.50000000000001,
          38.43,
          48.67,
          27.080000000000002,
          3.46
         ]
        },
        {
         "mode": "lines+markers",
         "name": "Electronic Arts",
         "type": "scatter",
         "x": [
          1992,
          1994,
          1995,
          1996,
          1997,
          1998,
          1999,
          2000,
          2001,
          2002,
          2003,
          2004,
          2005,
          2006,
          2007,
          2008,
          2009,
          2010,
          2011,
          2012,
          2013,
          2014,
          2015,
          2016
         ],
         "y": [
          0.060000000000000005,
          0.65,
          3.35,
          8.09,
          22.93,
          29.950000000000003,
          20.09,
          35,
          46.86,
          72.27,
          69.78,
          62.980000000000004,
          70.07000000000001,
          60.39,
          71.05,
          84,
          86.21,
          80.9,
          72.21,
          49.86,
          52.94,
          46.800000000000004,
          45.41,
          12.27
         ]
        },
        {
         "mode": "lines+markers",
         "name": "Activision",
         "type": "scatter",
         "x": [
          1980,
          1981,
          1982,
          1983,
          1984,
          1985,
          1987,
          1988,
          1989,
          1994,
          1995,
          1996,
          1997,
          1998,
          1999,
          2000,
          2001,
          2002,
          2003,
          2004,
          2005,
          2006,
          2007,
          2008,
          2009,
          2010,
          2011,
          2012,
          2013,
          2014,
          2015,
          2016
         ],
         "y": [
          2.5300000000000002,
          8.49,
          2.9400000000000004,
          1.9400000000000002,
          0.27,
          0.48999999999999994,
          1.11,
          0.74,
          0.48000000000000004,
          2.08,
          4.2,
          3.58,
          2.55,
          7.55,
          7.56,
          14.49,
          18.92,
          25.87,
          21.32,
          39.53,
          35.69,
          19.86,
          63.470000000000006,
          67.39,
          77.95,
          63.400000000000006,
          51.82,
          52.13,
          43.44,
          44.43,
          35.55,
          3.64
         ]
        },
        {
         "mode": "lines+markers",
         "name": "Sony Computer Entertainment",
         "type": "scatter",
         "x": [
          1994,
          1995,
          1996,
          1997,
          1998,
          1999,
          2000,
          2001,
          2002,
          2003,
          2004,
          2005,
          2006,
          2007,
          2008,
          2009,
          2010,
          2011,
          2012,
          2013,
          2014,
          2015,
          2016
         ],
         "y": [
          3.4200000000000004,
          18.490000000000002,
          35.07,
          43.92,
          34.61,
          36.24,
          21.71,
          43.300000000000004,
          25.81,
          24.34,
          35.12,
          25.7,
          34.02,
          37.56,
          26.02,
          36.56,
          34.85,
          27.41,
          12.84,
          12.61,
          19.02,
          8.61,
          6.569999999999999
         ]
        },
        {
         "mode": "lines+markers",
         "name": "Ubisoft",
         "type": "scatter",
         "x": [
          1995,
          1996,
          1997,
          1998,
          1999,
          2000,
          2001,
          2002,
          2003,
          2004,
          2005,
          2006,
          2007,
          2008,
          2009,
          2010,
          2011,
          2012,
          2013,
          2014,
          2015,
          2016
         ],
         "y": [
          3.0300000000000002,
          0.16,
          0.25,
          0.31,
          4.62,
          4.83,
          4.95,
          16.18,
          16.91,
          15.370000000000001,
          17.46,
          17.19,
          48.53,
          57.04,
          47.2,
          42.61,
          48.08,
          37.28,
          27.46,
          41.9,
          12.77,
          9.75
         ]
        },
        {
         "mode": "lines+markers",
         "name": "Take-Two Interactive",
         "type": "scatter",
         "x": [
          1996,
          1997,
          1998,
          1999,
          2000,
          2001,
          2002,
          2003,
          2004,
          2005,
          2006,
          2007,
          2008,
          2009,
          2010,
          2011,
          2012,
          2013,
          2014,
          2015,
          2016
         ],
         "y": [
          0.25,
          2.72,
          5.45,
          1.69,
          6.04,
          20.42,
          20.290000000000003,
          10.58,
          24.1,
          26.270000000000003,
          20.62,
          19.8,
          45.349999999999994,
          19.18,
          35.85,
          18.02,
          21.59,
          52.400000000000006,
          30.27,
          15.02,
          2.91
         ]
        },
        {
         "mode": "lines+markers",
         "name": "THQ",
         "type": "scatter",
         "x": [
          1995,
          1997,
          1998,
          1999,
          2000,
          2001,
          2002,
          2003,
          2004,
          2005,
          2006,
          2007,
          2008,
          2009,
          2010,
          2011,
          2012,
          2013
         ],
         "y": [
          0.62,
          1.9100000000000001,
          13.17,
          4.0200000000000005,
          15.85,
          22.27,
          26.830000000000002,
          29.36,
          28.79,
          22.26,
          25.2,
          33.09,
          30.4,
          30.93,
          22.05,
          26.71,
          6.69,
          0.36
         ]
        },
        {
         "mode": "lines+markers",
         "name": "Konami Digital Entertainment",
         "type": "scatter",
         "x": [
          1986,
          1987,
          1989,
          1990,
          1991,
          1992,
          1993,
          1994,
          1995,
          1996,
          1997,
          1998,
          1999,
          2000,
          2001,
          2002,
          2003,
          2004,
          2005,
          2006,
          2007,
          2008,
          2009,
          2010,
          2011,
          2012,
          2013,
          2014,
          2015,
          2016
         ],
         "y": [
          4.99,
          0.9299999999999999,
          0.8500000000000001,
          2.23,
          2.5599999999999996,
          0.26,
          0.45999999999999996,
          1.72,
          2.8,
          3.87,
          4.58,
          15.360000000000001,
          15.270000000000001,
          8.57,
          24.82,
          12.4,
          13.950000000000001,
          20.98,
          15.34,
          15.21,
          17.27,
          27.77,
          16.07,
          18.55,
          9.76,
          7.95,
          5.37,
          5.050000000000001,
          6.85,
          1.19
         ]
        },
        {
         "mode": "lines+markers",
         "name": "Sega",
         "type": "scatter",
         "x": [
          1982,
          1990,
          1991,
          1992,
          1993,
          1994,
          1995,
          1996,
          1997,
          1998,
          1999,
          2000,
          2001,
          2002,
          2003,
          2004,
          2005,
          2006,
          2007,
          2008,
          2009,
          2010,
          2011,
          2012,
          2013,
          2014,
          2015,
          2016
         ],
         "y": [
          0.39,
          2.6,
          4.33,
          7.960000000000001,
          1.9300000000000002,
          7.53,
          7.930000000000001,
          4.29,
          2.14,
          4.58,
          4.3500000000000005,
          3.8800000000000003,
          6.62,
          12.27,
          12.47,
          12.52,
          11.55,
          17.43,
          23.68,
          37.22,
          23.84,
          23,
          16.8,
          9.26,
          5.26,
          5.66,
          1.55,
          0.79
         ]
        },
        {
         "mode": "lines+markers",
         "name": "Namco Bandai Games",
         "type": "scatter",
         "x": [
          1984,
          1985,
          1986,
          1987,
          1988,
          1989,
          1990,
          1991,
          1992,
          1993,
          1994,
          1995,
          1996,
          1997,
          1998,
          1999,
          2000,
          2001,
          2002,
          2003,
          2004,
          2005,
          2006,
          2007,
          2008,
          2009,
          2010,
          2011,
          2012,
          2013,
          2014,
          2015,
          2016
         ],
         "y": [
          3.4299999999999997,
          1.46,
          5.279999999999999,
          2.67,
          2.43,
          1.1,
          0.63,
          1.03,
          1.04,
          5.38,
          1.7200000000000002,
          2.52,
          3.6999999999999997,
          6.3500000000000005,
          5.86,
          4.92,
          9.72,
          7.86,
          12.950000000000001,
          10.46,
          5.52,
          14.81,
          11.86,
          7.58,
          10.92,
          16.75,
          16.37,
          21.47,
          15.85,
          9.94,
          9.65,
          15.51,
          6.5
         ]
        },
        {
         "mode": "lines+markers",
         "name": "상위 10개 퍼블리셔의 연도당 게임 출고량",
         "type": "scatter",
         "x": [
          1980,
          1981,
          1982,
          1983,
          1984,
          1985,
          1986,
          1987,
          1988,
          1989,
          1990,
          1991,
          1992,
          1993,
          1994,
          1995,
          1996,
          1997,
          1998,
          1999,
          2000,
          2001,
          2002,
          2003,
          2004,
          2005,
          2006,
          2007,
          2008,
          2009,
          2010,
          2011,
          2012,
          2013,
          2014,
          2015,
          2016
         ],
         "y": [
          3.0300000000000002,
          8.49,
          3.33,
          12.9,
          49.25,
          51.9,
          26.97,
          16.66,
          39.61,
          66.3,
          40.93,
          25.740000000000002,
          48.279999999999994,
          41.51,
          42.120000000000005,
          59.65,
          132.5,
          115.58,
          168.61,
          164.07,
          144.08,
          245.51,
          274.04,
          247.34,
          308.04,
          362.36,
          419.94,
          426.74,
          479.24,
          484.78,
          399.15,
          344.7,
          271.09000000000003,
          262.56,
          251.45,
          170.76,
          47.08
         ]
        }
       ],
       "layout": {
        "autosize": false,
        "height": 450,
        "template": {
         "data": {
          "bar": [
           {
            "error_x": {
             "color": "#2a3f5f"
            },
            "error_y": {
             "color": "#2a3f5f"
            },
            "marker": {
             "line": {
              "color": "#E5ECF6",
              "width": 0.5
             },
             "pattern": {
              "fillmode": "overlay",
              "size": 10,
              "solidity": 0.2
             }
            },
            "type": "bar"
           }
          ],
          "barpolar": [
           {
            "marker": {
             "line": {
              "color": "#E5ECF6",
              "width": 0.5
             },
             "pattern": {
              "fillmode": "overlay",
              "size": 10,
              "solidity": 0.2
             }
            },
            "type": "barpolar"
           }
          ],
          "carpet": [
           {
            "aaxis": {
             "endlinecolor": "#2a3f5f",
             "gridcolor": "white",
             "linecolor": "white",
             "minorgridcolor": "white",
             "startlinecolor": "#2a3f5f"
            },
            "baxis": {
             "endlinecolor": "#2a3f5f",
             "gridcolor": "white",
             "linecolor": "white",
             "minorgridcolor": "white",
             "startlinecolor": "#2a3f5f"
            },
            "type": "carpet"
           }
          ],
          "choropleth": [
           {
            "colorbar": {
             "outlinewidth": 0,
             "ticks": ""
            },
            "type": "choropleth"
           }
          ],
          "contour": [
           {
            "colorbar": {
             "outlinewidth": 0,
             "ticks": ""
            },
            "colorscale": [
             [
              0,
              "#0d0887"
             ],
             [
              0.1111111111111111,
              "#46039f"
             ],
             [
              0.2222222222222222,
              "#7201a8"
             ],
             [
              0.3333333333333333,
              "#9c179e"
             ],
             [
              0.4444444444444444,
              "#bd3786"
             ],
             [
              0.5555555555555556,
              "#d8576b"
             ],
             [
              0.6666666666666666,
              "#ed7953"
             ],
             [
              0.7777777777777778,
              "#fb9f3a"
             ],
             [
              0.8888888888888888,
              "#fdca26"
             ],
             [
              1,
              "#f0f921"
             ]
            ],
            "type": "contour"
           }
          ],
          "contourcarpet": [
           {
            "colorbar": {
             "outlinewidth": 0,
             "ticks": ""
            },
            "type": "contourcarpet"
           }
          ],
          "heatmap": [
           {
            "colorbar": {
             "outlinewidth": 0,
             "ticks": ""
            },
            "colorscale": [
             [
              0,
              "#0d0887"
             ],
             [
              0.1111111111111111,
              "#46039f"
             ],
             [
              0.2222222222222222,
              "#7201a8"
             ],
             [
              0.3333333333333333,
              "#9c179e"
             ],
             [
              0.4444444444444444,
              "#bd3786"
             ],
             [
              0.5555555555555556,
              "#d8576b"
             ],
             [
              0.6666666666666666,
              "#ed7953"
             ],
             [
              0.7777777777777778,
              "#fb9f3a"
             ],
             [
              0.8888888888888888,
              "#fdca26"
             ],
             [
              1,
              "#f0f921"
             ]
            ],
            "type": "heatmap"
           }
          ],
          "heatmapgl": [
           {
            "colorbar": {
             "outlinewidth": 0,
             "ticks": ""
            },
            "colorscale": [
             [
              0,
              "#0d0887"
             ],
             [
              0.1111111111111111,
              "#46039f"
             ],
             [
              0.2222222222222222,
              "#7201a8"
             ],
             [
              0.3333333333333333,
              "#9c179e"
             ],
             [
              0.4444444444444444,
              "#bd3786"
             ],
             [
              0.5555555555555556,
              "#d8576b"
             ],
             [
              0.6666666666666666,
              "#ed7953"
             ],
             [
              0.7777777777777778,
              "#fb9f3a"
             ],
             [
              0.8888888888888888,
              "#fdca26"
             ],
             [
              1,
              "#f0f921"
             ]
            ],
            "type": "heatmapgl"
           }
          ],
          "histogram": [
           {
            "marker": {
             "pattern": {
              "fillmode": "overlay",
              "size": 10,
              "solidity": 0.2
             }
            },
            "type": "histogram"
           }
          ],
          "histogram2d": [
           {
            "colorbar": {
             "outlinewidth": 0,
             "ticks": ""
            },
            "colorscale": [
             [
              0,
              "#0d0887"
             ],
             [
              0.1111111111111111,
              "#46039f"
             ],
             [
              0.2222222222222222,
              "#7201a8"
             ],
             [
              0.3333333333333333,
              "#9c179e"
             ],
             [
              0.4444444444444444,
              "#bd3786"
             ],
             [
              0.5555555555555556,
              "#d8576b"
             ],
             [
              0.6666666666666666,
              "#ed7953"
             ],
             [
              0.7777777777777778,
              "#fb9f3a"
             ],
             [
              0.8888888888888888,
              "#fdca26"
             ],
             [
              1,
              "#f0f921"
             ]
            ],
            "type": "histogram2d"
           }
          ],
          "histogram2dcontour": [
           {
            "colorbar": {
             "outlinewidth": 0,
             "ticks": ""
            },
            "colorscale": [
             [
              0,
              "#0d0887"
             ],
             [
              0.1111111111111111,
              "#46039f"
             ],
             [
              0.2222222222222222,
              "#7201a8"
             ],
             [
              0.3333333333333333,
              "#9c179e"
             ],
             [
              0.4444444444444444,
              "#bd3786"
             ],
             [
              0.5555555555555556,
              "#d8576b"
             ],
             [
              0.6666666666666666,
              "#ed7953"
             ],
             [
              0.7777777777777778,
              "#fb9f3a"
             ],
             [
              0.8888888888888888,
              "#fdca26"
             ],
             [
              1,
              "#f0f921"
             ]
            ],
            "type": "histogram2dcontour"
           }
          ],
          "mesh3d": [
           {
            "colorbar": {
             "outlinewidth": 0,
             "ticks": ""
            },
            "type": "mesh3d"
           }
          ],
          "parcoords": [
           {
            "line": {
             "colorbar": {
              "outlinewidth": 0,
              "ticks": ""
             }
            },
            "type": "parcoords"
           }
          ],
          "pie": [
           {
            "automargin": true,
            "type": "pie"
           }
          ],
          "scatter": [
           {
            "marker": {
             "colorbar": {
              "outlinewidth": 0,
              "ticks": ""
             }
            },
            "type": "scatter"
           }
          ],
          "scatter3d": [
           {
            "line": {
             "colorbar": {
              "outlinewidth": 0,
              "ticks": ""
             }
            },
            "marker": {
             "colorbar": {
              "outlinewidth": 0,
              "ticks": ""
             }
            },
            "type": "scatter3d"
           }
          ],
          "scattercarpet": [
           {
            "marker": {
             "colorbar": {
              "outlinewidth": 0,
              "ticks": ""
             }
            },
            "type": "scattercarpet"
           }
          ],
          "scattergeo": [
           {
            "marker": {
             "colorbar": {
              "outlinewidth": 0,
              "ticks": ""
             }
            },
            "type": "scattergeo"
           }
          ],
          "scattergl": [
           {
            "marker": {
             "colorbar": {
              "outlinewidth": 0,
              "ticks": ""
             }
            },
            "type": "scattergl"
           }
          ],
          "scattermapbox": [
           {
            "marker": {
             "colorbar": {
              "outlinewidth": 0,
              "ticks": ""
             }
            },
            "type": "scattermapbox"
           }
          ],
          "scatterpolar": [
           {
            "marker": {
             "colorbar": {
              "outlinewidth": 0,
              "ticks": ""
             }
            },
            "type": "scatterpolar"
           }
          ],
          "scatterpolargl": [
           {
            "marker": {
             "colorbar": {
              "outlinewidth": 0,
              "ticks": ""
             }
            },
            "type": "scatterpolargl"
           }
          ],
          "scatterternary": [
           {
            "marker": {
             "colorbar": {
              "outlinewidth": 0,
              "ticks": ""
             }
            },
            "type": "scatterternary"
           }
          ],
          "surface": [
           {
            "colorbar": {
             "outlinewidth": 0,
             "ticks": ""
            },
            "colorscale": [
             [
              0,
              "#0d0887"
             ],
             [
              0.1111111111111111,
              "#46039f"
             ],
             [
              0.2222222222222222,
              "#7201a8"
             ],
             [
              0.3333333333333333,
              "#9c179e"
             ],
             [
              0.4444444444444444,
              "#bd3786"
             ],
             [
              0.5555555555555556,
              "#d8576b"
             ],
             [
              0.6666666666666666,
              "#ed7953"
             ],
             [
              0.7777777777777778,
              "#fb9f3a"
             ],
             [
              0.8888888888888888,
              "#fdca26"
             ],
             [
              1,
              "#f0f921"
             ]
            ],
            "type": "surface"
           }
          ],
          "table": [
           {
            "cells": {
             "fill": {
              "color": "#EBF0F8"
             },
             "line": {
              "color": "white"
             }
            },
            "header": {
             "fill": {
              "color": "#C8D4E3"
             },
             "line": {
              "color": "white"
             }
            },
            "type": "table"
           }
          ]
         },
         "layout": {
          "annotationdefaults": {
           "arrowcolor": "#2a3f5f",
           "arrowhead": 0,
           "arrowwidth": 1
          },
          "autotypenumbers": "strict",
          "coloraxis": {
           "colorbar": {
            "outlinewidth": 0,
            "ticks": ""
           }
          },
          "colorscale": {
           "diverging": [
            [
             0,
             "#8e0152"
            ],
            [
             0.1,
             "#c51b7d"
            ],
            [
             0.2,
             "#de77ae"
            ],
            [
             0.3,
             "#f1b6da"
            ],
            [
             0.4,
             "#fde0ef"
            ],
            [
             0.5,
             "#f7f7f7"
            ],
            [
             0.6,
             "#e6f5d0"
            ],
            [
             0.7,
             "#b8e186"
            ],
            [
             0.8,
             "#7fbc41"
            ],
            [
             0.9,
             "#4d9221"
            ],
            [
             1,
             "#276419"
            ]
           ],
           "sequential": [
            [
             0,
             "#0d0887"
            ],
            [
             0.1111111111111111,
             "#46039f"
            ],
            [
             0.2222222222222222,
             "#7201a8"
            ],
            [
             0.3333333333333333,
             "#9c179e"
            ],
            [
             0.4444444444444444,
             "#bd3786"
            ],
            [
             0.5555555555555556,
             "#d8576b"
            ],
            [
             0.6666666666666666,
             "#ed7953"
            ],
            [
             0.7777777777777778,
             "#fb9f3a"
            ],
            [
             0.8888888888888888,
             "#fdca26"
            ],
            [
             1,
             "#f0f921"
            ]
           ],
           "sequentialminus": [
            [
             0,
             "#0d0887"
            ],
            [
             0.1111111111111111,
             "#46039f"
            ],
            [
             0.2222222222222222,
             "#7201a8"
            ],
            [
             0.3333333333333333,
             "#9c179e"
            ],
            [
             0.4444444444444444,
             "#bd3786"
            ],
            [
             0.5555555555555556,
             "#d8576b"
            ],
            [
             0.6666666666666666,
             "#ed7953"
            ],
            [
             0.7777777777777778,
             "#fb9f3a"
            ],
            [
             0.8888888888888888,
             "#fdca26"
            ],
            [
             1,
             "#f0f921"
            ]
           ]
          },
          "colorway": [
           "#636efa",
           "#EF553B",
           "#00cc96",
           "#ab63fa",
           "#FFA15A",
           "#19d3f3",
           "#FF6692",
           "#B6E880",
           "#FF97FF",
           "#FECB52"
          ],
          "font": {
           "color": "#2a3f5f"
          },
          "geo": {
           "bgcolor": "white",
           "lakecolor": "white",
           "landcolor": "#E5ECF6",
           "showlakes": true,
           "showland": true,
           "subunitcolor": "white"
          },
          "hoverlabel": {
           "align": "left"
          },
          "hovermode": "closest",
          "mapbox": {
           "style": "light"
          },
          "paper_bgcolor": "white",
          "plot_bgcolor": "#E5ECF6",
          "polar": {
           "angularaxis": {
            "gridcolor": "white",
            "linecolor": "white",
            "ticks": ""
           },
           "bgcolor": "#E5ECF6",
           "radialaxis": {
            "gridcolor": "white",
            "linecolor": "white",
            "ticks": ""
           }
          },
          "scene": {
           "xaxis": {
            "backgroundcolor": "#E5ECF6",
            "gridcolor": "white",
            "gridwidth": 2,
            "linecolor": "white",
            "showbackground": true,
            "ticks": "",
            "zerolinecolor": "white"
           },
           "yaxis": {
            "backgroundcolor": "#E5ECF6",
            "gridcolor": "white",
            "gridwidth": 2,
            "linecolor": "white",
            "showbackground": true,
            "ticks": "",
            "zerolinecolor": "white"
           },
           "zaxis": {
            "backgroundcolor": "#E5ECF6",
            "gridcolor": "white",
            "gridwidth": 2,
            "linecolor": "white",
            "showbackground": true,
            "ticks": "",
            "zerolinecolor": "white"
           }
          },
          "shapedefaults": {
           "line": {
            "color": "#2a3f5f"
           }
          },
          "ternary": {
           "aaxis": {
            "gridcolor": "white",
            "linecolor": "white",
            "ticks": ""
           },
           "baxis": {
            "gridcolor": "white",
            "linecolor": "white",
            "ticks": ""
           },
           "bgcolor": "#E5ECF6",
           "caxis": {
            "gridcolor": "white",
            "linecolor": "white",
            "ticks": ""
           }
          },
          "title": {
           "x": 0.05
          },
          "xaxis": {
           "automargin": true,
           "gridcolor": "white",
           "linecolor": "white",
           "ticks": "",
           "title": {
            "standoff": 15
           },
           "zerolinecolor": "white",
           "zerolinewidth": 2
          },
          "yaxis": {
           "automargin": true,
           "gridcolor": "white",
           "linecolor": "white",
           "ticks": "",
           "title": {
            "standoff": 15
           },
           "zerolinecolor": "white",
           "zerolinewidth": 2
          }
         }
        },
        "title": {
         "text": "퍼블리셔별 연도당 게임 출고량"
        },
        "width": 900
       }
      }
     },
     "metadata": {},
     "output_type": "display_data"
    }
   ],
   "source": [
    "# 퍼블리셔별 연도당 게임 출고량\n",
    "\n",
    "fig = go.Figure()\n",
    "\n",
    "df1 = (df.\n",
    "       groupby(\"Year\").\n",
    "       sum()[['Total_Sales']])\n",
    "\n",
    "fig.add_trace(go.Scatter(x=df1.index, y=df1['Total_Sales'],\n",
    "                    mode='lines+markers', \n",
    "                    name=\"전체 출고량\"))\n",
    "\n",
    "list_for_publish = list(df.\n",
    "                        groupby(\"Publisher\").\n",
    "                        sum().\n",
    "                        sort_values(by=\"Total_Sales\",\n",
    "                        ascending=False).\n",
    "                        iloc[:10,:].\n",
    "                        index)\n",
    "\n",
    "for i in list_for_publish :                                                          \n",
    "    df1 = (df.\n",
    "           loc[df[\"Publisher\"]==i].\n",
    "           groupby(\"Year\").\n",
    "           sum())\n",
    "    fig.add_trace(go.Scatter(x = df1.\n",
    "                                 index, \n",
    "                             y=df1['Total_Sales'],\n",
    "                             mode='lines+markers', \n",
    "                             name=i))     \n",
    "\n",
    "fig.add_trace(go.Scatter(x = df3.\n",
    "                             loc[df3[\"Publisher\"]==1].\n",
    "                             groupby(\"Year\").\n",
    "                             sum()[\"Total_Sales\"].\n",
    "                             index, \n",
    "                         y = df3.\n",
    "                             loc[df3[\"Publisher\"]==1].\n",
    "                             groupby(\"Year\").\n",
    "                             sum()[\"Total_Sales\"],\n",
    "                         mode='lines+markers', \n",
    "                         name=\"상위 10개 퍼블리셔의 연도당 게임 출고량\"))                                                                                   \n",
    "\n",
    "fig.update_layout(\n",
    "    title = \"퍼블리셔별 연도당 게임 출고량\",\n",
    "    autosize=False,\n",
    "    width=900,\n",
    "    height=450,)\n",
    "fig.show()             "
   ]
  },
  {
   "cell_type": "code",
   "execution_count": 16,
   "metadata": {},
   "outputs": [
    {
     "data": {
      "text/html": [
       "<div>\n",
       "<style scoped>\n",
       "    .dataframe tbody tr th:only-of-type {\n",
       "        vertical-align: middle;\n",
       "    }\n",
       "\n",
       "    .dataframe tbody tr th {\n",
       "        vertical-align: top;\n",
       "    }\n",
       "\n",
       "    .dataframe thead th {\n",
       "        text-align: right;\n",
       "    }\n",
       "</style>\n",
       "<table border=\"1\" class=\"dataframe\">\n",
       "  <thead>\n",
       "    <tr style=\"text-align: right;\">\n",
       "      <th></th>\n",
       "      <th>Name</th>\n",
       "      <th>Platform</th>\n",
       "      <th>Year</th>\n",
       "      <th>Genre</th>\n",
       "      <th>Publisher</th>\n",
       "      <th>NA_Sales</th>\n",
       "      <th>EU_Sales</th>\n",
       "      <th>JP_Sales</th>\n",
       "      <th>Other_Sales</th>\n",
       "      <th>Total_Sales</th>\n",
       "      <th>NA_ratio</th>\n",
       "      <th>EU_ratio</th>\n",
       "      <th>JP_ratio</th>\n",
       "      <th>Other_ratio</th>\n",
       "      <th>count</th>\n",
       "      <th>like</th>\n",
       "    </tr>\n",
       "  </thead>\n",
       "  <tbody>\n",
       "    <tr>\n",
       "      <th>20</th>\n",
       "      <td>Ty the Tasmanian Tiger</td>\n",
       "      <td>PS2</td>\n",
       "      <td>2002</td>\n",
       "      <td>Platform</td>\n",
       "      <td>Electronic Arts</td>\n",
       "      <td>0.57</td>\n",
       "      <td>0.45</td>\n",
       "      <td>0.00</td>\n",
       "      <td>0.15</td>\n",
       "      <td>1.17</td>\n",
       "      <td>0.487179</td>\n",
       "      <td>0.384615</td>\n",
       "      <td>0.000000</td>\n",
       "      <td>0.128205</td>\n",
       "      <td>1</td>\n",
       "      <td>NA</td>\n",
       "    </tr>\n",
       "    <tr>\n",
       "      <th>24</th>\n",
       "      <td>Injustice: Gods Among Us</td>\n",
       "      <td>PS3</td>\n",
       "      <td>2013</td>\n",
       "      <td>Fighting</td>\n",
       "      <td>Warner Bros. Interactive Entertainment</td>\n",
       "      <td>0.48</td>\n",
       "      <td>0.53</td>\n",
       "      <td>0.01</td>\n",
       "      <td>0.23</td>\n",
       "      <td>1.25</td>\n",
       "      <td>0.384000</td>\n",
       "      <td>0.424000</td>\n",
       "      <td>0.008000</td>\n",
       "      <td>0.184000</td>\n",
       "      <td>1</td>\n",
       "      <td>EU</td>\n",
       "    </tr>\n",
       "    <tr>\n",
       "      <th>31</th>\n",
       "      <td>Rock Band</td>\n",
       "      <td>X360</td>\n",
       "      <td>2005</td>\n",
       "      <td>Misc</td>\n",
       "      <td>Electronic Arts</td>\n",
       "      <td>1.93</td>\n",
       "      <td>0.34</td>\n",
       "      <td>0.00</td>\n",
       "      <td>0.21</td>\n",
       "      <td>2.48</td>\n",
       "      <td>0.778226</td>\n",
       "      <td>0.137097</td>\n",
       "      <td>0.000000</td>\n",
       "      <td>0.084677</td>\n",
       "      <td>1</td>\n",
       "      <td>NA</td>\n",
       "    </tr>\n",
       "    <tr>\n",
       "      <th>58</th>\n",
       "      <td>Bomberman</td>\n",
       "      <td>NES</td>\n",
       "      <td>1985</td>\n",
       "      <td>Puzzle</td>\n",
       "      <td>Hudson Soft</td>\n",
       "      <td>0.18</td>\n",
       "      <td>0.00</td>\n",
       "      <td>0.85</td>\n",
       "      <td>0.00</td>\n",
       "      <td>1.03</td>\n",
       "      <td>0.174757</td>\n",
       "      <td>0.000000</td>\n",
       "      <td>0.825243</td>\n",
       "      <td>0.000000</td>\n",
       "      <td>1</td>\n",
       "      <td>JP</td>\n",
       "    </tr>\n",
       "    <tr>\n",
       "      <th>65</th>\n",
       "      <td>Kirby: Mass Attack</td>\n",
       "      <td>DS</td>\n",
       "      <td>2011</td>\n",
       "      <td>Platform</td>\n",
       "      <td>Nintendo</td>\n",
       "      <td>0.52</td>\n",
       "      <td>0.06</td>\n",
       "      <td>0.41</td>\n",
       "      <td>0.05</td>\n",
       "      <td>1.04</td>\n",
       "      <td>0.500000</td>\n",
       "      <td>0.057692</td>\n",
       "      <td>0.394231</td>\n",
       "      <td>0.048077</td>\n",
       "      <td>1</td>\n",
       "      <td>NA</td>\n",
       "    </tr>\n",
       "    <tr>\n",
       "      <th>...</th>\n",
       "      <td>...</td>\n",
       "      <td>...</td>\n",
       "      <td>...</td>\n",
       "      <td>...</td>\n",
       "      <td>...</td>\n",
       "      <td>...</td>\n",
       "      <td>...</td>\n",
       "      <td>...</td>\n",
       "      <td>...</td>\n",
       "      <td>...</td>\n",
       "      <td>...</td>\n",
       "      <td>...</td>\n",
       "      <td>...</td>\n",
       "      <td>...</td>\n",
       "      <td>...</td>\n",
       "      <td>...</td>\n",
       "    </tr>\n",
       "    <tr>\n",
       "      <th>16455</th>\n",
       "      <td>Wall-E</td>\n",
       "      <td>Wii</td>\n",
       "      <td>2008</td>\n",
       "      <td>Platform</td>\n",
       "      <td>THQ</td>\n",
       "      <td>0.51</td>\n",
       "      <td>0.40</td>\n",
       "      <td>0.00</td>\n",
       "      <td>0.11</td>\n",
       "      <td>1.02</td>\n",
       "      <td>0.500000</td>\n",
       "      <td>0.392157</td>\n",
       "      <td>0.000000</td>\n",
       "      <td>0.107843</td>\n",
       "      <td>1</td>\n",
       "      <td>NA</td>\n",
       "    </tr>\n",
       "    <tr>\n",
       "      <th>16465</th>\n",
       "      <td>Finding Nemo</td>\n",
       "      <td>PS2</td>\n",
       "      <td>2003</td>\n",
       "      <td>Action</td>\n",
       "      <td>THQ</td>\n",
       "      <td>1.26</td>\n",
       "      <td>0.60</td>\n",
       "      <td>0.05</td>\n",
       "      <td>0.18</td>\n",
       "      <td>2.09</td>\n",
       "      <td>0.602871</td>\n",
       "      <td>0.287081</td>\n",
       "      <td>0.023923</td>\n",
       "      <td>0.086124</td>\n",
       "      <td>1</td>\n",
       "      <td>NA</td>\n",
       "    </tr>\n",
       "    <tr>\n",
       "      <th>16467</th>\n",
       "      <td>Grand Theft Auto V</td>\n",
       "      <td>PC</td>\n",
       "      <td>2015</td>\n",
       "      <td>Action</td>\n",
       "      <td>Take-Two Interactive</td>\n",
       "      <td>0.36</td>\n",
       "      <td>0.64</td>\n",
       "      <td>0.00</td>\n",
       "      <td>0.08</td>\n",
       "      <td>1.08</td>\n",
       "      <td>0.333333</td>\n",
       "      <td>0.592593</td>\n",
       "      <td>0.000000</td>\n",
       "      <td>0.074074</td>\n",
       "      <td>1</td>\n",
       "      <td>EU</td>\n",
       "    </tr>\n",
       "    <tr>\n",
       "      <th>16475</th>\n",
       "      <td>LEGO Indiana Jones 2: The Adventure Continues</td>\n",
       "      <td>Wii</td>\n",
       "      <td>2009</td>\n",
       "      <td>Action</td>\n",
       "      <td>Activision</td>\n",
       "      <td>0.91</td>\n",
       "      <td>0.39</td>\n",
       "      <td>0.00</td>\n",
       "      <td>0.13</td>\n",
       "      <td>1.43</td>\n",
       "      <td>0.636364</td>\n",
       "      <td>0.272727</td>\n",
       "      <td>0.000000</td>\n",
       "      <td>0.090909</td>\n",
       "      <td>1</td>\n",
       "      <td>NA</td>\n",
       "    </tr>\n",
       "    <tr>\n",
       "      <th>16482</th>\n",
       "      <td>Madden NFL 2005</td>\n",
       "      <td>PS2</td>\n",
       "      <td>2004</td>\n",
       "      <td>Sports</td>\n",
       "      <td>Electronic Arts</td>\n",
       "      <td>4.18</td>\n",
       "      <td>0.26</td>\n",
       "      <td>0.01</td>\n",
       "      <td>0.08</td>\n",
       "      <td>4.53</td>\n",
       "      <td>0.922737</td>\n",
       "      <td>0.057395</td>\n",
       "      <td>0.002208</td>\n",
       "      <td>0.017660</td>\n",
       "      <td>1</td>\n",
       "      <td>NA</td>\n",
       "    </tr>\n",
       "  </tbody>\n",
       "</table>\n",
       "<p>2065 rows × 16 columns</p>\n",
       "</div>"
      ],
      "text/plain": [
       "                                                Name Platform  Year     Genre  \\\n",
       "20                            Ty the Tasmanian Tiger      PS2  2002  Platform   \n",
       "24                          Injustice: Gods Among Us      PS3  2013  Fighting   \n",
       "31                                         Rock Band     X360  2005      Misc   \n",
       "58                                         Bomberman      NES  1985    Puzzle   \n",
       "65                                Kirby: Mass Attack       DS  2011  Platform   \n",
       "...                                              ...      ...   ...       ...   \n",
       "16455                                         Wall-E      Wii  2008  Platform   \n",
       "16465                                   Finding Nemo      PS2  2003    Action   \n",
       "16467                             Grand Theft Auto V       PC  2015    Action   \n",
       "16475  LEGO Indiana Jones 2: The Adventure Continues      Wii  2009    Action   \n",
       "16482                                Madden NFL 2005      PS2  2004    Sports   \n",
       "\n",
       "                                    Publisher  NA_Sales  EU_Sales  JP_Sales  \\\n",
       "20                            Electronic Arts      0.57      0.45      0.00   \n",
       "24     Warner Bros. Interactive Entertainment      0.48      0.53      0.01   \n",
       "31                            Electronic Arts      1.93      0.34      0.00   \n",
       "58                                Hudson Soft      0.18      0.00      0.85   \n",
       "65                                   Nintendo      0.52      0.06      0.41   \n",
       "...                                       ...       ...       ...       ...   \n",
       "16455                                     THQ      0.51      0.40      0.00   \n",
       "16465                                     THQ      1.26      0.60      0.05   \n",
       "16467                    Take-Two Interactive      0.36      0.64      0.00   \n",
       "16475                              Activision      0.91      0.39      0.00   \n",
       "16482                         Electronic Arts      4.18      0.26      0.01   \n",
       "\n",
       "       Other_Sales  Total_Sales  NA_ratio  EU_ratio  JP_ratio  Other_ratio  \\\n",
       "20            0.15         1.17  0.487179  0.384615  0.000000     0.128205   \n",
       "24            0.23         1.25  0.384000  0.424000  0.008000     0.184000   \n",
       "31            0.21         2.48  0.778226  0.137097  0.000000     0.084677   \n",
       "58            0.00         1.03  0.174757  0.000000  0.825243     0.000000   \n",
       "65            0.05         1.04  0.500000  0.057692  0.394231     0.048077   \n",
       "...            ...          ...       ...       ...       ...          ...   \n",
       "16455         0.11         1.02  0.500000  0.392157  0.000000     0.107843   \n",
       "16465         0.18         2.09  0.602871  0.287081  0.023923     0.086124   \n",
       "16467         0.08         1.08  0.333333  0.592593  0.000000     0.074074   \n",
       "16475         0.13         1.43  0.636364  0.272727  0.000000     0.090909   \n",
       "16482         0.08         4.53  0.922737  0.057395  0.002208     0.017660   \n",
       "\n",
       "       count like  \n",
       "20         1   NA  \n",
       "24         1   EU  \n",
       "31         1   NA  \n",
       "58         1   JP  \n",
       "65         1   NA  \n",
       "...      ...  ...  \n",
       "16455      1   NA  \n",
       "16465      1   NA  \n",
       "16467      1   EU  \n",
       "16475      1   NA  \n",
       "16482      1   NA  \n",
       "\n",
       "[2065 rows x 16 columns]"
      ]
     },
     "execution_count": 16,
     "metadata": {},
     "output_type": "execute_result"
    }
   ],
   "source": [
    "# 밀리언셀러들에 대한 분석과 시각화\n",
    "df_million = df.loc[df[\"Total_Sales\"]>=1]\n",
    "df_million"
   ]
  },
  {
   "cell_type": "code",
   "execution_count": 17,
   "metadata": {},
   "outputs": [
    {
     "data": {
      "text/html": [
       "<div>\n",
       "<style scoped>\n",
       "    .dataframe tbody tr th:only-of-type {\n",
       "        vertical-align: middle;\n",
       "    }\n",
       "\n",
       "    .dataframe tbody tr th {\n",
       "        vertical-align: top;\n",
       "    }\n",
       "\n",
       "    .dataframe thead th {\n",
       "        text-align: right;\n",
       "    }\n",
       "</style>\n",
       "<table border=\"1\" class=\"dataframe\">\n",
       "  <thead>\n",
       "    <tr style=\"text-align: right;\">\n",
       "      <th></th>\n",
       "      <th>Year</th>\n",
       "      <th>NA_Sales</th>\n",
       "      <th>EU_Sales</th>\n",
       "      <th>JP_Sales</th>\n",
       "      <th>Other_Sales</th>\n",
       "      <th>Total_Sales</th>\n",
       "      <th>NA_ratio</th>\n",
       "      <th>EU_ratio</th>\n",
       "      <th>JP_ratio</th>\n",
       "      <th>Other_ratio</th>\n",
       "      <th>count</th>\n",
       "    </tr>\n",
       "  </thead>\n",
       "  <tbody>\n",
       "    <tr>\n",
       "      <th>count</th>\n",
       "      <td>2065.000000</td>\n",
       "      <td>2065.000000</td>\n",
       "      <td>2065.000000</td>\n",
       "      <td>2065.000000</td>\n",
       "      <td>2065.000000</td>\n",
       "      <td>2065.000000</td>\n",
       "      <td>2065.000000</td>\n",
       "      <td>2065.000000</td>\n",
       "      <td>2065.000000</td>\n",
       "      <td>2065.000000</td>\n",
       "      <td>2065.0</td>\n",
       "    </tr>\n",
       "    <tr>\n",
       "      <th>mean</th>\n",
       "      <td>2004.620823</td>\n",
       "      <td>1.340838</td>\n",
       "      <td>0.798770</td>\n",
       "      <td>0.345884</td>\n",
       "      <td>0.256557</td>\n",
       "      <td>2.742048</td>\n",
       "      <td>0.493673</td>\n",
       "      <td>0.286798</td>\n",
       "      <td>0.125826</td>\n",
       "      <td>0.093702</td>\n",
       "      <td>1.0</td>\n",
       "    </tr>\n",
       "    <tr>\n",
       "      <th>std</th>\n",
       "      <td>7.247898</td>\n",
       "      <td>1.968405</td>\n",
       "      <td>1.223602</td>\n",
       "      <td>0.777054</td>\n",
       "      <td>0.475788</td>\n",
       "      <td>3.656774</td>\n",
       "      <td>0.225271</td>\n",
       "      <td>0.177457</td>\n",
       "      <td>0.233951</td>\n",
       "      <td>0.087077</td>\n",
       "      <td>0.0</td>\n",
       "    </tr>\n",
       "    <tr>\n",
       "      <th>min</th>\n",
       "      <td>1980.000000</td>\n",
       "      <td>0.000000</td>\n",
       "      <td>0.000000</td>\n",
       "      <td>0.000000</td>\n",
       "      <td>0.000000</td>\n",
       "      <td>1.000000</td>\n",
       "      <td>0.000000</td>\n",
       "      <td>0.000000</td>\n",
       "      <td>0.000000</td>\n",
       "      <td>0.000000</td>\n",
       "      <td>1.0</td>\n",
       "    </tr>\n",
       "    <tr>\n",
       "      <th>25%</th>\n",
       "      <td>2001.000000</td>\n",
       "      <td>0.570000</td>\n",
       "      <td>0.270000</td>\n",
       "      <td>0.000000</td>\n",
       "      <td>0.070000</td>\n",
       "      <td>1.270000</td>\n",
       "      <td>0.363469</td>\n",
       "      <td>0.154639</td>\n",
       "      <td>0.000000</td>\n",
       "      <td>0.039427</td>\n",
       "      <td>1.0</td>\n",
       "    </tr>\n",
       "    <tr>\n",
       "      <th>50%</th>\n",
       "      <td>2006.000000</td>\n",
       "      <td>0.900000</td>\n",
       "      <td>0.500000</td>\n",
       "      <td>0.030000</td>\n",
       "      <td>0.150000</td>\n",
       "      <td>1.710000</td>\n",
       "      <td>0.500000</td>\n",
       "      <td>0.293839</td>\n",
       "      <td>0.012270</td>\n",
       "      <td>0.083333</td>\n",
       "      <td>1.0</td>\n",
       "    </tr>\n",
       "    <tr>\n",
       "      <th>75%</th>\n",
       "      <td>2010.000000</td>\n",
       "      <td>1.490000</td>\n",
       "      <td>0.930000</td>\n",
       "      <td>0.340000</td>\n",
       "      <td>0.270000</td>\n",
       "      <td>2.820000</td>\n",
       "      <td>0.630000</td>\n",
       "      <td>0.384615</td>\n",
       "      <td>0.149837</td>\n",
       "      <td>0.126492</td>\n",
       "      <td>1.0</td>\n",
       "    </tr>\n",
       "    <tr>\n",
       "      <th>max</th>\n",
       "      <td>2016.000000</td>\n",
       "      <td>41.490000</td>\n",
       "      <td>29.020000</td>\n",
       "      <td>10.220000</td>\n",
       "      <td>10.570000</td>\n",
       "      <td>82.740000</td>\n",
       "      <td>1.000000</td>\n",
       "      <td>1.000000</td>\n",
       "      <td>1.000000</td>\n",
       "      <td>0.893939</td>\n",
       "      <td>1.0</td>\n",
       "    </tr>\n",
       "  </tbody>\n",
       "</table>\n",
       "</div>"
      ],
      "text/plain": [
       "              Year     NA_Sales     EU_Sales     JP_Sales  Other_Sales  \\\n",
       "count  2065.000000  2065.000000  2065.000000  2065.000000  2065.000000   \n",
       "mean   2004.620823     1.340838     0.798770     0.345884     0.256557   \n",
       "std       7.247898     1.968405     1.223602     0.777054     0.475788   \n",
       "min    1980.000000     0.000000     0.000000     0.000000     0.000000   \n",
       "25%    2001.000000     0.570000     0.270000     0.000000     0.070000   \n",
       "50%    2006.000000     0.900000     0.500000     0.030000     0.150000   \n",
       "75%    2010.000000     1.490000     0.930000     0.340000     0.270000   \n",
       "max    2016.000000    41.490000    29.020000    10.220000    10.570000   \n",
       "\n",
       "       Total_Sales     NA_ratio     EU_ratio     JP_ratio  Other_ratio   count  \n",
       "count  2065.000000  2065.000000  2065.000000  2065.000000  2065.000000  2065.0  \n",
       "mean      2.742048     0.493673     0.286798     0.125826     0.093702     1.0  \n",
       "std       3.656774     0.225271     0.177457     0.233951     0.087077     0.0  \n",
       "min       1.000000     0.000000     0.000000     0.000000     0.000000     1.0  \n",
       "25%       1.270000     0.363469     0.154639     0.000000     0.039427     1.0  \n",
       "50%       1.710000     0.500000     0.293839     0.012270     0.083333     1.0  \n",
       "75%       2.820000     0.630000     0.384615     0.149837     0.126492     1.0  \n",
       "max      82.740000     1.000000     1.000000     1.000000     0.893939     1.0  "
      ]
     },
     "execution_count": 17,
     "metadata": {},
     "output_type": "execute_result"
    }
   ],
   "source": [
    "# 기술통계량\n",
    "df_million.describe()"
   ]
  },
  {
   "cell_type": "code",
   "execution_count": 18,
   "metadata": {},
   "outputs": [
    {
     "data": {
      "application/vnd.plotly.v1+json": {
       "config": {
        "plotlyServerURL": "https://plotly.com"
       },
       "data": [
        {
         "alignmentgroup": "True",
         "bingroup": "x",
         "hovertemplate": "Total_Sales=%{x}<br>count=%{y}<extra></extra>",
         "legendgroup": "",
         "marker": {
          "color": "#636efa",
          "pattern": {
           "shape": ""
          }
         },
         "name": "",
         "offsetgroup": "",
         "orientation": "v",
         "showlegend": false,
         "type": "histogram",
         "x": [
          1.17,
          1.25,
          2.48,
          1.03,
          1.04,
          1.07,
          1.17,
          1.51,
          9.32,
          2.85,
          1.1500000000000001,
          1.23,
          1.31,
          1.25,
          4.459999999999999,
          2.6799999999999997,
          1.03,
          3.98,
          1.21,
          10.27,
          1.0699999999999998,
          1.4700000000000002,
          1.55,
          2.23,
          2.78,
          1.41,
          1,
          1.06,
          1.83,
          2.41,
          1.17,
          3.0699999999999994,
          2.62,
          1.55,
          1.4400000000000002,
          1.9900000000000002,
          1.3,
          1.7,
          5.140000000000001,
          1.21,
          2.6999999999999997,
          1.6100000000000003,
          1.41,
          1.16,
          1.76,
          1.19,
          1.36,
          1.18,
          3.2,
          4.4399999999999995,
          2.38,
          1.52,
          2.2300000000000004,
          1.4500000000000002,
          1.6700000000000002,
          15.3,
          1.87,
          3.89,
          1.06,
          1.1800000000000002,
          1.76,
          1.2,
          4.63,
          2.09,
          3.45,
          9.870000000000001,
          1.7000000000000002,
          1.1400000000000001,
          1.14,
          5.24,
          2.1,
          3,
          1.5999999999999999,
          1.07,
          1.3399999999999999,
          2.34,
          1.4,
          1.51,
          1.11,
          1.75,
          1.67,
          1.71,
          1.89,
          1.3900000000000001,
          1.04,
          1.24,
          1.05,
          2.21,
          1.9700000000000002,
          7.720000000000001,
          1.08,
          1.75,
          1.0699999999999998,
          4.17,
          1.48,
          1.9000000000000001,
          1,
          3.14,
          1.23,
          2.29,
          2.7700000000000005,
          2.1100000000000003,
          1.42,
          2.12,
          1.96,
          1.08,
          1.8800000000000001,
          1.45,
          1.04,
          1.05,
          1.2,
          14.969999999999999,
          1.98,
          7.319999999999999,
          4.170000000000001,
          2.54,
          1.1800000000000002,
          7.569999999999999,
          1.15,
          3.08,
          3.5,
          1.09,
          4.12,
          2.25,
          1.39,
          1.08,
          1.2599999999999998,
          1.29,
          2.0999999999999996,
          1.04,
          1.3199999999999998,
          30.259999999999998,
          2.7800000000000002,
          2.58,
          1.29,
          1.1,
          1.0499999999999998,
          1.1099999999999999,
          4.62,
          1.26,
          2.1,
          1.08,
          3.15,
          1.8,
          1.03,
          5.49,
          1.86,
          1.5799999999999998,
          2.08,
          1.74,
          1.4500000000000002,
          2.35,
          1.05,
          2.69,
          1.35,
          2.2,
          1.1800000000000002,
          2.96,
          1.1400000000000001,
          1.09,
          1.2500000000000002,
          1.9299999999999997,
          1.01,
          1.9200000000000004,
          1.91,
          1.91,
          1.81,
          1.12,
          1.8800000000000001,
          1.35,
          2.14,
          1.1099999999999999,
          3.65,
          1.06,
          2.8899999999999997,
          2,
          1.16,
          1.28,
          1.22,
          1.2800000000000002,
          1.1900000000000002,
          1.9800000000000002,
          2.08,
          3.54,
          1.79,
          1.45,
          6.5,
          1.28,
          3.88,
          2.31,
          1.7000000000000002,
          1.54,
          1.1400000000000001,
          2.58,
          1.35,
          1.31,
          1.04,
          1.09,
          6.26,
          1.93,
          10.49,
          1.1500000000000001,
          1.4,
          4.87,
          2.2,
          1.76,
          3.4299999999999997,
          8.040000000000001,
          1.02,
          1.47,
          1.62,
          2.64,
          1.58,
          1.93,
          1,
          1.36,
          1.24,
          7.6,
          1.2199999999999998,
          1.9100000000000001,
          1.27,
          1.1600000000000001,
          1.19,
          2.38,
          1.1,
          1.23,
          1.0899999999999999,
          11.989999999999998,
          3.09,
          1.06,
          1.5700000000000003,
          4.569999999999999,
          4.33,
          1.8499999999999999,
          2.15,
          2.79,
          3.04,
          1.47,
          1.9899999999999998,
          3.24,
          2.88,
          1.3,
          2.26,
          1.07,
          2.09,
          1.36,
          5.15,
          1.09,
          2.26,
          6.03,
          4.71,
          2.14,
          1.2300000000000002,
          2.2199999999999998,
          1.32,
          1.45,
          1.13,
          1.69,
          1.2000000000000002,
          4.03,
          1.1900000000000002,
          2.48,
          5.050000000000001,
          3.3400000000000003,
          1.67,
          1.27,
          1.37,
          1,
          1.96,
          3.88,
          1.41,
          1.03,
          1.1,
          3.7800000000000002,
          1.47,
          1.1300000000000001,
          1.95,
          1.52,
          1.3,
          1.25,
          1.56,
          6.39,
          2.92,
          1.05,
          1.1199999999999999,
          2.15,
          1.18,
          1.82,
          1.27,
          1.7200000000000002,
          1.4600000000000002,
          1.02,
          1.02,
          1.5599999999999998,
          1.5399999999999998,
          1.14,
          4.84,
          1.85,
          3.1199999999999997,
          3.7699999999999996,
          2.5200000000000005,
          1.08,
          1.3800000000000001,
          1.33,
          1.31,
          1.17,
          2.68,
          1.02,
          2.2800000000000002,
          2.45,
          1.73,
          8.49,
          1,
          1.6700000000000002,
          1.34,
          2.2800000000000002,
          1.42,
          2.5100000000000002,
          5.3100000000000005,
          6.9,
          2.05,
          1.4100000000000001,
          1.9500000000000002,
          1.12,
          1.33,
          3.61,
          3.42,
          1.03,
          2.41,
          4.05,
          2.8099999999999996,
          14.76,
          1.1099999999999999,
          4.83,
          2,
          2.8499999999999996,
          1.4100000000000001,
          4.08,
          1.72,
          2.67,
          1.8800000000000001,
          4.54,
          2.73,
          82.74000000000001,
          1.32,
          1.12,
          1.09,
          2.25,
          1.43,
          2.5499999999999994,
          2.39,
          1.7999999999999998,
          2.0700000000000003,
          1.8199999999999998,
          2.83,
          4.05,
          1.42,
          2.2700000000000005,
          1.1400000000000001,
          1.4900000000000002,
          2.91,
          10.55,
          29.009999999999998,
          2.06,
          1.76,
          2.07,
          7.67,
          1.03,
          1.34,
          4.220000000000001,
          6.6,
          1.8,
          3.61,
          1.04,
          1.7199999999999998,
          2.5700000000000003,
          4.750000000000001,
          1.33,
          4.22,
          1.1,
          4.609999999999999,
          1.09,
          2.21,
          3.19,
          1.4400000000000002,
          1.6500000000000001,
          3.54,
          2.3099999999999996,
          1.15,
          1.64,
          1.04,
          12.280000000000001,
          3.5,
          3.61,
          1.23,
          1.8199999999999998,
          5.5600000000000005,
          1.2200000000000002,
          1.65,
          1.1,
          1.76,
          3.17,
          33,
          1.01,
          1.29,
          1.68,
          1.5,
          1.38,
          1.05,
          2.2399999999999998,
          1.7600000000000002,
          1,
          22.72,
          1.45,
          1.44,
          1.1,
          1.73,
          1.06,
          1.5799999999999998,
          1.67,
          21.39,
          1.3800000000000001,
          2.67,
          1.41,
          1.41,
          2.0900000000000003,
          1.5,
          1.5099999999999998,
          1.08,
          1.05,
          5.31,
          1.33,
          1.3800000000000001,
          2.12,
          1.33,
          1.1800000000000002,
          1.42,
          2.18,
          1.42,
          2.8599999999999994,
          1.8800000000000001,
          2.82,
          1.01,
          2.5699999999999994,
          1.07,
          1.1600000000000001,
          2.22,
          1.35,
          1.6900000000000002,
          2.94,
          1.7100000000000002,
          1.21,
          1.15,
          1.96,
          3.81,
          1.6900000000000002,
          1.5899999999999999,
          1.33,
          3.44,
          3.14,
          1.3,
          1.0699999999999998,
          1.67,
          1.53,
          1.86,
          1.27,
          1.1700000000000002,
          1.21,
          1.1500000000000001,
          1.2,
          1.32,
          2.79,
          1.32,
          1.61,
          1.6400000000000001,
          1,
          2.7499999999999996,
          1.4900000000000002,
          1.05,
          2.5700000000000003,
          4.04,
          1.76,
          3.29,
          1.83,
          1.7,
          4.2,
          2.23,
          3.77,
          3.69,
          2.8300000000000005,
          1.09,
          1.32,
          1.22,
          1.1300000000000001,
          1.76,
          1.18,
          1.51,
          2.56,
          1.81,
          2.44,
          1.0999999999999999,
          1.28,
          2.1100000000000003,
          1.2299999999999998,
          40.24,
          6.959999999999999,
          5.52,
          1.5,
          6.720000000000001,
          3.6199999999999997,
          1.6900000000000002,
          14.040000000000001,
          3.62,
          11.33,
          1.2000000000000002,
          2.06,
          1.01,
          1.26,
          1.16,
          1.45,
          1.19,
          1.86,
          4.069999999999999,
          4.94,
          1.17,
          2.06,
          21.82,
          1.04,
          2.08,
          2.31,
          1.6,
          4.14,
          1.0899999999999999,
          1.05,
          1.59,
          1.1300000000000001,
          2.98,
          1.77,
          1.37,
          1.58,
          1.48,
          1.03,
          1.1300000000000001,
          1.9900000000000002,
          1.97,
          1,
          1.06,
          1.3400000000000003,
          5.51,
          1.4600000000000002,
          1.17,
          1.1,
          1.83,
          1.04,
          3.82,
          2.47,
          2.6,
          6.4,
          1.03,
          4.449999999999999,
          2.6199999999999997,
          2.44,
          1.15,
          1.1900000000000002,
          1.67,
          1.97,
          4.99,
          5.27,
          3.77,
          1.95,
          1.7100000000000002,
          1.48,
          3.14,
          2.38,
          1.9300000000000002,
          1.94,
          4.2,
          3.4499999999999997,
          11.899999999999999,
          10.95,
          2.13,
          1.7300000000000002,
          1.86,
          1.45,
          2.86,
          1.9200000000000002,
          2.34,
          3.3200000000000003,
          2.68,
          3.63,
          1.5,
          1.3000000000000003,
          5.369999999999999,
          4.1000000000000005,
          6.9,
          2.85,
          1.2400000000000002,
          1.69,
          1.42,
          1.12,
          3.6000000000000005,
          1.3599999999999999,
          1.0500000000000003,
          1.6100000000000003,
          1.36,
          1.2400000000000002,
          3.99,
          2.21,
          1.5899999999999999,
          3.58,
          2.4499999999999997,
          6.0200000000000005,
          3.36,
          1.38,
          4.1899999999999995,
          1.6600000000000001,
          1.7799999999999998,
          1.08,
          1.66,
          1.06,
          2.68,
          1.1,
          1.6600000000000001,
          4.91,
          1.31,
          1.45,
          1.03,
          5.85,
          1.1300000000000001,
          1.18,
          4.3,
          1.25,
          2.04,
          3.28,
          1.67,
          2.9899999999999998,
          2.49,
          1.7200000000000002,
          2.02,
          1.25,
          2.4799999999999995,
          2.17,
          1.5700000000000003,
          1.2,
          3.17,
          1.15,
          2.79,
          3.53,
          1.9700000000000002,
          16.150000000000002,
          2.7800000000000002,
          1.7000000000000002,
          1.43,
          3.51,
          2.6700000000000004,
          3.76,
          1.1,
          1.2000000000000002,
          2.14,
          1.3399999999999999,
          1,
          8.11,
          2.06,
          1.4000000000000001,
          2.57,
          1.6300000000000001,
          3.53,
          1.6400000000000001,
          2.29,
          1.53,
          1.33,
          4.8500000000000005,
          1.17,
          4.61,
          1.04,
          1.86,
          2.67,
          2.06,
          1.28,
          1.2,
          1.78,
          3.3799999999999994,
          1.9499999999999997,
          1.04,
          6.24,
          10.209999999999999,
          1.75,
          1.5899999999999999,
          1.01,
          4.89,
          1.1600000000000001,
          1.05,
          1.1300000000000001,
          2.0300000000000002,
          1.35,
          1.2200000000000002,
          1.1900000000000002,
          1.66,
          1.86,
          4.57,
          5.57,
          1.3,
          4.31,
          1.94,
          1.06,
          2.11,
          1.05,
          1.3199999999999998,
          1.24,
          2.44,
          3.66,
          1.25,
          2.42,
          3.6399999999999997,
          1.51,
          1.1300000000000001,
          1.15,
          7.8100000000000005,
          1.84,
          1.25,
          1.83,
          1.88,
          1.3299999999999998,
          2.8,
          1.32,
          3.6699999999999995,
          1.2400000000000002,
          1.18,
          6.28,
          2.29,
          1.1700000000000002,
          1.1500000000000001,
          1.23,
          1.38,
          1.01,
          2.78,
          1.03,
          4,
          1.06,
          1.74,
          1.8600000000000003,
          2.09,
          3.6900000000000004,
          1.26,
          1.85,
          5.819999999999999,
          4.95,
          2.1900000000000004,
          1.5599999999999998,
          3.52,
          3.61,
          2.5800000000000005,
          2.33,
          1.2600000000000002,
          1.1,
          1.4,
          1.16,
          2.18,
          2.28,
          1.3699999999999999,
          1.3299999999999998,
          6.56,
          2.06,
          3.48,
          7.86,
          1.05,
          1.04,
          3.7800000000000002,
          1.1300000000000001,
          2.42,
          1.4400000000000002,
          1.4300000000000002,
          2.16,
          1.4500000000000002,
          1.55,
          10.77,
          1.78,
          1.07,
          13.52,
          1.9600000000000002,
          1.07,
          1.86,
          4.4,
          14.64,
          1.24,
          1.9000000000000001,
          1.58,
          1.55,
          1.35,
          1.2400000000000002,
          1.67,
          12.14,
          2.9000000000000004,
          1.11,
          1.73,
          6.84,
          1.69,
          1.5500000000000003,
          2.0900000000000003,
          1.2800000000000002,
          2.9,
          1.6300000000000001,
          1.01,
          1.76,
          1.45,
          2.85,
          13.740000000000002,
          3.17,
          1.15,
          1.14,
          2.6,
          1.4700000000000002,
          2.6799999999999997,
          2.04,
          6.669999999999999,
          2.2199999999999998,
          1.2500000000000002,
          1.48,
          2.16,
          11.9,
          1.24,
          1,
          1.52,
          3.01,
          1.2,
          2.9499999999999997,
          1.21,
          1.45,
          9.49,
          7.199999999999999,
          2.19,
          6.91,
          1.42,
          3.07,
          6.359999999999999,
          4.21,
          3.1100000000000003,
          5.279999999999999,
          1.6400000000000001,
          1.42,
          1.5900000000000003,
          1.1300000000000001,
          1.3199999999999998,
          5.09,
          5.25,
          1.1,
          1.6500000000000001,
          2.18,
          1.81,
          4.16,
          1.83,
          2.6799999999999997,
          1.3000000000000003,
          1,
          1.01,
          1.4200000000000002,
          1.2,
          1.46,
          1.32,
          1.22,
          1.09,
          1.2300000000000002,
          1.03,
          1.56,
          1.6500000000000001,
          4.01,
          1.04,
          1.17,
          1.76,
          11.179999999999998,
          1.4500000000000002,
          1.05,
          1.3399999999999999,
          1.42,
          4.419999999999999,
          1.18,
          9.580000000000002,
          1.39,
          4.21,
          1.44,
          2.69,
          2.1100000000000003,
          30.009999999999998,
          3.3600000000000003,
          5.239999999999999,
          2.7899999999999996,
          1.7200000000000002,
          2.05,
          1.95,
          1.56,
          2.2600000000000002,
          1.09,
          2.38,
          1.6600000000000001,
          1.2,
          1.1600000000000001,
          3.08,
          2.52,
          2.04,
          1.15,
          2.04,
          1.4100000000000001,
          9.3,
          7.609999999999999,
          1.55,
          1.09,
          1.03,
          1.1700000000000002,
          2.1,
          2.0399999999999996,
          1.75,
          1.56,
          1.13,
          2.11,
          1.56,
          1.47,
          1.35,
          1.7999999999999998,
          1.81,
          1.97,
          1.7499999999999998,
          1.48,
          1.06,
          2.56,
          4.68,
          1.2299999999999998,
          2.9000000000000004,
          2.6199999999999997,
          1.07,
          2.8600000000000003,
          1,
          5.74,
          4.6499999999999995,
          2.8,
          7.46,
          1.14,
          4.42,
          1.11,
          3.3600000000000003,
          1.76,
          1.79,
          2.29,
          1.4000000000000001,
          2.78,
          1.77,
          2.41,
          6.77,
          1.35,
          1.09,
          2.83,
          3.0400000000000005,
          1.02,
          7.839999999999999,
          1.23,
          2.05,
          1.07,
          1.32,
          1.19,
          1.49,
          9.02,
          3.0300000000000002,
          1.2999999999999998,
          2.75,
          1.53,
          3.18,
          1.42,
          1.07,
          1.6700000000000002,
          1.01,
          1.21,
          2.32,
          3.87,
          1.21,
          3,
          2.6300000000000003,
          2.25,
          1,
          1.15,
          1.83,
          1.69,
          1.82,
          1.2499999999999998,
          31.380000000000003,
          1.22,
          2.3600000000000003,
          4.239999999999999,
          1.27,
          1.92,
          1.09,
          4.32,
          1.05,
          2.7199999999999998,
          1.13,
          1.31,
          4.11,
          1.23,
          1.9200000000000002,
          1.21,
          1.73,
          1.06,
          5.82,
          2.11,
          1.75,
          3.08,
          1.01,
          6.950000000000001,
          1.9300000000000002,
          7.34,
          4.83,
          1,
          1.7800000000000002,
          2.23,
          1.62,
          1.2100000000000002,
          1.22,
          1.7399999999999998,
          3.3200000000000003,
          5.9799999999999995,
          1.07,
          1.13,
          2.3899999999999997,
          5.25,
          2.5300000000000002,
          1.21,
          1.71,
          1.49,
          1.13,
          1.26,
          3.67,
          3.62,
          1.03,
          1.26,
          1.35,
          1.54,
          2.6500000000000004,
          1.7399999999999998,
          1.2600000000000002,
          1.6300000000000001,
          6.05,
          4.09,
          1.5299999999999998,
          1.27,
          4.21,
          2.63,
          3.2300000000000004,
          1.1400000000000001,
          1.29,
          1.31,
          1.76,
          2.1,
          1.1400000000000001,
          10.690000000000001,
          1.67,
          4.99,
          1.8100000000000003,
          1.62,
          2.65,
          1.47,
          1.53,
          1.1,
          1.08,
          1.74,
          3.3999999999999995,
          2.8200000000000003,
          8.05,
          1.22,
          1.46,
          2.45,
          1.2799999999999998,
          2.4,
          2.39,
          14.64,
          1.21,
          1.5999999999999999,
          1.05,
          1.3199999999999998,
          1.28,
          1.1600000000000001,
          3.6,
          1.67,
          6.420000000000001,
          3.11,
          1.1600000000000001,
          2.08,
          1.76,
          1.57,
          1.94,
          1.34,
          4.1,
          1.35,
          2.93,
          5.43,
          3.0999999999999996,
          1.45,
          1.8800000000000001,
          2.19,
          1.6400000000000001,
          1.93,
          4.7299999999999995,
          1.04,
          1.1700000000000002,
          2.8800000000000003,
          1.36,
          1.27,
          3.27,
          1.52,
          1.0899999999999999,
          1.28,
          3.6999999999999997,
          1.56,
          9.100000000000001,
          1.69,
          1.5000000000000002,
          1.3800000000000001,
          1.2600000000000002,
          2.4099999999999997,
          3.32,
          8.25,
          1.2800000000000002,
          2.9400000000000004,
          1.5299999999999998,
          1.07,
          1.09,
          14.239999999999998,
          1.1800000000000002,
          1.24,
          5.92,
          1.5000000000000002,
          2.13,
          1.9300000000000002,
          1.4000000000000001,
          1.17,
          7.13,
          6.819999999999999,
          1.8,
          1.3800000000000001,
          2.63,
          1.3599999999999999,
          1.75,
          1.1500000000000001,
          9.52,
          1.03,
          1.6500000000000001,
          1.3599999999999999,
          1.92,
          2.51,
          1.8499999999999999,
          1.87,
          3.8400000000000003,
          1.37,
          1.06,
          1.46,
          1.23,
          1.29,
          1.02,
          1.4900000000000002,
          1.31,
          1.05,
          1.04,
          1.4800000000000002,
          5.12,
          2.02,
          23.09,
          2.89,
          2.2,
          7.23,
          1.09,
          1.34,
          1.85,
          18.14,
          8.48,
          3.92,
          3.3299999999999996,
          1.02,
          2.81,
          3.5300000000000002,
          1.5,
          8.77,
          2.7899999999999996,
          1.05,
          1,
          1.56,
          1.1199999999999999,
          1.2900000000000003,
          1.23,
          1.56,
          3.92,
          1.35,
          1.6400000000000001,
          1.27,
          1.52,
          1.46,
          5.449999999999999,
          1.8499999999999999,
          1.15,
          5.720000000000001,
          1.1700000000000002,
          2.8099999999999996,
          1.99,
          5.02,
          1.61,
          1.7099999999999997,
          2.12,
          2.4,
          2.9099999999999993,
          1.12,
          1.04,
          1.54,
          1.2800000000000002,
          1.58,
          2.5700000000000003,
          1.37,
          1.25,
          1.2100000000000002,
          1,
          1.3400000000000003,
          1.71,
          13.100000000000001,
          3.63,
          1.05,
          1.07,
          5.21,
          1.5499999999999998,
          1.27,
          1.2100000000000002,
          2.19,
          3.5,
          1.41,
          3.78,
          1.58,
          2.5,
          5.66,
          1.18,
          1.0899999999999999,
          12.730000000000002,
          3.2199999999999998,
          1.54,
          1.44,
          1.31,
          2.09,
          2.2399999999999998,
          1.1300000000000001,
          1.97,
          1.04,
          1.34,
          9.2,
          4.38,
          1.91,
          1.33,
          1.24,
          1.34,
          1.8000000000000003,
          1.04,
          1.88,
          3.01,
          2.28,
          4.67,
          3.32,
          2.08,
          1.1,
          2.01,
          1.05,
          1.59,
          4.109999999999999,
          1.04,
          6.33,
          1.7000000000000002,
          1.68,
          5.42,
          7.06,
          2.2,
          2.9299999999999997,
          3.1499999999999995,
          5.08,
          1.3599999999999999,
          1.49,
          2.17,
          3.7300000000000004,
          1.57,
          2.06,
          2.1199999999999997,
          1.2999999999999998,
          2.9699999999999998,
          1.23,
          1.3499999999999999,
          1.1600000000000001,
          2.8000000000000003,
          1.31,
          6.430000000000001,
          2.38,
          2.25,
          1.3800000000000001,
          9.830000000000002,
          1.28,
          1.3699999999999999,
          1.08,
          1.42,
          1.9600000000000002,
          5.2,
          2.0300000000000002,
          3.72,
          1.1900000000000002,
          1.35,
          2.9,
          1.31,
          1.4899999999999998,
          2.7,
          1.15,
          28.31,
          1.1,
          2.44,
          1.18,
          2.36,
          18.35,
          1.07,
          1.32,
          2.11,
          1.1300000000000001,
          1.12,
          1.4900000000000002,
          1.32,
          2.38,
          5.12,
          4.58,
          2.38,
          1.52,
          15.32,
          3.6499999999999995,
          23.43,
          1.13,
          1.11,
          2.1399999999999997,
          1.06,
          2.79,
          5.55,
          1,
          1.64,
          1.31,
          1.87,
          1.4400000000000002,
          1.6199999999999999,
          1.0599999999999998,
          1.2200000000000002,
          1.06,
          6.499999999999999,
          1.78,
          1.02,
          2.0500000000000003,
          1,
          1.26,
          1.1,
          5.08,
          1.4700000000000002,
          1.76,
          2.3699999999999997,
          4.18,
          1.07,
          2.6100000000000003,
          1.01,
          1.94,
          3.26,
          22,
          2.09,
          16.380000000000003,
          15.84,
          7.379999999999999,
          7.180000000000001,
          5.0200000000000005,
          1.27,
          1.5,
          1.3499999999999999,
          1.4000000000000001,
          3.5,
          3.8499999999999996,
          4.48,
          1.73,
          1.12,
          1.6700000000000002,
          1.1900000000000002,
          1.02,
          1.82,
          2.43,
          2,
          2.49,
          1.23,
          2.96,
          1.4100000000000001,
          1.4300000000000002,
          1.1600000000000001,
          1.25,
          2.8499999999999996,
          5.580000000000001,
          1.61,
          1.92,
          6.03,
          1.35,
          1.05,
          1.01,
          1.33,
          1.52,
          1.7799999999999998,
          12.21,
          24.75,
          1.68,
          1.29,
          1.6300000000000001,
          1.74,
          1.3699999999999999,
          1.72,
          3.1900000000000004,
          1.37,
          2.25,
          1.08,
          2.08,
          2.35,
          2.16,
          2.04,
          1.65,
          6.960000000000001,
          2.41,
          7.27,
          1.35,
          3.5600000000000005,
          1.6700000000000002,
          4.37,
          1.71,
          3.19,
          1.5,
          2.21,
          2.17,
          2.0500000000000003,
          1.43,
          1.5399999999999998,
          2.26,
          2.1,
          1.66,
          1.6900000000000002,
          1.1400000000000001,
          2.4,
          2.48,
          1,
          1.6400000000000001,
          2.63,
          1.71,
          3.0300000000000002,
          1.2200000000000002,
          1.6,
          2.62,
          1.7,
          8.84,
          5.14,
          1.76,
          2.07,
          5.11,
          2.2700000000000005,
          3.4299999999999997,
          1.51,
          5.19,
          2.41,
          3.1599999999999997,
          2.52,
          1.07,
          2.6599999999999997,
          1.9300000000000002,
          3.97,
          2.9799999999999995,
          1.3800000000000001,
          2.3499999999999996,
          2.15,
          1.17,
          5.340000000000001,
          1.24,
          1.52,
          9.719999999999999,
          2.9400000000000004,
          1.6999999999999997,
          1.9999999999999998,
          1.52,
          1.54,
          1.45,
          1.03,
          1.08,
          1.4100000000000001,
          1.64,
          6.82,
          1.09,
          1.06,
          3.8899999999999997,
          1.77,
          2.35,
          1.5899999999999999,
          2.14,
          1.2,
          1.06,
          1.2,
          4.45,
          1.59,
          6.59,
          1.54,
          2.9399999999999995,
          1.48,
          1.28,
          2.2,
          8.09,
          1.29,
          1.64,
          1.77,
          1.7300000000000002,
          1.6900000000000002,
          5.13,
          1.4899999999999998,
          1.2,
          1.33,
          1.05,
          1.32,
          2.9800000000000004,
          1.26,
          2.35,
          1.15,
          2.19,
          1.83,
          1.4200000000000002,
          2.71,
          1.25,
          2.8900000000000006,
          4.26,
          3.28,
          1.8900000000000001,
          1.2599999999999998,
          1.1700000000000002,
          1,
          1.4300000000000002,
          1.58,
          1.6099999999999999,
          1.4100000000000001,
          1.45,
          1.75,
          1.3699999999999999,
          3.12,
          1.01,
          1.34,
          1.91,
          1.07,
          1.1,
          1.34,
          1.55,
          2.15,
          3.7899999999999996,
          3.8400000000000003,
          2.67,
          1.6800000000000002,
          11.52,
          1.75,
          2.09,
          1.3800000000000001,
          5.170000000000001,
          10.42,
          1.28,
          2.02,
          2.32,
          1.42,
          1.3800000000000001,
          1.62,
          1.29,
          2.63,
          3.34,
          3.5,
          6.29,
          1.53,
          1.11,
          35.830000000000005,
          1.5599999999999998,
          1.5,
          9.87,
          1.4300000000000002,
          1.82,
          1.04,
          10.79,
          1.4700000000000002,
          1.11,
          1.69,
          1.4899999999999998,
          1.6100000000000003,
          1.4700000000000002,
          1.31,
          1.82,
          3.87,
          1.5100000000000002,
          2.0100000000000002,
          2.4899999999999998,
          2,
          1.35,
          1.07,
          1.96,
          3.1899999999999995,
          2.3,
          3.65,
          3.18,
          1.6700000000000002,
          2.1,
          1.12,
          1.79,
          7.4399999999999995,
          2.84,
          1.12,
          6.31,
          3.49,
          2.9400000000000004,
          1.9300000000000002,
          1.1800000000000002,
          1.2499999999999998,
          4.07,
          1.34,
          3.0300000000000002,
          2.5700000000000003,
          2.42,
          3.2199999999999998,
          1.1600000000000001,
          3.54,
          5.2,
          1.8900000000000001,
          3.21,
          2.8600000000000003,
          1.6300000000000001,
          1.23,
          1.01,
          2.8,
          4.05,
          4.4,
          2.06,
          2.3099999999999996,
          1.56,
          3.9099999999999997,
          5.07,
          1.12,
          2.49,
          1.62,
          2.26,
          1.32,
          1.27,
          4.19,
          1.58,
          20.62,
          1.25,
          1.94,
          1.21,
          1.9900000000000002,
          1.24,
          2.99,
          4.0200000000000005,
          1.33,
          1.0899999999999999,
          3.84,
          1.6600000000000001,
          1.56,
          1.16,
          1.59,
          5,
          1.31,
          1.57,
          20.220000000000002,
          1.1,
          1.69,
          1.65,
          1.09,
          1.1700000000000002,
          2.38,
          2.1399999999999997,
          2.29,
          1.05,
          2.4,
          1.6800000000000002,
          1.52,
          1.4300000000000002,
          1.21,
          2.6399999999999997,
          3.6999999999999997,
          1.73,
          1.08,
          2.9699999999999998,
          2.3099999999999996,
          1.1300000000000001,
          3.38,
          1.9,
          1.4600000000000002,
          1.0899999999999999,
          1.09,
          2.17,
          3.1300000000000003,
          1.46,
          1.46,
          6.69,
          3.65,
          4.54,
          1.69,
          1.07,
          2.05,
          1.85,
          1.1,
          1.3900000000000001,
          6.7299999999999995,
          1.77,
          1.12,
          1.65,
          2.84,
          1.42,
          1.4699999999999998,
          3.03,
          4.47,
          2.2800000000000002,
          1.86,
          1.08,
          1.25,
          2.0999999999999996,
          1.5,
          1.59,
          1.03,
          1.08,
          1.22,
          2.04,
          1.46,
          1.19,
          2.3200000000000003,
          1.0899999999999999,
          3.42,
          1.2600000000000002,
          1.4000000000000001,
          2.58,
          1.13,
          2.78,
          2.19,
          2.05,
          1,
          1.41,
          2.99,
          1,
          1.06,
          1.0899999999999999,
          11.03,
          1.62,
          4.79,
          1.15,
          2.45,
          4.23,
          1.5499999999999998,
          1.2600000000000002,
          1.71,
          1.1600000000000001,
          2.41,
          2.27,
          3.4099999999999997,
          6.23,
          1.3,
          1.75,
          1.36,
          1.49,
          4.35,
          3.3800000000000003,
          1.4000000000000001,
          3.27,
          2.6599999999999997,
          2.66,
          2.37,
          1.9100000000000001,
          1.04,
          1.4200000000000002,
          1.6300000000000001,
          13.469999999999999,
          1.07,
          1.4300000000000002,
          3.5,
          1.5699999999999998,
          3.1999999999999997,
          1.11,
          3.5400000000000005,
          6.109999999999999,
          1.22,
          1.48,
          1.39,
          1.52,
          1.28,
          4.3,
          1.01,
          1.73,
          1.38,
          1.07,
          1.46,
          2.06,
          1.67,
          1.59,
          1.53,
          1.63,
          2.65,
          1.4700000000000002,
          5.13,
          1.6300000000000001,
          3.1100000000000003,
          1.46,
          1.8599999999999999,
          1.61,
          2.27,
          5.470000000000001,
          2.88,
          1.76,
          3.4400000000000004,
          4.82,
          1.98,
          1.17,
          1.9500000000000002,
          1.1,
          1.7699999999999998,
          2.7699999999999996,
          1.4200000000000002,
          2.5700000000000003,
          1.63,
          1.04,
          1.44,
          9.76,
          1.07,
          2.29,
          1.52,
          2.8,
          2.32,
          1.8099999999999998,
          1.23,
          1.35,
          1.2600000000000002,
          2.09,
          11.649999999999999,
          20.810000000000002,
          1.04,
          1.2200000000000002,
          1.77,
          1.2,
          1.1500000000000001,
          3.53,
          4.33,
          1.16,
          5.21,
          3.02,
          1.25,
          1.18,
          6.8100000000000005,
          1.21,
          1.1400000000000001,
          1.8900000000000001,
          5.5200000000000005,
          2.42,
          1.08,
          17.28,
          1.0699999999999998,
          3.21,
          3.02,
          2.27,
          13.04,
          1.4300000000000002,
          1.12,
          4.49,
          3.1999999999999997,
          2.48,
          3.69,
          1.58,
          3.8300000000000005,
          3.16,
          1.05,
          1.19,
          1.16,
          1.27,
          1.08,
          2.5300000000000002,
          2.76,
          1.08,
          1.6099999999999999,
          1.76,
          3.85,
          1.4700000000000002,
          3.1599999999999997,
          1.76,
          5.17,
          3.87,
          1.15,
          1.93,
          1.6900000000000002,
          5.15,
          1.2,
          4.14,
          2.11,
          1.1500000000000001,
          1,
          1.09,
          1.1,
          1.23,
          2.51,
          1.08,
          1.7000000000000002,
          2.48,
          1.1600000000000001,
          2.59,
          2.18,
          8.42,
          1.07,
          1.7000000000000002,
          1,
          3.31,
          3.53,
          2.02,
          1.02,
          1.55,
          3.0199999999999996,
          5.13,
          1.02,
          1.78,
          1.4500000000000002,
          2.33,
          1.12,
          1.4500000000000002,
          2.3,
          3.12,
          1.12,
          1.04,
          1.37,
          1.2300000000000002,
          1.5999999999999999,
          1.33,
          1.24,
          2.3699999999999997,
          2.12,
          1.59,
          4.779999999999999,
          1.19,
          2.58,
          5.48,
          1.1800000000000002,
          2.8499999999999996,
          1.27,
          1.1800000000000002,
          2.8899999999999997,
          3.73,
          1.2100000000000002,
          4.109999999999999,
          1.08,
          5.01,
          1.54,
          5.3100000000000005,
          1.14,
          3.44,
          1.19,
          1.3,
          8.34,
          3.07,
          1.1800000000000002,
          1.27,
          1.49,
          1.37,
          1.55,
          2.2600000000000002,
          1.2,
          1.09,
          1.1600000000000001,
          2.1799999999999997,
          1.19,
          1.5099999999999998,
          2.31,
          1.53,
          1.5,
          1.19,
          1.5099999999999998,
          1.04,
          1.92,
          1.21,
          1.5099999999999998,
          2.7899999999999996,
          4.5,
          4.96,
          1.37,
          2.7,
          4.25,
          2.06,
          1.74,
          1.54,
          7.289999999999999,
          4.25,
          1.35,
          2.1999999999999997,
          1.59,
          1.16,
          1.23,
          1.5899999999999999,
          1.46,
          1.62,
          1.17,
          2.02,
          2.04,
          1.59,
          1.08,
          1.7699999999999998,
          1.6799999999999997,
          1.68,
          1.72,
          1.8800000000000001,
          3.27,
          1.06,
          1.1099999999999999,
          1.14,
          1.44,
          1.1500000000000001,
          3.13,
          1.64,
          1.2200000000000002,
          3.4699999999999998,
          1.06,
          2.53,
          6.6000000000000005,
          2.39,
          4.22,
          1.4899999999999998,
          1.25,
          4.09,
          1.24,
          2.3799999999999994,
          2.7399999999999998,
          1.5200000000000002,
          1.72,
          1.73,
          3.6300000000000003,
          1.47,
          3.9,
          1.53,
          1.37,
          1.2699999999999998,
          1.31,
          2.13,
          1.51,
          1.45,
          1.2,
          4.89,
          4.680000000000001,
          1.2900000000000003,
          1.2,
          2.14,
          3.08,
          1.1400000000000001,
          1.23,
          2.4,
          10.579999999999998,
          3.39,
          1.34,
          1.7800000000000002,
          5.42,
          2.06,
          7.7,
          1.27,
          28.61,
          2.6,
          1.37,
          3.4000000000000004,
          1.2200000000000002,
          1.11,
          1.1199999999999999,
          3.51,
          1.02,
          2.09,
          1.08,
          1.4300000000000002,
          4.529999999999999
         ],
         "xaxis": "x",
         "yaxis": "y"
        }
       ],
       "layout": {
        "barmode": "relative",
        "legend": {
         "tracegroupgap": 0
        },
        "margin": {
         "t": 60
        },
        "template": {
         "data": {
          "bar": [
           {
            "error_x": {
             "color": "#2a3f5f"
            },
            "error_y": {
             "color": "#2a3f5f"
            },
            "marker": {
             "line": {
              "color": "#E5ECF6",
              "width": 0.5
             },
             "pattern": {
              "fillmode": "overlay",
              "size": 10,
              "solidity": 0.2
             }
            },
            "type": "bar"
           }
          ],
          "barpolar": [
           {
            "marker": {
             "line": {
              "color": "#E5ECF6",
              "width": 0.5
             },
             "pattern": {
              "fillmode": "overlay",
              "size": 10,
              "solidity": 0.2
             }
            },
            "type": "barpolar"
           }
          ],
          "carpet": [
           {
            "aaxis": {
             "endlinecolor": "#2a3f5f",
             "gridcolor": "white",
             "linecolor": "white",
             "minorgridcolor": "white",
             "startlinecolor": "#2a3f5f"
            },
            "baxis": {
             "endlinecolor": "#2a3f5f",
             "gridcolor": "white",
             "linecolor": "white",
             "minorgridcolor": "white",
             "startlinecolor": "#2a3f5f"
            },
            "type": "carpet"
           }
          ],
          "choropleth": [
           {
            "colorbar": {
             "outlinewidth": 0,
             "ticks": ""
            },
            "type": "choropleth"
           }
          ],
          "contour": [
           {
            "colorbar": {
             "outlinewidth": 0,
             "ticks": ""
            },
            "colorscale": [
             [
              0,
              "#0d0887"
             ],
             [
              0.1111111111111111,
              "#46039f"
             ],
             [
              0.2222222222222222,
              "#7201a8"
             ],
             [
              0.3333333333333333,
              "#9c179e"
             ],
             [
              0.4444444444444444,
              "#bd3786"
             ],
             [
              0.5555555555555556,
              "#d8576b"
             ],
             [
              0.6666666666666666,
              "#ed7953"
             ],
             [
              0.7777777777777778,
              "#fb9f3a"
             ],
             [
              0.8888888888888888,
              "#fdca26"
             ],
             [
              1,
              "#f0f921"
             ]
            ],
            "type": "contour"
           }
          ],
          "contourcarpet": [
           {
            "colorbar": {
             "outlinewidth": 0,
             "ticks": ""
            },
            "type": "contourcarpet"
           }
          ],
          "heatmap": [
           {
            "colorbar": {
             "outlinewidth": 0,
             "ticks": ""
            },
            "colorscale": [
             [
              0,
              "#0d0887"
             ],
             [
              0.1111111111111111,
              "#46039f"
             ],
             [
              0.2222222222222222,
              "#7201a8"
             ],
             [
              0.3333333333333333,
              "#9c179e"
             ],
             [
              0.4444444444444444,
              "#bd3786"
             ],
             [
              0.5555555555555556,
              "#d8576b"
             ],
             [
              0.6666666666666666,
              "#ed7953"
             ],
             [
              0.7777777777777778,
              "#fb9f3a"
             ],
             [
              0.8888888888888888,
              "#fdca26"
             ],
             [
              1,
              "#f0f921"
             ]
            ],
            "type": "heatmap"
           }
          ],
          "heatmapgl": [
           {
            "colorbar": {
             "outlinewidth": 0,
             "ticks": ""
            },
            "colorscale": [
             [
              0,
              "#0d0887"
             ],
             [
              0.1111111111111111,
              "#46039f"
             ],
             [
              0.2222222222222222,
              "#7201a8"
             ],
             [
              0.3333333333333333,
              "#9c179e"
             ],
             [
              0.4444444444444444,
              "#bd3786"
             ],
             [
              0.5555555555555556,
              "#d8576b"
             ],
             [
              0.6666666666666666,
              "#ed7953"
             ],
             [
              0.7777777777777778,
              "#fb9f3a"
             ],
             [
              0.8888888888888888,
              "#fdca26"
             ],
             [
              1,
              "#f0f921"
             ]
            ],
            "type": "heatmapgl"
           }
          ],
          "histogram": [
           {
            "marker": {
             "pattern": {
              "fillmode": "overlay",
              "size": 10,
              "solidity": 0.2
             }
            },
            "type": "histogram"
           }
          ],
          "histogram2d": [
           {
            "colorbar": {
             "outlinewidth": 0,
             "ticks": ""
            },
            "colorscale": [
             [
              0,
              "#0d0887"
             ],
             [
              0.1111111111111111,
              "#46039f"
             ],
             [
              0.2222222222222222,
              "#7201a8"
             ],
             [
              0.3333333333333333,
              "#9c179e"
             ],
             [
              0.4444444444444444,
              "#bd3786"
             ],
             [
              0.5555555555555556,
              "#d8576b"
             ],
             [
              0.6666666666666666,
              "#ed7953"
             ],
             [
              0.7777777777777778,
              "#fb9f3a"
             ],
             [
              0.8888888888888888,
              "#fdca26"
             ],
             [
              1,
              "#f0f921"
             ]
            ],
            "type": "histogram2d"
           }
          ],
          "histogram2dcontour": [
           {
            "colorbar": {
             "outlinewidth": 0,
             "ticks": ""
            },
            "colorscale": [
             [
              0,
              "#0d0887"
             ],
             [
              0.1111111111111111,
              "#46039f"
             ],
             [
              0.2222222222222222,
              "#7201a8"
             ],
             [
              0.3333333333333333,
              "#9c179e"
             ],
             [
              0.4444444444444444,
              "#bd3786"
             ],
             [
              0.5555555555555556,
              "#d8576b"
             ],
             [
              0.6666666666666666,
              "#ed7953"
             ],
             [
              0.7777777777777778,
              "#fb9f3a"
             ],
             [
              0.8888888888888888,
              "#fdca26"
             ],
             [
              1,
              "#f0f921"
             ]
            ],
            "type": "histogram2dcontour"
           }
          ],
          "mesh3d": [
           {
            "colorbar": {
             "outlinewidth": 0,
             "ticks": ""
            },
            "type": "mesh3d"
           }
          ],
          "parcoords": [
           {
            "line": {
             "colorbar": {
              "outlinewidth": 0,
              "ticks": ""
             }
            },
            "type": "parcoords"
           }
          ],
          "pie": [
           {
            "automargin": true,
            "type": "pie"
           }
          ],
          "scatter": [
           {
            "marker": {
             "colorbar": {
              "outlinewidth": 0,
              "ticks": ""
             }
            },
            "type": "scatter"
           }
          ],
          "scatter3d": [
           {
            "line": {
             "colorbar": {
              "outlinewidth": 0,
              "ticks": ""
             }
            },
            "marker": {
             "colorbar": {
              "outlinewidth": 0,
              "ticks": ""
             }
            },
            "type": "scatter3d"
           }
          ],
          "scattercarpet": [
           {
            "marker": {
             "colorbar": {
              "outlinewidth": 0,
              "ticks": ""
             }
            },
            "type": "scattercarpet"
           }
          ],
          "scattergeo": [
           {
            "marker": {
             "colorbar": {
              "outlinewidth": 0,
              "ticks": ""
             }
            },
            "type": "scattergeo"
           }
          ],
          "scattergl": [
           {
            "marker": {
             "colorbar": {
              "outlinewidth": 0,
              "ticks": ""
             }
            },
            "type": "scattergl"
           }
          ],
          "scattermapbox": [
           {
            "marker": {
             "colorbar": {
              "outlinewidth": 0,
              "ticks": ""
             }
            },
            "type": "scattermapbox"
           }
          ],
          "scatterpolar": [
           {
            "marker": {
             "colorbar": {
              "outlinewidth": 0,
              "ticks": ""
             }
            },
            "type": "scatterpolar"
           }
          ],
          "scatterpolargl": [
           {
            "marker": {
             "colorbar": {
              "outlinewidth": 0,
              "ticks": ""
             }
            },
            "type": "scatterpolargl"
           }
          ],
          "scatterternary": [
           {
            "marker": {
             "colorbar": {
              "outlinewidth": 0,
              "ticks": ""
             }
            },
            "type": "scatterternary"
           }
          ],
          "surface": [
           {
            "colorbar": {
             "outlinewidth": 0,
             "ticks": ""
            },
            "colorscale": [
             [
              0,
              "#0d0887"
             ],
             [
              0.1111111111111111,
              "#46039f"
             ],
             [
              0.2222222222222222,
              "#7201a8"
             ],
             [
              0.3333333333333333,
              "#9c179e"
             ],
             [
              0.4444444444444444,
              "#bd3786"
             ],
             [
              0.5555555555555556,
              "#d8576b"
             ],
             [
              0.6666666666666666,
              "#ed7953"
             ],
             [
              0.7777777777777778,
              "#fb9f3a"
             ],
             [
              0.8888888888888888,
              "#fdca26"
             ],
             [
              1,
              "#f0f921"
             ]
            ],
            "type": "surface"
           }
          ],
          "table": [
           {
            "cells": {
             "fill": {
              "color": "#EBF0F8"
             },
             "line": {
              "color": "white"
             }
            },
            "header": {
             "fill": {
              "color": "#C8D4E3"
             },
             "line": {
              "color": "white"
             }
            },
            "type": "table"
           }
          ]
         },
         "layout": {
          "annotationdefaults": {
           "arrowcolor": "#2a3f5f",
           "arrowhead": 0,
           "arrowwidth": 1
          },
          "autotypenumbers": "strict",
          "coloraxis": {
           "colorbar": {
            "outlinewidth": 0,
            "ticks": ""
           }
          },
          "colorscale": {
           "diverging": [
            [
             0,
             "#8e0152"
            ],
            [
             0.1,
             "#c51b7d"
            ],
            [
             0.2,
             "#de77ae"
            ],
            [
             0.3,
             "#f1b6da"
            ],
            [
             0.4,
             "#fde0ef"
            ],
            [
             0.5,
             "#f7f7f7"
            ],
            [
             0.6,
             "#e6f5d0"
            ],
            [
             0.7,
             "#b8e186"
            ],
            [
             0.8,
             "#7fbc41"
            ],
            [
             0.9,
             "#4d9221"
            ],
            [
             1,
             "#276419"
            ]
           ],
           "sequential": [
            [
             0,
             "#0d0887"
            ],
            [
             0.1111111111111111,
             "#46039f"
            ],
            [
             0.2222222222222222,
             "#7201a8"
            ],
            [
             0.3333333333333333,
             "#9c179e"
            ],
            [
             0.4444444444444444,
             "#bd3786"
            ],
            [
             0.5555555555555556,
             "#d8576b"
            ],
            [
             0.6666666666666666,
             "#ed7953"
            ],
            [
             0.7777777777777778,
             "#fb9f3a"
            ],
            [
             0.8888888888888888,
             "#fdca26"
            ],
            [
             1,
             "#f0f921"
            ]
           ],
           "sequentialminus": [
            [
             0,
             "#0d0887"
            ],
            [
             0.1111111111111111,
             "#46039f"
            ],
            [
             0.2222222222222222,
             "#7201a8"
            ],
            [
             0.3333333333333333,
             "#9c179e"
            ],
            [
             0.4444444444444444,
             "#bd3786"
            ],
            [
             0.5555555555555556,
             "#d8576b"
            ],
            [
             0.6666666666666666,
             "#ed7953"
            ],
            [
             0.7777777777777778,
             "#fb9f3a"
            ],
            [
             0.8888888888888888,
             "#fdca26"
            ],
            [
             1,
             "#f0f921"
            ]
           ]
          },
          "colorway": [
           "#636efa",
           "#EF553B",
           "#00cc96",
           "#ab63fa",
           "#FFA15A",
           "#19d3f3",
           "#FF6692",
           "#B6E880",
           "#FF97FF",
           "#FECB52"
          ],
          "font": {
           "color": "#2a3f5f"
          },
          "geo": {
           "bgcolor": "white",
           "lakecolor": "white",
           "landcolor": "#E5ECF6",
           "showlakes": true,
           "showland": true,
           "subunitcolor": "white"
          },
          "hoverlabel": {
           "align": "left"
          },
          "hovermode": "closest",
          "mapbox": {
           "style": "light"
          },
          "paper_bgcolor": "white",
          "plot_bgcolor": "#E5ECF6",
          "polar": {
           "angularaxis": {
            "gridcolor": "white",
            "linecolor": "white",
            "ticks": ""
           },
           "bgcolor": "#E5ECF6",
           "radialaxis": {
            "gridcolor": "white",
            "linecolor": "white",
            "ticks": ""
           }
          },
          "scene": {
           "xaxis": {
            "backgroundcolor": "#E5ECF6",
            "gridcolor": "white",
            "gridwidth": 2,
            "linecolor": "white",
            "showbackground": true,
            "ticks": "",
            "zerolinecolor": "white"
           },
           "yaxis": {
            "backgroundcolor": "#E5ECF6",
            "gridcolor": "white",
            "gridwidth": 2,
            "linecolor": "white",
            "showbackground": true,
            "ticks": "",
            "zerolinecolor": "white"
           },
           "zaxis": {
            "backgroundcolor": "#E5ECF6",
            "gridcolor": "white",
            "gridwidth": 2,
            "linecolor": "white",
            "showbackground": true,
            "ticks": "",
            "zerolinecolor": "white"
           }
          },
          "shapedefaults": {
           "line": {
            "color": "#2a3f5f"
           }
          },
          "ternary": {
           "aaxis": {
            "gridcolor": "white",
            "linecolor": "white",
            "ticks": ""
           },
           "baxis": {
            "gridcolor": "white",
            "linecolor": "white",
            "ticks": ""
           },
           "bgcolor": "#E5ECF6",
           "caxis": {
            "gridcolor": "white",
            "linecolor": "white",
            "ticks": ""
           }
          },
          "title": {
           "x": 0.05
          },
          "xaxis": {
           "automargin": true,
           "gridcolor": "white",
           "linecolor": "white",
           "ticks": "",
           "title": {
            "standoff": 15
           },
           "zerolinecolor": "white",
           "zerolinewidth": 2
          },
          "yaxis": {
           "automargin": true,
           "gridcolor": "white",
           "linecolor": "white",
           "ticks": "",
           "title": {
            "standoff": 15
           },
           "zerolinecolor": "white",
           "zerolinewidth": 2
          }
         }
        },
        "xaxis": {
         "anchor": "y",
         "domain": [
          0,
          1
         ],
         "title": {
          "text": "Total_Sales"
         }
        },
        "yaxis": {
         "anchor": "x",
         "domain": [
          0,
          1
         ],
         "title": {
          "text": "count"
         }
        }
       }
      }
     },
     "metadata": {},
     "output_type": "display_data"
    }
   ],
   "source": [
    "# 총 출고량의 분포\n",
    "import plotly.express as px\n",
    "fig = px.histogram(df_million, x=\"Total_Sales\")\n",
    "fig.show()"
   ]
  },
  {
   "cell_type": "code",
   "execution_count": 19,
   "metadata": {},
   "outputs": [
    {
     "data": {
      "application/vnd.plotly.v1+json": {
       "config": {
        "plotlyServerURL": "https://plotly.com"
       },
       "data": [
        {
         "type": "bar",
         "x": [
          "PS2",
          "X360",
          "PS3",
          "Wii",
          "DS",
          "PS",
          "GB",
          "NES",
          "PS4",
          "GBA",
          "PC",
          "3DS",
          "SNES",
          "N64",
          "PSP",
          "XOne",
          "GC",
          "XB",
          "2600",
          "WiiU",
          "GEN",
          "PSV",
          "DC",
          "SAT",
          "SCD"
         ],
         "y": [
          776.43,
          684.22,
          634.13,
          632.24,
          477.51,
          460.41,
          241.03,
          236.82,
          217.03,
          158.76,
          154.88,
          147.02,
          145.38,
          141.74,
          114.2,
          98.97,
          95.83,
          90.38000000000001,
          51.47,
          50.43,
          26.78,
          12.18,
          8.82,
          4.17,
          1.5
         ]
        }
       ],
       "layout": {
        "autosize": false,
        "height": 450,
        "template": {
         "data": {
          "bar": [
           {
            "error_x": {
             "color": "#2a3f5f"
            },
            "error_y": {
             "color": "#2a3f5f"
            },
            "marker": {
             "line": {
              "color": "#E5ECF6",
              "width": 0.5
             },
             "pattern": {
              "fillmode": "overlay",
              "size": 10,
              "solidity": 0.2
             }
            },
            "type": "bar"
           }
          ],
          "barpolar": [
           {
            "marker": {
             "line": {
              "color": "#E5ECF6",
              "width": 0.5
             },
             "pattern": {
              "fillmode": "overlay",
              "size": 10,
              "solidity": 0.2
             }
            },
            "type": "barpolar"
           }
          ],
          "carpet": [
           {
            "aaxis": {
             "endlinecolor": "#2a3f5f",
             "gridcolor": "white",
             "linecolor": "white",
             "minorgridcolor": "white",
             "startlinecolor": "#2a3f5f"
            },
            "baxis": {
             "endlinecolor": "#2a3f5f",
             "gridcolor": "white",
             "linecolor": "white",
             "minorgridcolor": "white",
             "startlinecolor": "#2a3f5f"
            },
            "type": "carpet"
           }
          ],
          "choropleth": [
           {
            "colorbar": {
             "outlinewidth": 0,
             "ticks": ""
            },
            "type": "choropleth"
           }
          ],
          "contour": [
           {
            "colorbar": {
             "outlinewidth": 0,
             "ticks": ""
            },
            "colorscale": [
             [
              0,
              "#0d0887"
             ],
             [
              0.1111111111111111,
              "#46039f"
             ],
             [
              0.2222222222222222,
              "#7201a8"
             ],
             [
              0.3333333333333333,
              "#9c179e"
             ],
             [
              0.4444444444444444,
              "#bd3786"
             ],
             [
              0.5555555555555556,
              "#d8576b"
             ],
             [
              0.6666666666666666,
              "#ed7953"
             ],
             [
              0.7777777777777778,
              "#fb9f3a"
             ],
             [
              0.8888888888888888,
              "#fdca26"
             ],
             [
              1,
              "#f0f921"
             ]
            ],
            "type": "contour"
           }
          ],
          "contourcarpet": [
           {
            "colorbar": {
             "outlinewidth": 0,
             "ticks": ""
            },
            "type": "contourcarpet"
           }
          ],
          "heatmap": [
           {
            "colorbar": {
             "outlinewidth": 0,
             "ticks": ""
            },
            "colorscale": [
             [
              0,
              "#0d0887"
             ],
             [
              0.1111111111111111,
              "#46039f"
             ],
             [
              0.2222222222222222,
              "#7201a8"
             ],
             [
              0.3333333333333333,
              "#9c179e"
             ],
             [
              0.4444444444444444,
              "#bd3786"
             ],
             [
              0.5555555555555556,
              "#d8576b"
             ],
             [
              0.6666666666666666,
              "#ed7953"
             ],
             [
              0.7777777777777778,
              "#fb9f3a"
             ],
             [
              0.8888888888888888,
              "#fdca26"
             ],
             [
              1,
              "#f0f921"
             ]
            ],
            "type": "heatmap"
           }
          ],
          "heatmapgl": [
           {
            "colorbar": {
             "outlinewidth": 0,
             "ticks": ""
            },
            "colorscale": [
             [
              0,
              "#0d0887"
             ],
             [
              0.1111111111111111,
              "#46039f"
             ],
             [
              0.2222222222222222,
              "#7201a8"
             ],
             [
              0.3333333333333333,
              "#9c179e"
             ],
             [
              0.4444444444444444,
              "#bd3786"
             ],
             [
              0.5555555555555556,
              "#d8576b"
             ],
             [
              0.6666666666666666,
              "#ed7953"
             ],
             [
              0.7777777777777778,
              "#fb9f3a"
             ],
             [
              0.8888888888888888,
              "#fdca26"
             ],
             [
              1,
              "#f0f921"
             ]
            ],
            "type": "heatmapgl"
           }
          ],
          "histogram": [
           {
            "marker": {
             "pattern": {
              "fillmode": "overlay",
              "size": 10,
              "solidity": 0.2
             }
            },
            "type": "histogram"
           }
          ],
          "histogram2d": [
           {
            "colorbar": {
             "outlinewidth": 0,
             "ticks": ""
            },
            "colorscale": [
             [
              0,
              "#0d0887"
             ],
             [
              0.1111111111111111,
              "#46039f"
             ],
             [
              0.2222222222222222,
              "#7201a8"
             ],
             [
              0.3333333333333333,
              "#9c179e"
             ],
             [
              0.4444444444444444,
              "#bd3786"
             ],
             [
              0.5555555555555556,
              "#d8576b"
             ],
             [
              0.6666666666666666,
              "#ed7953"
             ],
             [
              0.7777777777777778,
              "#fb9f3a"
             ],
             [
              0.8888888888888888,
              "#fdca26"
             ],
             [
              1,
              "#f0f921"
             ]
            ],
            "type": "histogram2d"
           }
          ],
          "histogram2dcontour": [
           {
            "colorbar": {
             "outlinewidth": 0,
             "ticks": ""
            },
            "colorscale": [
             [
              0,
              "#0d0887"
             ],
             [
              0.1111111111111111,
              "#46039f"
             ],
             [
              0.2222222222222222,
              "#7201a8"
             ],
             [
              0.3333333333333333,
              "#9c179e"
             ],
             [
              0.4444444444444444,
              "#bd3786"
             ],
             [
              0.5555555555555556,
              "#d8576b"
             ],
             [
              0.6666666666666666,
              "#ed7953"
             ],
             [
              0.7777777777777778,
              "#fb9f3a"
             ],
             [
              0.8888888888888888,
              "#fdca26"
             ],
             [
              1,
              "#f0f921"
             ]
            ],
            "type": "histogram2dcontour"
           }
          ],
          "mesh3d": [
           {
            "colorbar": {
             "outlinewidth": 0,
             "ticks": ""
            },
            "type": "mesh3d"
           }
          ],
          "parcoords": [
           {
            "line": {
             "colorbar": {
              "outlinewidth": 0,
              "ticks": ""
             }
            },
            "type": "parcoords"
           }
          ],
          "pie": [
           {
            "automargin": true,
            "type": "pie"
           }
          ],
          "scatter": [
           {
            "marker": {
             "colorbar": {
              "outlinewidth": 0,
              "ticks": ""
             }
            },
            "type": "scatter"
           }
          ],
          "scatter3d": [
           {
            "line": {
             "colorbar": {
              "outlinewidth": 0,
              "ticks": ""
             }
            },
            "marker": {
             "colorbar": {
              "outlinewidth": 0,
              "ticks": ""
             }
            },
            "type": "scatter3d"
           }
          ],
          "scattercarpet": [
           {
            "marker": {
             "colorbar": {
              "outlinewidth": 0,
              "ticks": ""
             }
            },
            "type": "scattercarpet"
           }
          ],
          "scattergeo": [
           {
            "marker": {
             "colorbar": {
              "outlinewidth": 0,
              "ticks": ""
             }
            },
            "type": "scattergeo"
           }
          ],
          "scattergl": [
           {
            "marker": {
             "colorbar": {
              "outlinewidth": 0,
              "ticks": ""
             }
            },
            "type": "scattergl"
           }
          ],
          "scattermapbox": [
           {
            "marker": {
             "colorbar": {
              "outlinewidth": 0,
              "ticks": ""
             }
            },
            "type": "scattermapbox"
           }
          ],
          "scatterpolar": [
           {
            "marker": {
             "colorbar": {
              "outlinewidth": 0,
              "ticks": ""
             }
            },
            "type": "scatterpolar"
           }
          ],
          "scatterpolargl": [
           {
            "marker": {
             "colorbar": {
              "outlinewidth": 0,
              "ticks": ""
             }
            },
            "type": "scatterpolargl"
           }
          ],
          "scatterternary": [
           {
            "marker": {
             "colorbar": {
              "outlinewidth": 0,
              "ticks": ""
             }
            },
            "type": "scatterternary"
           }
          ],
          "surface": [
           {
            "colorbar": {
             "outlinewidth": 0,
             "ticks": ""
            },
            "colorscale": [
             [
              0,
              "#0d0887"
             ],
             [
              0.1111111111111111,
              "#46039f"
             ],
             [
              0.2222222222222222,
              "#7201a8"
             ],
             [
              0.3333333333333333,
              "#9c179e"
             ],
             [
              0.4444444444444444,
              "#bd3786"
             ],
             [
              0.5555555555555556,
              "#d8576b"
             ],
             [
              0.6666666666666666,
              "#ed7953"
             ],
             [
              0.7777777777777778,
              "#fb9f3a"
             ],
             [
              0.8888888888888888,
              "#fdca26"
             ],
             [
              1,
              "#f0f921"
             ]
            ],
            "type": "surface"
           }
          ],
          "table": [
           {
            "cells": {
             "fill": {
              "color": "#EBF0F8"
             },
             "line": {
              "color": "white"
             }
            },
            "header": {
             "fill": {
              "color": "#C8D4E3"
             },
             "line": {
              "color": "white"
             }
            },
            "type": "table"
           }
          ]
         },
         "layout": {
          "annotationdefaults": {
           "arrowcolor": "#2a3f5f",
           "arrowhead": 0,
           "arrowwidth": 1
          },
          "autotypenumbers": "strict",
          "coloraxis": {
           "colorbar": {
            "outlinewidth": 0,
            "ticks": ""
           }
          },
          "colorscale": {
           "diverging": [
            [
             0,
             "#8e0152"
            ],
            [
             0.1,
             "#c51b7d"
            ],
            [
             0.2,
             "#de77ae"
            ],
            [
             0.3,
             "#f1b6da"
            ],
            [
             0.4,
             "#fde0ef"
            ],
            [
             0.5,
             "#f7f7f7"
            ],
            [
             0.6,
             "#e6f5d0"
            ],
            [
             0.7,
             "#b8e186"
            ],
            [
             0.8,
             "#7fbc41"
            ],
            [
             0.9,
             "#4d9221"
            ],
            [
             1,
             "#276419"
            ]
           ],
           "sequential": [
            [
             0,
             "#0d0887"
            ],
            [
             0.1111111111111111,
             "#46039f"
            ],
            [
             0.2222222222222222,
             "#7201a8"
            ],
            [
             0.3333333333333333,
             "#9c179e"
            ],
            [
             0.4444444444444444,
             "#bd3786"
            ],
            [
             0.5555555555555556,
             "#d8576b"
            ],
            [
             0.6666666666666666,
             "#ed7953"
            ],
            [
             0.7777777777777778,
             "#fb9f3a"
            ],
            [
             0.8888888888888888,
             "#fdca26"
            ],
            [
             1,
             "#f0f921"
            ]
           ],
           "sequentialminus": [
            [
             0,
             "#0d0887"
            ],
            [
             0.1111111111111111,
             "#46039f"
            ],
            [
             0.2222222222222222,
             "#7201a8"
            ],
            [
             0.3333333333333333,
             "#9c179e"
            ],
            [
             0.4444444444444444,
             "#bd3786"
            ],
            [
             0.5555555555555556,
             "#d8576b"
            ],
            [
             0.6666666666666666,
             "#ed7953"
            ],
            [
             0.7777777777777778,
             "#fb9f3a"
            ],
            [
             0.8888888888888888,
             "#fdca26"
            ],
            [
             1,
             "#f0f921"
            ]
           ]
          },
          "colorway": [
           "#636efa",
           "#EF553B",
           "#00cc96",
           "#ab63fa",
           "#FFA15A",
           "#19d3f3",
           "#FF6692",
           "#B6E880",
           "#FF97FF",
           "#FECB52"
          ],
          "font": {
           "color": "#2a3f5f"
          },
          "geo": {
           "bgcolor": "white",
           "lakecolor": "white",
           "landcolor": "#E5ECF6",
           "showlakes": true,
           "showland": true,
           "subunitcolor": "white"
          },
          "hoverlabel": {
           "align": "left"
          },
          "hovermode": "closest",
          "mapbox": {
           "style": "light"
          },
          "paper_bgcolor": "white",
          "plot_bgcolor": "#E5ECF6",
          "polar": {
           "angularaxis": {
            "gridcolor": "white",
            "linecolor": "white",
            "ticks": ""
           },
           "bgcolor": "#E5ECF6",
           "radialaxis": {
            "gridcolor": "white",
            "linecolor": "white",
            "ticks": ""
           }
          },
          "scene": {
           "xaxis": {
            "backgroundcolor": "#E5ECF6",
            "gridcolor": "white",
            "gridwidth": 2,
            "linecolor": "white",
            "showbackground": true,
            "ticks": "",
            "zerolinecolor": "white"
           },
           "yaxis": {
            "backgroundcolor": "#E5ECF6",
            "gridcolor": "white",
            "gridwidth": 2,
            "linecolor": "white",
            "showbackground": true,
            "ticks": "",
            "zerolinecolor": "white"
           },
           "zaxis": {
            "backgroundcolor": "#E5ECF6",
            "gridcolor": "white",
            "gridwidth": 2,
            "linecolor": "white",
            "showbackground": true,
            "ticks": "",
            "zerolinecolor": "white"
           }
          },
          "shapedefaults": {
           "line": {
            "color": "#2a3f5f"
           }
          },
          "ternary": {
           "aaxis": {
            "gridcolor": "white",
            "linecolor": "white",
            "ticks": ""
           },
           "baxis": {
            "gridcolor": "white",
            "linecolor": "white",
            "ticks": ""
           },
           "bgcolor": "#E5ECF6",
           "caxis": {
            "gridcolor": "white",
            "linecolor": "white",
            "ticks": ""
           }
          },
          "title": {
           "x": 0.05
          },
          "xaxis": {
           "automargin": true,
           "gridcolor": "white",
           "linecolor": "white",
           "ticks": "",
           "title": {
            "standoff": 15
           },
           "zerolinecolor": "white",
           "zerolinewidth": 2
          },
          "yaxis": {
           "automargin": true,
           "gridcolor": "white",
           "linecolor": "white",
           "ticks": "",
           "title": {
            "standoff": 15
           },
           "zerolinecolor": "white",
           "zerolinewidth": 2
          }
         }
        },
        "title": {
         "text": "밀리언셀러의 플랫폼별 총 출고량"
        },
        "width": 900
       }
      }
     },
     "metadata": {},
     "output_type": "display_data"
    }
   ],
   "source": [
    "# 밀리언셀러의 플랫폼별 총 출고량\n",
    "df_million_platform_sum = df_million.groupby(\"Platform\").sum()[[\"Total_Sales\"]].sort_values(by=\"Total_Sales\",ascending=False)\n",
    "fig = go.Figure()\n",
    "fig.add_trace(go.Bar(x=df_million_platform_sum.index, y=df_million_platform_sum[\"Total_Sales\"]))\n",
    "fig.update_layout(\n",
    "    title = \"밀리언셀러의 플랫폼별 총 출고량\",\n",
    "    autosize=False,\n",
    "    width=900,\n",
    "    height=450,)\n",
    "fig.show()   "
   ]
  },
  {
   "cell_type": "code",
   "execution_count": 20,
   "metadata": {},
   "outputs": [
    {
     "data": {
      "application/vnd.plotly.v1+json": {
       "config": {
        "plotlyServerURL": "https://plotly.com"
       },
       "data": [
        {
         "type": "bar",
         "x": [
          "PS4",
          "N64",
          "X360",
          "3DS",
          "GB",
          "GEN",
          "SNES",
          "WiiU",
          "PS2",
          "PS3",
          "XOne",
          "PC",
          "Wii",
          "DS",
          "GBA",
          "NES",
          "PS",
          "GC",
          "SCD",
          "PSV",
          "2600",
          "XB",
          "PSP",
          "DC",
          "SAT"
         ],
         "y": [
          2.06,
          1.9749999999999999,
          1.96,
          1.94,
          1.94,
          1.8199999999999998,
          1.81,
          1.77,
          1.76,
          1.76,
          1.75,
          1.72,
          1.71,
          1.7099999999999997,
          1.68,
          1.6549999999999998,
          1.53,
          1.53,
          1.5,
          1.4700000000000002,
          1.4050000000000002,
          1.3599999999999999,
          1.35,
          1.185,
          1.1600000000000001
         ]
        }
       ],
       "layout": {
        "autosize": false,
        "height": 450,
        "template": {
         "data": {
          "bar": [
           {
            "error_x": {
             "color": "#2a3f5f"
            },
            "error_y": {
             "color": "#2a3f5f"
            },
            "marker": {
             "line": {
              "color": "#E5ECF6",
              "width": 0.5
             },
             "pattern": {
              "fillmode": "overlay",
              "size": 10,
              "solidity": 0.2
             }
            },
            "type": "bar"
           }
          ],
          "barpolar": [
           {
            "marker": {
             "line": {
              "color": "#E5ECF6",
              "width": 0.5
             },
             "pattern": {
              "fillmode": "overlay",
              "size": 10,
              "solidity": 0.2
             }
            },
            "type": "barpolar"
           }
          ],
          "carpet": [
           {
            "aaxis": {
             "endlinecolor": "#2a3f5f",
             "gridcolor": "white",
             "linecolor": "white",
             "minorgridcolor": "white",
             "startlinecolor": "#2a3f5f"
            },
            "baxis": {
             "endlinecolor": "#2a3f5f",
             "gridcolor": "white",
             "linecolor": "white",
             "minorgridcolor": "white",
             "startlinecolor": "#2a3f5f"
            },
            "type": "carpet"
           }
          ],
          "choropleth": [
           {
            "colorbar": {
             "outlinewidth": 0,
             "ticks": ""
            },
            "type": "choropleth"
           }
          ],
          "contour": [
           {
            "colorbar": {
             "outlinewidth": 0,
             "ticks": ""
            },
            "colorscale": [
             [
              0,
              "#0d0887"
             ],
             [
              0.1111111111111111,
              "#46039f"
             ],
             [
              0.2222222222222222,
              "#7201a8"
             ],
             [
              0.3333333333333333,
              "#9c179e"
             ],
             [
              0.4444444444444444,
              "#bd3786"
             ],
             [
              0.5555555555555556,
              "#d8576b"
             ],
             [
              0.6666666666666666,
              "#ed7953"
             ],
             [
              0.7777777777777778,
              "#fb9f3a"
             ],
             [
              0.8888888888888888,
              "#fdca26"
             ],
             [
              1,
              "#f0f921"
             ]
            ],
            "type": "contour"
           }
          ],
          "contourcarpet": [
           {
            "colorbar": {
             "outlinewidth": 0,
             "ticks": ""
            },
            "type": "contourcarpet"
           }
          ],
          "heatmap": [
           {
            "colorbar": {
             "outlinewidth": 0,
             "ticks": ""
            },
            "colorscale": [
             [
              0,
              "#0d0887"
             ],
             [
              0.1111111111111111,
              "#46039f"
             ],
             [
              0.2222222222222222,
              "#7201a8"
             ],
             [
              0.3333333333333333,
              "#9c179e"
             ],
             [
              0.4444444444444444,
              "#bd3786"
             ],
             [
              0.5555555555555556,
              "#d8576b"
             ],
             [
              0.6666666666666666,
              "#ed7953"
             ],
             [
              0.7777777777777778,
              "#fb9f3a"
             ],
             [
              0.8888888888888888,
              "#fdca26"
             ],
             [
              1,
              "#f0f921"
             ]
            ],
            "type": "heatmap"
           }
          ],
          "heatmapgl": [
           {
            "colorbar": {
             "outlinewidth": 0,
             "ticks": ""
            },
            "colorscale": [
             [
              0,
              "#0d0887"
             ],
             [
              0.1111111111111111,
              "#46039f"
             ],
             [
              0.2222222222222222,
              "#7201a8"
             ],
             [
              0.3333333333333333,
              "#9c179e"
             ],
             [
              0.4444444444444444,
              "#bd3786"
             ],
             [
              0.5555555555555556,
              "#d8576b"
             ],
             [
              0.6666666666666666,
              "#ed7953"
             ],
             [
              0.7777777777777778,
              "#fb9f3a"
             ],
             [
              0.8888888888888888,
              "#fdca26"
             ],
             [
              1,
              "#f0f921"
             ]
            ],
            "type": "heatmapgl"
           }
          ],
          "histogram": [
           {
            "marker": {
             "pattern": {
              "fillmode": "overlay",
              "size": 10,
              "solidity": 0.2
             }
            },
            "type": "histogram"
           }
          ],
          "histogram2d": [
           {
            "colorbar": {
             "outlinewidth": 0,
             "ticks": ""
            },
            "colorscale": [
             [
              0,
              "#0d0887"
             ],
             [
              0.1111111111111111,
              "#46039f"
             ],
             [
              0.2222222222222222,
              "#7201a8"
             ],
             [
              0.3333333333333333,
              "#9c179e"
             ],
             [
              0.4444444444444444,
              "#bd3786"
             ],
             [
              0.5555555555555556,
              "#d8576b"
             ],
             [
              0.6666666666666666,
              "#ed7953"
             ],
             [
              0.7777777777777778,
              "#fb9f3a"
             ],
             [
              0.8888888888888888,
              "#fdca26"
             ],
             [
              1,
              "#f0f921"
             ]
            ],
            "type": "histogram2d"
           }
          ],
          "histogram2dcontour": [
           {
            "colorbar": {
             "outlinewidth": 0,
             "ticks": ""
            },
            "colorscale": [
             [
              0,
              "#0d0887"
             ],
             [
              0.1111111111111111,
              "#46039f"
             ],
             [
              0.2222222222222222,
              "#7201a8"
             ],
             [
              0.3333333333333333,
              "#9c179e"
             ],
             [
              0.4444444444444444,
              "#bd3786"
             ],
             [
              0.5555555555555556,
              "#d8576b"
             ],
             [
              0.6666666666666666,
              "#ed7953"
             ],
             [
              0.7777777777777778,
              "#fb9f3a"
             ],
             [
              0.8888888888888888,
              "#fdca26"
             ],
             [
              1,
              "#f0f921"
             ]
            ],
            "type": "histogram2dcontour"
           }
          ],
          "mesh3d": [
           {
            "colorbar": {
             "outlinewidth": 0,
             "ticks": ""
            },
            "type": "mesh3d"
           }
          ],
          "parcoords": [
           {
            "line": {
             "colorbar": {
              "outlinewidth": 0,
              "ticks": ""
             }
            },
            "type": "parcoords"
           }
          ],
          "pie": [
           {
            "automargin": true,
            "type": "pie"
           }
          ],
          "scatter": [
           {
            "marker": {
             "colorbar": {
              "outlinewidth": 0,
              "ticks": ""
             }
            },
            "type": "scatter"
           }
          ],
          "scatter3d": [
           {
            "line": {
             "colorbar": {
              "outlinewidth": 0,
              "ticks": ""
             }
            },
            "marker": {
             "colorbar": {
              "outlinewidth": 0,
              "ticks": ""
             }
            },
            "type": "scatter3d"
           }
          ],
          "scattercarpet": [
           {
            "marker": {
             "colorbar": {
              "outlinewidth": 0,
              "ticks": ""
             }
            },
            "type": "scattercarpet"
           }
          ],
          "scattergeo": [
           {
            "marker": {
             "colorbar": {
              "outlinewidth": 0,
              "ticks": ""
             }
            },
            "type": "scattergeo"
           }
          ],
          "scattergl": [
           {
            "marker": {
             "colorbar": {
              "outlinewidth": 0,
              "ticks": ""
             }
            },
            "type": "scattergl"
           }
          ],
          "scattermapbox": [
           {
            "marker": {
             "colorbar": {
              "outlinewidth": 0,
              "ticks": ""
             }
            },
            "type": "scattermapbox"
           }
          ],
          "scatterpolar": [
           {
            "marker": {
             "colorbar": {
              "outlinewidth": 0,
              "ticks": ""
             }
            },
            "type": "scatterpolar"
           }
          ],
          "scatterpolargl": [
           {
            "marker": {
             "colorbar": {
              "outlinewidth": 0,
              "ticks": ""
             }
            },
            "type": "scatterpolargl"
           }
          ],
          "scatterternary": [
           {
            "marker": {
             "colorbar": {
              "outlinewidth": 0,
              "ticks": ""
             }
            },
            "type": "scatterternary"
           }
          ],
          "surface": [
           {
            "colorbar": {
             "outlinewidth": 0,
             "ticks": ""
            },
            "colorscale": [
             [
              0,
              "#0d0887"
             ],
             [
              0.1111111111111111,
              "#46039f"
             ],
             [
              0.2222222222222222,
              "#7201a8"
             ],
             [
              0.3333333333333333,
              "#9c179e"
             ],
             [
              0.4444444444444444,
              "#bd3786"
             ],
             [
              0.5555555555555556,
              "#d8576b"
             ],
             [
              0.6666666666666666,
              "#ed7953"
             ],
             [
              0.7777777777777778,
              "#fb9f3a"
             ],
             [
              0.8888888888888888,
              "#fdca26"
             ],
             [
              1,
              "#f0f921"
             ]
            ],
            "type": "surface"
           }
          ],
          "table": [
           {
            "cells": {
             "fill": {
              "color": "#EBF0F8"
             },
             "line": {
              "color": "white"
             }
            },
            "header": {
             "fill": {
              "color": "#C8D4E3"
             },
             "line": {
              "color": "white"
             }
            },
            "type": "table"
           }
          ]
         },
         "layout": {
          "annotationdefaults": {
           "arrowcolor": "#2a3f5f",
           "arrowhead": 0,
           "arrowwidth": 1
          },
          "autotypenumbers": "strict",
          "coloraxis": {
           "colorbar": {
            "outlinewidth": 0,
            "ticks": ""
           }
          },
          "colorscale": {
           "diverging": [
            [
             0,
             "#8e0152"
            ],
            [
             0.1,
             "#c51b7d"
            ],
            [
             0.2,
             "#de77ae"
            ],
            [
             0.3,
             "#f1b6da"
            ],
            [
             0.4,
             "#fde0ef"
            ],
            [
             0.5,
             "#f7f7f7"
            ],
            [
             0.6,
             "#e6f5d0"
            ],
            [
             0.7,
             "#b8e186"
            ],
            [
             0.8,
             "#7fbc41"
            ],
            [
             0.9,
             "#4d9221"
            ],
            [
             1,
             "#276419"
            ]
           ],
           "sequential": [
            [
             0,
             "#0d0887"
            ],
            [
             0.1111111111111111,
             "#46039f"
            ],
            [
             0.2222222222222222,
             "#7201a8"
            ],
            [
             0.3333333333333333,
             "#9c179e"
            ],
            [
             0.4444444444444444,
             "#bd3786"
            ],
            [
             0.5555555555555556,
             "#d8576b"
            ],
            [
             0.6666666666666666,
             "#ed7953"
            ],
            [
             0.7777777777777778,
             "#fb9f3a"
            ],
            [
             0.8888888888888888,
             "#fdca26"
            ],
            [
             1,
             "#f0f921"
            ]
           ],
           "sequentialminus": [
            [
             0,
             "#0d0887"
            ],
            [
             0.1111111111111111,
             "#46039f"
            ],
            [
             0.2222222222222222,
             "#7201a8"
            ],
            [
             0.3333333333333333,
             "#9c179e"
            ],
            [
             0.4444444444444444,
             "#bd3786"
            ],
            [
             0.5555555555555556,
             "#d8576b"
            ],
            [
             0.6666666666666666,
             "#ed7953"
            ],
            [
             0.7777777777777778,
             "#fb9f3a"
            ],
            [
             0.8888888888888888,
             "#fdca26"
            ],
            [
             1,
             "#f0f921"
            ]
           ]
          },
          "colorway": [
           "#636efa",
           "#EF553B",
           "#00cc96",
           "#ab63fa",
           "#FFA15A",
           "#19d3f3",
           "#FF6692",
           "#B6E880",
           "#FF97FF",
           "#FECB52"
          ],
          "font": {
           "color": "#2a3f5f"
          },
          "geo": {
           "bgcolor": "white",
           "lakecolor": "white",
           "landcolor": "#E5ECF6",
           "showlakes": true,
           "showland": true,
           "subunitcolor": "white"
          },
          "hoverlabel": {
           "align": "left"
          },
          "hovermode": "closest",
          "mapbox": {
           "style": "light"
          },
          "paper_bgcolor": "white",
          "plot_bgcolor": "#E5ECF6",
          "polar": {
           "angularaxis": {
            "gridcolor": "white",
            "linecolor": "white",
            "ticks": ""
           },
           "bgcolor": "#E5ECF6",
           "radialaxis": {
            "gridcolor": "white",
            "linecolor": "white",
            "ticks": ""
           }
          },
          "scene": {
           "xaxis": {
            "backgroundcolor": "#E5ECF6",
            "gridcolor": "white",
            "gridwidth": 2,
            "linecolor": "white",
            "showbackground": true,
            "ticks": "",
            "zerolinecolor": "white"
           },
           "yaxis": {
            "backgroundcolor": "#E5ECF6",
            "gridcolor": "white",
            "gridwidth": 2,
            "linecolor": "white",
            "showbackground": true,
            "ticks": "",
            "zerolinecolor": "white"
           },
           "zaxis": {
            "backgroundcolor": "#E5ECF6",
            "gridcolor": "white",
            "gridwidth": 2,
            "linecolor": "white",
            "showbackground": true,
            "ticks": "",
            "zerolinecolor": "white"
           }
          },
          "shapedefaults": {
           "line": {
            "color": "#2a3f5f"
           }
          },
          "ternary": {
           "aaxis": {
            "gridcolor": "white",
            "linecolor": "white",
            "ticks": ""
           },
           "baxis": {
            "gridcolor": "white",
            "linecolor": "white",
            "ticks": ""
           },
           "bgcolor": "#E5ECF6",
           "caxis": {
            "gridcolor": "white",
            "linecolor": "white",
            "ticks": ""
           }
          },
          "title": {
           "x": 0.05
          },
          "xaxis": {
           "automargin": true,
           "gridcolor": "white",
           "linecolor": "white",
           "ticks": "",
           "title": {
            "standoff": 15
           },
           "zerolinecolor": "white",
           "zerolinewidth": 2
          },
          "yaxis": {
           "automargin": true,
           "gridcolor": "white",
           "linecolor": "white",
           "ticks": "",
           "title": {
            "standoff": 15
           },
           "zerolinecolor": "white",
           "zerolinewidth": 2
          }
         }
        },
        "title": {
         "text": "밀리언셀러의 플랫폼별 출고량 중위수"
        },
        "width": 900
       }
      }
     },
     "metadata": {},
     "output_type": "display_data"
    }
   ],
   "source": [
    "# 밀리언셀러의 플랫폼별 평균 출고량\n",
    "df_million_platform_mean = df_million.groupby(\"Platform\").median()[[\"Total_Sales\"]].sort_values(by=\"Total_Sales\",ascending=False)\n",
    "fig = go.Figure()\n",
    "fig.add_trace(go.Bar(x=df_million_platform_mean.index, y=df_million_platform_mean[\"Total_Sales\"]))\n",
    "fig.update_layout(\n",
    "    title = \"밀리언셀러의 플랫폼별 출고량 중위수\",\n",
    "    autosize=False,\n",
    "    width=900,\n",
    "    height=450,)\n",
    "fig.show() "
   ]
  },
  {
   "cell_type": "code",
   "execution_count": 21,
   "metadata": {},
   "outputs": [
    {
     "data": {
      "application/vnd.plotly.v1+json": {
       "config": {
        "plotlyServerURL": "https://plotly.com"
       },
       "data": [
        {
         "type": "bar",
         "x": [
          "Nintendo",
          "Electronic Arts",
          "Activision",
          "Sony Computer Entertainment",
          "Take-Two Interactive",
          "Ubisoft",
          "Microsoft Game Studios",
          "THQ",
          "Sega",
          "Konami Digital Entertainment",
          "Capcom",
          "Namco Bandai Games",
          "Warner Bros. Interactive Entertainment",
          "Atari",
          "Square Enix"
         ],
         "y": [
          1630.24,
          735.37,
          487.91,
          434.14,
          306.91,
          267.95,
          207.55,
          152.74,
          139.99,
          129.3,
          127.01,
          91.36,
          87.63,
          79.56,
          77.77
         ]
        }
       ],
       "layout": {
        "autosize": false,
        "height": 450,
        "template": {
         "data": {
          "bar": [
           {
            "error_x": {
             "color": "#2a3f5f"
            },
            "error_y": {
             "color": "#2a3f5f"
            },
            "marker": {
             "line": {
              "color": "#E5ECF6",
              "width": 0.5
             },
             "pattern": {
              "fillmode": "overlay",
              "size": 10,
              "solidity": 0.2
             }
            },
            "type": "bar"
           }
          ],
          "barpolar": [
           {
            "marker": {
             "line": {
              "color": "#E5ECF6",
              "width": 0.5
             },
             "pattern": {
              "fillmode": "overlay",
              "size": 10,
              "solidity": 0.2
             }
            },
            "type": "barpolar"
           }
          ],
          "carpet": [
           {
            "aaxis": {
             "endlinecolor": "#2a3f5f",
             "gridcolor": "white",
             "linecolor": "white",
             "minorgridcolor": "white",
             "startlinecolor": "#2a3f5f"
            },
            "baxis": {
             "endlinecolor": "#2a3f5f",
             "gridcolor": "white",
             "linecolor": "white",
             "minorgridcolor": "white",
             "startlinecolor": "#2a3f5f"
            },
            "type": "carpet"
           }
          ],
          "choropleth": [
           {
            "colorbar": {
             "outlinewidth": 0,
             "ticks": ""
            },
            "type": "choropleth"
           }
          ],
          "contour": [
           {
            "colorbar": {
             "outlinewidth": 0,
             "ticks": ""
            },
            "colorscale": [
             [
              0,
              "#0d0887"
             ],
             [
              0.1111111111111111,
              "#46039f"
             ],
             [
              0.2222222222222222,
              "#7201a8"
             ],
             [
              0.3333333333333333,
              "#9c179e"
             ],
             [
              0.4444444444444444,
              "#bd3786"
             ],
             [
              0.5555555555555556,
              "#d8576b"
             ],
             [
              0.6666666666666666,
              "#ed7953"
             ],
             [
              0.7777777777777778,
              "#fb9f3a"
             ],
             [
              0.8888888888888888,
              "#fdca26"
             ],
             [
              1,
              "#f0f921"
             ]
            ],
            "type": "contour"
           }
          ],
          "contourcarpet": [
           {
            "colorbar": {
             "outlinewidth": 0,
             "ticks": ""
            },
            "type": "contourcarpet"
           }
          ],
          "heatmap": [
           {
            "colorbar": {
             "outlinewidth": 0,
             "ticks": ""
            },
            "colorscale": [
             [
              0,
              "#0d0887"
             ],
             [
              0.1111111111111111,
              "#46039f"
             ],
             [
              0.2222222222222222,
              "#7201a8"
             ],
             [
              0.3333333333333333,
              "#9c179e"
             ],
             [
              0.4444444444444444,
              "#bd3786"
             ],
             [
              0.5555555555555556,
              "#d8576b"
             ],
             [
              0.6666666666666666,
              "#ed7953"
             ],
             [
              0.7777777777777778,
              "#fb9f3a"
             ],
             [
              0.8888888888888888,
              "#fdca26"
             ],
             [
              1,
              "#f0f921"
             ]
            ],
            "type": "heatmap"
           }
          ],
          "heatmapgl": [
           {
            "colorbar": {
             "outlinewidth": 0,
             "ticks": ""
            },
            "colorscale": [
             [
              0,
              "#0d0887"
             ],
             [
              0.1111111111111111,
              "#46039f"
             ],
             [
              0.2222222222222222,
              "#7201a8"
             ],
             [
              0.3333333333333333,
              "#9c179e"
             ],
             [
              0.4444444444444444,
              "#bd3786"
             ],
             [
              0.5555555555555556,
              "#d8576b"
             ],
             [
              0.6666666666666666,
              "#ed7953"
             ],
             [
              0.7777777777777778,
              "#fb9f3a"
             ],
             [
              0.8888888888888888,
              "#fdca26"
             ],
             [
              1,
              "#f0f921"
             ]
            ],
            "type": "heatmapgl"
           }
          ],
          "histogram": [
           {
            "marker": {
             "pattern": {
              "fillmode": "overlay",
              "size": 10,
              "solidity": 0.2
             }
            },
            "type": "histogram"
           }
          ],
          "histogram2d": [
           {
            "colorbar": {
             "outlinewidth": 0,
             "ticks": ""
            },
            "colorscale": [
             [
              0,
              "#0d0887"
             ],
             [
              0.1111111111111111,
              "#46039f"
             ],
             [
              0.2222222222222222,
              "#7201a8"
             ],
             [
              0.3333333333333333,
              "#9c179e"
             ],
             [
              0.4444444444444444,
              "#bd3786"
             ],
             [
              0.5555555555555556,
              "#d8576b"
             ],
             [
              0.6666666666666666,
              "#ed7953"
             ],
             [
              0.7777777777777778,
              "#fb9f3a"
             ],
             [
              0.8888888888888888,
              "#fdca26"
             ],
             [
              1,
              "#f0f921"
             ]
            ],
            "type": "histogram2d"
           }
          ],
          "histogram2dcontour": [
           {
            "colorbar": {
             "outlinewidth": 0,
             "ticks": ""
            },
            "colorscale": [
             [
              0,
              "#0d0887"
             ],
             [
              0.1111111111111111,
              "#46039f"
             ],
             [
              0.2222222222222222,
              "#7201a8"
             ],
             [
              0.3333333333333333,
              "#9c179e"
             ],
             [
              0.4444444444444444,
              "#bd3786"
             ],
             [
              0.5555555555555556,
              "#d8576b"
             ],
             [
              0.6666666666666666,
              "#ed7953"
             ],
             [
              0.7777777777777778,
              "#fb9f3a"
             ],
             [
              0.8888888888888888,
              "#fdca26"
             ],
             [
              1,
              "#f0f921"
             ]
            ],
            "type": "histogram2dcontour"
           }
          ],
          "mesh3d": [
           {
            "colorbar": {
             "outlinewidth": 0,
             "ticks": ""
            },
            "type": "mesh3d"
           }
          ],
          "parcoords": [
           {
            "line": {
             "colorbar": {
              "outlinewidth": 0,
              "ticks": ""
             }
            },
            "type": "parcoords"
           }
          ],
          "pie": [
           {
            "automargin": true,
            "type": "pie"
           }
          ],
          "scatter": [
           {
            "marker": {
             "colorbar": {
              "outlinewidth": 0,
              "ticks": ""
             }
            },
            "type": "scatter"
           }
          ],
          "scatter3d": [
           {
            "line": {
             "colorbar": {
              "outlinewidth": 0,
              "ticks": ""
             }
            },
            "marker": {
             "colorbar": {
              "outlinewidth": 0,
              "ticks": ""
             }
            },
            "type": "scatter3d"
           }
          ],
          "scattercarpet": [
           {
            "marker": {
             "colorbar": {
              "outlinewidth": 0,
              "ticks": ""
             }
            },
            "type": "scattercarpet"
           }
          ],
          "scattergeo": [
           {
            "marker": {
             "colorbar": {
              "outlinewidth": 0,
              "ticks": ""
             }
            },
            "type": "scattergeo"
           }
          ],
          "scattergl": [
           {
            "marker": {
             "colorbar": {
              "outlinewidth": 0,
              "ticks": ""
             }
            },
            "type": "scattergl"
           }
          ],
          "scattermapbox": [
           {
            "marker": {
             "colorbar": {
              "outlinewidth": 0,
              "ticks": ""
             }
            },
            "type": "scattermapbox"
           }
          ],
          "scatterpolar": [
           {
            "marker": {
             "colorbar": {
              "outlinewidth": 0,
              "ticks": ""
             }
            },
            "type": "scatterpolar"
           }
          ],
          "scatterpolargl": [
           {
            "marker": {
             "colorbar": {
              "outlinewidth": 0,
              "ticks": ""
             }
            },
            "type": "scatterpolargl"
           }
          ],
          "scatterternary": [
           {
            "marker": {
             "colorbar": {
              "outlinewidth": 0,
              "ticks": ""
             }
            },
            "type": "scatterternary"
           }
          ],
          "surface": [
           {
            "colorbar": {
             "outlinewidth": 0,
             "ticks": ""
            },
            "colorscale": [
             [
              0,
              "#0d0887"
             ],
             [
              0.1111111111111111,
              "#46039f"
             ],
             [
              0.2222222222222222,
              "#7201a8"
             ],
             [
              0.3333333333333333,
              "#9c179e"
             ],
             [
              0.4444444444444444,
              "#bd3786"
             ],
             [
              0.5555555555555556,
              "#d8576b"
             ],
             [
              0.6666666666666666,
              "#ed7953"
             ],
             [
              0.7777777777777778,
              "#fb9f3a"
             ],
             [
              0.8888888888888888,
              "#fdca26"
             ],
             [
              1,
              "#f0f921"
             ]
            ],
            "type": "surface"
           }
          ],
          "table": [
           {
            "cells": {
             "fill": {
              "color": "#EBF0F8"
             },
             "line": {
              "color": "white"
             }
            },
            "header": {
             "fill": {
              "color": "#C8D4E3"
             },
             "line": {
              "color": "white"
             }
            },
            "type": "table"
           }
          ]
         },
         "layout": {
          "annotationdefaults": {
           "arrowcolor": "#2a3f5f",
           "arrowhead": 0,
           "arrowwidth": 1
          },
          "autotypenumbers": "strict",
          "coloraxis": {
           "colorbar": {
            "outlinewidth": 0,
            "ticks": ""
           }
          },
          "colorscale": {
           "diverging": [
            [
             0,
             "#8e0152"
            ],
            [
             0.1,
             "#c51b7d"
            ],
            [
             0.2,
             "#de77ae"
            ],
            [
             0.3,
             "#f1b6da"
            ],
            [
             0.4,
             "#fde0ef"
            ],
            [
             0.5,
             "#f7f7f7"
            ],
            [
             0.6,
             "#e6f5d0"
            ],
            [
             0.7,
             "#b8e186"
            ],
            [
             0.8,
             "#7fbc41"
            ],
            [
             0.9,
             "#4d9221"
            ],
            [
             1,
             "#276419"
            ]
           ],
           "sequential": [
            [
             0,
             "#0d0887"
            ],
            [
             0.1111111111111111,
             "#46039f"
            ],
            [
             0.2222222222222222,
             "#7201a8"
            ],
            [
             0.3333333333333333,
             "#9c179e"
            ],
            [
             0.4444444444444444,
             "#bd3786"
            ],
            [
             0.5555555555555556,
             "#d8576b"
            ],
            [
             0.6666666666666666,
             "#ed7953"
            ],
            [
             0.7777777777777778,
             "#fb9f3a"
            ],
            [
             0.8888888888888888,
             "#fdca26"
            ],
            [
             1,
             "#f0f921"
            ]
           ],
           "sequentialminus": [
            [
             0,
             "#0d0887"
            ],
            [
             0.1111111111111111,
             "#46039f"
            ],
            [
             0.2222222222222222,
             "#7201a8"
            ],
            [
             0.3333333333333333,
             "#9c179e"
            ],
            [
             0.4444444444444444,
             "#bd3786"
            ],
            [
             0.5555555555555556,
             "#d8576b"
            ],
            [
             0.6666666666666666,
             "#ed7953"
            ],
            [
             0.7777777777777778,
             "#fb9f3a"
            ],
            [
             0.8888888888888888,
             "#fdca26"
            ],
            [
             1,
             "#f0f921"
            ]
           ]
          },
          "colorway": [
           "#636efa",
           "#EF553B",
           "#00cc96",
           "#ab63fa",
           "#FFA15A",
           "#19d3f3",
           "#FF6692",
           "#B6E880",
           "#FF97FF",
           "#FECB52"
          ],
          "font": {
           "color": "#2a3f5f"
          },
          "geo": {
           "bgcolor": "white",
           "lakecolor": "white",
           "landcolor": "#E5ECF6",
           "showlakes": true,
           "showland": true,
           "subunitcolor": "white"
          },
          "hoverlabel": {
           "align": "left"
          },
          "hovermode": "closest",
          "mapbox": {
           "style": "light"
          },
          "paper_bgcolor": "white",
          "plot_bgcolor": "#E5ECF6",
          "polar": {
           "angularaxis": {
            "gridcolor": "white",
            "linecolor": "white",
            "ticks": ""
           },
           "bgcolor": "#E5ECF6",
           "radialaxis": {
            "gridcolor": "white",
            "linecolor": "white",
            "ticks": ""
           }
          },
          "scene": {
           "xaxis": {
            "backgroundcolor": "#E5ECF6",
            "gridcolor": "white",
            "gridwidth": 2,
            "linecolor": "white",
            "showbackground": true,
            "ticks": "",
            "zerolinecolor": "white"
           },
           "yaxis": {
            "backgroundcolor": "#E5ECF6",
            "gridcolor": "white",
            "gridwidth": 2,
            "linecolor": "white",
            "showbackground": true,
            "ticks": "",
            "zerolinecolor": "white"
           },
           "zaxis": {
            "backgroundcolor": "#E5ECF6",
            "gridcolor": "white",
            "gridwidth": 2,
            "linecolor": "white",
            "showbackground": true,
            "ticks": "",
            "zerolinecolor": "white"
           }
          },
          "shapedefaults": {
           "line": {
            "color": "#2a3f5f"
           }
          },
          "ternary": {
           "aaxis": {
            "gridcolor": "white",
            "linecolor": "white",
            "ticks": ""
           },
           "baxis": {
            "gridcolor": "white",
            "linecolor": "white",
            "ticks": ""
           },
           "bgcolor": "#E5ECF6",
           "caxis": {
            "gridcolor": "white",
            "linecolor": "white",
            "ticks": ""
           }
          },
          "title": {
           "x": 0.05
          },
          "xaxis": {
           "automargin": true,
           "gridcolor": "white",
           "linecolor": "white",
           "ticks": "",
           "title": {
            "standoff": 15
           },
           "zerolinecolor": "white",
           "zerolinewidth": 2
          },
          "yaxis": {
           "automargin": true,
           "gridcolor": "white",
           "linecolor": "white",
           "ticks": "",
           "title": {
            "standoff": 15
           },
           "zerolinecolor": "white",
           "zerolinewidth": 2
          }
         }
        },
        "title": {
         "text": "밀리언셀러의 퍼블리셔별 총 출고량 상위15개"
        },
        "width": 900
       }
      }
     },
     "metadata": {},
     "output_type": "display_data"
    }
   ],
   "source": [
    "# 밀리언셀러의 퍼블리셔별 총 출고량 상위15개\n",
    "df_million_publisher_sum = df_million.groupby(\"Publisher\").sum()[[\"Total_Sales\"]].sort_values(by=\"Total_Sales\",ascending=False).iloc[:15,:]\n",
    "fig = go.Figure()\n",
    "fig.add_trace(go.Bar(x=df_million_publisher_sum.index, y=df_million_publisher_sum[\"Total_Sales\"]))\n",
    "fig.update_layout(\n",
    "    title = \"밀리언셀러의 퍼블리셔별 총 출고량 상위15개\",\n",
    "    autosize=False,\n",
    "    width=900,\n",
    "    height=450,)\n",
    "fig.show() "
   ]
  },
  {
   "cell_type": "code",
   "execution_count": 22,
   "metadata": {},
   "outputs": [
    {
     "data": {
      "application/vnd.plotly.v1+json": {
       "config": {
        "plotlyServerURL": "https://plotly.com"
       },
       "data": [
        {
         "type": "bar",
         "x": [
          "Palcom",
          "505 Games",
          "Majesco Entertainment",
          "Red Orb",
          "Enix Corporation",
          "Fox Interactive",
          "JVC",
          "RedOctane",
          "Microsoft Game Studios",
          "Arena Entertainment",
          "NCSoft",
          "Nintendo",
          "Level 5",
          "UEP Systems",
          "Parker Bros."
         ],
         "y": [
          4.17,
          2.9099999999999993,
          2.8900000000000006,
          2.625,
          2.56,
          2.5450000000000004,
          2.4099999999999997,
          2.3799999999999994,
          2.375,
          2.36,
          2.3,
          2.3,
          2.28,
          2.2600000000000002,
          2.2
         ]
        }
       ],
       "layout": {
        "autosize": false,
        "height": 450,
        "template": {
         "data": {
          "bar": [
           {
            "error_x": {
             "color": "#2a3f5f"
            },
            "error_y": {
             "color": "#2a3f5f"
            },
            "marker": {
             "line": {
              "color": "#E5ECF6",
              "width": 0.5
             },
             "pattern": {
              "fillmode": "overlay",
              "size": 10,
              "solidity": 0.2
             }
            },
            "type": "bar"
           }
          ],
          "barpolar": [
           {
            "marker": {
             "line": {
              "color": "#E5ECF6",
              "width": 0.5
             },
             "pattern": {
              "fillmode": "overlay",
              "size": 10,
              "solidity": 0.2
             }
            },
            "type": "barpolar"
           }
          ],
          "carpet": [
           {
            "aaxis": {
             "endlinecolor": "#2a3f5f",
             "gridcolor": "white",
             "linecolor": "white",
             "minorgridcolor": "white",
             "startlinecolor": "#2a3f5f"
            },
            "baxis": {
             "endlinecolor": "#2a3f5f",
             "gridcolor": "white",
             "linecolor": "white",
             "minorgridcolor": "white",
             "startlinecolor": "#2a3f5f"
            },
            "type": "carpet"
           }
          ],
          "choropleth": [
           {
            "colorbar": {
             "outlinewidth": 0,
             "ticks": ""
            },
            "type": "choropleth"
           }
          ],
          "contour": [
           {
            "colorbar": {
             "outlinewidth": 0,
             "ticks": ""
            },
            "colorscale": [
             [
              0,
              "#0d0887"
             ],
             [
              0.1111111111111111,
              "#46039f"
             ],
             [
              0.2222222222222222,
              "#7201a8"
             ],
             [
              0.3333333333333333,
              "#9c179e"
             ],
             [
              0.4444444444444444,
              "#bd3786"
             ],
             [
              0.5555555555555556,
              "#d8576b"
             ],
             [
              0.6666666666666666,
              "#ed7953"
             ],
             [
              0.7777777777777778,
              "#fb9f3a"
             ],
             [
              0.8888888888888888,
              "#fdca26"
             ],
             [
              1,
              "#f0f921"
             ]
            ],
            "type": "contour"
           }
          ],
          "contourcarpet": [
           {
            "colorbar": {
             "outlinewidth": 0,
             "ticks": ""
            },
            "type": "contourcarpet"
           }
          ],
          "heatmap": [
           {
            "colorbar": {
             "outlinewidth": 0,
             "ticks": ""
            },
            "colorscale": [
             [
              0,
              "#0d0887"
             ],
             [
              0.1111111111111111,
              "#46039f"
             ],
             [
              0.2222222222222222,
              "#7201a8"
             ],
             [
              0.3333333333333333,
              "#9c179e"
             ],
             [
              0.4444444444444444,
              "#bd3786"
             ],
             [
              0.5555555555555556,
              "#d8576b"
             ],
             [
              0.6666666666666666,
              "#ed7953"
             ],
             [
              0.7777777777777778,
              "#fb9f3a"
             ],
             [
              0.8888888888888888,
              "#fdca26"
             ],
             [
              1,
              "#f0f921"
             ]
            ],
            "type": "heatmap"
           }
          ],
          "heatmapgl": [
           {
            "colorbar": {
             "outlinewidth": 0,
             "ticks": ""
            },
            "colorscale": [
             [
              0,
              "#0d0887"
             ],
             [
              0.1111111111111111,
              "#46039f"
             ],
             [
              0.2222222222222222,
              "#7201a8"
             ],
             [
              0.3333333333333333,
              "#9c179e"
             ],
             [
              0.4444444444444444,
              "#bd3786"
             ],
             [
              0.5555555555555556,
              "#d8576b"
             ],
             [
              0.6666666666666666,
              "#ed7953"
             ],
             [
              0.7777777777777778,
              "#fb9f3a"
             ],
             [
              0.8888888888888888,
              "#fdca26"
             ],
             [
              1,
              "#f0f921"
             ]
            ],
            "type": "heatmapgl"
           }
          ],
          "histogram": [
           {
            "marker": {
             "pattern": {
              "fillmode": "overlay",
              "size": 10,
              "solidity": 0.2
             }
            },
            "type": "histogram"
           }
          ],
          "histogram2d": [
           {
            "colorbar": {
             "outlinewidth": 0,
             "ticks": ""
            },
            "colorscale": [
             [
              0,
              "#0d0887"
             ],
             [
              0.1111111111111111,
              "#46039f"
             ],
             [
              0.2222222222222222,
              "#7201a8"
             ],
             [
              0.3333333333333333,
              "#9c179e"
             ],
             [
              0.4444444444444444,
              "#bd3786"
             ],
             [
              0.5555555555555556,
              "#d8576b"
             ],
             [
              0.6666666666666666,
              "#ed7953"
             ],
             [
              0.7777777777777778,
              "#fb9f3a"
             ],
             [
              0.8888888888888888,
              "#fdca26"
             ],
             [
              1,
              "#f0f921"
             ]
            ],
            "type": "histogram2d"
           }
          ],
          "histogram2dcontour": [
           {
            "colorbar": {
             "outlinewidth": 0,
             "ticks": ""
            },
            "colorscale": [
             [
              0,
              "#0d0887"
             ],
             [
              0.1111111111111111,
              "#46039f"
             ],
             [
              0.2222222222222222,
              "#7201a8"
             ],
             [
              0.3333333333333333,
              "#9c179e"
             ],
             [
              0.4444444444444444,
              "#bd3786"
             ],
             [
              0.5555555555555556,
              "#d8576b"
             ],
             [
              0.6666666666666666,
              "#ed7953"
             ],
             [
              0.7777777777777778,
              "#fb9f3a"
             ],
             [
              0.8888888888888888,
              "#fdca26"
             ],
             [
              1,
              "#f0f921"
             ]
            ],
            "type": "histogram2dcontour"
           }
          ],
          "mesh3d": [
           {
            "colorbar": {
             "outlinewidth": 0,
             "ticks": ""
            },
            "type": "mesh3d"
           }
          ],
          "parcoords": [
           {
            "line": {
             "colorbar": {
              "outlinewidth": 0,
              "ticks": ""
             }
            },
            "type": "parcoords"
           }
          ],
          "pie": [
           {
            "automargin": true,
            "type": "pie"
           }
          ],
          "scatter": [
           {
            "marker": {
             "colorbar": {
              "outlinewidth": 0,
              "ticks": ""
             }
            },
            "type": "scatter"
           }
          ],
          "scatter3d": [
           {
            "line": {
             "colorbar": {
              "outlinewidth": 0,
              "ticks": ""
             }
            },
            "marker": {
             "colorbar": {
              "outlinewidth": 0,
              "ticks": ""
             }
            },
            "type": "scatter3d"
           }
          ],
          "scattercarpet": [
           {
            "marker": {
             "colorbar": {
              "outlinewidth": 0,
              "ticks": ""
             }
            },
            "type": "scattercarpet"
           }
          ],
          "scattergeo": [
           {
            "marker": {
             "colorbar": {
              "outlinewidth": 0,
              "ticks": ""
             }
            },
            "type": "scattergeo"
           }
          ],
          "scattergl": [
           {
            "marker": {
             "colorbar": {
              "outlinewidth": 0,
              "ticks": ""
             }
            },
            "type": "scattergl"
           }
          ],
          "scattermapbox": [
           {
            "marker": {
             "colorbar": {
              "outlinewidth": 0,
              "ticks": ""
             }
            },
            "type": "scattermapbox"
           }
          ],
          "scatterpolar": [
           {
            "marker": {
             "colorbar": {
              "outlinewidth": 0,
              "ticks": ""
             }
            },
            "type": "scatterpolar"
           }
          ],
          "scatterpolargl": [
           {
            "marker": {
             "colorbar": {
              "outlinewidth": 0,
              "ticks": ""
             }
            },
            "type": "scatterpolargl"
           }
          ],
          "scatterternary": [
           {
            "marker": {
             "colorbar": {
              "outlinewidth": 0,
              "ticks": ""
             }
            },
            "type": "scatterternary"
           }
          ],
          "surface": [
           {
            "colorbar": {
             "outlinewidth": 0,
             "ticks": ""
            },
            "colorscale": [
             [
              0,
              "#0d0887"
             ],
             [
              0.1111111111111111,
              "#46039f"
             ],
             [
              0.2222222222222222,
              "#7201a8"
             ],
             [
              0.3333333333333333,
              "#9c179e"
             ],
             [
              0.4444444444444444,
              "#bd3786"
             ],
             [
              0.5555555555555556,
              "#d8576b"
             ],
             [
              0.6666666666666666,
              "#ed7953"
             ],
             [
              0.7777777777777778,
              "#fb9f3a"
             ],
             [
              0.8888888888888888,
              "#fdca26"
             ],
             [
              1,
              "#f0f921"
             ]
            ],
            "type": "surface"
           }
          ],
          "table": [
           {
            "cells": {
             "fill": {
              "color": "#EBF0F8"
             },
             "line": {
              "color": "white"
             }
            },
            "header": {
             "fill": {
              "color": "#C8D4E3"
             },
             "line": {
              "color": "white"
             }
            },
            "type": "table"
           }
          ]
         },
         "layout": {
          "annotationdefaults": {
           "arrowcolor": "#2a3f5f",
           "arrowhead": 0,
           "arrowwidth": 1
          },
          "autotypenumbers": "strict",
          "coloraxis": {
           "colorbar": {
            "outlinewidth": 0,
            "ticks": ""
           }
          },
          "colorscale": {
           "diverging": [
            [
             0,
             "#8e0152"
            ],
            [
             0.1,
             "#c51b7d"
            ],
            [
             0.2,
             "#de77ae"
            ],
            [
             0.3,
             "#f1b6da"
            ],
            [
             0.4,
             "#fde0ef"
            ],
            [
             0.5,
             "#f7f7f7"
            ],
            [
             0.6,
             "#e6f5d0"
            ],
            [
             0.7,
             "#b8e186"
            ],
            [
             0.8,
             "#7fbc41"
            ],
            [
             0.9,
             "#4d9221"
            ],
            [
             1,
             "#276419"
            ]
           ],
           "sequential": [
            [
             0,
             "#0d0887"
            ],
            [
             0.1111111111111111,
             "#46039f"
            ],
            [
             0.2222222222222222,
             "#7201a8"
            ],
            [
             0.3333333333333333,
             "#9c179e"
            ],
            [
             0.4444444444444444,
             "#bd3786"
            ],
            [
             0.5555555555555556,
             "#d8576b"
            ],
            [
             0.6666666666666666,
             "#ed7953"
            ],
            [
             0.7777777777777778,
             "#fb9f3a"
            ],
            [
             0.8888888888888888,
             "#fdca26"
            ],
            [
             1,
             "#f0f921"
            ]
           ],
           "sequentialminus": [
            [
             0,
             "#0d0887"
            ],
            [
             0.1111111111111111,
             "#46039f"
            ],
            [
             0.2222222222222222,
             "#7201a8"
            ],
            [
             0.3333333333333333,
             "#9c179e"
            ],
            [
             0.4444444444444444,
             "#bd3786"
            ],
            [
             0.5555555555555556,
             "#d8576b"
            ],
            [
             0.6666666666666666,
             "#ed7953"
            ],
            [
             0.7777777777777778,
             "#fb9f3a"
            ],
            [
             0.8888888888888888,
             "#fdca26"
            ],
            [
             1,
             "#f0f921"
            ]
           ]
          },
          "colorway": [
           "#636efa",
           "#EF553B",
           "#00cc96",
           "#ab63fa",
           "#FFA15A",
           "#19d3f3",
           "#FF6692",
           "#B6E880",
           "#FF97FF",
           "#FECB52"
          ],
          "font": {
           "color": "#2a3f5f"
          },
          "geo": {
           "bgcolor": "white",
           "lakecolor": "white",
           "landcolor": "#E5ECF6",
           "showlakes": true,
           "showland": true,
           "subunitcolor": "white"
          },
          "hoverlabel": {
           "align": "left"
          },
          "hovermode": "closest",
          "mapbox": {
           "style": "light"
          },
          "paper_bgcolor": "white",
          "plot_bgcolor": "#E5ECF6",
          "polar": {
           "angularaxis": {
            "gridcolor": "white",
            "linecolor": "white",
            "ticks": ""
           },
           "bgcolor": "#E5ECF6",
           "radialaxis": {
            "gridcolor": "white",
            "linecolor": "white",
            "ticks": ""
           }
          },
          "scene": {
           "xaxis": {
            "backgroundcolor": "#E5ECF6",
            "gridcolor": "white",
            "gridwidth": 2,
            "linecolor": "white",
            "showbackground": true,
            "ticks": "",
            "zerolinecolor": "white"
           },
           "yaxis": {
            "backgroundcolor": "#E5ECF6",
            "gridcolor": "white",
            "gridwidth": 2,
            "linecolor": "white",
            "showbackground": true,
            "ticks": "",
            "zerolinecolor": "white"
           },
           "zaxis": {
            "backgroundcolor": "#E5ECF6",
            "gridcolor": "white",
            "gridwidth": 2,
            "linecolor": "white",
            "showbackground": true,
            "ticks": "",
            "zerolinecolor": "white"
           }
          },
          "shapedefaults": {
           "line": {
            "color": "#2a3f5f"
           }
          },
          "ternary": {
           "aaxis": {
            "gridcolor": "white",
            "linecolor": "white",
            "ticks": ""
           },
           "baxis": {
            "gridcolor": "white",
            "linecolor": "white",
            "ticks": ""
           },
           "bgcolor": "#E5ECF6",
           "caxis": {
            "gridcolor": "white",
            "linecolor": "white",
            "ticks": ""
           }
          },
          "title": {
           "x": 0.05
          },
          "xaxis": {
           "automargin": true,
           "gridcolor": "white",
           "linecolor": "white",
           "ticks": "",
           "title": {
            "standoff": 15
           },
           "zerolinecolor": "white",
           "zerolinewidth": 2
          },
          "yaxis": {
           "automargin": true,
           "gridcolor": "white",
           "linecolor": "white",
           "ticks": "",
           "title": {
            "standoff": 15
           },
           "zerolinecolor": "white",
           "zerolinewidth": 2
          }
         }
        },
        "title": {
         "text": "밀리언셀러의 퍼블리셔별 출고량 중위수 상위15개"
        },
        "width": 900
       }
      }
     },
     "metadata": {},
     "output_type": "display_data"
    }
   ],
   "source": [
    "# 밀리언셀러의 퍼블리셔별 평균 출고량 상위15개\n",
    "df_million_publisher_mean = df_million.groupby(\"Publisher\").median()[[\"Total_Sales\"]].sort_values(by=\"Total_Sales\",ascending=False).iloc[:15,:]\n",
    "fig = go.Figure()\n",
    "fig.add_trace(go.Bar(x=df_million_publisher_mean.index, y=df_million_publisher_mean[\"Total_Sales\"]))\n",
    "fig.update_layout(\n",
    "    title = \"밀리언셀러의 퍼블리셔별 출고량 중위수 상위15개\",\n",
    "    autosize=False,\n",
    "    width=900,\n",
    "    height=450,)\n",
    "fig.show() "
   ]
  },
  {
   "cell_type": "code",
   "execution_count": 23,
   "metadata": {},
   "outputs": [
    {
     "data": {
      "application/vnd.plotly.v1+json": {
       "config": {
        "plotlyServerURL": "https://plotly.com"
       },
       "data": [
        {
         "type": "bar",
         "x": [
          "Action",
          "Sports",
          "Shooter",
          "Platform",
          "Role-Playing",
          "Racing",
          "Misc",
          "Fighting",
          "Simulation",
          "Puzzle",
          "Adventure",
          "Strategy"
         ],
         "y": [
          1063.97,
          790.02,
          770.29,
          655.72,
          614.77,
          484.33,
          468.27,
          269.27,
          228.67000000000002,
          157.11,
          93.99,
          65.92
         ]
        }
       ],
       "layout": {
        "autosize": false,
        "height": 450,
        "template": {
         "data": {
          "bar": [
           {
            "error_x": {
             "color": "#2a3f5f"
            },
            "error_y": {
             "color": "#2a3f5f"
            },
            "marker": {
             "line": {
              "color": "#E5ECF6",
              "width": 0.5
             },
             "pattern": {
              "fillmode": "overlay",
              "size": 10,
              "solidity": 0.2
             }
            },
            "type": "bar"
           }
          ],
          "barpolar": [
           {
            "marker": {
             "line": {
              "color": "#E5ECF6",
              "width": 0.5
             },
             "pattern": {
              "fillmode": "overlay",
              "size": 10,
              "solidity": 0.2
             }
            },
            "type": "barpolar"
           }
          ],
          "carpet": [
           {
            "aaxis": {
             "endlinecolor": "#2a3f5f",
             "gridcolor": "white",
             "linecolor": "white",
             "minorgridcolor": "white",
             "startlinecolor": "#2a3f5f"
            },
            "baxis": {
             "endlinecolor": "#2a3f5f",
             "gridcolor": "white",
             "linecolor": "white",
             "minorgridcolor": "white",
             "startlinecolor": "#2a3f5f"
            },
            "type": "carpet"
           }
          ],
          "choropleth": [
           {
            "colorbar": {
             "outlinewidth": 0,
             "ticks": ""
            },
            "type": "choropleth"
           }
          ],
          "contour": [
           {
            "colorbar": {
             "outlinewidth": 0,
             "ticks": ""
            },
            "colorscale": [
             [
              0,
              "#0d0887"
             ],
             [
              0.1111111111111111,
              "#46039f"
             ],
             [
              0.2222222222222222,
              "#7201a8"
             ],
             [
              0.3333333333333333,
              "#9c179e"
             ],
             [
              0.4444444444444444,
              "#bd3786"
             ],
             [
              0.5555555555555556,
              "#d8576b"
             ],
             [
              0.6666666666666666,
              "#ed7953"
             ],
             [
              0.7777777777777778,
              "#fb9f3a"
             ],
             [
              0.8888888888888888,
              "#fdca26"
             ],
             [
              1,
              "#f0f921"
             ]
            ],
            "type": "contour"
           }
          ],
          "contourcarpet": [
           {
            "colorbar": {
             "outlinewidth": 0,
             "ticks": ""
            },
            "type": "contourcarpet"
           }
          ],
          "heatmap": [
           {
            "colorbar": {
             "outlinewidth": 0,
             "ticks": ""
            },
            "colorscale": [
             [
              0,
              "#0d0887"
             ],
             [
              0.1111111111111111,
              "#46039f"
             ],
             [
              0.2222222222222222,
              "#7201a8"
             ],
             [
              0.3333333333333333,
              "#9c179e"
             ],
             [
              0.4444444444444444,
              "#bd3786"
             ],
             [
              0.5555555555555556,
              "#d8576b"
             ],
             [
              0.6666666666666666,
              "#ed7953"
             ],
             [
              0.7777777777777778,
              "#fb9f3a"
             ],
             [
              0.8888888888888888,
              "#fdca26"
             ],
             [
              1,
              "#f0f921"
             ]
            ],
            "type": "heatmap"
           }
          ],
          "heatmapgl": [
           {
            "colorbar": {
             "outlinewidth": 0,
             "ticks": ""
            },
            "colorscale": [
             [
              0,
              "#0d0887"
             ],
             [
              0.1111111111111111,
              "#46039f"
             ],
             [
              0.2222222222222222,
              "#7201a8"
             ],
             [
              0.3333333333333333,
              "#9c179e"
             ],
             [
              0.4444444444444444,
              "#bd3786"
             ],
             [
              0.5555555555555556,
              "#d8576b"
             ],
             [
              0.6666666666666666,
              "#ed7953"
             ],
             [
              0.7777777777777778,
              "#fb9f3a"
             ],
             [
              0.8888888888888888,
              "#fdca26"
             ],
             [
              1,
              "#f0f921"
             ]
            ],
            "type": "heatmapgl"
           }
          ],
          "histogram": [
           {
            "marker": {
             "pattern": {
              "fillmode": "overlay",
              "size": 10,
              "solidity": 0.2
             }
            },
            "type": "histogram"
           }
          ],
          "histogram2d": [
           {
            "colorbar": {
             "outlinewidth": 0,
             "ticks": ""
            },
            "colorscale": [
             [
              0,
              "#0d0887"
             ],
             [
              0.1111111111111111,
              "#46039f"
             ],
             [
              0.2222222222222222,
              "#7201a8"
             ],
             [
              0.3333333333333333,
              "#9c179e"
             ],
             [
              0.4444444444444444,
              "#bd3786"
             ],
             [
              0.5555555555555556,
              "#d8576b"
             ],
             [
              0.6666666666666666,
              "#ed7953"
             ],
             [
              0.7777777777777778,
              "#fb9f3a"
             ],
             [
              0.8888888888888888,
              "#fdca26"
             ],
             [
              1,
              "#f0f921"
             ]
            ],
            "type": "histogram2d"
           }
          ],
          "histogram2dcontour": [
           {
            "colorbar": {
             "outlinewidth": 0,
             "ticks": ""
            },
            "colorscale": [
             [
              0,
              "#0d0887"
             ],
             [
              0.1111111111111111,
              "#46039f"
             ],
             [
              0.2222222222222222,
              "#7201a8"
             ],
             [
              0.3333333333333333,
              "#9c179e"
             ],
             [
              0.4444444444444444,
              "#bd3786"
             ],
             [
              0.5555555555555556,
              "#d8576b"
             ],
             [
              0.6666666666666666,
              "#ed7953"
             ],
             [
              0.7777777777777778,
              "#fb9f3a"
             ],
             [
              0.8888888888888888,
              "#fdca26"
             ],
             [
              1,
              "#f0f921"
             ]
            ],
            "type": "histogram2dcontour"
           }
          ],
          "mesh3d": [
           {
            "colorbar": {
             "outlinewidth": 0,
             "ticks": ""
            },
            "type": "mesh3d"
           }
          ],
          "parcoords": [
           {
            "line": {
             "colorbar": {
              "outlinewidth": 0,
              "ticks": ""
             }
            },
            "type": "parcoords"
           }
          ],
          "pie": [
           {
            "automargin": true,
            "type": "pie"
           }
          ],
          "scatter": [
           {
            "marker": {
             "colorbar": {
              "outlinewidth": 0,
              "ticks": ""
             }
            },
            "type": "scatter"
           }
          ],
          "scatter3d": [
           {
            "line": {
             "colorbar": {
              "outlinewidth": 0,
              "ticks": ""
             }
            },
            "marker": {
             "colorbar": {
              "outlinewidth": 0,
              "ticks": ""
             }
            },
            "type": "scatter3d"
           }
          ],
          "scattercarpet": [
           {
            "marker": {
             "colorbar": {
              "outlinewidth": 0,
              "ticks": ""
             }
            },
            "type": "scattercarpet"
           }
          ],
          "scattergeo": [
           {
            "marker": {
             "colorbar": {
              "outlinewidth": 0,
              "ticks": ""
             }
            },
            "type": "scattergeo"
           }
          ],
          "scattergl": [
           {
            "marker": {
             "colorbar": {
              "outlinewidth": 0,
              "ticks": ""
             }
            },
            "type": "scattergl"
           }
          ],
          "scattermapbox": [
           {
            "marker": {
             "colorbar": {
              "outlinewidth": 0,
              "ticks": ""
             }
            },
            "type": "scattermapbox"
           }
          ],
          "scatterpolar": [
           {
            "marker": {
             "colorbar": {
              "outlinewidth": 0,
              "ticks": ""
             }
            },
            "type": "scatterpolar"
           }
          ],
          "scatterpolargl": [
           {
            "marker": {
             "colorbar": {
              "outlinewidth": 0,
              "ticks": ""
             }
            },
            "type": "scatterpolargl"
           }
          ],
          "scatterternary": [
           {
            "marker": {
             "colorbar": {
              "outlinewidth": 0,
              "ticks": ""
             }
            },
            "type": "scatterternary"
           }
          ],
          "surface": [
           {
            "colorbar": {
             "outlinewidth": 0,
             "ticks": ""
            },
            "colorscale": [
             [
              0,
              "#0d0887"
             ],
             [
              0.1111111111111111,
              "#46039f"
             ],
             [
              0.2222222222222222,
              "#7201a8"
             ],
             [
              0.3333333333333333,
              "#9c179e"
             ],
             [
              0.4444444444444444,
              "#bd3786"
             ],
             [
              0.5555555555555556,
              "#d8576b"
             ],
             [
              0.6666666666666666,
              "#ed7953"
             ],
             [
              0.7777777777777778,
              "#fb9f3a"
             ],
             [
              0.8888888888888888,
              "#fdca26"
             ],
             [
              1,
              "#f0f921"
             ]
            ],
            "type": "surface"
           }
          ],
          "table": [
           {
            "cells": {
             "fill": {
              "color": "#EBF0F8"
             },
             "line": {
              "color": "white"
             }
            },
            "header": {
             "fill": {
              "color": "#C8D4E3"
             },
             "line": {
              "color": "white"
             }
            },
            "type": "table"
           }
          ]
         },
         "layout": {
          "annotationdefaults": {
           "arrowcolor": "#2a3f5f",
           "arrowhead": 0,
           "arrowwidth": 1
          },
          "autotypenumbers": "strict",
          "coloraxis": {
           "colorbar": {
            "outlinewidth": 0,
            "ticks": ""
           }
          },
          "colorscale": {
           "diverging": [
            [
             0,
             "#8e0152"
            ],
            [
             0.1,
             "#c51b7d"
            ],
            [
             0.2,
             "#de77ae"
            ],
            [
             0.3,
             "#f1b6da"
            ],
            [
             0.4,
             "#fde0ef"
            ],
            [
             0.5,
             "#f7f7f7"
            ],
            [
             0.6,
             "#e6f5d0"
            ],
            [
             0.7,
             "#b8e186"
            ],
            [
             0.8,
             "#7fbc41"
            ],
            [
             0.9,
             "#4d9221"
            ],
            [
             1,
             "#276419"
            ]
           ],
           "sequential": [
            [
             0,
             "#0d0887"
            ],
            [
             0.1111111111111111,
             "#46039f"
            ],
            [
             0.2222222222222222,
             "#7201a8"
            ],
            [
             0.3333333333333333,
             "#9c179e"
            ],
            [
             0.4444444444444444,
             "#bd3786"
            ],
            [
             0.5555555555555556,
             "#d8576b"
            ],
            [
             0.6666666666666666,
             "#ed7953"
            ],
            [
             0.7777777777777778,
             "#fb9f3a"
            ],
            [
             0.8888888888888888,
             "#fdca26"
            ],
            [
             1,
             "#f0f921"
            ]
           ],
           "sequentialminus": [
            [
             0,
             "#0d0887"
            ],
            [
             0.1111111111111111,
             "#46039f"
            ],
            [
             0.2222222222222222,
             "#7201a8"
            ],
            [
             0.3333333333333333,
             "#9c179e"
            ],
            [
             0.4444444444444444,
             "#bd3786"
            ],
            [
             0.5555555555555556,
             "#d8576b"
            ],
            [
             0.6666666666666666,
             "#ed7953"
            ],
            [
             0.7777777777777778,
             "#fb9f3a"
            ],
            [
             0.8888888888888888,
             "#fdca26"
            ],
            [
             1,
             "#f0f921"
            ]
           ]
          },
          "colorway": [
           "#636efa",
           "#EF553B",
           "#00cc96",
           "#ab63fa",
           "#FFA15A",
           "#19d3f3",
           "#FF6692",
           "#B6E880",
           "#FF97FF",
           "#FECB52"
          ],
          "font": {
           "color": "#2a3f5f"
          },
          "geo": {
           "bgcolor": "white",
           "lakecolor": "white",
           "landcolor": "#E5ECF6",
           "showlakes": true,
           "showland": true,
           "subunitcolor": "white"
          },
          "hoverlabel": {
           "align": "left"
          },
          "hovermode": "closest",
          "mapbox": {
           "style": "light"
          },
          "paper_bgcolor": "white",
          "plot_bgcolor": "#E5ECF6",
          "polar": {
           "angularaxis": {
            "gridcolor": "white",
            "linecolor": "white",
            "ticks": ""
           },
           "bgcolor": "#E5ECF6",
           "radialaxis": {
            "gridcolor": "white",
            "linecolor": "white",
            "ticks": ""
           }
          },
          "scene": {
           "xaxis": {
            "backgroundcolor": "#E5ECF6",
            "gridcolor": "white",
            "gridwidth": 2,
            "linecolor": "white",
            "showbackground": true,
            "ticks": "",
            "zerolinecolor": "white"
           },
           "yaxis": {
            "backgroundcolor": "#E5ECF6",
            "gridcolor": "white",
            "gridwidth": 2,
            "linecolor": "white",
            "showbackground": true,
            "ticks": "",
            "zerolinecolor": "white"
           },
           "zaxis": {
            "backgroundcolor": "#E5ECF6",
            "gridcolor": "white",
            "gridwidth": 2,
            "linecolor": "white",
            "showbackground": true,
            "ticks": "",
            "zerolinecolor": "white"
           }
          },
          "shapedefaults": {
           "line": {
            "color": "#2a3f5f"
           }
          },
          "ternary": {
           "aaxis": {
            "gridcolor": "white",
            "linecolor": "white",
            "ticks": ""
           },
           "baxis": {
            "gridcolor": "white",
            "linecolor": "white",
            "ticks": ""
           },
           "bgcolor": "#E5ECF6",
           "caxis": {
            "gridcolor": "white",
            "linecolor": "white",
            "ticks": ""
           }
          },
          "title": {
           "x": 0.05
          },
          "xaxis": {
           "automargin": true,
           "gridcolor": "white",
           "linecolor": "white",
           "ticks": "",
           "title": {
            "standoff": 15
           },
           "zerolinecolor": "white",
           "zerolinewidth": 2
          },
          "yaxis": {
           "automargin": true,
           "gridcolor": "white",
           "linecolor": "white",
           "ticks": "",
           "title": {
            "standoff": 15
           },
           "zerolinecolor": "white",
           "zerolinewidth": 2
          }
         }
        },
        "title": {
         "text": "밀리언셀러의 장르별 총 출고량"
        },
        "width": 900
       }
      }
     },
     "metadata": {},
     "output_type": "display_data"
    }
   ],
   "source": [
    "# 밀리언셀러의 장르별 총 출고량\n",
    "df_million_genre_sum = df_million.groupby(\"Genre\").sum()[[\"Total_Sales\"]].sort_values(by=\"Total_Sales\",ascending=False).iloc[:15,:]\n",
    "fig = go.Figure()\n",
    "fig.add_trace(go.Bar(x=df_million_genre_sum.index, y=df_million_genre_sum[\"Total_Sales\"]))\n",
    "fig.update_layout(\n",
    "    title = \"밀리언셀러의 장르별 총 출고량\",\n",
    "    autosize=False,\n",
    "    width=900,\n",
    "    height=450,)\n",
    "fig.show() "
   ]
  },
  {
   "cell_type": "code",
   "execution_count": 24,
   "metadata": {},
   "outputs": [
    {
     "data": {
      "application/vnd.plotly.v1+json": {
       "config": {
        "plotlyServerURL": "https://plotly.com"
       },
       "data": [
        {
         "type": "bar",
         "x": [
          "Platform",
          "Role-Playing",
          "Shooter",
          "Puzzle",
          "Misc",
          "Racing",
          "Sports",
          "Action",
          "Simulation",
          "Fighting",
          "Adventure",
          "Strategy"
         ],
         "y": [
          3.3626666666666667,
          3.0738499999999997,
          3.068884462151394,
          2.8565454545454547,
          2.7708284023668637,
          2.67585635359116,
          2.615960264900662,
          2.521255924170616,
          2.4326595744680852,
          2.2071311475409834,
          2.185813953488372,
          2.126451612903226
         ]
        }
       ],
       "layout": {
        "autosize": false,
        "height": 450,
        "template": {
         "data": {
          "bar": [
           {
            "error_x": {
             "color": "#2a3f5f"
            },
            "error_y": {
             "color": "#2a3f5f"
            },
            "marker": {
             "line": {
              "color": "#E5ECF6",
              "width": 0.5
             },
             "pattern": {
              "fillmode": "overlay",
              "size": 10,
              "solidity": 0.2
             }
            },
            "type": "bar"
           }
          ],
          "barpolar": [
           {
            "marker": {
             "line": {
              "color": "#E5ECF6",
              "width": 0.5
             },
             "pattern": {
              "fillmode": "overlay",
              "size": 10,
              "solidity": 0.2
             }
            },
            "type": "barpolar"
           }
          ],
          "carpet": [
           {
            "aaxis": {
             "endlinecolor": "#2a3f5f",
             "gridcolor": "white",
             "linecolor": "white",
             "minorgridcolor": "white",
             "startlinecolor": "#2a3f5f"
            },
            "baxis": {
             "endlinecolor": "#2a3f5f",
             "gridcolor": "white",
             "linecolor": "white",
             "minorgridcolor": "white",
             "startlinecolor": "#2a3f5f"
            },
            "type": "carpet"
           }
          ],
          "choropleth": [
           {
            "colorbar": {
             "outlinewidth": 0,
             "ticks": ""
            },
            "type": "choropleth"
           }
          ],
          "contour": [
           {
            "colorbar": {
             "outlinewidth": 0,
             "ticks": ""
            },
            "colorscale": [
             [
              0,
              "#0d0887"
             ],
             [
              0.1111111111111111,
              "#46039f"
             ],
             [
              0.2222222222222222,
              "#7201a8"
             ],
             [
              0.3333333333333333,
              "#9c179e"
             ],
             [
              0.4444444444444444,
              "#bd3786"
             ],
             [
              0.5555555555555556,
              "#d8576b"
             ],
             [
              0.6666666666666666,
              "#ed7953"
             ],
             [
              0.7777777777777778,
              "#fb9f3a"
             ],
             [
              0.8888888888888888,
              "#fdca26"
             ],
             [
              1,
              "#f0f921"
             ]
            ],
            "type": "contour"
           }
          ],
          "contourcarpet": [
           {
            "colorbar": {
             "outlinewidth": 0,
             "ticks": ""
            },
            "type": "contourcarpet"
           }
          ],
          "heatmap": [
           {
            "colorbar": {
             "outlinewidth": 0,
             "ticks": ""
            },
            "colorscale": [
             [
              0,
              "#0d0887"
             ],
             [
              0.1111111111111111,
              "#46039f"
             ],
             [
              0.2222222222222222,
              "#7201a8"
             ],
             [
              0.3333333333333333,
              "#9c179e"
             ],
             [
              0.4444444444444444,
              "#bd3786"
             ],
             [
              0.5555555555555556,
              "#d8576b"
             ],
             [
              0.6666666666666666,
              "#ed7953"
             ],
             [
              0.7777777777777778,
              "#fb9f3a"
             ],
             [
              0.8888888888888888,
              "#fdca26"
             ],
             [
              1,
              "#f0f921"
             ]
            ],
            "type": "heatmap"
           }
          ],
          "heatmapgl": [
           {
            "colorbar": {
             "outlinewidth": 0,
             "ticks": ""
            },
            "colorscale": [
             [
              0,
              "#0d0887"
             ],
             [
              0.1111111111111111,
              "#46039f"
             ],
             [
              0.2222222222222222,
              "#7201a8"
             ],
             [
              0.3333333333333333,
              "#9c179e"
             ],
             [
              0.4444444444444444,
              "#bd3786"
             ],
             [
              0.5555555555555556,
              "#d8576b"
             ],
             [
              0.6666666666666666,
              "#ed7953"
             ],
             [
              0.7777777777777778,
              "#fb9f3a"
             ],
             [
              0.8888888888888888,
              "#fdca26"
             ],
             [
              1,
              "#f0f921"
             ]
            ],
            "type": "heatmapgl"
           }
          ],
          "histogram": [
           {
            "marker": {
             "pattern": {
              "fillmode": "overlay",
              "size": 10,
              "solidity": 0.2
             }
            },
            "type": "histogram"
           }
          ],
          "histogram2d": [
           {
            "colorbar": {
             "outlinewidth": 0,
             "ticks": ""
            },
            "colorscale": [
             [
              0,
              "#0d0887"
             ],
             [
              0.1111111111111111,
              "#46039f"
             ],
             [
              0.2222222222222222,
              "#7201a8"
             ],
             [
              0.3333333333333333,
              "#9c179e"
             ],
             [
              0.4444444444444444,
              "#bd3786"
             ],
             [
              0.5555555555555556,
              "#d8576b"
             ],
             [
              0.6666666666666666,
              "#ed7953"
             ],
             [
              0.7777777777777778,
              "#fb9f3a"
             ],
             [
              0.8888888888888888,
              "#fdca26"
             ],
             [
              1,
              "#f0f921"
             ]
            ],
            "type": "histogram2d"
           }
          ],
          "histogram2dcontour": [
           {
            "colorbar": {
             "outlinewidth": 0,
             "ticks": ""
            },
            "colorscale": [
             [
              0,
              "#0d0887"
             ],
             [
              0.1111111111111111,
              "#46039f"
             ],
             [
              0.2222222222222222,
              "#7201a8"
             ],
             [
              0.3333333333333333,
              "#9c179e"
             ],
             [
              0.4444444444444444,
              "#bd3786"
             ],
             [
              0.5555555555555556,
              "#d8576b"
             ],
             [
              0.6666666666666666,
              "#ed7953"
             ],
             [
              0.7777777777777778,
              "#fb9f3a"
             ],
             [
              0.8888888888888888,
              "#fdca26"
             ],
             [
              1,
              "#f0f921"
             ]
            ],
            "type": "histogram2dcontour"
           }
          ],
          "mesh3d": [
           {
            "colorbar": {
             "outlinewidth": 0,
             "ticks": ""
            },
            "type": "mesh3d"
           }
          ],
          "parcoords": [
           {
            "line": {
             "colorbar": {
              "outlinewidth": 0,
              "ticks": ""
             }
            },
            "type": "parcoords"
           }
          ],
          "pie": [
           {
            "automargin": true,
            "type": "pie"
           }
          ],
          "scatter": [
           {
            "marker": {
             "colorbar": {
              "outlinewidth": 0,
              "ticks": ""
             }
            },
            "type": "scatter"
           }
          ],
          "scatter3d": [
           {
            "line": {
             "colorbar": {
              "outlinewidth": 0,
              "ticks": ""
             }
            },
            "marker": {
             "colorbar": {
              "outlinewidth": 0,
              "ticks": ""
             }
            },
            "type": "scatter3d"
           }
          ],
          "scattercarpet": [
           {
            "marker": {
             "colorbar": {
              "outlinewidth": 0,
              "ticks": ""
             }
            },
            "type": "scattercarpet"
           }
          ],
          "scattergeo": [
           {
            "marker": {
             "colorbar": {
              "outlinewidth": 0,
              "ticks": ""
             }
            },
            "type": "scattergeo"
           }
          ],
          "scattergl": [
           {
            "marker": {
             "colorbar": {
              "outlinewidth": 0,
              "ticks": ""
             }
            },
            "type": "scattergl"
           }
          ],
          "scattermapbox": [
           {
            "marker": {
             "colorbar": {
              "outlinewidth": 0,
              "ticks": ""
             }
            },
            "type": "scattermapbox"
           }
          ],
          "scatterpolar": [
           {
            "marker": {
             "colorbar": {
              "outlinewidth": 0,
              "ticks": ""
             }
            },
            "type": "scatterpolar"
           }
          ],
          "scatterpolargl": [
           {
            "marker": {
             "colorbar": {
              "outlinewidth": 0,
              "ticks": ""
             }
            },
            "type": "scatterpolargl"
           }
          ],
          "scatterternary": [
           {
            "marker": {
             "colorbar": {
              "outlinewidth": 0,
              "ticks": ""
             }
            },
            "type": "scatterternary"
           }
          ],
          "surface": [
           {
            "colorbar": {
             "outlinewidth": 0,
             "ticks": ""
            },
            "colorscale": [
             [
              0,
              "#0d0887"
             ],
             [
              0.1111111111111111,
              "#46039f"
             ],
             [
              0.2222222222222222,
              "#7201a8"
             ],
             [
              0.3333333333333333,
              "#9c179e"
             ],
             [
              0.4444444444444444,
              "#bd3786"
             ],
             [
              0.5555555555555556,
              "#d8576b"
             ],
             [
              0.6666666666666666,
              "#ed7953"
             ],
             [
              0.7777777777777778,
              "#fb9f3a"
             ],
             [
              0.8888888888888888,
              "#fdca26"
             ],
             [
              1,
              "#f0f921"
             ]
            ],
            "type": "surface"
           }
          ],
          "table": [
           {
            "cells": {
             "fill": {
              "color": "#EBF0F8"
             },
             "line": {
              "color": "white"
             }
            },
            "header": {
             "fill": {
              "color": "#C8D4E3"
             },
             "line": {
              "color": "white"
             }
            },
            "type": "table"
           }
          ]
         },
         "layout": {
          "annotationdefaults": {
           "arrowcolor": "#2a3f5f",
           "arrowhead": 0,
           "arrowwidth": 1
          },
          "autotypenumbers": "strict",
          "coloraxis": {
           "colorbar": {
            "outlinewidth": 0,
            "ticks": ""
           }
          },
          "colorscale": {
           "diverging": [
            [
             0,
             "#8e0152"
            ],
            [
             0.1,
             "#c51b7d"
            ],
            [
             0.2,
             "#de77ae"
            ],
            [
             0.3,
             "#f1b6da"
            ],
            [
             0.4,
             "#fde0ef"
            ],
            [
             0.5,
             "#f7f7f7"
            ],
            [
             0.6,
             "#e6f5d0"
            ],
            [
             0.7,
             "#b8e186"
            ],
            [
             0.8,
             "#7fbc41"
            ],
            [
             0.9,
             "#4d9221"
            ],
            [
             1,
             "#276419"
            ]
           ],
           "sequential": [
            [
             0,
             "#0d0887"
            ],
            [
             0.1111111111111111,
             "#46039f"
            ],
            [
             0.2222222222222222,
             "#7201a8"
            ],
            [
             0.3333333333333333,
             "#9c179e"
            ],
            [
             0.4444444444444444,
             "#bd3786"
            ],
            [
             0.5555555555555556,
             "#d8576b"
            ],
            [
             0.6666666666666666,
             "#ed7953"
            ],
            [
             0.7777777777777778,
             "#fb9f3a"
            ],
            [
             0.8888888888888888,
             "#fdca26"
            ],
            [
             1,
             "#f0f921"
            ]
           ],
           "sequentialminus": [
            [
             0,
             "#0d0887"
            ],
            [
             0.1111111111111111,
             "#46039f"
            ],
            [
             0.2222222222222222,
             "#7201a8"
            ],
            [
             0.3333333333333333,
             "#9c179e"
            ],
            [
             0.4444444444444444,
             "#bd3786"
            ],
            [
             0.5555555555555556,
             "#d8576b"
            ],
            [
             0.6666666666666666,
             "#ed7953"
            ],
            [
             0.7777777777777778,
             "#fb9f3a"
            ],
            [
             0.8888888888888888,
             "#fdca26"
            ],
            [
             1,
             "#f0f921"
            ]
           ]
          },
          "colorway": [
           "#636efa",
           "#EF553B",
           "#00cc96",
           "#ab63fa",
           "#FFA15A",
           "#19d3f3",
           "#FF6692",
           "#B6E880",
           "#FF97FF",
           "#FECB52"
          ],
          "font": {
           "color": "#2a3f5f"
          },
          "geo": {
           "bgcolor": "white",
           "lakecolor": "white",
           "landcolor": "#E5ECF6",
           "showlakes": true,
           "showland": true,
           "subunitcolor": "white"
          },
          "hoverlabel": {
           "align": "left"
          },
          "hovermode": "closest",
          "mapbox": {
           "style": "light"
          },
          "paper_bgcolor": "white",
          "plot_bgcolor": "#E5ECF6",
          "polar": {
           "angularaxis": {
            "gridcolor": "white",
            "linecolor": "white",
            "ticks": ""
           },
           "bgcolor": "#E5ECF6",
           "radialaxis": {
            "gridcolor": "white",
            "linecolor": "white",
            "ticks": ""
           }
          },
          "scene": {
           "xaxis": {
            "backgroundcolor": "#E5ECF6",
            "gridcolor": "white",
            "gridwidth": 2,
            "linecolor": "white",
            "showbackground": true,
            "ticks": "",
            "zerolinecolor": "white"
           },
           "yaxis": {
            "backgroundcolor": "#E5ECF6",
            "gridcolor": "white",
            "gridwidth": 2,
            "linecolor": "white",
            "showbackground": true,
            "ticks": "",
            "zerolinecolor": "white"
           },
           "zaxis": {
            "backgroundcolor": "#E5ECF6",
            "gridcolor": "white",
            "gridwidth": 2,
            "linecolor": "white",
            "showbackground": true,
            "ticks": "",
            "zerolinecolor": "white"
           }
          },
          "shapedefaults": {
           "line": {
            "color": "#2a3f5f"
           }
          },
          "ternary": {
           "aaxis": {
            "gridcolor": "white",
            "linecolor": "white",
            "ticks": ""
           },
           "baxis": {
            "gridcolor": "white",
            "linecolor": "white",
            "ticks": ""
           },
           "bgcolor": "#E5ECF6",
           "caxis": {
            "gridcolor": "white",
            "linecolor": "white",
            "ticks": ""
           }
          },
          "title": {
           "x": 0.05
          },
          "xaxis": {
           "automargin": true,
           "gridcolor": "white",
           "linecolor": "white",
           "ticks": "",
           "title": {
            "standoff": 15
           },
           "zerolinecolor": "white",
           "zerolinewidth": 2
          },
          "yaxis": {
           "automargin": true,
           "gridcolor": "white",
           "linecolor": "white",
           "ticks": "",
           "title": {
            "standoff": 15
           },
           "zerolinecolor": "white",
           "zerolinewidth": 2
          }
         }
        },
        "title": {
         "text": "밀리언셀러의 장르별 평균 출고량"
        },
        "width": 900
       }
      }
     },
     "metadata": {},
     "output_type": "display_data"
    }
   ],
   "source": [
    "# 밀리언셀러의 장르별 평균 출고량\n",
    "df_million_genre_mean = df_million.groupby(\"Genre\").mean()[[\"Total_Sales\"]].sort_values(by=\"Total_Sales\",ascending=False).iloc[:15,:]\n",
    "fig = go.Figure()\n",
    "fig.add_trace(go.Bar(x=df_million_genre_mean.index, y=df_million_genre_mean[\"Total_Sales\"]))\n",
    "fig.update_layout(\n",
    "    title = \"밀리언셀러의 장르별 평균 출고량\",\n",
    "    autosize=False,\n",
    "    width=900,\n",
    "    height=450,)\n",
    "fig.show()"
   ]
  },
  {
   "cell_type": "code",
   "execution_count": 25,
   "metadata": {},
   "outputs": [
    {
     "data": {
      "application/vnd.plotly.v1+json": {
       "config": {
        "plotlyServerURL": "https://plotly.com"
       },
       "data": [
        {
         "type": "bar",
         "x": [
          "Misc",
          "Role-Playing",
          "Platform",
          "Shooter",
          "Puzzle",
          "Action",
          "Simulation",
          "Sports",
          "Adventure",
          "Strategy",
          "Fighting",
          "Racing"
         ],
         "y": [
          1.8499999999999999,
          1.8450000000000002,
          1.7999999999999998,
          1.79,
          1.7,
          1.69,
          1.69,
          1.67,
          1.6300000000000001,
          1.62,
          1.6150000000000002,
          1.55
         ]
        }
       ],
       "layout": {
        "autosize": false,
        "height": 450,
        "template": {
         "data": {
          "bar": [
           {
            "error_x": {
             "color": "#2a3f5f"
            },
            "error_y": {
             "color": "#2a3f5f"
            },
            "marker": {
             "line": {
              "color": "#E5ECF6",
              "width": 0.5
             },
             "pattern": {
              "fillmode": "overlay",
              "size": 10,
              "solidity": 0.2
             }
            },
            "type": "bar"
           }
          ],
          "barpolar": [
           {
            "marker": {
             "line": {
              "color": "#E5ECF6",
              "width": 0.5
             },
             "pattern": {
              "fillmode": "overlay",
              "size": 10,
              "solidity": 0.2
             }
            },
            "type": "barpolar"
           }
          ],
          "carpet": [
           {
            "aaxis": {
             "endlinecolor": "#2a3f5f",
             "gridcolor": "white",
             "linecolor": "white",
             "minorgridcolor": "white",
             "startlinecolor": "#2a3f5f"
            },
            "baxis": {
             "endlinecolor": "#2a3f5f",
             "gridcolor": "white",
             "linecolor": "white",
             "minorgridcolor": "white",
             "startlinecolor": "#2a3f5f"
            },
            "type": "carpet"
           }
          ],
          "choropleth": [
           {
            "colorbar": {
             "outlinewidth": 0,
             "ticks": ""
            },
            "type": "choropleth"
           }
          ],
          "contour": [
           {
            "colorbar": {
             "outlinewidth": 0,
             "ticks": ""
            },
            "colorscale": [
             [
              0,
              "#0d0887"
             ],
             [
              0.1111111111111111,
              "#46039f"
             ],
             [
              0.2222222222222222,
              "#7201a8"
             ],
             [
              0.3333333333333333,
              "#9c179e"
             ],
             [
              0.4444444444444444,
              "#bd3786"
             ],
             [
              0.5555555555555556,
              "#d8576b"
             ],
             [
              0.6666666666666666,
              "#ed7953"
             ],
             [
              0.7777777777777778,
              "#fb9f3a"
             ],
             [
              0.8888888888888888,
              "#fdca26"
             ],
             [
              1,
              "#f0f921"
             ]
            ],
            "type": "contour"
           }
          ],
          "contourcarpet": [
           {
            "colorbar": {
             "outlinewidth": 0,
             "ticks": ""
            },
            "type": "contourcarpet"
           }
          ],
          "heatmap": [
           {
            "colorbar": {
             "outlinewidth": 0,
             "ticks": ""
            },
            "colorscale": [
             [
              0,
              "#0d0887"
             ],
             [
              0.1111111111111111,
              "#46039f"
             ],
             [
              0.2222222222222222,
              "#7201a8"
             ],
             [
              0.3333333333333333,
              "#9c179e"
             ],
             [
              0.4444444444444444,
              "#bd3786"
             ],
             [
              0.5555555555555556,
              "#d8576b"
             ],
             [
              0.6666666666666666,
              "#ed7953"
             ],
             [
              0.7777777777777778,
              "#fb9f3a"
             ],
             [
              0.8888888888888888,
              "#fdca26"
             ],
             [
              1,
              "#f0f921"
             ]
            ],
            "type": "heatmap"
           }
          ],
          "heatmapgl": [
           {
            "colorbar": {
             "outlinewidth": 0,
             "ticks": ""
            },
            "colorscale": [
             [
              0,
              "#0d0887"
             ],
             [
              0.1111111111111111,
              "#46039f"
             ],
             [
              0.2222222222222222,
              "#7201a8"
             ],
             [
              0.3333333333333333,
              "#9c179e"
             ],
             [
              0.4444444444444444,
              "#bd3786"
             ],
             [
              0.5555555555555556,
              "#d8576b"
             ],
             [
              0.6666666666666666,
              "#ed7953"
             ],
             [
              0.7777777777777778,
              "#fb9f3a"
             ],
             [
              0.8888888888888888,
              "#fdca26"
             ],
             [
              1,
              "#f0f921"
             ]
            ],
            "type": "heatmapgl"
           }
          ],
          "histogram": [
           {
            "marker": {
             "pattern": {
              "fillmode": "overlay",
              "size": 10,
              "solidity": 0.2
             }
            },
            "type": "histogram"
           }
          ],
          "histogram2d": [
           {
            "colorbar": {
             "outlinewidth": 0,
             "ticks": ""
            },
            "colorscale": [
             [
              0,
              "#0d0887"
             ],
             [
              0.1111111111111111,
              "#46039f"
             ],
             [
              0.2222222222222222,
              "#7201a8"
             ],
             [
              0.3333333333333333,
              "#9c179e"
             ],
             [
              0.4444444444444444,
              "#bd3786"
             ],
             [
              0.5555555555555556,
              "#d8576b"
             ],
             [
              0.6666666666666666,
              "#ed7953"
             ],
             [
              0.7777777777777778,
              "#fb9f3a"
             ],
             [
              0.8888888888888888,
              "#fdca26"
             ],
             [
              1,
              "#f0f921"
             ]
            ],
            "type": "histogram2d"
           }
          ],
          "histogram2dcontour": [
           {
            "colorbar": {
             "outlinewidth": 0,
             "ticks": ""
            },
            "colorscale": [
             [
              0,
              "#0d0887"
             ],
             [
              0.1111111111111111,
              "#46039f"
             ],
             [
              0.2222222222222222,
              "#7201a8"
             ],
             [
              0.3333333333333333,
              "#9c179e"
             ],
             [
              0.4444444444444444,
              "#bd3786"
             ],
             [
              0.5555555555555556,
              "#d8576b"
             ],
             [
              0.6666666666666666,
              "#ed7953"
             ],
             [
              0.7777777777777778,
              "#fb9f3a"
             ],
             [
              0.8888888888888888,
              "#fdca26"
             ],
             [
              1,
              "#f0f921"
             ]
            ],
            "type": "histogram2dcontour"
           }
          ],
          "mesh3d": [
           {
            "colorbar": {
             "outlinewidth": 0,
             "ticks": ""
            },
            "type": "mesh3d"
           }
          ],
          "parcoords": [
           {
            "line": {
             "colorbar": {
              "outlinewidth": 0,
              "ticks": ""
             }
            },
            "type": "parcoords"
           }
          ],
          "pie": [
           {
            "automargin": true,
            "type": "pie"
           }
          ],
          "scatter": [
           {
            "marker": {
             "colorbar": {
              "outlinewidth": 0,
              "ticks": ""
             }
            },
            "type": "scatter"
           }
          ],
          "scatter3d": [
           {
            "line": {
             "colorbar": {
              "outlinewidth": 0,
              "ticks": ""
             }
            },
            "marker": {
             "colorbar": {
              "outlinewidth": 0,
              "ticks": ""
             }
            },
            "type": "scatter3d"
           }
          ],
          "scattercarpet": [
           {
            "marker": {
             "colorbar": {
              "outlinewidth": 0,
              "ticks": ""
             }
            },
            "type": "scattercarpet"
           }
          ],
          "scattergeo": [
           {
            "marker": {
             "colorbar": {
              "outlinewidth": 0,
              "ticks": ""
             }
            },
            "type": "scattergeo"
           }
          ],
          "scattergl": [
           {
            "marker": {
             "colorbar": {
              "outlinewidth": 0,
              "ticks": ""
             }
            },
            "type": "scattergl"
           }
          ],
          "scattermapbox": [
           {
            "marker": {
             "colorbar": {
              "outlinewidth": 0,
              "ticks": ""
             }
            },
            "type": "scattermapbox"
           }
          ],
          "scatterpolar": [
           {
            "marker": {
             "colorbar": {
              "outlinewidth": 0,
              "ticks": ""
             }
            },
            "type": "scatterpolar"
           }
          ],
          "scatterpolargl": [
           {
            "marker": {
             "colorbar": {
              "outlinewidth": 0,
              "ticks": ""
             }
            },
            "type": "scatterpolargl"
           }
          ],
          "scatterternary": [
           {
            "marker": {
             "colorbar": {
              "outlinewidth": 0,
              "ticks": ""
             }
            },
            "type": "scatterternary"
           }
          ],
          "surface": [
           {
            "colorbar": {
             "outlinewidth": 0,
             "ticks": ""
            },
            "colorscale": [
             [
              0,
              "#0d0887"
             ],
             [
              0.1111111111111111,
              "#46039f"
             ],
             [
              0.2222222222222222,
              "#7201a8"
             ],
             [
              0.3333333333333333,
              "#9c179e"
             ],
             [
              0.4444444444444444,
              "#bd3786"
             ],
             [
              0.5555555555555556,
              "#d8576b"
             ],
             [
              0.6666666666666666,
              "#ed7953"
             ],
             [
              0.7777777777777778,
              "#fb9f3a"
             ],
             [
              0.8888888888888888,
              "#fdca26"
             ],
             [
              1,
              "#f0f921"
             ]
            ],
            "type": "surface"
           }
          ],
          "table": [
           {
            "cells": {
             "fill": {
              "color": "#EBF0F8"
             },
             "line": {
              "color": "white"
             }
            },
            "header": {
             "fill": {
              "color": "#C8D4E3"
             },
             "line": {
              "color": "white"
             }
            },
            "type": "table"
           }
          ]
         },
         "layout": {
          "annotationdefaults": {
           "arrowcolor": "#2a3f5f",
           "arrowhead": 0,
           "arrowwidth": 1
          },
          "autotypenumbers": "strict",
          "coloraxis": {
           "colorbar": {
            "outlinewidth": 0,
            "ticks": ""
           }
          },
          "colorscale": {
           "diverging": [
            [
             0,
             "#8e0152"
            ],
            [
             0.1,
             "#c51b7d"
            ],
            [
             0.2,
             "#de77ae"
            ],
            [
             0.3,
             "#f1b6da"
            ],
            [
             0.4,
             "#fde0ef"
            ],
            [
             0.5,
             "#f7f7f7"
            ],
            [
             0.6,
             "#e6f5d0"
            ],
            [
             0.7,
             "#b8e186"
            ],
            [
             0.8,
             "#7fbc41"
            ],
            [
             0.9,
             "#4d9221"
            ],
            [
             1,
             "#276419"
            ]
           ],
           "sequential": [
            [
             0,
             "#0d0887"
            ],
            [
             0.1111111111111111,
             "#46039f"
            ],
            [
             0.2222222222222222,
             "#7201a8"
            ],
            [
             0.3333333333333333,
             "#9c179e"
            ],
            [
             0.4444444444444444,
             "#bd3786"
            ],
            [
             0.5555555555555556,
             "#d8576b"
            ],
            [
             0.6666666666666666,
             "#ed7953"
            ],
            [
             0.7777777777777778,
             "#fb9f3a"
            ],
            [
             0.8888888888888888,
             "#fdca26"
            ],
            [
             1,
             "#f0f921"
            ]
           ],
           "sequentialminus": [
            [
             0,
             "#0d0887"
            ],
            [
             0.1111111111111111,
             "#46039f"
            ],
            [
             0.2222222222222222,
             "#7201a8"
            ],
            [
             0.3333333333333333,
             "#9c179e"
            ],
            [
             0.4444444444444444,
             "#bd3786"
            ],
            [
             0.5555555555555556,
             "#d8576b"
            ],
            [
             0.6666666666666666,
             "#ed7953"
            ],
            [
             0.7777777777777778,
             "#fb9f3a"
            ],
            [
             0.8888888888888888,
             "#fdca26"
            ],
            [
             1,
             "#f0f921"
            ]
           ]
          },
          "colorway": [
           "#636efa",
           "#EF553B",
           "#00cc96",
           "#ab63fa",
           "#FFA15A",
           "#19d3f3",
           "#FF6692",
           "#B6E880",
           "#FF97FF",
           "#FECB52"
          ],
          "font": {
           "color": "#2a3f5f"
          },
          "geo": {
           "bgcolor": "white",
           "lakecolor": "white",
           "landcolor": "#E5ECF6",
           "showlakes": true,
           "showland": true,
           "subunitcolor": "white"
          },
          "hoverlabel": {
           "align": "left"
          },
          "hovermode": "closest",
          "mapbox": {
           "style": "light"
          },
          "paper_bgcolor": "white",
          "plot_bgcolor": "#E5ECF6",
          "polar": {
           "angularaxis": {
            "gridcolor": "white",
            "linecolor": "white",
            "ticks": ""
           },
           "bgcolor": "#E5ECF6",
           "radialaxis": {
            "gridcolor": "white",
            "linecolor": "white",
            "ticks": ""
           }
          },
          "scene": {
           "xaxis": {
            "backgroundcolor": "#E5ECF6",
            "gridcolor": "white",
            "gridwidth": 2,
            "linecolor": "white",
            "showbackground": true,
            "ticks": "",
            "zerolinecolor": "white"
           },
           "yaxis": {
            "backgroundcolor": "#E5ECF6",
            "gridcolor": "white",
            "gridwidth": 2,
            "linecolor": "white",
            "showbackground": true,
            "ticks": "",
            "zerolinecolor": "white"
           },
           "zaxis": {
            "backgroundcolor": "#E5ECF6",
            "gridcolor": "white",
            "gridwidth": 2,
            "linecolor": "white",
            "showbackground": true,
            "ticks": "",
            "zerolinecolor": "white"
           }
          },
          "shapedefaults": {
           "line": {
            "color": "#2a3f5f"
           }
          },
          "ternary": {
           "aaxis": {
            "gridcolor": "white",
            "linecolor": "white",
            "ticks": ""
           },
           "baxis": {
            "gridcolor": "white",
            "linecolor": "white",
            "ticks": ""
           },
           "bgcolor": "#E5ECF6",
           "caxis": {
            "gridcolor": "white",
            "linecolor": "white",
            "ticks": ""
           }
          },
          "title": {
           "x": 0.05
          },
          "xaxis": {
           "automargin": true,
           "gridcolor": "white",
           "linecolor": "white",
           "ticks": "",
           "title": {
            "standoff": 15
           },
           "zerolinecolor": "white",
           "zerolinewidth": 2
          },
          "yaxis": {
           "automargin": true,
           "gridcolor": "white",
           "linecolor": "white",
           "ticks": "",
           "title": {
            "standoff": 15
           },
           "zerolinecolor": "white",
           "zerolinewidth": 2
          }
         }
        },
        "title": {
         "text": "밀리언셀러의 장르별 출고량의 중위수"
        },
        "width": 900
       }
      }
     },
     "metadata": {},
     "output_type": "display_data"
    }
   ],
   "source": [
    "# 밀리언셀러의 장르별 출고량의 중위수\n",
    "df_million_genre_median = df_million.groupby(\"Genre\").median()[[\"Total_Sales\"]].sort_values(by=\"Total_Sales\",ascending=False).iloc[:15,:]\n",
    "fig = go.Figure()\n",
    "fig.add_trace(go.Bar(x=df_million_genre_median.index, y=df_million_genre_median[\"Total_Sales\"]))\n",
    "fig.update_layout(\n",
    "    title = \"밀리언셀러의 장르별 출고량의 중위수\",\n",
    "    autosize=False,\n",
    "    width=900,\n",
    "    height=450,)\n",
    "fig.show()"
   ]
  },
  {
   "cell_type": "code",
   "execution_count": 26,
   "metadata": {},
   "outputs": [
    {
     "data": {
      "image/png": "[encoded data removed]",
      "text/plain": [
       "<Figure size 936x576 with 1 Axes>"
      ]
     },
     "metadata": {
      "needs_background": "light"
     },
     "output_type": "display_data"
    }
   ],
   "source": [
    "# 상자그림\n",
    "df_million[[\"Genre\",\"Total_Sales\"]]\n",
    "plt.figure(figsize=(13,8))\n",
    "ax = sns.boxplot(x='Genre', y='Total_Sales',data=df_million[[\"Genre\",\"Total_Sales\"]]) # 상자그림"
   ]
  },
  {
   "cell_type": "code",
   "execution_count": 27,
   "metadata": {},
   "outputs": [
    {
     "data": {
      "image/png": "[encoded data removed]",
      "text/plain": [
       "<Figure size 936x576 with 1 Axes>"
      ]
     },
     "metadata": {
      "needs_background": "light"
     },
     "output_type": "display_data"
    }
   ],
   "source": [
    "# 극단이상값인 wii sport 제외하고 그린 상자그림\n",
    "df_million_del_wii = df_million.loc[df_million[\"Total_Sales\"]<25]\n",
    "plt.figure(figsize=(13,8))\n",
    "ax = sns.boxplot(x='Genre', y='Total_Sales',data=df_million_del_wii[[\"Genre\",\"Total_Sales\"]])"
   ]
  },
  {
   "cell_type": "code",
   "execution_count": 28,
   "metadata": {},
   "outputs": [
    {
     "data": {
      "text/plain": [
       "LeveneResult(statistic=1.3653626473395328, pvalue=0.18263054621832658)"
      ]
     },
     "execution_count": 28,
     "metadata": {},
     "output_type": "execute_result"
    }
   ],
   "source": [
    "# 등분산검정\n",
    "data_ = [df_million.loc[ids, 'Total_Sales'].\n",
    "        values for ids in df_million.\n",
    "        groupby('Genre').\n",
    "        groups.\n",
    "        values()]\n",
    "stats.levene(*data_)"
   ]
  },
  {
   "cell_type": "code",
   "execution_count": 29,
   "metadata": {},
   "outputs": [
    {
     "data": {
      "text/plain": [
       "KruskalResult(statistic=21.49290279107972, pvalue=0.028609581872121332)"
      ]
     },
     "execution_count": 29,
     "metadata": {},
     "output_type": "execute_result"
    }
   ],
   "source": [
    "# 비모수적 분산분석\n",
    "data_ = [df_million.loc[ids, 'Total_Sales'].\n",
    "        values for ids in df_million.\n",
    "        groupby('Genre').\n",
    "        groups.values()]\n",
    "stats.kruskal(*data_)"
   ]
  },
  {
   "cell_type": "code",
   "execution_count": 30,
   "metadata": {},
   "outputs": [
    {
     "data": {
      "text/html": [
       "<div>\n",
       "<style scoped>\n",
       "    .dataframe tbody tr th:only-of-type {\n",
       "        vertical-align: middle;\n",
       "    }\n",
       "\n",
       "    .dataframe tbody tr th {\n",
       "        vertical-align: top;\n",
       "    }\n",
       "\n",
       "    .dataframe thead th {\n",
       "        text-align: right;\n",
       "    }\n",
       "</style>\n",
       "<table border=\"1\" class=\"dataframe\">\n",
       "  <thead>\n",
       "    <tr style=\"text-align: right;\">\n",
       "      <th></th>\n",
       "      <th>Action</th>\n",
       "      <th>Adventure</th>\n",
       "      <th>Fighting</th>\n",
       "      <th>Misc</th>\n",
       "      <th>Platform</th>\n",
       "      <th>Puzzle</th>\n",
       "      <th>Racing</th>\n",
       "      <th>Role-Playing</th>\n",
       "      <th>Shooter</th>\n",
       "      <th>Simulation</th>\n",
       "      <th>Sports</th>\n",
       "      <th>Strategy</th>\n",
       "    </tr>\n",
       "  </thead>\n",
       "  <tbody>\n",
       "    <tr>\n",
       "      <th>Action</th>\n",
       "      <td>1.000000</td>\n",
       "      <td>0.400374</td>\n",
       "      <td>0.438994</td>\n",
       "      <td>0.396021</td>\n",
       "      <td>0.162867</td>\n",
       "      <td>0.658547</td>\n",
       "      <td>0.103432</td>\n",
       "      <td>0.083226</td>\n",
       "      <td>0.069880</td>\n",
       "      <td>0.270974</td>\n",
       "      <td>0.429500</td>\n",
       "      <td>0.689355</td>\n",
       "    </tr>\n",
       "    <tr>\n",
       "      <th>Adventure</th>\n",
       "      <td>0.400374</td>\n",
       "      <td>1.000000</td>\n",
       "      <td>0.756173</td>\n",
       "      <td>0.214781</td>\n",
       "      <td>0.129449</td>\n",
       "      <td>0.726265</td>\n",
       "      <td>0.952672</td>\n",
       "      <td>0.091886</td>\n",
       "      <td>0.090816</td>\n",
       "      <td>0.960716</td>\n",
       "      <td>0.645099</td>\n",
       "      <td>0.798218</td>\n",
       "    </tr>\n",
       "    <tr>\n",
       "      <th>Fighting</th>\n",
       "      <td>0.438994</td>\n",
       "      <td>0.756173</td>\n",
       "      <td>1.000000</td>\n",
       "      <td>0.186847</td>\n",
       "      <td>0.082573</td>\n",
       "      <td>0.920556</td>\n",
       "      <td>0.578162</td>\n",
       "      <td>0.046923</td>\n",
       "      <td>0.042360</td>\n",
       "      <td>0.737488</td>\n",
       "      <td>0.852078</td>\n",
       "      <td>0.979505</td>\n",
       "    </tr>\n",
       "    <tr>\n",
       "      <th>Misc</th>\n",
       "      <td>0.396021</td>\n",
       "      <td>0.214781</td>\n",
       "      <td>0.186847</td>\n",
       "      <td>1.000000</td>\n",
       "      <td>0.678436</td>\n",
       "      <td>0.365038</td>\n",
       "      <td>0.037991</td>\n",
       "      <td>0.494107</td>\n",
       "      <td>0.499287</td>\n",
       "      <td>0.114965</td>\n",
       "      <td>0.154402</td>\n",
       "      <td>0.437663</td>\n",
       "    </tr>\n",
       "    <tr>\n",
       "      <th>Platform</th>\n",
       "      <td>0.162867</td>\n",
       "      <td>0.129449</td>\n",
       "      <td>0.082573</td>\n",
       "      <td>0.678436</td>\n",
       "      <td>1.000000</td>\n",
       "      <td>0.227662</td>\n",
       "      <td>0.010095</td>\n",
       "      <td>0.781810</td>\n",
       "      <td>0.804295</td>\n",
       "      <td>0.049735</td>\n",
       "      <td>0.049583</td>\n",
       "      <td>0.312666</td>\n",
       "    </tr>\n",
       "    <tr>\n",
       "      <th>Puzzle</th>\n",
       "      <td>0.658547</td>\n",
       "      <td>0.726265</td>\n",
       "      <td>0.920556</td>\n",
       "      <td>0.365038</td>\n",
       "      <td>0.227662</td>\n",
       "      <td>1.000000</td>\n",
       "      <td>0.597320</td>\n",
       "      <td>0.163680</td>\n",
       "      <td>0.162708</td>\n",
       "      <td>0.714080</td>\n",
       "      <td>0.979293</td>\n",
       "      <td>0.960825</td>\n",
       "    </tr>\n",
       "    <tr>\n",
       "      <th>Racing</th>\n",
       "      <td>0.103432</td>\n",
       "      <td>0.952672</td>\n",
       "      <td>0.578162</td>\n",
       "      <td>0.037991</td>\n",
       "      <td>0.010095</td>\n",
       "      <td>0.597320</td>\n",
       "      <td>1.000000</td>\n",
       "      <td>0.004238</td>\n",
       "      <td>0.003022</td>\n",
       "      <td>0.880350</td>\n",
       "      <td>0.365068</td>\n",
       "      <td>0.717584</td>\n",
       "    </tr>\n",
       "    <tr>\n",
       "      <th>Role-Playing</th>\n",
       "      <td>0.083226</td>\n",
       "      <td>0.091886</td>\n",
       "      <td>0.046923</td>\n",
       "      <td>0.494107</td>\n",
       "      <td>0.781810</td>\n",
       "      <td>0.163680</td>\n",
       "      <td>0.004238</td>\n",
       "      <td>1.000000</td>\n",
       "      <td>0.964494</td>\n",
       "      <td>0.028296</td>\n",
       "      <td>0.022350</td>\n",
       "      <td>0.247770</td>\n",
       "    </tr>\n",
       "    <tr>\n",
       "      <th>Shooter</th>\n",
       "      <td>0.069880</td>\n",
       "      <td>0.090816</td>\n",
       "      <td>0.042360</td>\n",
       "      <td>0.499287</td>\n",
       "      <td>0.804295</td>\n",
       "      <td>0.162708</td>\n",
       "      <td>0.003022</td>\n",
       "      <td>0.964494</td>\n",
       "      <td>1.000000</td>\n",
       "      <td>0.025538</td>\n",
       "      <td>0.016902</td>\n",
       "      <td>0.250265</td>\n",
       "    </tr>\n",
       "    <tr>\n",
       "      <th>Simulation</th>\n",
       "      <td>0.270974</td>\n",
       "      <td>0.960716</td>\n",
       "      <td>0.737488</td>\n",
       "      <td>0.114965</td>\n",
       "      <td>0.049735</td>\n",
       "      <td>0.714080</td>\n",
       "      <td>0.880350</td>\n",
       "      <td>0.028296</td>\n",
       "      <td>0.025538</td>\n",
       "      <td>1.000000</td>\n",
       "      <td>0.576269</td>\n",
       "      <td>0.804870</td>\n",
       "    </tr>\n",
       "    <tr>\n",
       "      <th>Sports</th>\n",
       "      <td>0.429500</td>\n",
       "      <td>0.645099</td>\n",
       "      <td>0.852078</td>\n",
       "      <td>0.154402</td>\n",
       "      <td>0.049583</td>\n",
       "      <td>0.979293</td>\n",
       "      <td>0.365068</td>\n",
       "      <td>0.022350</td>\n",
       "      <td>0.016902</td>\n",
       "      <td>0.576269</td>\n",
       "      <td>1.000000</td>\n",
       "      <td>0.937297</td>\n",
       "    </tr>\n",
       "    <tr>\n",
       "      <th>Strategy</th>\n",
       "      <td>0.689355</td>\n",
       "      <td>0.798218</td>\n",
       "      <td>0.979505</td>\n",
       "      <td>0.437663</td>\n",
       "      <td>0.312666</td>\n",
       "      <td>0.960825</td>\n",
       "      <td>0.717584</td>\n",
       "      <td>0.247770</td>\n",
       "      <td>0.250265</td>\n",
       "      <td>0.804870</td>\n",
       "      <td>0.937297</td>\n",
       "      <td>1.000000</td>\n",
       "    </tr>\n",
       "  </tbody>\n",
       "</table>\n",
       "</div>"
      ],
      "text/plain": [
       "                Action  Adventure  Fighting      Misc  Platform    Puzzle  \\\n",
       "Action        1.000000   0.400374  0.438994  0.396021  0.162867  0.658547   \n",
       "Adventure     0.400374   1.000000  0.756173  0.214781  0.129449  0.726265   \n",
       "Fighting      0.438994   0.756173  1.000000  0.186847  0.082573  0.920556   \n",
       "Misc          0.396021   0.214781  0.186847  1.000000  0.678436  0.365038   \n",
       "Platform      0.162867   0.129449  0.082573  0.678436  1.000000  0.227662   \n",
       "Puzzle        0.658547   0.726265  0.920556  0.365038  0.227662  1.000000   \n",
       "Racing        0.103432   0.952672  0.578162  0.037991  0.010095  0.597320   \n",
       "Role-Playing  0.083226   0.091886  0.046923  0.494107  0.781810  0.163680   \n",
       "Shooter       0.069880   0.090816  0.042360  0.499287  0.804295  0.162708   \n",
       "Simulation    0.270974   0.960716  0.737488  0.114965  0.049735  0.714080   \n",
       "Sports        0.429500   0.645099  0.852078  0.154402  0.049583  0.979293   \n",
       "Strategy      0.689355   0.798218  0.979505  0.437663  0.312666  0.960825   \n",
       "\n",
       "                Racing  Role-Playing   Shooter  Simulation    Sports  Strategy  \n",
       "Action        0.103432      0.083226  0.069880    0.270974  0.429500  0.689355  \n",
       "Adventure     0.952672      0.091886  0.090816    0.960716  0.645099  0.798218  \n",
       "Fighting      0.578162      0.046923  0.042360    0.737488  0.852078  0.979505  \n",
       "Misc          0.037991      0.494107  0.499287    0.114965  0.154402  0.437663  \n",
       "Platform      0.010095      0.781810  0.804295    0.049735  0.049583  0.312666  \n",
       "Puzzle        0.597320      0.163680  0.162708    0.714080  0.979293  0.960825  \n",
       "Racing        1.000000      0.004238  0.003022    0.880350  0.365068  0.717584  \n",
       "Role-Playing  0.004238      1.000000  0.964494    0.028296  0.022350  0.247770  \n",
       "Shooter       0.003022      0.964494  1.000000    0.025538  0.016902  0.250265  \n",
       "Simulation    0.880350      0.028296  0.025538    1.000000  0.576269  0.804870  \n",
       "Sports        0.365068      0.022350  0.016902    0.576269  1.000000  0.937297  \n",
       "Strategy      0.717584      0.247770  0.250265    0.804870  0.937297  1.000000  "
      ]
     },
     "execution_count": 30,
     "metadata": {},
     "output_type": "execute_result"
    }
   ],
   "source": [
    "# 다중비교 던의 방법\n",
    "sp.posthoc_dunn(df_million[[\"Genre\",\"Total_Sales\"]], val_col=\"Total_Sales\", group_col=\"Genre\")"
   ]
  },
  {
   "cell_type": "code",
   "execution_count": 31,
   "metadata": {},
   "outputs": [
    {
     "data": {
      "text/html": [
       "<style type=\"text/css\">\n",
       "#T_931e2_row0_col0, #T_931e2_row1_col1, #T_931e2_row2_col2, #T_931e2_row3_col3, #T_931e2_row4_col4, #T_931e2_row5_col5, #T_931e2_row6_col6, #T_931e2_row7_col7, #T_931e2_row8_col8, #T_931e2_row9_col9, #T_931e2_row10_col10, #T_931e2_row11_col11 {\n",
       "  background-color: #ffffff;\n",
       "  color: #000000;\n",
       "}\n",
       "#T_931e2_row0_col1, #T_931e2_row5_col3 {\n",
       "  background-color: #4c4c6a;\n",
       "  color: #f1f1f1;\n",
       "}\n",
       "#T_931e2_row0_col2, #T_931e2_row11_col3 {\n",
       "  background-color: #5d617d;\n",
       "  color: #f1f1f1;\n",
       "}\n",
       "#T_931e2_row0_col3 {\n",
       "  background-color: #535473;\n",
       "  color: #f1f1f1;\n",
       "}\n",
       "#T_931e2_row0_col4, #T_931e2_row2_col3 {\n",
       "  background-color: #22222f;\n",
       "  color: #f1f1f1;\n",
       "}\n",
       "#T_931e2_row0_col5 {\n",
       "  background-color: #8497a4;\n",
       "  color: #f1f1f1;\n",
       "}\n",
       "#T_931e2_row0_col6, #T_931e2_row4_col0 {\n",
       "  background-color: #16161e;\n",
       "  color: #f1f1f1;\n",
       "}\n",
       "#T_931e2_row0_col7, #T_931e2_row9_col3 {\n",
       "  background-color: #121118;\n",
       "  color: #f1f1f1;\n",
       "}\n",
       "#T_931e2_row0_col8 {\n",
       "  background-color: #0f0f15;\n",
       "  color: #f1f1f1;\n",
       "}\n",
       "#T_931e2_row0_col9, #T_931e2_row3_col11 {\n",
       "  background-color: #38384e;\n",
       "  color: #f1f1f1;\n",
       "}\n",
       "#T_931e2_row0_col10 {\n",
       "  background-color: #5e627d;\n",
       "  color: #f1f1f1;\n",
       "}\n",
       "#T_931e2_row0_col11 {\n",
       "  background-color: #8396a3;\n",
       "  color: #f1f1f1;\n",
       "}\n",
       "#T_931e2_row1_col0, #T_931e2_row6_col10 {\n",
       "  background-color: #4f4f6e;\n",
       "  color: #f1f1f1;\n",
       "}\n",
       "#T_931e2_row1_col2 {\n",
       "  background-color: #a6c6c6;\n",
       "  color: #000000;\n",
       "}\n",
       "#T_931e2_row1_col3 {\n",
       "  background-color: #292939;\n",
       "  color: #f1f1f1;\n",
       "}\n",
       "#T_931e2_row1_col4, #T_931e2_row10_col3 {\n",
       "  background-color: #1a1a25;\n",
       "  color: #f1f1f1;\n",
       "}\n",
       "#T_931e2_row1_col5, #T_931e2_row3_col4 {\n",
       "  background-color: #96b0b6;\n",
       "  color: #000000;\n",
       "}\n",
       "#T_931e2_row1_col6 {\n",
       "  background-color: #eff4f4;\n",
       "  color: #000000;\n",
       "}\n",
       "#T_931e2_row1_col7, #T_931e2_row1_col8, #T_931e2_row4_col11 {\n",
       "  background-color: #13131b;\n",
       "  color: #f1f1f1;\n",
       "}\n",
       "#T_931e2_row1_col9 {\n",
       "  background-color: #f1f6f6;\n",
       "  color: #000000;\n",
       "}\n",
       "#T_931e2_row1_col10 {\n",
       "  background-color: #8fa6ae;\n",
       "  color: #f1f1f1;\n",
       "}\n",
       "#T_931e2_row1_col11, #T_931e2_row2_col1, #T_931e2_row2_col9 {\n",
       "  background-color: #a4c2c3;\n",
       "  color: #000000;\n",
       "}\n",
       "#T_931e2_row2_col0 {\n",
       "  background-color: #585b78;\n",
       "  color: #f1f1f1;\n",
       "}\n",
       "#T_931e2_row2_col4 {\n",
       "  background-color: #101016;\n",
       "  color: #f1f1f1;\n",
       "}\n",
       "#T_931e2_row2_col5 {\n",
       "  background-color: #deeaea;\n",
       "  color: #000000;\n",
       "}\n",
       "#T_931e2_row2_col6 {\n",
       "  background-color: #8192a0;\n",
       "  color: #f1f1f1;\n",
       "}\n",
       "#T_931e2_row2_col7, #T_931e2_row2_col8, #T_931e2_row4_col1, #T_931e2_row4_col2, #T_931e2_row9_col4, #T_931e2_row10_col4 {\n",
       "  background-color: #09090c;\n",
       "  color: #f1f1f1;\n",
       "}\n",
       "#T_931e2_row2_col10 {\n",
       "  background-color: #cbdede;\n",
       "  color: #000000;\n",
       "}\n",
       "#T_931e2_row2_col11, #T_931e2_row10_col5 {\n",
       "  background-color: #f7fafa;\n",
       "  color: #000000;\n",
       "}\n",
       "#T_931e2_row3_col0 {\n",
       "  background-color: #4e4e6c;\n",
       "  color: #f1f1f1;\n",
       "}\n",
       "#T_931e2_row3_col1 {\n",
       "  background-color: #1e1e29;\n",
       "  color: #f1f1f1;\n",
       "}\n",
       "#T_931e2_row3_col2 {\n",
       "  background-color: #21212e;\n",
       "  color: #f1f1f1;\n",
       "}\n",
       "#T_931e2_row3_col5 {\n",
       "  background-color: #35354a;\n",
       "  color: #f1f1f1;\n",
       "}\n",
       "#T_931e2_row3_col6, #T_931e2_row4_col10 {\n",
       "  background-color: #07070a;\n",
       "  color: #f1f1f1;\n",
       "}\n",
       "#T_931e2_row3_col7 {\n",
       "  background-color: #6d788d;\n",
       "  color: #f1f1f1;\n",
       "}\n",
       "#T_931e2_row3_col8 {\n",
       "  background-color: #6f7a8f;\n",
       "  color: #f1f1f1;\n",
       "}\n",
       "#T_931e2_row3_col9 {\n",
       "  background-color: #14141c;\n",
       "  color: #f1f1f1;\n",
       "}\n",
       "#T_931e2_row3_col10 {\n",
       "  background-color: #1f1f2b;\n",
       "  color: #f1f1f1;\n",
       "}\n",
       "#T_931e2_row4_col3, #T_931e2_row11_col0 {\n",
       "  background-color: #95aeb5;\n",
       "  color: #f1f1f1;\n",
       "}\n",
       "#T_931e2_row4_col5 {\n",
       "  background-color: #111117;\n",
       "  color: #f1f1f1;\n",
       "}\n",
       "#T_931e2_row4_col6, #T_931e2_row7_col2, #T_931e2_row7_col10 {\n",
       "  background-color: #010101;\n",
       "  color: #f1f1f1;\n",
       "}\n",
       "#T_931e2_row4_col7, #T_931e2_row7_col4, #T_931e2_row11_col1 {\n",
       "  background-color: #b2cece;\n",
       "  color: #000000;\n",
       "}\n",
       "#T_931e2_row4_col8, #T_931e2_row8_col4 {\n",
       "  background-color: #bbd3d3;\n",
       "  color: #000000;\n",
       "}\n",
       "#T_931e2_row4_col9, #T_931e2_row9_col7 {\n",
       "  background-color: #050507;\n",
       "  color: #f1f1f1;\n",
       "}\n",
       "#T_931e2_row5_col0 {\n",
       "  background-color: #8ea4ae;\n",
       "  color: #f1f1f1;\n",
       "}\n",
       "#T_931e2_row5_col1 {\n",
       "  background-color: #9cb8bc;\n",
       "  color: #000000;\n",
       "}\n",
       "#T_931e2_row5_col2, #T_931e2_row10_col11 {\n",
       "  background-color: #e2eded;\n",
       "  color: #000000;\n",
       "}\n",
       "#T_931e2_row5_col4 {\n",
       "  background-color: #313144;\n",
       "  color: #f1f1f1;\n",
       "}\n",
       "#T_931e2_row5_col6 {\n",
       "  background-color: #8598a5;\n",
       "  color: #f1f1f1;\n",
       "}\n",
       "#T_931e2_row5_col7 {\n",
       "  background-color: #232331;\n",
       "  color: #f1f1f1;\n",
       "}\n",
       "#T_931e2_row5_col8 {\n",
       "  background-color: #242432;\n",
       "  color: #f1f1f1;\n",
       "}\n",
       "#T_931e2_row5_col9 {\n",
       "  background-color: #9dbabd;\n",
       "  color: #000000;\n",
       "}\n",
       "#T_931e2_row5_col10, #T_931e2_row11_col2 {\n",
       "  background-color: #f8fbfb;\n",
       "  color: #000000;\n",
       "}\n",
       "#T_931e2_row5_col11, #T_931e2_row6_col1 {\n",
       "  background-color: #edf4f4;\n",
       "  color: #000000;\n",
       "}\n",
       "#T_931e2_row6_col0 {\n",
       "  background-color: #08080b;\n",
       "  color: #f1f1f1;\n",
       "}\n",
       "#T_931e2_row6_col2 {\n",
       "  background-color: #7d8d9d;\n",
       "  color: #f1f1f1;\n",
       "}\n",
       "#T_931e2_row6_col3, #T_931e2_row6_col4, #T_931e2_row6_col7, #T_931e2_row6_col8, #T_931e2_row7_col1, #T_931e2_row7_col5, #T_931e2_row7_col6, #T_931e2_row7_col9, #T_931e2_row7_col11, #T_931e2_row8_col0, #T_931e2_row8_col1, #T_931e2_row8_col2, #T_931e2_row8_col5, #T_931e2_row8_col6, #T_931e2_row8_col9, #T_931e2_row8_col10, #T_931e2_row8_col11 {\n",
       "  background-color: #000000;\n",
       "  color: #f1f1f1;\n",
       "}\n",
       "#T_931e2_row6_col5 {\n",
       "  background-color: #738093;\n",
       "  color: #f1f1f1;\n",
       "}\n",
       "#T_931e2_row6_col9 {\n",
       "  background-color: #d5e4e4;\n",
       "  color: #000000;\n",
       "}\n",
       "#T_931e2_row6_col11 {\n",
       "  background-color: #8ba1ab;\n",
       "  color: #f1f1f1;\n",
       "}\n",
       "#T_931e2_row7_col0, #T_931e2_row10_col8 {\n",
       "  background-color: #030304;\n",
       "  color: #f1f1f1;\n",
       "}\n",
       "#T_931e2_row7_col3 {\n",
       "  background-color: #6a738a;\n",
       "  color: #f1f1f1;\n",
       "}\n",
       "#T_931e2_row7_col8, #T_931e2_row8_col7 {\n",
       "  background-color: #f3f7f7;\n",
       "  color: #000000;\n",
       "}\n",
       "#T_931e2_row8_col3 {\n",
       "  background-color: #6b748b;\n",
       "  color: #f1f1f1;\n",
       "}\n",
       "#T_931e2_row9_col0 {\n",
       "  background-color: #303043;\n",
       "  color: #f1f1f1;\n",
       "}\n",
       "#T_931e2_row9_col1, #T_931e2_row11_col5 {\n",
       "  background-color: #f0f5f5;\n",
       "  color: #000000;\n",
       "}\n",
       "#T_931e2_row9_col2 {\n",
       "  background-color: #a2c0c2;\n",
       "  color: #000000;\n",
       "}\n",
       "#T_931e2_row9_col5 {\n",
       "  background-color: #93acb3;\n",
       "  color: #f1f1f1;\n",
       "}\n",
       "#T_931e2_row9_col6 {\n",
       "  background-color: #d6e5e5;\n",
       "  color: #000000;\n",
       "}\n",
       "#T_931e2_row9_col8 {\n",
       "  background-color: #040406;\n",
       "  color: #f1f1f1;\n",
       "}\n",
       "#T_931e2_row9_col10 {\n",
       "  background-color: #7f909f;\n",
       "  color: #f1f1f1;\n",
       "}\n",
       "#T_931e2_row9_col11 {\n",
       "  background-color: #a5c5c5;\n",
       "  color: #000000;\n",
       "}\n",
       "#T_931e2_row10_col0 {\n",
       "  background-color: #565776;\n",
       "  color: #f1f1f1;\n",
       "}\n",
       "#T_931e2_row10_col1 {\n",
       "  background-color: #889da8;\n",
       "  color: #f1f1f1;\n",
       "}\n",
       "#T_931e2_row10_col2 {\n",
       "  background-color: #cadddd;\n",
       "  color: #000000;\n",
       "}\n",
       "#T_931e2_row10_col6 {\n",
       "  background-color: #505070;\n",
       "  color: #f1f1f1;\n",
       "}\n",
       "#T_931e2_row10_col7 {\n",
       "  background-color: #040305;\n",
       "  color: #f1f1f1;\n",
       "}\n",
       "#T_931e2_row10_col9 {\n",
       "  background-color: #7e8f9e;\n",
       "  color: #f1f1f1;\n",
       "}\n",
       "#T_931e2_row11_col4 {\n",
       "  background-color: #44445f;\n",
       "  color: #f1f1f1;\n",
       "}\n",
       "#T_931e2_row11_col6 {\n",
       "  background-color: #a0bec0;\n",
       "  color: #000000;\n",
       "}\n",
       "#T_931e2_row11_col7 {\n",
       "  background-color: #36364b;\n",
       "  color: #f1f1f1;\n",
       "}\n",
       "#T_931e2_row11_col8 {\n",
       "  background-color: #37374d;\n",
       "  color: #f1f1f1;\n",
       "}\n",
       "#T_931e2_row11_col9 {\n",
       "  background-color: #b9d2d2;\n",
       "  color: #000000;\n",
       "}\n",
       "#T_931e2_row11_col10 {\n",
       "  background-color: #e9f1f1;\n",
       "  color: #000000;\n",
       "}\n",
       "</style>\n",
       "<table id=\"T_931e2_\">\n",
       "  <thead>\n",
       "    <tr>\n",
       "      <th class=\"blank level0\" >&nbsp;</th>\n",
       "      <th class=\"col_heading level0 col0\" >Action</th>\n",
       "      <th class=\"col_heading level0 col1\" >Adventure</th>\n",
       "      <th class=\"col_heading level0 col2\" >Fighting</th>\n",
       "      <th class=\"col_heading level0 col3\" >Misc</th>\n",
       "      <th class=\"col_heading level0 col4\" >Platform</th>\n",
       "      <th class=\"col_heading level0 col5\" >Puzzle</th>\n",
       "      <th class=\"col_heading level0 col6\" >Racing</th>\n",
       "      <th class=\"col_heading level0 col7\" >Role-Playing</th>\n",
       "      <th class=\"col_heading level0 col8\" >Shooter</th>\n",
       "      <th class=\"col_heading level0 col9\" >Simulation</th>\n",
       "      <th class=\"col_heading level0 col10\" >Sports</th>\n",
       "      <th class=\"col_heading level0 col11\" >Strategy</th>\n",
       "    </tr>\n",
       "  </thead>\n",
       "  <tbody>\n",
       "    <tr>\n",
       "      <th id=\"T_931e2_level0_row0\" class=\"row_heading level0 row0\" >Action</th>\n",
       "      <td id=\"T_931e2_row0_col0\" class=\"data row0 col0\" >1.000000</td>\n",
       "      <td id=\"T_931e2_row0_col1\" class=\"data row0 col1\" >0.400374</td>\n",
       "      <td id=\"T_931e2_row0_col2\" class=\"data row0 col2\" >0.438994</td>\n",
       "      <td id=\"T_931e2_row0_col3\" class=\"data row0 col3\" >0.396021</td>\n",
       "      <td id=\"T_931e2_row0_col4\" class=\"data row0 col4\" >0.162867</td>\n",
       "      <td id=\"T_931e2_row0_col5\" class=\"data row0 col5\" >0.658547</td>\n",
       "      <td id=\"T_931e2_row0_col6\" class=\"data row0 col6\" >0.103432</td>\n",
       "      <td id=\"T_931e2_row0_col7\" class=\"data row0 col7\" >0.083226</td>\n",
       "      <td id=\"T_931e2_row0_col8\" class=\"data row0 col8\" >0.069880</td>\n",
       "      <td id=\"T_931e2_row0_col9\" class=\"data row0 col9\" >0.270974</td>\n",
       "      <td id=\"T_931e2_row0_col10\" class=\"data row0 col10\" >0.429500</td>\n",
       "      <td id=\"T_931e2_row0_col11\" class=\"data row0 col11\" >0.689355</td>\n",
       "    </tr>\n",
       "    <tr>\n",
       "      <th id=\"T_931e2_level0_row1\" class=\"row_heading level0 row1\" >Adventure</th>\n",
       "      <td id=\"T_931e2_row1_col0\" class=\"data row1 col0\" >0.400374</td>\n",
       "      <td id=\"T_931e2_row1_col1\" class=\"data row1 col1\" >1.000000</td>\n",
       "      <td id=\"T_931e2_row1_col2\" class=\"data row1 col2\" >0.756173</td>\n",
       "      <td id=\"T_931e2_row1_col3\" class=\"data row1 col3\" >0.214781</td>\n",
       "      <td id=\"T_931e2_row1_col4\" class=\"data row1 col4\" >0.129449</td>\n",
       "      <td id=\"T_931e2_row1_col5\" class=\"data row1 col5\" >0.726265</td>\n",
       "      <td id=\"T_931e2_row1_col6\" class=\"data row1 col6\" >0.952672</td>\n",
       "      <td id=\"T_931e2_row1_col7\" class=\"data row1 col7\" >0.091886</td>\n",
       "      <td id=\"T_931e2_row1_col8\" class=\"data row1 col8\" >0.090816</td>\n",
       "      <td id=\"T_931e2_row1_col9\" class=\"data row1 col9\" >0.960716</td>\n",
       "      <td id=\"T_931e2_row1_col10\" class=\"data row1 col10\" >0.645099</td>\n",
       "      <td id=\"T_931e2_row1_col11\" class=\"data row1 col11\" >0.798218</td>\n",
       "    </tr>\n",
       "    <tr>\n",
       "      <th id=\"T_931e2_level0_row2\" class=\"row_heading level0 row2\" >Fighting</th>\n",
       "      <td id=\"T_931e2_row2_col0\" class=\"data row2 col0\" >0.438994</td>\n",
       "      <td id=\"T_931e2_row2_col1\" class=\"data row2 col1\" >0.756173</td>\n",
       "      <td id=\"T_931e2_row2_col2\" class=\"data row2 col2\" >1.000000</td>\n",
       "      <td id=\"T_931e2_row2_col3\" class=\"data row2 col3\" >0.186847</td>\n",
       "      <td id=\"T_931e2_row2_col4\" class=\"data row2 col4\" >0.082573</td>\n",
       "      <td id=\"T_931e2_row2_col5\" class=\"data row2 col5\" >0.920556</td>\n",
       "      <td id=\"T_931e2_row2_col6\" class=\"data row2 col6\" >0.578162</td>\n",
       "      <td id=\"T_931e2_row2_col7\" class=\"data row2 col7\" >0.046923</td>\n",
       "      <td id=\"T_931e2_row2_col8\" class=\"data row2 col8\" >0.042360</td>\n",
       "      <td id=\"T_931e2_row2_col9\" class=\"data row2 col9\" >0.737488</td>\n",
       "      <td id=\"T_931e2_row2_col10\" class=\"data row2 col10\" >0.852078</td>\n",
       "      <td id=\"T_931e2_row2_col11\" class=\"data row2 col11\" >0.979505</td>\n",
       "    </tr>\n",
       "    <tr>\n",
       "      <th id=\"T_931e2_level0_row3\" class=\"row_heading level0 row3\" >Misc</th>\n",
       "      <td id=\"T_931e2_row3_col0\" class=\"data row3 col0\" >0.396021</td>\n",
       "      <td id=\"T_931e2_row3_col1\" class=\"data row3 col1\" >0.214781</td>\n",
       "      <td id=\"T_931e2_row3_col2\" class=\"data row3 col2\" >0.186847</td>\n",
       "      <td id=\"T_931e2_row3_col3\" class=\"data row3 col3\" >1.000000</td>\n",
       "      <td id=\"T_931e2_row3_col4\" class=\"data row3 col4\" >0.678436</td>\n",
       "      <td id=\"T_931e2_row3_col5\" class=\"data row3 col5\" >0.365038</td>\n",
       "      <td id=\"T_931e2_row3_col6\" class=\"data row3 col6\" >0.037991</td>\n",
       "      <td id=\"T_931e2_row3_col7\" class=\"data row3 col7\" >0.494107</td>\n",
       "      <td id=\"T_931e2_row3_col8\" class=\"data row3 col8\" >0.499287</td>\n",
       "      <td id=\"T_931e2_row3_col9\" class=\"data row3 col9\" >0.114965</td>\n",
       "      <td id=\"T_931e2_row3_col10\" class=\"data row3 col10\" >0.154402</td>\n",
       "      <td id=\"T_931e2_row3_col11\" class=\"data row3 col11\" >0.437663</td>\n",
       "    </tr>\n",
       "    <tr>\n",
       "      <th id=\"T_931e2_level0_row4\" class=\"row_heading level0 row4\" >Platform</th>\n",
       "      <td id=\"T_931e2_row4_col0\" class=\"data row4 col0\" >0.162867</td>\n",
       "      <td id=\"T_931e2_row4_col1\" class=\"data row4 col1\" >0.129449</td>\n",
       "      <td id=\"T_931e2_row4_col2\" class=\"data row4 col2\" >0.082573</td>\n",
       "      <td id=\"T_931e2_row4_col3\" class=\"data row4 col3\" >0.678436</td>\n",
       "      <td id=\"T_931e2_row4_col4\" class=\"data row4 col4\" >1.000000</td>\n",
       "      <td id=\"T_931e2_row4_col5\" class=\"data row4 col5\" >0.227662</td>\n",
       "      <td id=\"T_931e2_row4_col6\" class=\"data row4 col6\" >0.010095</td>\n",
       "      <td id=\"T_931e2_row4_col7\" class=\"data row4 col7\" >0.781810</td>\n",
       "      <td id=\"T_931e2_row4_col8\" class=\"data row4 col8\" >0.804295</td>\n",
       "      <td id=\"T_931e2_row4_col9\" class=\"data row4 col9\" >0.049735</td>\n",
       "      <td id=\"T_931e2_row4_col10\" class=\"data row4 col10\" >0.049583</td>\n",
       "      <td id=\"T_931e2_row4_col11\" class=\"data row4 col11\" >0.312666</td>\n",
       "    </tr>\n",
       "    <tr>\n",
       "      <th id=\"T_931e2_level0_row5\" class=\"row_heading level0 row5\" >Puzzle</th>\n",
       "      <td id=\"T_931e2_row5_col0\" class=\"data row5 col0\" >0.658547</td>\n",
       "      <td id=\"T_931e2_row5_col1\" class=\"data row5 col1\" >0.726265</td>\n",
       "      <td id=\"T_931e2_row5_col2\" class=\"data row5 col2\" >0.920556</td>\n",
       "      <td id=\"T_931e2_row5_col3\" class=\"data row5 col3\" >0.365038</td>\n",
       "      <td id=\"T_931e2_row5_col4\" class=\"data row5 col4\" >0.227662</td>\n",
       "      <td id=\"T_931e2_row5_col5\" class=\"data row5 col5\" >1.000000</td>\n",
       "      <td id=\"T_931e2_row5_col6\" class=\"data row5 col6\" >0.597320</td>\n",
       "      <td id=\"T_931e2_row5_col7\" class=\"data row5 col7\" >0.163680</td>\n",
       "      <td id=\"T_931e2_row5_col8\" class=\"data row5 col8\" >0.162708</td>\n",
       "      <td id=\"T_931e2_row5_col9\" class=\"data row5 col9\" >0.714080</td>\n",
       "      <td id=\"T_931e2_row5_col10\" class=\"data row5 col10\" >0.979293</td>\n",
       "      <td id=\"T_931e2_row5_col11\" class=\"data row5 col11\" >0.960825</td>\n",
       "    </tr>\n",
       "    <tr>\n",
       "      <th id=\"T_931e2_level0_row6\" class=\"row_heading level0 row6\" >Racing</th>\n",
       "      <td id=\"T_931e2_row6_col0\" class=\"data row6 col0\" >0.103432</td>\n",
       "      <td id=\"T_931e2_row6_col1\" class=\"data row6 col1\" >0.952672</td>\n",
       "      <td id=\"T_931e2_row6_col2\" class=\"data row6 col2\" >0.578162</td>\n",
       "      <td id=\"T_931e2_row6_col3\" class=\"data row6 col3\" >0.037991</td>\n",
       "      <td id=\"T_931e2_row6_col4\" class=\"data row6 col4\" >0.010095</td>\n",
       "      <td id=\"T_931e2_row6_col5\" class=\"data row6 col5\" >0.597320</td>\n",
       "      <td id=\"T_931e2_row6_col6\" class=\"data row6 col6\" >1.000000</td>\n",
       "      <td id=\"T_931e2_row6_col7\" class=\"data row6 col7\" >0.004238</td>\n",
       "      <td id=\"T_931e2_row6_col8\" class=\"data row6 col8\" >0.003022</td>\n",
       "      <td id=\"T_931e2_row6_col9\" class=\"data row6 col9\" >0.880350</td>\n",
       "      <td id=\"T_931e2_row6_col10\" class=\"data row6 col10\" >0.365068</td>\n",
       "      <td id=\"T_931e2_row6_col11\" class=\"data row6 col11\" >0.717584</td>\n",
       "    </tr>\n",
       "    <tr>\n",
       "      <th id=\"T_931e2_level0_row7\" class=\"row_heading level0 row7\" >Role-Playing</th>\n",
       "      <td id=\"T_931e2_row7_col0\" class=\"data row7 col0\" >0.083226</td>\n",
       "      <td id=\"T_931e2_row7_col1\" class=\"data row7 col1\" >0.091886</td>\n",
       "      <td id=\"T_931e2_row7_col2\" class=\"data row7 col2\" >0.046923</td>\n",
       "      <td id=\"T_931e2_row7_col3\" class=\"data row7 col3\" >0.494107</td>\n",
       "      <td id=\"T_931e2_row7_col4\" class=\"data row7 col4\" >0.781810</td>\n",
       "      <td id=\"T_931e2_row7_col5\" class=\"data row7 col5\" >0.163680</td>\n",
       "      <td id=\"T_931e2_row7_col6\" class=\"data row7 col6\" >0.004238</td>\n",
       "      <td id=\"T_931e2_row7_col7\" class=\"data row7 col7\" >1.000000</td>\n",
       "      <td id=\"T_931e2_row7_col8\" class=\"data row7 col8\" >0.964494</td>\n",
       "      <td id=\"T_931e2_row7_col9\" class=\"data row7 col9\" >0.028296</td>\n",
       "      <td id=\"T_931e2_row7_col10\" class=\"data row7 col10\" >0.022350</td>\n",
       "      <td id=\"T_931e2_row7_col11\" class=\"data row7 col11\" >0.247770</td>\n",
       "    </tr>\n",
       "    <tr>\n",
       "      <th id=\"T_931e2_level0_row8\" class=\"row_heading level0 row8\" >Shooter</th>\n",
       "      <td id=\"T_931e2_row8_col0\" class=\"data row8 col0\" >0.069880</td>\n",
       "      <td id=\"T_931e2_row8_col1\" class=\"data row8 col1\" >0.090816</td>\n",
       "      <td id=\"T_931e2_row8_col2\" class=\"data row8 col2\" >0.042360</td>\n",
       "      <td id=\"T_931e2_row8_col3\" class=\"data row8 col3\" >0.499287</td>\n",
       "      <td id=\"T_931e2_row8_col4\" class=\"data row8 col4\" >0.804295</td>\n",
       "      <td id=\"T_931e2_row8_col5\" class=\"data row8 col5\" >0.162708</td>\n",
       "      <td id=\"T_931e2_row8_col6\" class=\"data row8 col6\" >0.003022</td>\n",
       "      <td id=\"T_931e2_row8_col7\" class=\"data row8 col7\" >0.964494</td>\n",
       "      <td id=\"T_931e2_row8_col8\" class=\"data row8 col8\" >1.000000</td>\n",
       "      <td id=\"T_931e2_row8_col9\" class=\"data row8 col9\" >0.025538</td>\n",
       "      <td id=\"T_931e2_row8_col10\" class=\"data row8 col10\" >0.016902</td>\n",
       "      <td id=\"T_931e2_row8_col11\" class=\"data row8 col11\" >0.250265</td>\n",
       "    </tr>\n",
       "    <tr>\n",
       "      <th id=\"T_931e2_level0_row9\" class=\"row_heading level0 row9\" >Simulation</th>\n",
       "      <td id=\"T_931e2_row9_col0\" class=\"data row9 col0\" >0.270974</td>\n",
       "      <td id=\"T_931e2_row9_col1\" class=\"data row9 col1\" >0.960716</td>\n",
       "      <td id=\"T_931e2_row9_col2\" class=\"data row9 col2\" >0.737488</td>\n",
       "      <td id=\"T_931e2_row9_col3\" class=\"data row9 col3\" >0.114965</td>\n",
       "      <td id=\"T_931e2_row9_col4\" class=\"data row9 col4\" >0.049735</td>\n",
       "      <td id=\"T_931e2_row9_col5\" class=\"data row9 col5\" >0.714080</td>\n",
       "      <td id=\"T_931e2_row9_col6\" class=\"data row9 col6\" >0.880350</td>\n",
       "      <td id=\"T_931e2_row9_col7\" class=\"data row9 col7\" >0.028296</td>\n",
       "      <td id=\"T_931e2_row9_col8\" class=\"data row9 col8\" >0.025538</td>\n",
       "      <td id=\"T_931e2_row9_col9\" class=\"data row9 col9\" >1.000000</td>\n",
       "      <td id=\"T_931e2_row9_col10\" class=\"data row9 col10\" >0.576269</td>\n",
       "      <td id=\"T_931e2_row9_col11\" class=\"data row9 col11\" >0.804870</td>\n",
       "    </tr>\n",
       "    <tr>\n",
       "      <th id=\"T_931e2_level0_row10\" class=\"row_heading level0 row10\" >Sports</th>\n",
       "      <td id=\"T_931e2_row10_col0\" class=\"data row10 col0\" >0.429500</td>\n",
       "      <td id=\"T_931e2_row10_col1\" class=\"data row10 col1\" >0.645099</td>\n",
       "      <td id=\"T_931e2_row10_col2\" class=\"data row10 col2\" >0.852078</td>\n",
       "      <td id=\"T_931e2_row10_col3\" class=\"data row10 col3\" >0.154402</td>\n",
       "      <td id=\"T_931e2_row10_col4\" class=\"data row10 col4\" >0.049583</td>\n",
       "      <td id=\"T_931e2_row10_col5\" class=\"data row10 col5\" >0.979293</td>\n",
       "      <td id=\"T_931e2_row10_col6\" class=\"data row10 col6\" >0.365068</td>\n",
       "      <td id=\"T_931e2_row10_col7\" class=\"data row10 col7\" >0.022350</td>\n",
       "      <td id=\"T_931e2_row10_col8\" class=\"data row10 col8\" >0.016902</td>\n",
       "      <td id=\"T_931e2_row10_col9\" class=\"data row10 col9\" >0.576269</td>\n",
       "      <td id=\"T_931e2_row10_col10\" class=\"data row10 col10\" >1.000000</td>\n",
       "      <td id=\"T_931e2_row10_col11\" class=\"data row10 col11\" >0.937297</td>\n",
       "    </tr>\n",
       "    <tr>\n",
       "      <th id=\"T_931e2_level0_row11\" class=\"row_heading level0 row11\" >Strategy</th>\n",
       "      <td id=\"T_931e2_row11_col0\" class=\"data row11 col0\" >0.689355</td>\n",
       "      <td id=\"T_931e2_row11_col1\" class=\"data row11 col1\" >0.798218</td>\n",
       "      <td id=\"T_931e2_row11_col2\" class=\"data row11 col2\" >0.979505</td>\n",
       "      <td id=\"T_931e2_row11_col3\" class=\"data row11 col3\" >0.437663</td>\n",
       "      <td id=\"T_931e2_row11_col4\" class=\"data row11 col4\" >0.312666</td>\n",
       "      <td id=\"T_931e2_row11_col5\" class=\"data row11 col5\" >0.960825</td>\n",
       "      <td id=\"T_931e2_row11_col6\" class=\"data row11 col6\" >0.717584</td>\n",
       "      <td id=\"T_931e2_row11_col7\" class=\"data row11 col7\" >0.247770</td>\n",
       "      <td id=\"T_931e2_row11_col8\" class=\"data row11 col8\" >0.250265</td>\n",
       "      <td id=\"T_931e2_row11_col9\" class=\"data row11 col9\" >0.804870</td>\n",
       "      <td id=\"T_931e2_row11_col10\" class=\"data row11 col10\" >0.937297</td>\n",
       "      <td id=\"T_931e2_row11_col11\" class=\"data row11 col11\" >1.000000</td>\n",
       "    </tr>\n",
       "  </tbody>\n",
       "</table>\n"
      ],
      "text/plain": [
       "<pandas.io.formats.style.Styler at 0x1a0a02f68e0>"
      ]
     },
     "execution_count": 31,
     "metadata": {},
     "output_type": "execute_result"
    }
   ],
   "source": [
    "# 다중비교 시각화 검은색이 유의\n",
    "sp.posthoc_dunn(df_million[[\"Genre\",\"Total_Sales\"]], val_col=\"Total_Sales\", group_col=\"Genre\").style.background_gradient(cmap=\"bone\")"
   ]
  },
  {
   "cell_type": "code",
   "execution_count": null,
   "metadata": {},
   "outputs": [],
   "source": []
  }
 ],
 "metadata": {
  "interpreter": {
   "hash": "63fd5069d213b44bf678585dea6b12cceca9941eaf7f819626cde1f2670de90d"
  },
  "kernelspec": {
   "display_name": "Python 3.9.6 64-bit",
   "language": "python",
   "name": "python3"
  },
  "language_info": {
   "codemirror_mode": {
    "name": "ipython",
    "version": 3
   },
   "file_extension": ".py",
   "mimetype": "text/x-python",
   "name": "python",
   "nbconvert_exporter": "python",
   "pygments_lexer": "ipython3",
   "version": "3.9.6"
  },
  "orig_nbformat": 4
 },
 "nbformat": 4,
 "nbformat_minor": 2
}
